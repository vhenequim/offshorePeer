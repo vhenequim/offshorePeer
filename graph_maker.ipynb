{
 "cells": [
  {
   "cell_type": "code",
   "execution_count": 51,
   "metadata": {},
   "outputs": [
    {
     "data": {
      "text/plain": [
       "<xlsxwriter.workbook.Workbook at 0x24523303200>"
      ]
     },
     "execution_count": 51,
     "metadata": {},
     "output_type": "execute_result"
    }
   ],
   "source": [
    "import polars as pl\n",
    "import plotly.express as px\n",
    "import datetime as dt\n",
    "import pandas as pd\n",
    "\n",
    "\n",
    "df_base_peers_new = pl.read_excel(\"C:/Users/VHENEQUIM/Documents/Estudo/offshorePeer/base_peers_new_mapped.xlsx\")\n",
    "df_base_peers_old = pl.read_excel(\"C:/Users/VHENEQUIM/Documents/Estudo/offshorePeer/base_peers_old_mapped.xlsx\")\n",
    "df_base_peers_old = df_base_peers_old.filter(~pl.col(\"Mês\").str.contains(\"06/2024|07/2024|08/2024|09/2024|10/2024|11/2024|12/2024\"))\n",
    "\n",
    "df_peers = pl.concat([df_base_peers_new, df_base_peers_old])\n",
    "df_peers = df_peers.rename({\n",
    "    \"Fundo\": \"funds\",\n",
    "    \"Mês\": \"month\",\n",
    "    \"Pat. Liq.\": \"liquid_patrimony\",\n",
    "    \"Ativo\": \"investment\",\n",
    "    \"%Patrim. Liq.\": \"percentage\",\n",
    "    \"R$Patrim. Liq.\": \"value\"\n",
    "}).with_columns(\n",
    "    pl.col(\"month\").str.to_datetime(\"%m/%Y\").alias(\"date_for_sort\")\n",
    ").filter(\n",
    "    (pl.col(\"investment_type\") == \"BDR\") | (pl.col(\"investment_type\") == \"Invest. Ext.\")\n",
    ")\n",
    "# Filter out months newer than 12/2024\n",
    "cutoff_date = dt.datetime(2024, 12, 31)\n",
    "df_peers = df_peers.filter(pl.col(\"date_for_sort\") <= cutoff_date)\n",
    "\n",
    "df_peers.write_excel(\"base_peers_mapped.xlsx\")"
   ]
  },
  {
   "cell_type": "code",
   "execution_count": 52,
   "metadata": {},
   "outputs": [
    {
     "data": {
      "text/plain": [
       "['funds',\n",
       " 'month',\n",
       " 'liquid_patrimony',\n",
       " 'investment',\n",
       " 'percentage',\n",
       " 'value',\n",
       " 'ticker',\n",
       " 'company_country',\n",
       " 'area_of_work',\n",
       " 'investment_type',\n",
       " 'date_for_sort']"
      ]
     },
     "execution_count": 52,
     "metadata": {},
     "output_type": "execute_result"
    }
   ],
   "source": [
    "df_peers.columns"
   ]
  },
  {
   "cell_type": "code",
   "execution_count": 53,
   "metadata": {},
   "outputs": [
    {
     "data": {
      "text/html": [
       "<div><style>\n",
       ".dataframe > thead > tr,\n",
       ".dataframe > tbody > tr {\n",
       "  text-align: right;\n",
       "  white-space: pre-wrap;\n",
       "}\n",
       "</style>\n",
       "<small>shape: (56, 26)</small><table border=\"1\" class=\"dataframe\"><thead><tr><th>Fundos</th><th>09/2022</th><th>10/2022</th><th>11/2022</th><th>12/2022</th><th>01/2023</th><th>02/2023</th><th>03/2023</th><th>04/2023</th><th>05/2023</th><th>06/2023</th><th>07/2023</th><th>08/2023</th><th>09/2023</th><th>10/2023</th><th>11/2023</th><th>12/2023</th><th>01/2024</th><th>02/2024</th><th>03/2024</th><th>04/2024</th><th>05/2024</th><th>06/2024</th><th>07/2024</th><th>08/2024</th><th>09/2024</th></tr><tr><td>str</td><td>f64</td><td>f64</td><td>f64</td><td>f64</td><td>f64</td><td>f64</td><td>f64</td><td>f64</td><td>f64</td><td>f64</td><td>f64</td><td>f64</td><td>f64</td><td>f64</td><td>f64</td><td>f64</td><td>f64</td><td>f64</td><td>f64</td><td>f64</td><td>f64</td><td>f64</td><td>f64</td><td>f64</td><td>f64</td></tr></thead><tbody><tr><td>&quot;ALASKA&quot;</td><td>0.044344</td><td>0.127825</td><td>-0.07437</td><td>-0.060777</td><td>0.103121</td><td>-0.121251</td><td>-0.003548</td><td>0.062208</td><td>0.117056</td><td>0.190784</td><td>0.065028</td><td>-0.053084</td><td>-0.066805</td><td>-0.061296</td><td>0.24508</td><td>0.082345</td><td>-0.078584</td><td>-0.024278</td><td>-0.054804</td><td>-0.089905</td><td>-0.060376</td><td>-0.070988</td><td>-0.030679</td><td>0.063558</td><td>-0.034183</td></tr><tr><td>&quot;MOAT&quot;</td><td>0.026391</td><td>0.034772</td><td>-0.140915</td><td>-0.054891</td><td>-0.015429</td><td>-0.104222</td><td>-0.040475</td><td>0.059258</td><td>0.14479</td><td>0.114526</td><td>0.043829</td><td>-0.090731</td><td>-0.06015</td><td>-0.076038</td><td>0.204049</td><td>0.087173</td><td>-0.067469</td><td>0.008717</td><td>0.013596</td><td>-0.090331</td><td>-0.020752</td><td>-0.014522</td><td>-0.002233</td><td>0.093702</td><td>-0.033502</td></tr><tr><td>&quot;ARX INCOME&quot;</td><td>0.014579</td><td>0.057602</td><td>-0.048031</td><td>-0.023245</td><td>0.024456</td><td>-0.092743</td><td>-0.030628</td><td>0.010655</td><td>0.046708</td><td>0.08851</td><td>0.037906</td><td>-0.04315</td><td>-0.013064</td><td>-0.027455</td><td>0.149521</td><td>0.052022</td><td>-0.044517</td><td>0.024613</td><td>0.030267</td><td>-0.038243</td><td>-0.019915</td><td>0.024744</td><td>0.026232</td><td>0.078628</td><td>-0.028274</td></tr><tr><td>&quot;MANTARO&quot;</td><td>0.019092</td><td>0.100415</td><td>-0.100665</td><td>-0.02561</td><td>0.032444</td><td>-0.048816</td><td>-0.033611</td><td>0.038588</td><td>0.061602</td><td>0.090769</td><td>0.04888</td><td>-0.018148</td><td>-0.028413</td><td>-0.030629</td><td>0.116493</td><td>0.054991</td><td>-0.032999</td><td>0.010645</td><td>0.009263</td><td>-0.049625</td><td>-0.045874</td><td>-0.000689</td><td>0.017992</td><td>0.076179</td><td>-0.061333</td></tr><tr><td>&quot;VINLAND&quot;</td><td>0.01305</td><td>0.072226</td><td>-0.077776</td><td>-0.031316</td><td>0.046576</td><td>-0.049169</td><td>-0.015866</td><td>0.029086</td><td>0.042934</td><td>0.063459</td><td>0.024427</td><td>-0.047354</td><td>-0.022217</td><td>-0.060665</td><td>0.095348</td><td>0.048241</td><td>-0.048131</td><td>0.00006</td><td>0.013241</td><td>-0.053687</td><td>-0.015995</td><td>0.01384</td><td>0.047163</td><td>0.060322</td><td>-0.017249</td></tr><tr><td>&hellip;</td><td>&hellip;</td><td>&hellip;</td><td>&hellip;</td><td>&hellip;</td><td>&hellip;</td><td>&hellip;</td><td>&hellip;</td><td>&hellip;</td><td>&hellip;</td><td>&hellip;</td><td>&hellip;</td><td>&hellip;</td><td>&hellip;</td><td>&hellip;</td><td>&hellip;</td><td>&hellip;</td><td>&hellip;</td><td>&hellip;</td><td>&hellip;</td><td>&hellip;</td><td>&hellip;</td><td>&hellip;</td><td>&hellip;</td><td>&hellip;</td><td>&hellip;</td></tr><tr><td>&quot;OPPORTUNITY&quot;</td><td>0.004782</td><td>0.021838</td><td>-0.080851</td><td>-0.047057</td><td>0.047847</td><td>-0.056991</td><td>0.008567</td><td>0.046492</td><td>0.080304</td><td>0.111487</td><td>0.031343</td><td>-0.013594</td><td>-0.02446</td><td>-0.034363</td><td>0.103485</td><td>0.057501</td><td>0.010368</td><td>0.017039</td><td>0.026893</td><td>-0.00213</td><td>0.004669</td><td>0.074108</td><td>-0.010429</td><td>0.045644</td><td>-0.019739</td></tr><tr><td>&quot;LEBLON AÇÕES&quot;</td><td>0.018428</td><td>0.099601</td><td>-0.121115</td><td>-0.047373</td><td>0.07724</td><td>-0.073824</td><td>-0.05952</td><td>0.010279</td><td>0.158413</td><td>0.097688</td><td>0.067</td><td>-0.050958</td><td>-0.051675</td><td>-0.068725</td><td>0.164248</td><td>0.068031</td><td>-0.029291</td><td>0.046071</td><td>0.06097</td><td>-0.042325</td><td>-0.016337</td><td>0.032234</td><td>0.012162</td><td>0.063609</td><td>-0.042463</td></tr><tr><td>&quot;IP&quot;</td><td>0.000372</td><td>0.054508</td><td>-0.011962</td><td>-0.032361</td><td>0.051073</td><td>-0.051477</td><td>0.005591</td><td>0.035076</td><td>0.030299</td><td>0.075439</td><td>0.042058</td><td>-0.001229</td><td>-0.026725</td><td>-0.036935</td><td>0.113166</td><td>0.048643</td><td>0.017795</td><td>0.033532</td><td>0.005388</td><td>-0.038176</td><td>0.018778</td><td>0.008949</td><td>0.009348</td><td>0.04082</td><td>0.006624</td></tr><tr><td>&quot;DYNAMO&quot;</td><td>0.026849</td><td>0.063566</td><td>-0.065715</td><td>-0.028217</td><td>0.048043</td><td>-0.046636</td><td>-0.060166</td><td>-0.002393</td><td>0.121987</td><td>0.083983</td><td>0.050044</td><td>-0.051976</td><td>-0.019765</td><td>-0.048985</td><td>0.139399</td><td>0.036997</td><td>-0.034257</td><td>0.037555</td><td>0.019095</td><td>-0.048212</td><td>-0.022508</td><td>0.029319</td><td>0.018403</td><td>0.066774</td><td>-0.017083</td></tr><tr><td>&quot;STK&quot;</td><td>0.011331</td><td>0.097824</td><td>-0.061292</td><td>-0.042327</td><td>0.03353</td><td>-0.063937</td><td>-0.043452</td><td>0.028361</td><td>0.064884</td><td>0.082041</td><td>0.039409</td><td>-0.036793</td><td>-0.022912</td><td>-0.059689</td><td>0.104356</td><td>0.064666</td><td>-0.031391</td><td>0.018722</td><td>-0.000495</td><td>-0.076717</td><td>-0.016664</td><td>0.039499</td><td>0.022362</td><td>0.041614</td><td>-0.021808</td></tr></tbody></table></div>"
      ],
      "text/plain": [
       "shape: (56, 26)\n",
       "┌─────────────┬──────────┬──────────┬───────────┬───┬───────────┬───────────┬──────────┬───────────┐\n",
       "│ Fundos      ┆ 09/2022  ┆ 10/2022  ┆ 11/2022   ┆ … ┆ 06/2024   ┆ 07/2024   ┆ 08/2024  ┆ 09/2024   │\n",
       "│ ---         ┆ ---      ┆ ---      ┆ ---       ┆   ┆ ---       ┆ ---       ┆ ---      ┆ ---       │\n",
       "│ str         ┆ f64      ┆ f64      ┆ f64       ┆   ┆ f64       ┆ f64       ┆ f64      ┆ f64       │\n",
       "╞═════════════╪══════════╪══════════╪═══════════╪═══╪═══════════╪═══════════╪══════════╪═══════════╡\n",
       "│ ALASKA      ┆ 0.044344 ┆ 0.127825 ┆ -0.07437  ┆ … ┆ -0.070988 ┆ -0.030679 ┆ 0.063558 ┆ -0.034183 │\n",
       "│ MOAT        ┆ 0.026391 ┆ 0.034772 ┆ -0.140915 ┆ … ┆ -0.014522 ┆ -0.002233 ┆ 0.093702 ┆ -0.033502 │\n",
       "│ ARX INCOME  ┆ 0.014579 ┆ 0.057602 ┆ -0.048031 ┆ … ┆ 0.024744  ┆ 0.026232  ┆ 0.078628 ┆ -0.028274 │\n",
       "│ MANTARO     ┆ 0.019092 ┆ 0.100415 ┆ -0.100665 ┆ … ┆ -0.000689 ┆ 0.017992  ┆ 0.076179 ┆ -0.061333 │\n",
       "│ VINLAND     ┆ 0.01305  ┆ 0.072226 ┆ -0.077776 ┆ … ┆ 0.01384   ┆ 0.047163  ┆ 0.060322 ┆ -0.017249 │\n",
       "│ …           ┆ …        ┆ …        ┆ …         ┆ … ┆ …         ┆ …         ┆ …        ┆ …         │\n",
       "│ OPPORTUNITY ┆ 0.004782 ┆ 0.021838 ┆ -0.080851 ┆ … ┆ 0.074108  ┆ -0.010429 ┆ 0.045644 ┆ -0.019739 │\n",
       "│ LEBLON      ┆ 0.018428 ┆ 0.099601 ┆ -0.121115 ┆ … ┆ 0.032234  ┆ 0.012162  ┆ 0.063609 ┆ -0.042463 │\n",
       "│ AÇÕES       ┆          ┆          ┆           ┆   ┆           ┆           ┆          ┆           │\n",
       "│ IP          ┆ 0.000372 ┆ 0.054508 ┆ -0.011962 ┆ … ┆ 0.008949  ┆ 0.009348  ┆ 0.04082  ┆ 0.006624  │\n",
       "│ DYNAMO      ┆ 0.026849 ┆ 0.063566 ┆ -0.065715 ┆ … ┆ 0.029319  ┆ 0.018403  ┆ 0.066774 ┆ -0.017083 │\n",
       "│ STK         ┆ 0.011331 ┆ 0.097824 ┆ -0.061292 ┆ … ┆ 0.039499  ┆ 0.022362  ┆ 0.041614 ┆ -0.021808 │\n",
       "└─────────────┴──────────┴──────────┴───────────┴───┴───────────┴───────────┴──────────┴───────────┘"
      ]
     },
     "execution_count": 53,
     "metadata": {},
     "output_type": "execute_result"
    }
   ],
   "source": [
    "# Convert Excel serial dates to datetime and then format to month/year\n",
    "df_rentability = pl.read_excel(\"C:/Users/VHENEQUIM/Documents/Estudo/offshorePeer/rentability.xlsx\", has_header=True)\n",
    "\n",
    "# Convert column names that are integers (dates) to proper date format\n",
    "new_columns = []\n",
    "for col in df_rentability.columns:\n",
    "    if isinstance(col, int) or (isinstance(col, str) and col.isdigit()):\n",
    "        # Convert Excel serial date to datetime and format as month/year\n",
    "        date_int = int(col)\n",
    "        # Excel's epoch starts on 1900-01-01, but we subtract 2 to account for Excel's quirks\n",
    "        excel_date = dt.datetime(1900, 1, 1) + dt.timedelta(days=date_int - 2)\n",
    "        new_col = excel_date.strftime(\"%m/%Y\")\n",
    "        new_columns.append(new_col)\n",
    "    else:\n",
    "        new_columns.append(col)\n",
    "\n",
    "# Rename the columns\n",
    "df_rentability = df_rentability.rename(dict(zip(df_rentability.columns, new_columns)))\n",
    "\n",
    "df_rentability"
   ]
  },
  {
   "cell_type": "code",
   "execution_count": 54,
   "metadata": {},
   "outputs": [
    {
     "data": {
      "text/plain": [
       "<xlsxwriter.workbook.Workbook at 0x2452a069400>"
      ]
     },
     "execution_count": 54,
     "metadata": {},
     "output_type": "execute_result"
    }
   ],
   "source": [
    "# Add rentability data to df_peers using pure Polars\n",
    "def add_rentability_to_peers_polars(df_peers, df_rentability):\n",
    "    \"\"\"\n",
    "    Add rentability data from df_rentability to df_peers by matching fund name and month,\n",
    "    using only Polars operations.\n",
    "    \n",
    "    Parameters:\n",
    "    -----------\n",
    "    df_peers : polars.DataFrame\n",
    "        The melted dataframe with funds and months as rows\n",
    "    df_rentability : polars.DataFrame\n",
    "        The wide dataframe with funds as rows and months as columns\n",
    "    \n",
    "    Returns:\n",
    "    --------\n",
    "    polars.DataFrame\n",
    "        The df_peers dataframe with an added 'rentability' column\n",
    "    \"\"\"\n",
    "    # Get all column names except 'Fundos' to use as id_vars for melting\n",
    "    month_columns = [col for col in df_rentability.columns if col != 'Fundos']\n",
    "    \n",
    "    # Melt the dataframe to get month-fund-rentability format using pure Polars\n",
    "    melted_rentability = df_rentability.unpivot(\n",
    "        index='Fundos',\n",
    "        on=month_columns,\n",
    "        variable_name='month',\n",
    "        value_name='rentability'\n",
    "    )\n",
    "    \n",
    "    # Rename to match df_peers column names\n",
    "    melted_rentability = melted_rentability.rename({\"Fundos\": \"funds\"})\n",
    "    \n",
    "    # Join df_peers with the melted rentability data\n",
    "    result = df_peers.join(\n",
    "        melted_rentability,\n",
    "        on=[\"funds\", \"month\"],\n",
    "        how=\"left\"\n",
    "    )\n",
    "    \n",
    "    return result\n",
    "\n",
    "# Apply the pure Polars function\n",
    "df_peers = add_rentability_to_peers_polars(df_peers, df_rentability)\n",
    "\n",
    "# Show the first few rows to verify\n",
    "# df_peers_with_rentability.select([\"funds\", \"month\", \"rentability\"]).head(10)\n",
    "df_peers.write_excel(\"base_peers_mapped.xlsx\")"
   ]
  },
  {
   "cell_type": "code",
   "execution_count": 59,
   "metadata": {},
   "outputs": [],
   "source": [
    "def graph_per_ticker(df, investment_type, value_type = \"value\"):\n",
    "    if investment_type == \"BDR\":\n",
    "        df = df.filter(pl.col(\"investment_type\") == \"BDR\")\n",
    "    elif investment_type == \"Invest. Ext.\":\n",
    "        df = df.filter(pl.col(\"investment_type\") == \"Invest. Ext.\")\n",
    "    elif investment_type == None:\n",
    "        investment_type = \"BDR & Invest. Ext.\"\n",
    "    \n",
    "    # Group by month and ticker, sum the values\n",
    "    monthly_ticker_sum = df.group_by([\"month\", \"ticker\", \"date_for_sort\"]).agg(\n",
    "        pl.sum(value_type).alias(\"total_value\")\n",
    "    )\n",
    "\n",
    "    # Convert to pandas for easier manipulation with plotly\n",
    "    plot_df = monthly_ticker_sum.to_pandas()\n",
    "\n",
    "    # Sort by date to ensure chronological order\n",
    "    plot_df = plot_df.sort_values('date_for_sort')\n",
    "    \n",
    "    # Calculate the total value per ticker across all months\n",
    "    ticker_totals = plot_df.groupby('ticker')['total_value'].sum().sort_values(ascending=False)\n",
    "    \n",
    "    # Get ordered list of tickers for the color assignment\n",
    "    ordered_tickers = ticker_totals.index.tolist()\n",
    "    \n",
    "    # Create stacked bar chart with plotly using the custom order for color\n",
    "    fig = px.bar(\n",
    "        plot_df,\n",
    "        x=\"month\",\n",
    "        y=\"total_value\",\n",
    "        color=\"ticker\",\n",
    "        title=f'Investment Values by Ticker and Month - {investment_type}',\n",
    "        labels={\n",
    "            \"month\": \"Month\",\n",
    "            \"total_value\": \"Total Value (R$)\",\n",
    "            \"ticker\": \"Ticker\"\n",
    "        },\n",
    "        category_orders={\n",
    "            \"month\": plot_df[\"month\"].tolist(),  # Preserves chronological order\n",
    "            \"ticker\": ordered_tickers,  # Use the custom order based on total values\n",
    "        },\n",
    "        height=600,\n",
    "    )\n",
    "\n",
    "    # Improve layout\n",
    "    fig.update_layout(\n",
    "        xaxis_title=\"Month\",\n",
    "        yaxis_title=\"Total Value (R$)\",\n",
    "        legend_title=\"Ticker\",\n",
    "        barmode='relative',  # Use relative instead of stack to properly handle negative values\n",
    "        hovermode=\"closest\"\n",
    "    )\n",
    "\n",
    "    # Format hover info\n",
    "    fig.update_traces(\n",
    "        hovertemplate=\"<b>%{x}</b><br>\" +\n",
    "                    \"Ticker: %{fullData.name}<br>\" +\n",
    "                    \"Value: R$ %{y:,.2f}<br>\"\n",
    "    )\n",
    "\n",
    "    # Show the plot\n",
    "    fig.show()\n",
    "\n",
    "    return None\n",
    "\n",
    "# graph_per_ticker(df_peers, \"BDR\")\n",
    "# graph_per_ticker(df_peers, \"BDR\", \"percentage\")\n",
    "# graph_per_ticker(df_peers, \"Invest. Ext.\")\n",
    "# graph_per_ticker(df_peers, \"Invest. Ext.\", \"percentage\")\n",
    "# graph_per_ticker(df_peers, None)\n",
    "# graph_per_ticker(df_peers, None, \"percentage\")\n"
   ]
  },
  {
   "cell_type": "code",
   "execution_count": 134,
   "metadata": {},
   "outputs": [
    {
     "data": {
      "application/vnd.plotly.v1+json": {
       "config": {
        "plotlyServerURL": "https://plot.ly"
       },
       "data": [
        {
         "alignmentgroup": "True",
         "hovertemplate": "<b>%{x}</b><br>Ticker: %{fullData.name}<br>Value: R$ %{y:,.2f}<br>",
         "legendgroup": "GOOGL",
         "marker": {
          "color": "#636efa",
          "pattern": {
           "shape": ""
          }
         },
         "name": "GOOGL",
         "offsetgroup": "GOOGL",
         "orientation": "v",
         "showlegend": true,
         "textposition": "auto",
         "type": "bar",
         "x": [
          "10/2022",
          "11/2022",
          "12/2022",
          "01/2023",
          "02/2023",
          "03/2023",
          "04/2023",
          "05/2023",
          "06/2023",
          "07/2023",
          "08/2023",
          "09/2023",
          "10/2023",
          "11/2023",
          "12/2023",
          "01/2024",
          "02/2024",
          "03/2024",
          "04/2024",
          "05/2024",
          "06/2024",
          "07/2024",
          "08/2024",
          "09/2024"
         ],
         "xaxis": "x",
         "y": [
          25354788.426029198,
          27454950.751135398,
          24777506.9628276,
          25421039.8866034,
          18993157.9845746,
          26205077.9877696,
          24785630.3233344,
          28892652.6704298,
          26522538.2363312,
          29102593.8013497,
          31199319.069252,
          30484962.6371368,
          28947261.0821305,
          30217980.9963369,
          31417552.99150651,
          32069155.862641502,
          34959724.3170505,
          38399873.9539142,
          42903754.99953281,
          42936542.5603829,
          48223401.2459868,
          41065194.1080954,
          42184782.1293936,
          41316552.157848
         ],
         "yaxis": "y"
        },
        {
         "alignmentgroup": "True",
         "hovertemplate": "<b>%{x}</b><br>Ticker: %{fullData.name}<br>Value: R$ %{y:,.2f}<br>",
         "legendgroup": "AURA",
         "marker": {
          "color": "#EF553B",
          "pattern": {
           "shape": ""
          }
         },
         "name": "AURA",
         "offsetgroup": "AURA",
         "orientation": "v",
         "showlegend": true,
         "textposition": "auto",
         "type": "bar",
         "x": [
          "10/2022",
          "11/2022",
          "12/2022",
          "01/2023",
          "02/2023",
          "03/2023",
          "04/2023",
          "05/2023",
          "06/2023",
          "07/2023",
          "08/2023",
          "09/2023",
          "10/2023",
          "11/2023",
          "12/2023",
          "01/2024",
          "02/2024",
          "03/2024",
          "04/2024",
          "05/2024",
          "06/2024",
          "07/2024",
          "08/2024",
          "09/2024"
         ],
         "xaxis": "x",
         "y": [
          36048732.7297739,
          29819746.794044003,
          25246092.0631125,
          34607677.0028159,
          31021494.829873603,
          28427435.199897796,
          28290550.4649602,
          25429638.1560453,
          23275592.440762598,
          25370974.7723016,
          18439990.3930528,
          18614894.3901938,
          18895565.6989088,
          18901625.7776028,
          19158517.6403523,
          17655400.7119071,
          16638012.2383748,
          21553714.169816397,
          22526709.7340171,
          28155370.0759456,
          28790933.615984,
          35758470.1568306,
          33972052.414204404,
          32748480.5686875
         ],
         "yaxis": "y"
        },
        {
         "alignmentgroup": "True",
         "hovertemplate": "<b>%{x}</b><br>Ticker: %{fullData.name}<br>Value: R$ %{y:,.2f}<br>",
         "legendgroup": "BERK",
         "marker": {
          "color": "#00cc96",
          "pattern": {
           "shape": ""
          }
         },
         "name": "BERK",
         "offsetgroup": "BERK",
         "orientation": "v",
         "showlegend": true,
         "textposition": "auto",
         "type": "bar",
         "x": [
          "11/2022",
          "12/2022",
          "01/2023",
          "02/2023",
          "03/2023",
          "04/2023",
          "05/2023",
          "06/2023",
          "07/2023",
          "08/2023",
          "09/2023",
          "10/2023",
          "11/2023",
          "12/2023",
          "01/2024",
          "02/2024",
          "03/2024",
          "04/2024",
          "05/2024"
         ],
         "xaxis": "x",
         "y": [
          21034449.5641681,
          20717759.4775746,
          20115884.5593459,
          20234834.4774037,
          19864359.467083,
          20810286.0558294,
          20648071.7164922,
          20728993.7544748,
          21121660.1394231,
          22633130.48200651,
          22377024.4611494,
          21770035.324347,
          22491299.3970054,
          21869958.5401465,
          24080527.0080531,
          19464298.479142,
          11837229.6259932,
          11127349.776296,
          11580517.877852
         ],
         "yaxis": "y"
        },
        {
         "alignmentgroup": "True",
         "hovertemplate": "<b>%{x}</b><br>Ticker: %{fullData.name}<br>Value: R$ %{y:,.2f}<br>",
         "legendgroup": "NFLX",
         "marker": {
          "color": "#ab63fa",
          "pattern": {
           "shape": ""
          }
         },
         "name": "NFLX",
         "offsetgroup": "NFLX",
         "orientation": "v",
         "showlegend": true,
         "textposition": "auto",
         "type": "bar",
         "x": [
          "10/2022",
          "11/2022",
          "12/2022",
          "01/2023",
          "02/2023",
          "03/2023",
          "04/2023",
          "05/2023",
          "06/2023",
          "07/2023",
          "08/2023",
          "09/2023",
          "10/2023",
          "11/2023",
          "12/2023",
          "01/2024",
          "02/2024",
          "03/2024",
          "04/2024",
          "05/2024",
          "06/2024",
          "07/2024",
          "08/2024",
          "09/2024"
         ],
         "xaxis": "x",
         "y": [
          22603991.1934512,
          21078466.1994057,
          20601397.284951,
          12450086.7468417,
          9037853.511248099,
          9418706.6809205,
          8843217.4415208,
          10781777.5038486,
          11322744.7287992,
          11165360.2510737,
          11529442.690984499,
          10209586.5435694,
          11144563.0954808,
          12542111.6297763,
          12704267.8668409,
          14981695.956150299,
          16093560.4902765,
          16333397.8277158,
          15342165.5536304,
          18091604.9703994,
          20239792.1115063,
          18377366.4099098,
          17458209.1917792,
          14061415.766034
         ],
         "yaxis": "y"
        },
        {
         "alignmentgroup": "True",
         "hovertemplate": "<b>%{x}</b><br>Ticker: %{fullData.name}<br>Value: R$ %{y:,.2f}<br>",
         "legendgroup": "MA",
         "marker": {
          "color": "#FFA15A",
          "pattern": {
           "shape": ""
          }
         },
         "name": "MA",
         "offsetgroup": "MA",
         "orientation": "v",
         "showlegend": true,
         "textposition": "auto",
         "type": "bar",
         "x": [
          "03/2023",
          "04/2023",
          "05/2023",
          "06/2023",
          "07/2023",
          "08/2023",
          "09/2023",
          "10/2023",
          "11/2023",
          "12/2023",
          "01/2024",
          "02/2024",
          "03/2024",
          "04/2024",
          "05/2024",
          "06/2024",
          "07/2024",
          "08/2024",
          "09/2024"
         ],
         "xaxis": "x",
         "y": [
          14754799.1885505,
          15162732.4577352,
          14830829.317521,
          15056607.0469538,
          14940126.1722552,
          16337634.694561,
          15933813.0184309,
          15170165.7345328,
          16304166.3410613,
          16577010.8661738,
          17769268.8646245,
          18872394.3960695,
          19289612.9589722,
          18718740.6581616,
          18776982.5590886,
          19704505.2205173,
          19925290.9092382,
          20821447.197348,
          20521584.378747
         ],
         "yaxis": "y"
        },
        {
         "alignmentgroup": "True",
         "hovertemplate": "<b>%{x}</b><br>Ticker: %{fullData.name}<br>Value: R$ %{y:,.2f}<br>",
         "legendgroup": "TDG",
         "marker": {
          "color": "#19d3f3",
          "pattern": {
           "shape": ""
          }
         },
         "name": "TDG",
         "offsetgroup": "TDG",
         "orientation": "v",
         "showlegend": true,
         "textposition": "auto",
         "type": "bar",
         "x": [
          "10/2022",
          "11/2022",
          "12/2022",
          "01/2023",
          "02/2023",
          "03/2023",
          "04/2023",
          "05/2023",
          "06/2023",
          "07/2023",
          "08/2023",
          "09/2023",
          "10/2023",
          "11/2023",
          "12/2023",
          "01/2024",
          "02/2024",
          "03/2024",
          "04/2024",
          "05/2024",
          "06/2024",
          "07/2024",
          "08/2024"
         ],
         "xaxis": "x",
         "y": [
          15175686.0142264,
          16726321.390288,
          16973012.5513242,
          18612250.8942684,
          19808089.2863161,
          6730524.2289635,
          6868368.9989538,
          7072762.341195201,
          7704533.013419301,
          7668734.9767161,
          8049605.975291001,
          7637832.620080899,
          7510927.0291786,
          8536970.3063775,
          8843459.3605722,
          9726336.641689202,
          10529662.109395,
          11101268.118421,
          11652725.9726304,
          12691302.2457276,
          12840937.7516139,
          13134760.806345,
          13977169.5047544
         ],
         "yaxis": "y"
        },
        {
         "alignmentgroup": "True",
         "hovertemplate": "<b>%{x}</b><br>Ticker: %{fullData.name}<br>Value: R$ %{y:,.2f}<br>",
         "legendgroup": "MSFT",
         "marker": {
          "color": "#FF6692",
          "pattern": {
           "shape": ""
          }
         },
         "name": "MSFT",
         "offsetgroup": "MSFT",
         "orientation": "v",
         "showlegend": true,
         "textposition": "auto",
         "type": "bar",
         "x": [
          "10/2022",
          "11/2022",
          "12/2022",
          "01/2023",
          "02/2023",
          "03/2023",
          "04/2023",
          "05/2023",
          "06/2023",
          "07/2023",
          "08/2023",
          "09/2023",
          "10/2023",
          "11/2023",
          "12/2023",
          "01/2024",
          "02/2024",
          "03/2024",
          "04/2024",
          "05/2024",
          "06/2024",
          "07/2024",
          "08/2024",
          "09/2024"
         ],
         "xaxis": "x",
         "y": [
          22031950.6353248,
          24429499.8169254,
          23514142.7228572,
          23165572.8034265,
          14472597.933205701,
          13836536.9883052,
          17647584.3959355,
          21028829.174204998,
          7721795.7199914,
          5995331.4384496,
          6238856.5128608,
          6230903.935725001,
          7379615.397970499,
          8927458.825301101,
          10685792.299761,
          8216749.807812,
          8358428.7115976,
          8630041.148364,
          2994002.347095999,
          3303964.8535171,
          3742129.853466501,
          1847645.8964041,
          3409779.552284,
          3335007.122048001
         ],
         "yaxis": "y"
        },
        {
         "alignmentgroup": "True",
         "hovertemplate": "<b>%{x}</b><br>Ticker: %{fullData.name}<br>Value: R$ %{y:,.2f}<br>",
         "legendgroup": "LBRD",
         "marker": {
          "color": "#B6E880",
          "pattern": {
           "shape": ""
          }
         },
         "name": "LBRD",
         "offsetgroup": "LBRD",
         "orientation": "v",
         "showlegend": true,
         "textposition": "auto",
         "type": "bar",
         "x": [
          "10/2022",
          "11/2022",
          "12/2022",
          "01/2023",
          "02/2023",
          "03/2023",
          "04/2023",
          "05/2023",
          "06/2023",
          "07/2023",
          "08/2023",
          "09/2023",
          "10/2023"
         ],
         "xaxis": "x",
         "y": [
          16407206.0891544,
          17826737.271228,
          15158820.1845108,
          17163294.8170119,
          17013924.3446711,
          15590451.4114435,
          15901377.07002,
          14150756.015483,
          14417775.1459126,
          15871045.8881556,
          17410537.0424665,
          17277761.8429636,
          15784599.821546
         ],
         "yaxis": "y"
        },
        {
         "alignmentgroup": "True",
         "hovertemplate": "<b>%{x}</b><br>Ticker: %{fullData.name}<br>Value: R$ %{y:,.2f}<br>",
         "legendgroup": "AMZN",
         "marker": {
          "color": "#FF97FF",
          "pattern": {
           "shape": ""
          }
         },
         "name": "AMZN",
         "offsetgroup": "AMZN",
         "orientation": "v",
         "showlegend": true,
         "textposition": "auto",
         "type": "bar",
         "x": [
          "10/2022",
          "11/2022",
          "12/2022",
          "01/2023",
          "02/2023",
          "03/2023",
          "08/2023",
          "09/2023",
          "10/2023",
          "01/2024",
          "02/2024",
          "03/2024",
          "04/2024",
          "05/2024",
          "06/2024",
          "07/2024",
          "08/2024",
          "09/2024"
         ],
         "xaxis": "x",
         "y": [
          16551680.891838402,
          15784809.0795588,
          14049504.156603599,
          15242632.8752722,
          14299927.0370198,
          8198457.7223037,
          1323501.5942275,
          1259512.5583392,
          1068447.0789504,
          1003395.1351566,
          1195214.2755936,
          1636545.7502472,
          5034110.628533,
          5512542.722112099,
          5288379.7002822,
          5157509.315457601,
          3875232.653739,
          3787434.6472123
         ],
         "yaxis": "y"
        },
        {
         "alignmentgroup": "True",
         "hovertemplate": "<b>%{x}</b><br>Ticker: %{fullData.name}<br>Value: R$ %{y:,.2f}<br>",
         "legendgroup": "Fundo",
         "marker": {
          "color": "#FECB52",
          "pattern": {
           "shape": ""
          }
         },
         "name": "Fundo",
         "offsetgroup": "Fundo",
         "orientation": "v",
         "showlegend": true,
         "textposition": "auto",
         "type": "bar",
         "x": [
          "06/2024",
          "09/2024"
         ],
         "xaxis": "x",
         "y": [
          21513348.467590604,
          25272111.749276098
         ],
         "yaxis": "y"
        },
        {
         "alignmentgroup": "True",
         "hovertemplate": "<b>%{x}</b><br>Ticker: %{fullData.name}<br>Value: R$ %{y:,.2f}<br>",
         "legendgroup": "ABNB",
         "marker": {
          "color": "#636efa",
          "pattern": {
           "shape": ""
          }
         },
         "name": "ABNB",
         "offsetgroup": "ABNB",
         "orientation": "v",
         "showlegend": true,
         "textposition": "auto",
         "type": "bar",
         "x": [
          "09/2024"
         ],
         "xaxis": "x",
         "y": [
          12599408.88588
         ],
         "yaxis": "y"
        },
        {
         "alignmentgroup": "True",
         "hovertemplate": "<b>%{x}</b><br>Ticker: %{fullData.name}<br>Value: R$ %{y:,.2f}<br>",
         "legendgroup": "T1SS",
         "marker": {
          "color": "#EF553B",
          "pattern": {
           "shape": ""
          }
         },
         "name": "T1SS",
         "offsetgroup": "T1SS",
         "orientation": "v",
         "showlegend": true,
         "textposition": "auto",
         "type": "bar",
         "x": [
          "10/2022",
          "11/2022"
         ],
         "xaxis": "x",
         "y": [
          5632787.9902638,
          2874692.6207268
         ],
         "yaxis": "y"
        },
        {
         "alignmentgroup": "True",
         "hovertemplate": "<b>%{x}</b><br>Ticker: %{fullData.name}<br>Value: R$ %{y:,.2f}<br>",
         "legendgroup": "SCHW",
         "marker": {
          "color": "#00cc96",
          "pattern": {
           "shape": ""
          }
         },
         "name": "SCHW",
         "offsetgroup": "SCHW",
         "orientation": "v",
         "showlegend": true,
         "textposition": "auto",
         "type": "bar",
         "x": [
          "06/2023",
          "07/2023",
          "08/2023",
          "09/2023",
          "10/2023",
          "11/2023",
          "12/2023"
         ],
         "xaxis": "x",
         "y": [
          1243241.7777312,
          1413382.011135,
          789442.4971225,
          756719.8692768001,
          843380.6803751999,
          971520.5119676,
          1002658.2621044
         ],
         "yaxis": "y"
        },
        {
         "alignmentgroup": "True",
         "hovertemplate": "<b>%{x}</b><br>Ticker: %{fullData.name}<br>Value: R$ %{y:,.2f}<br>",
         "legendgroup": "BEEM",
         "marker": {
          "color": "#ab63fa",
          "pattern": {
           "shape": ""
          }
         },
         "name": "BEEM",
         "offsetgroup": "BEEM",
         "orientation": "v",
         "showlegend": true,
         "textposition": "auto",
         "type": "bar",
         "x": [
          "01/2023",
          "02/2023",
          "03/2023",
          "04/2023",
          "05/2023"
         ],
         "xaxis": "x",
         "y": [
          231992.312856,
          938776.0953564,
          1899828.942011,
          1966361.2811976,
          556065.5979762
         ],
         "yaxis": "y"
        },
        {
         "alignmentgroup": "True",
         "hovertemplate": "<b>%{x}</b><br>Ticker: %{fullData.name}<br>Value: R$ %{y:,.2f}<br>",
         "legendgroup": "META",
         "marker": {
          "color": "#FFA15A",
          "pattern": {
           "shape": ""
          }
         },
         "name": "META",
         "offsetgroup": "META",
         "orientation": "v",
         "showlegend": true,
         "textposition": "auto",
         "type": "bar",
         "x": [
          "12/2023",
          "01/2024",
          "02/2024",
          "03/2024",
          "04/2024",
          "07/2024",
          "08/2024",
          "09/2024"
         ],
         "xaxis": "x",
         "y": [
          488449.1336141001,
          570948.7710474,
          546053.0009094,
          558141.1986888,
          550197.3422399999,
          625105.1710340001,
          688759.9474365,
          359631.4942332
         ],
         "yaxis": "y"
        },
        {
         "alignmentgroup": "True",
         "hovertemplate": "<b>%{x}</b><br>Ticker: %{fullData.name}<br>Value: R$ %{y:,.2f}<br>",
         "legendgroup": "TXSA",
         "marker": {
          "color": "#19d3f3",
          "pattern": {
           "shape": ""
          }
         },
         "name": "TXSA",
         "offsetgroup": "TXSA",
         "orientation": "v",
         "showlegend": true,
         "textposition": "auto",
         "type": "bar",
         "x": [
          "10/2022",
          "11/2022",
          "12/2022",
          "01/2023",
          "02/2023",
          "03/2023",
          "04/2023"
         ],
         "xaxis": "x",
         "y": [
          236974.8463668,
          284065.3172126,
          294557.0593086,
          604381.26812,
          655653.1459632,
          607662.4084992999,
          526740.8374186
         ],
         "yaxis": "y"
        },
        {
         "alignmentgroup": "True",
         "hovertemplate": "<b>%{x}</b><br>Ticker: %{fullData.name}<br>Value: R$ %{y:,.2f}<br>",
         "legendgroup": "BABA",
         "marker": {
          "color": "#FF6692",
          "pattern": {
           "shape": ""
          }
         },
         "name": "BABA",
         "offsetgroup": "BABA",
         "orientation": "v",
         "showlegend": true,
         "textposition": "auto",
         "type": "bar",
         "x": [
          "11/2022",
          "12/2022",
          "01/2023",
          "02/2023",
          "03/2023"
         ],
         "xaxis": "x",
         "y": [
          621250.1647392,
          390215.9665404,
          328925.1991448,
          270144.6006494,
          725163.7263053999
         ],
         "yaxis": "y"
        },
        {
         "alignmentgroup": "True",
         "hovertemplate": "<b>%{x}</b><br>Ticker: %{fullData.name}<br>Value: R$ %{y:,.2f}<br>",
         "legendgroup": "EVTC",
         "marker": {
          "color": "#B6E880",
          "pattern": {
           "shape": ""
          }
         },
         "name": "EVTC",
         "offsetgroup": "EVTC",
         "orientation": "v",
         "showlegend": true,
         "textposition": "auto",
         "type": "bar",
         "x": [
          "11/2023",
          "12/2023",
          "01/2024",
          "02/2024",
          "03/2024",
          "04/2024"
         ],
         "xaxis": "x",
         "y": [
          207286.8887388,
          27566.0941419,
          25484.21892269999,
          24738.06779099999,
          26629.279563,
          26517.2072363
         ],
         "yaxis": "y"
        }
       ],
       "layout": {
        "barmode": "relative",
        "height": 600,
        "hovermode": "closest",
        "legend": {
         "title": {
          "text": "Ticker"
         },
         "tracegroupgap": 0
        },
        "template": {
         "data": {
          "bar": [
           {
            "error_x": {
             "color": "#2a3f5f"
            },
            "error_y": {
             "color": "#2a3f5f"
            },
            "marker": {
             "line": {
              "color": "#E5ECF6",
              "width": 0.5
             },
             "pattern": {
              "fillmode": "overlay",
              "size": 10,
              "solidity": 0.2
             }
            },
            "type": "bar"
           }
          ],
          "barpolar": [
           {
            "marker": {
             "line": {
              "color": "#E5ECF6",
              "width": 0.5
             },
             "pattern": {
              "fillmode": "overlay",
              "size": 10,
              "solidity": 0.2
             }
            },
            "type": "barpolar"
           }
          ],
          "carpet": [
           {
            "aaxis": {
             "endlinecolor": "#2a3f5f",
             "gridcolor": "white",
             "linecolor": "white",
             "minorgridcolor": "white",
             "startlinecolor": "#2a3f5f"
            },
            "baxis": {
             "endlinecolor": "#2a3f5f",
             "gridcolor": "white",
             "linecolor": "white",
             "minorgridcolor": "white",
             "startlinecolor": "#2a3f5f"
            },
            "type": "carpet"
           }
          ],
          "choropleth": [
           {
            "colorbar": {
             "outlinewidth": 0,
             "ticks": ""
            },
            "type": "choropleth"
           }
          ],
          "contour": [
           {
            "colorbar": {
             "outlinewidth": 0,
             "ticks": ""
            },
            "colorscale": [
             [
              0,
              "#0d0887"
             ],
             [
              0.1111111111111111,
              "#46039f"
             ],
             [
              0.2222222222222222,
              "#7201a8"
             ],
             [
              0.3333333333333333,
              "#9c179e"
             ],
             [
              0.4444444444444444,
              "#bd3786"
             ],
             [
              0.5555555555555556,
              "#d8576b"
             ],
             [
              0.6666666666666666,
              "#ed7953"
             ],
             [
              0.7777777777777778,
              "#fb9f3a"
             ],
             [
              0.8888888888888888,
              "#fdca26"
             ],
             [
              1,
              "#f0f921"
             ]
            ],
            "type": "contour"
           }
          ],
          "contourcarpet": [
           {
            "colorbar": {
             "outlinewidth": 0,
             "ticks": ""
            },
            "type": "contourcarpet"
           }
          ],
          "heatmap": [
           {
            "colorbar": {
             "outlinewidth": 0,
             "ticks": ""
            },
            "colorscale": [
             [
              0,
              "#0d0887"
             ],
             [
              0.1111111111111111,
              "#46039f"
             ],
             [
              0.2222222222222222,
              "#7201a8"
             ],
             [
              0.3333333333333333,
              "#9c179e"
             ],
             [
              0.4444444444444444,
              "#bd3786"
             ],
             [
              0.5555555555555556,
              "#d8576b"
             ],
             [
              0.6666666666666666,
              "#ed7953"
             ],
             [
              0.7777777777777778,
              "#fb9f3a"
             ],
             [
              0.8888888888888888,
              "#fdca26"
             ],
             [
              1,
              "#f0f921"
             ]
            ],
            "type": "heatmap"
           }
          ],
          "heatmapgl": [
           {
            "colorbar": {
             "outlinewidth": 0,
             "ticks": ""
            },
            "colorscale": [
             [
              0,
              "#0d0887"
             ],
             [
              0.1111111111111111,
              "#46039f"
             ],
             [
              0.2222222222222222,
              "#7201a8"
             ],
             [
              0.3333333333333333,
              "#9c179e"
             ],
             [
              0.4444444444444444,
              "#bd3786"
             ],
             [
              0.5555555555555556,
              "#d8576b"
             ],
             [
              0.6666666666666666,
              "#ed7953"
             ],
             [
              0.7777777777777778,
              "#fb9f3a"
             ],
             [
              0.8888888888888888,
              "#fdca26"
             ],
             [
              1,
              "#f0f921"
             ]
            ],
            "type": "heatmapgl"
           }
          ],
          "histogram": [
           {
            "marker": {
             "pattern": {
              "fillmode": "overlay",
              "size": 10,
              "solidity": 0.2
             }
            },
            "type": "histogram"
           }
          ],
          "histogram2d": [
           {
            "colorbar": {
             "outlinewidth": 0,
             "ticks": ""
            },
            "colorscale": [
             [
              0,
              "#0d0887"
             ],
             [
              0.1111111111111111,
              "#46039f"
             ],
             [
              0.2222222222222222,
              "#7201a8"
             ],
             [
              0.3333333333333333,
              "#9c179e"
             ],
             [
              0.4444444444444444,
              "#bd3786"
             ],
             [
              0.5555555555555556,
              "#d8576b"
             ],
             [
              0.6666666666666666,
              "#ed7953"
             ],
             [
              0.7777777777777778,
              "#fb9f3a"
             ],
             [
              0.8888888888888888,
              "#fdca26"
             ],
             [
              1,
              "#f0f921"
             ]
            ],
            "type": "histogram2d"
           }
          ],
          "histogram2dcontour": [
           {
            "colorbar": {
             "outlinewidth": 0,
             "ticks": ""
            },
            "colorscale": [
             [
              0,
              "#0d0887"
             ],
             [
              0.1111111111111111,
              "#46039f"
             ],
             [
              0.2222222222222222,
              "#7201a8"
             ],
             [
              0.3333333333333333,
              "#9c179e"
             ],
             [
              0.4444444444444444,
              "#bd3786"
             ],
             [
              0.5555555555555556,
              "#d8576b"
             ],
             [
              0.6666666666666666,
              "#ed7953"
             ],
             [
              0.7777777777777778,
              "#fb9f3a"
             ],
             [
              0.8888888888888888,
              "#fdca26"
             ],
             [
              1,
              "#f0f921"
             ]
            ],
            "type": "histogram2dcontour"
           }
          ],
          "mesh3d": [
           {
            "colorbar": {
             "outlinewidth": 0,
             "ticks": ""
            },
            "type": "mesh3d"
           }
          ],
          "parcoords": [
           {
            "line": {
             "colorbar": {
              "outlinewidth": 0,
              "ticks": ""
             }
            },
            "type": "parcoords"
           }
          ],
          "pie": [
           {
            "automargin": true,
            "type": "pie"
           }
          ],
          "scatter": [
           {
            "fillpattern": {
             "fillmode": "overlay",
             "size": 10,
             "solidity": 0.2
            },
            "type": "scatter"
           }
          ],
          "scatter3d": [
           {
            "line": {
             "colorbar": {
              "outlinewidth": 0,
              "ticks": ""
             }
            },
            "marker": {
             "colorbar": {
              "outlinewidth": 0,
              "ticks": ""
             }
            },
            "type": "scatter3d"
           }
          ],
          "scattercarpet": [
           {
            "marker": {
             "colorbar": {
              "outlinewidth": 0,
              "ticks": ""
             }
            },
            "type": "scattercarpet"
           }
          ],
          "scattergeo": [
           {
            "marker": {
             "colorbar": {
              "outlinewidth": 0,
              "ticks": ""
             }
            },
            "type": "scattergeo"
           }
          ],
          "scattergl": [
           {
            "marker": {
             "colorbar": {
              "outlinewidth": 0,
              "ticks": ""
             }
            },
            "type": "scattergl"
           }
          ],
          "scattermapbox": [
           {
            "marker": {
             "colorbar": {
              "outlinewidth": 0,
              "ticks": ""
             }
            },
            "type": "scattermapbox"
           }
          ],
          "scatterpolar": [
           {
            "marker": {
             "colorbar": {
              "outlinewidth": 0,
              "ticks": ""
             }
            },
            "type": "scatterpolar"
           }
          ],
          "scatterpolargl": [
           {
            "marker": {
             "colorbar": {
              "outlinewidth": 0,
              "ticks": ""
             }
            },
            "type": "scatterpolargl"
           }
          ],
          "scatterternary": [
           {
            "marker": {
             "colorbar": {
              "outlinewidth": 0,
              "ticks": ""
             }
            },
            "type": "scatterternary"
           }
          ],
          "surface": [
           {
            "colorbar": {
             "outlinewidth": 0,
             "ticks": ""
            },
            "colorscale": [
             [
              0,
              "#0d0887"
             ],
             [
              0.1111111111111111,
              "#46039f"
             ],
             [
              0.2222222222222222,
              "#7201a8"
             ],
             [
              0.3333333333333333,
              "#9c179e"
             ],
             [
              0.4444444444444444,
              "#bd3786"
             ],
             [
              0.5555555555555556,
              "#d8576b"
             ],
             [
              0.6666666666666666,
              "#ed7953"
             ],
             [
              0.7777777777777778,
              "#fb9f3a"
             ],
             [
              0.8888888888888888,
              "#fdca26"
             ],
             [
              1,
              "#f0f921"
             ]
            ],
            "type": "surface"
           }
          ],
          "table": [
           {
            "cells": {
             "fill": {
              "color": "#EBF0F8"
             },
             "line": {
              "color": "white"
             }
            },
            "header": {
             "fill": {
              "color": "#C8D4E3"
             },
             "line": {
              "color": "white"
             }
            },
            "type": "table"
           }
          ]
         },
         "layout": {
          "annotationdefaults": {
           "arrowcolor": "#2a3f5f",
           "arrowhead": 0,
           "arrowwidth": 1
          },
          "autotypenumbers": "strict",
          "coloraxis": {
           "colorbar": {
            "outlinewidth": 0,
            "ticks": ""
           }
          },
          "colorscale": {
           "diverging": [
            [
             0,
             "#8e0152"
            ],
            [
             0.1,
             "#c51b7d"
            ],
            [
             0.2,
             "#de77ae"
            ],
            [
             0.3,
             "#f1b6da"
            ],
            [
             0.4,
             "#fde0ef"
            ],
            [
             0.5,
             "#f7f7f7"
            ],
            [
             0.6,
             "#e6f5d0"
            ],
            [
             0.7,
             "#b8e186"
            ],
            [
             0.8,
             "#7fbc41"
            ],
            [
             0.9,
             "#4d9221"
            ],
            [
             1,
             "#276419"
            ]
           ],
           "sequential": [
            [
             0,
             "#0d0887"
            ],
            [
             0.1111111111111111,
             "#46039f"
            ],
            [
             0.2222222222222222,
             "#7201a8"
            ],
            [
             0.3333333333333333,
             "#9c179e"
            ],
            [
             0.4444444444444444,
             "#bd3786"
            ],
            [
             0.5555555555555556,
             "#d8576b"
            ],
            [
             0.6666666666666666,
             "#ed7953"
            ],
            [
             0.7777777777777778,
             "#fb9f3a"
            ],
            [
             0.8888888888888888,
             "#fdca26"
            ],
            [
             1,
             "#f0f921"
            ]
           ],
           "sequentialminus": [
            [
             0,
             "#0d0887"
            ],
            [
             0.1111111111111111,
             "#46039f"
            ],
            [
             0.2222222222222222,
             "#7201a8"
            ],
            [
             0.3333333333333333,
             "#9c179e"
            ],
            [
             0.4444444444444444,
             "#bd3786"
            ],
            [
             0.5555555555555556,
             "#d8576b"
            ],
            [
             0.6666666666666666,
             "#ed7953"
            ],
            [
             0.7777777777777778,
             "#fb9f3a"
            ],
            [
             0.8888888888888888,
             "#fdca26"
            ],
            [
             1,
             "#f0f921"
            ]
           ]
          },
          "colorway": [
           "#636efa",
           "#EF553B",
           "#00cc96",
           "#ab63fa",
           "#FFA15A",
           "#19d3f3",
           "#FF6692",
           "#B6E880",
           "#FF97FF",
           "#FECB52"
          ],
          "font": {
           "color": "#2a3f5f"
          },
          "geo": {
           "bgcolor": "white",
           "lakecolor": "white",
           "landcolor": "#E5ECF6",
           "showlakes": true,
           "showland": true,
           "subunitcolor": "white"
          },
          "hoverlabel": {
           "align": "left"
          },
          "hovermode": "closest",
          "mapbox": {
           "style": "light"
          },
          "paper_bgcolor": "white",
          "plot_bgcolor": "#E5ECF6",
          "polar": {
           "angularaxis": {
            "gridcolor": "white",
            "linecolor": "white",
            "ticks": ""
           },
           "bgcolor": "#E5ECF6",
           "radialaxis": {
            "gridcolor": "white",
            "linecolor": "white",
            "ticks": ""
           }
          },
          "scene": {
           "xaxis": {
            "backgroundcolor": "#E5ECF6",
            "gridcolor": "white",
            "gridwidth": 2,
            "linecolor": "white",
            "showbackground": true,
            "ticks": "",
            "zerolinecolor": "white"
           },
           "yaxis": {
            "backgroundcolor": "#E5ECF6",
            "gridcolor": "white",
            "gridwidth": 2,
            "linecolor": "white",
            "showbackground": true,
            "ticks": "",
            "zerolinecolor": "white"
           },
           "zaxis": {
            "backgroundcolor": "#E5ECF6",
            "gridcolor": "white",
            "gridwidth": 2,
            "linecolor": "white",
            "showbackground": true,
            "ticks": "",
            "zerolinecolor": "white"
           }
          },
          "shapedefaults": {
           "line": {
            "color": "#2a3f5f"
           }
          },
          "ternary": {
           "aaxis": {
            "gridcolor": "white",
            "linecolor": "white",
            "ticks": ""
           },
           "baxis": {
            "gridcolor": "white",
            "linecolor": "white",
            "ticks": ""
           },
           "bgcolor": "#E5ECF6",
           "caxis": {
            "gridcolor": "white",
            "linecolor": "white",
            "ticks": ""
           }
          },
          "title": {
           "x": 0.05
          },
          "xaxis": {
           "automargin": true,
           "gridcolor": "white",
           "linecolor": "white",
           "ticks": "",
           "title": {
            "standoff": 15
           },
           "zerolinecolor": "white",
           "zerolinewidth": 2
          },
          "yaxis": {
           "automargin": true,
           "gridcolor": "white",
           "linecolor": "white",
           "ticks": "",
           "title": {
            "standoff": 15
           },
           "zerolinecolor": "white",
           "zerolinewidth": 2
          }
         }
        },
        "title": {
         "text": "Investment Value (R$) by Ticker and Month - BDR (Excluding South America) (Value (R$))"
        },
        "xaxis": {
         "anchor": "y",
         "categoryarray": [
          "10/2022",
          "10/2022",
          "10/2022",
          "10/2022",
          "10/2022",
          "10/2022",
          "10/2022",
          "10/2022",
          "10/2022",
          "11/2022",
          "11/2022",
          "11/2022",
          "11/2022",
          "11/2022",
          "11/2022",
          "11/2022",
          "11/2022",
          "11/2022",
          "11/2022",
          "11/2022",
          "12/2022",
          "12/2022",
          "12/2022",
          "12/2022",
          "12/2022",
          "12/2022",
          "12/2022",
          "12/2022",
          "12/2022",
          "12/2022",
          "01/2023",
          "01/2023",
          "01/2023",
          "01/2023",
          "01/2023",
          "01/2023",
          "01/2023",
          "01/2023",
          "01/2023",
          "01/2023",
          "01/2023",
          "02/2023",
          "02/2023",
          "02/2023",
          "02/2023",
          "02/2023",
          "02/2023",
          "02/2023",
          "02/2023",
          "02/2023",
          "02/2023",
          "02/2023",
          "03/2023",
          "03/2023",
          "03/2023",
          "03/2023",
          "03/2023",
          "03/2023",
          "03/2023",
          "03/2023",
          "03/2023",
          "03/2023",
          "03/2023",
          "03/2023",
          "04/2023",
          "04/2023",
          "04/2023",
          "04/2023",
          "04/2023",
          "04/2023",
          "04/2023",
          "04/2023",
          "04/2023",
          "04/2023",
          "05/2023",
          "05/2023",
          "05/2023",
          "05/2023",
          "05/2023",
          "05/2023",
          "05/2023",
          "05/2023",
          "05/2023",
          "06/2023",
          "06/2023",
          "06/2023",
          "06/2023",
          "06/2023",
          "06/2023",
          "06/2023",
          "06/2023",
          "06/2023",
          "07/2023",
          "07/2023",
          "07/2023",
          "07/2023",
          "07/2023",
          "07/2023",
          "07/2023",
          "07/2023",
          "07/2023",
          "08/2023",
          "08/2023",
          "08/2023",
          "08/2023",
          "08/2023",
          "08/2023",
          "08/2023",
          "08/2023",
          "08/2023",
          "08/2023",
          "09/2023",
          "09/2023",
          "09/2023",
          "09/2023",
          "09/2023",
          "09/2023",
          "09/2023",
          "09/2023",
          "09/2023",
          "09/2023",
          "10/2023",
          "10/2023",
          "10/2023",
          "10/2023",
          "10/2023",
          "10/2023",
          "10/2023",
          "10/2023",
          "10/2023",
          "10/2023",
          "11/2023",
          "11/2023",
          "11/2023",
          "11/2023",
          "11/2023",
          "11/2023",
          "11/2023",
          "11/2023",
          "11/2023",
          "12/2023",
          "12/2023",
          "12/2023",
          "12/2023",
          "12/2023",
          "12/2023",
          "12/2023",
          "12/2023",
          "12/2023",
          "12/2023",
          "01/2024",
          "01/2024",
          "01/2024",
          "01/2024",
          "01/2024",
          "01/2024",
          "01/2024",
          "01/2024",
          "01/2024",
          "01/2024",
          "02/2024",
          "02/2024",
          "02/2024",
          "02/2024",
          "02/2024",
          "02/2024",
          "02/2024",
          "02/2024",
          "02/2024",
          "02/2024",
          "03/2024",
          "03/2024",
          "03/2024",
          "03/2024",
          "03/2024",
          "03/2024",
          "03/2024",
          "03/2024",
          "03/2024",
          "03/2024",
          "04/2024",
          "04/2024",
          "04/2024",
          "04/2024",
          "04/2024",
          "04/2024",
          "04/2024",
          "04/2024",
          "04/2024",
          "04/2024",
          "05/2024",
          "05/2024",
          "05/2024",
          "05/2024",
          "05/2024",
          "05/2024",
          "05/2024",
          "05/2024",
          "06/2024",
          "06/2024",
          "06/2024",
          "06/2024",
          "06/2024",
          "06/2024",
          "06/2024",
          "06/2024",
          "07/2024",
          "07/2024",
          "07/2024",
          "07/2024",
          "07/2024",
          "07/2024",
          "07/2024",
          "07/2024",
          "08/2024",
          "08/2024",
          "08/2024",
          "08/2024",
          "08/2024",
          "08/2024",
          "08/2024",
          "08/2024",
          "09/2024",
          "09/2024",
          "09/2024",
          "09/2024",
          "09/2024",
          "09/2024",
          "09/2024",
          "09/2024",
          "09/2024"
         ],
         "categoryorder": "array",
         "domain": [
          0,
          1
         ],
         "title": {
          "text": "Month"
         }
        },
        "yaxis": {
         "anchor": "x",
         "domain": [
          0,
          1
         ],
         "title": {
          "text": "Value (R$)"
         }
        }
       }
      }
     },
     "metadata": {},
     "output_type": "display_data"
    }
   ],
   "source": [
    "def graph_per_ticker(df, investment_type=None, value_type=\"value\", exclude_south_america=False):\n",
    "    \"\"\"\n",
    "    Generate a graph showing investment values/percentages grouped by ticker over time.\n",
    "\n",
    "    Parameters:\n",
    "    -----------\n",
    "    df : polars.DataFrame\n",
    "        The dataframe containing the investment data\n",
    "    investment_type : str or None, default=None\n",
    "        Filter for specific investment type (\"BDR\", \"Invest. Ext.\", or None for both)\n",
    "    value_type : str, default=\"value\"\n",
    "        The column to use for values (\"value\" for absolute or \"percentage\" for percentage)\n",
    "    exclude_south_america : bool, default=False\n",
    "        If True, excludes investments in companies based in South America.\n",
    "    \"\"\"\n",
    "    filtered_df = df.clone()\n",
    "    title_parts = []\n",
    "\n",
    "    # Apply investment type filter\n",
    "    if investment_type == \"BDR\":\n",
    "        filtered_df = filtered_df.filter(pl.col(\"investment_type\") == \"BDR\")\n",
    "        type_title = \"BDR\"\n",
    "    elif investment_type == \"Invest. Ext.\":\n",
    "        filtered_df = filtered_df.filter(pl.col(\"investment_type\") == \"Invest. Ext.\")\n",
    "        type_title = \"Invest. Ext.\"\n",
    "    else:\n",
    "        # Include both if None or any other value\n",
    "        filtered_df = filtered_df.filter(\n",
    "            (pl.col(\"investment_type\") == \"BDR\") | (pl.col(\"investment_type\") == \"Invest. Ext.\")\n",
    "        )\n",
    "        type_title = \"BDR & Invest. Ext.\"\n",
    "    title_parts.append(type_title)\n",
    "\n",
    "    # Apply South America Filter\n",
    "    if exclude_south_america:\n",
    "        south_american_countries = [\n",
    "            \"Argentina\", \"Bolivia\", \"Brazil\", \"Chile\", \"Colombia\",\n",
    "            \"Ecuador\", \"Guyana\", \"Paraguay\", \"Peru\", \"Suriname\",\n",
    "            \"Uruguay\", \"Venezuela\"\n",
    "        ]\n",
    "        filtered_df = filtered_df.filter(\n",
    "            ~pl.col(\"company_country\").cast(pl.Utf8).is_in(south_american_countries)\n",
    "        )\n",
    "        title_parts.append(\"(Excluding South America)\")\n",
    "\n",
    "    # Set value type label\n",
    "    value_label = \"Value (R$)\" if value_type == \"value\" else \"Percentage (%)\"\n",
    "    title_parts.append(f\"({value_label})\")\n",
    "\n",
    "    graph_title = f'Investment {value_label} by Ticker and Month - {\" \".join(title_parts)}'\n",
    "\n",
    "    # Group by month and ticker, sum the values\n",
    "    agg_expr = pl.sum(value_type)\n",
    "    if value_type == \"percentage\":\n",
    "        agg_expr = (agg_expr * 100) # Multiply by 100 for percentage display\n",
    "\n",
    "    monthly_ticker_sum = filtered_df.group_by([\"month\", \"ticker\", \"date_for_sort\"]).agg(\n",
    "        agg_expr.alias(\"total_value\")\n",
    "    )\n",
    "\n",
    "    # Convert to pandas for easier manipulation with plotly\n",
    "    plot_df = monthly_ticker_sum.to_pandas()\n",
    "\n",
    "    # Check if data exists\n",
    "    if plot_df.empty:\n",
    "        print(f\"No data found for the specified filters: {investment_type}, Exclude SA: {exclude_south_america}\")\n",
    "        return None\n",
    "\n",
    "    # Sort by date to ensure chronological order\n",
    "    plot_df = plot_df.sort_values('date_for_sort')\n",
    "\n",
    "    # Calculate the total value per ticker across all months\n",
    "    ticker_totals = plot_df.groupby('ticker')['total_value'].sum().sort_values(ascending=False)\n",
    "\n",
    "    # Get ordered list of tickers for the color assignment\n",
    "    ordered_tickers = ticker_totals.index.tolist()\n",
    "\n",
    "    # Create stacked bar chart with plotly using the custom order for color\n",
    "    fig = px.bar(\n",
    "        plot_df,\n",
    "        x=\"month\",\n",
    "        y=\"total_value\",\n",
    "        color=\"ticker\",\n",
    "        title=graph_title, # Use the constructed title\n",
    "        labels={\n",
    "            \"month\": \"Month\",\n",
    "            \"total_value\": value_label, # Use dynamic label\n",
    "            \"ticker\": \"Ticker\"\n",
    "        },\n",
    "        category_orders={\n",
    "            \"month\": plot_df[\"month\"].tolist(),  # Preserves chronological order\n",
    "            \"ticker\": ordered_tickers,  # Use the custom order based on total values\n",
    "        },\n",
    "        height=600,\n",
    "    )\n",
    "\n",
    "    # Improve layout\n",
    "    fig.update_layout(\n",
    "        xaxis_title=\"Month\",\n",
    "        yaxis_title=value_label, # Use dynamic label\n",
    "        legend_title=\"Ticker\",\n",
    "        barmode='relative',  # Use relative instead of stack to properly handle negative values\n",
    "        hovermode=\"closest\"\n",
    "    )\n",
    "\n",
    "    # Format hover info\n",
    "    hover_format = \"%{y:.2f}%\" if value_type == \"percentage\" else \"R$ %{y:,.2f}\"\n",
    "    fig.update_traces(\n",
    "        hovertemplate=\"<b>%{x}</b><br>\" +\n",
    "                      \"Ticker: %{fullData.name}<br>\" +\n",
    "                      f\"Value: {hover_format}<br>\"\n",
    "    )\n",
    "\n",
    "    # Return the figure instead of showing it directly\n",
    "    return fig\n",
    "\n",
    "# Example Usage:\n",
    "# fig1 = graph_per_ticker(df_peers, \"BDR\")\n",
    "# if fig1: fig1.show()\n",
    "\n",
    "# fig2 = graph_per_ticker(df_peers, \"Invest. Ext.\", \"percentage\")\n",
    "# if fig2: fig2.show()\n",
    "\n",
    "# fig3 = graph_per_ticker(df_peers, None, \"percentage\", exclude_south_america=True)\n",
    "# if fig3: fig3.show()\n",
    "\n",
    "graph_per_ticker(df_peers, \"BDR\", \"value\", exclude_south_america=True).show()"
   ]
  },
  {
   "cell_type": "code",
   "execution_count": 58,
   "metadata": {},
   "outputs": [],
   "source": [
    "def graph_per_fund(df, fund_name, value_type=\"value\", investment_type=None):\n",
    "    \"\"\"\n",
    "    Generate a graph showing the investment composition of a specific fund over time.\n",
    "    \n",
    "    Parameters:\n",
    "    -----------\n",
    "    df : polars.DataFrame\n",
    "        The dataframe containing the investment data\n",
    "    fund_name : str\n",
    "        The name of the fund to analyze\n",
    "    value_type : str, default=\"value\"\n",
    "        The column to use for values (\"value\" for absolute or \"percentage\" for percentage)\n",
    "    investment_type : str or None, default=None\n",
    "        Filter for specific investment type (\"BDR\", \"Invest. Ext.\", or None for both)\n",
    "    \"\"\"\n",
    "    # Filter for the specified fund\n",
    "    filtered_df = df.filter(pl.col(\"funds\") == fund_name)\n",
    "    \n",
    "    # Apply investment type filter if specified\n",
    "    if investment_type == \"BDR\":\n",
    "        filtered_df = filtered_df.filter(pl.col(\"investment_type\") == \"BDR\")\n",
    "        type_title = \"BDR\"\n",
    "    elif investment_type == \"Invest. Ext.\":\n",
    "        filtered_df = filtered_df.filter(pl.col(\"investment_type\") == \"Invest. Ext.\")\n",
    "        type_title = \"Invest. Ext.\"\n",
    "    else:\n",
    "        type_title = \"BDR & Invest. Ext.\"\n",
    "    \n",
    "    # Set value type label for the title\n",
    "    value_label = \"Percentage\" if value_type == \"percentage\" else \"Value (R$)\"\n",
    "    \n",
    "    # Group by month, ticker, and date_for_sort, sum the values\n",
    "    monthly_ticker_sum = filtered_df.group_by([\"month\", \"ticker\", \"date_for_sort\"]).agg(\n",
    "        pl.sum(value_type).alias(\"total_value\")\n",
    "    )\n",
    "    \n",
    "    # Convert to pandas for easier manipulation with plotly\n",
    "    plot_df = monthly_ticker_sum.to_pandas()\n",
    "    \n",
    "    # Check if data exists\n",
    "    if plot_df.empty:\n",
    "        print(f\"No data found for fund: {fund_name} with investment type: {type_title}\")\n",
    "        return None\n",
    "    \n",
    "    # Sort by date to ensure chronological order\n",
    "    plot_df = plot_df.sort_values('date_for_sort')\n",
    "    \n",
    "    # Calculate the total value per ticker across all months\n",
    "    ticker_totals = plot_df.groupby('ticker')['total_value'].sum().sort_values(ascending=False)\n",
    "    \n",
    "    # Get ordered list of tickers for the color assignment\n",
    "    ordered_tickers = ticker_totals.index.tolist()\n",
    "    \n",
    "    # Create stacked bar chart with plotly\n",
    "    fig = px.bar(\n",
    "        plot_df,\n",
    "        x=\"month\",\n",
    "        y=\"total_value\",\n",
    "        color=\"ticker\",\n",
    "        title=f'{fund_name} - {type_title} ({value_label})',\n",
    "        labels={\n",
    "            \"month\": \"Month\",\n",
    "            \"total_value\": value_label,\n",
    "            \"ticker\": \"Ticker\"\n",
    "        },\n",
    "        category_orders={\n",
    "            \"month\": plot_df[\"month\"].tolist(),  # Preserves chronological order\n",
    "            \"ticker\": ordered_tickers,  # Use the custom order based on total values\n",
    "        },\n",
    "        height=600,\n",
    "    )\n",
    "    \n",
    "    # Improve layout\n",
    "    fig.update_layout(\n",
    "        xaxis_title=\"Month\",\n",
    "        yaxis_title=value_label,\n",
    "        legend_title=\"Ticker\",\n",
    "        barmode='relative',  # Use relative instead of stack to properly handle negative values\n",
    "        hovermode=\"closest\"\n",
    "    )\n",
    "    \n",
    "    # Format hover info\n",
    "    hover_format = \"%{y:.2f}%\" if value_type == \"percentage\" else \"R$ %{y:,.2f}\"\n",
    "    fig.update_traces(\n",
    "        hovertemplate=\"<b>%{x}</b><br>\" +\n",
    "                      \"Ticker: %{fullData.name}<br>\" +\n",
    "                      f\"Value: {hover_format}<br>\"\n",
    "    )\n",
    "    \n",
    "    # Show the plot\n",
    "    fig.show()\n",
    "    \n",
    "    return None\n",
    "\n",
    "# for fund in df_peers[\"funds\"].unique():\n",
    "#     graph_per_fund(df_peers, fund)\n",
    "\n",
    "# Example usage\n",
    "# graph_per_fund(df_peers, \"VINLAND\")\n",
    "# graph_per_fund(df_peers, \"Fund Name Here\", \"percentage\")\n",
    "# graph_per_fund(df_peers, \"Fund Name Here\", investment_type=\"BDR\")"
   ]
  },
  {
   "cell_type": "code",
   "execution_count": 39,
   "metadata": {},
   "outputs": [
    {
     "data": {
      "application/vnd.plotly.v1+json": {
       "config": {
        "plotlyServerURL": "https://plot.ly"
       },
       "data": [
        {
         "alignmentgroup": "True",
         "hovertemplate": "<b>%{x}</b><br>Ticker: %{fullData.name}<br>Percentage: %{y:.2f}%<br>",
         "legendgroup": "Fundo",
         "marker": {
          "color": "#636efa",
          "pattern": {
           "shape": ""
          }
         },
         "name": "Fundo",
         "offsetgroup": "Fundo",
         "orientation": "v",
         "showlegend": true,
         "textposition": "auto",
         "type": "bar",
         "x": [
          "10/2022",
          "11/2022",
          "12/2022",
          "01/2023",
          "02/2023",
          "03/2023",
          "04/2023",
          "05/2023",
          "06/2023",
          "07/2023",
          "08/2023",
          "09/2023",
          "10/2023",
          "11/2023",
          "12/2023",
          "01/2024",
          "02/2024",
          "03/2024",
          "04/2024",
          "05/2024",
          "06/2024",
          "07/2024",
          "08/2024",
          "09/2024"
         ],
         "xaxis": "x",
         "y": [
          0.13867,
          0.14098,
          0.14581,
          0.15574000000000002,
          0.15842,
          0.12068,
          0.11871999999999999,
          0.12755,
          0.12933,
          0.13565,
          0.17502,
          0.16291,
          0.16999,
          0.19949999999999998,
          0.2009,
          0.22002999999999998,
          0.24473999999999999,
          0.23828000000000002,
          0.21828999999999998,
          0.24507,
          0.23067,
          0.20281000000000002,
          0.21335,
          0.22904
         ],
         "yaxis": "y"
        },
        {
         "alignmentgroup": "True",
         "hovertemplate": "<b>%{x}</b><br>Ticker: %{fullData.name}<br>Percentage: %{y:.2f}%<br>",
         "legendgroup": "GOOGL",
         "marker": {
          "color": "#EF553B",
          "pattern": {
           "shape": ""
          }
         },
         "name": "GOOGL",
         "offsetgroup": "GOOGL",
         "orientation": "v",
         "showlegend": true,
         "textposition": "auto",
         "type": "bar",
         "x": [
          "10/2022",
          "11/2022",
          "12/2022",
          "01/2023",
          "02/2023",
          "03/2023",
          "04/2023",
          "05/2023",
          "06/2023",
          "07/2023",
          "08/2023",
          "09/2023",
          "10/2023",
          "11/2023",
          "12/2023",
          "01/2024",
          "02/2024",
          "03/2024",
          "04/2024",
          "05/2024",
          "06/2024",
          "07/2024",
          "08/2024",
          "09/2024"
         ],
         "xaxis": "x",
         "y": [
          0.04783,
          0.052489999999999995,
          0.04832,
          0.06071,
          0.05137,
          0.07246,
          0.06737,
          0.08202000000000001,
          0.06661,
          0.07601000000000001,
          0.08148,
          0.09077,
          0.08539000000000001,
          0.08158,
          0.08226,
          0.08802,
          0.08965000000000001,
          0.09920000000000001,
          0.11610999999999999,
          0.1084,
          0.11555,
          0.09627000000000001,
          0.09280000000000001,
          0.07596
         ],
         "yaxis": "y"
        },
        {
         "alignmentgroup": "True",
         "hovertemplate": "<b>%{x}</b><br>Ticker: %{fullData.name}<br>Percentage: %{y:.2f}%<br>",
         "legendgroup": "BERK",
         "marker": {
          "color": "#00cc96",
          "pattern": {
           "shape": ""
          }
         },
         "name": "BERK",
         "offsetgroup": "BERK",
         "orientation": "v",
         "showlegend": true,
         "textposition": "auto",
         "type": "bar",
         "x": [
          "10/2022",
          "11/2022",
          "12/2022",
          "01/2023",
          "02/2023",
          "03/2023",
          "04/2023",
          "05/2023",
          "06/2023",
          "07/2023",
          "08/2023",
          "09/2023",
          "10/2023",
          "11/2023",
          "12/2023",
          "01/2024",
          "02/2024",
          "03/2024",
          "04/2024",
          "05/2024"
         ],
         "xaxis": "x",
         "y": [
          0.06682,
          0.07397000000000001,
          0.051430000000000003,
          0.04021,
          0.04353,
          0.10496,
          0.1078,
          0.09489,
          0.07994,
          0.06441,
          0.0636,
          0.05636000000000001,
          0.0573,
          0.05376,
          0.05077,
          0.04178,
          0.03318,
          0.020890000000000002,
          0.02064,
          0.01219
         ],
         "yaxis": "y"
        },
        {
         "alignmentgroup": "True",
         "hovertemplate": "<b>%{x}</b><br>Ticker: %{fullData.name}<br>Percentage: %{y:.2f}%<br>",
         "legendgroup": "MA",
         "marker": {
          "color": "#ab63fa",
          "pattern": {
           "shape": ""
          }
         },
         "name": "MA",
         "offsetgroup": "MA",
         "orientation": "v",
         "showlegend": true,
         "textposition": "auto",
         "type": "bar",
         "x": [
          "10/2022",
          "11/2022",
          "12/2022",
          "01/2023",
          "02/2023",
          "03/2023",
          "04/2023",
          "05/2023",
          "06/2023",
          "07/2023",
          "08/2023",
          "09/2023",
          "10/2023",
          "11/2023",
          "12/2023",
          "01/2024",
          "02/2024",
          "03/2024",
          "04/2024",
          "05/2024",
          "06/2024",
          "07/2024",
          "08/2024",
          "09/2024"
         ],
         "xaxis": "x",
         "y": [
          0.02727,
          0.03042,
          0.03128,
          0.03929,
          0.04144,
          0.04158,
          0.04193,
          0.03553,
          0.03426,
          0.03298,
          0.03607,
          0.036109999999999996,
          0.03589,
          0.0353,
          0.03481,
          0.03691,
          0.03796,
          0.03909,
          0.039740000000000004,
          0.039830000000000004,
          0.04152,
          0.04465,
          0.04475,
          0.04237
         ],
         "yaxis": "y"
        },
        {
         "alignmentgroup": "True",
         "hovertemplate": "<b>%{x}</b><br>Ticker: %{fullData.name}<br>Percentage: %{y:.2f}%<br>",
         "legendgroup": "TMO",
         "marker": {
          "color": "#FFA15A",
          "pattern": {
           "shape": ""
          }
         },
         "name": "TMO",
         "offsetgroup": "TMO",
         "orientation": "v",
         "showlegend": true,
         "textposition": "auto",
         "type": "bar",
         "x": [
          "10/2022",
          "11/2022",
          "12/2022",
          "01/2023",
          "02/2023",
          "03/2023",
          "04/2023",
          "05/2023",
          "06/2023",
          "07/2023",
          "08/2023",
          "09/2023",
          "10/2023",
          "11/2023",
          "12/2023",
          "01/2024",
          "02/2024",
          "03/2024",
          "04/2024",
          "05/2024",
          "06/2024",
          "07/2024"
         ],
         "xaxis": "x",
         "y": [
          0.04627,
          0.05181,
          0.04469,
          0.0385,
          0.04042,
          0.04217,
          0.03916,
          0.04051999999999999,
          0.03722,
          0.03757,
          0.03682,
          0.03491,
          0.03208,
          0.03199,
          0.03276,
          0.03349,
          0.03448,
          0.03266,
          0.03151,
          0.02022,
          0.02015,
          0.02186
         ],
         "yaxis": "y"
        },
        {
         "alignmentgroup": "True",
         "hovertemplate": "<b>%{x}</b><br>Ticker: %{fullData.name}<br>Percentage: %{y:.2f}%<br>",
         "legendgroup": "TDG",
         "marker": {
          "color": "#19d3f3",
          "pattern": {
           "shape": ""
          }
         },
         "name": "TDG",
         "offsetgroup": "TDG",
         "orientation": "v",
         "showlegend": true,
         "textposition": "auto",
         "type": "bar",
         "x": [
          "10/2022",
          "11/2022",
          "12/2022",
          "01/2023",
          "02/2023",
          "03/2023",
          "04/2023",
          "05/2023",
          "06/2023",
          "07/2023",
          "08/2023",
          "09/2023",
          "10/2023",
          "11/2023",
          "12/2023",
          "01/2024",
          "02/2024",
          "03/2024",
          "04/2024",
          "05/2024",
          "06/2024",
          "07/2024",
          "08/2024",
          "09/2024"
         ],
         "xaxis": "x",
         "y": [
          0.037739999999999996,
          0.042319999999999997,
          0.04467,
          0.04739,
          0.049199999999999994,
          0.023030000000000002,
          0.02306,
          0.023280000000000002,
          0.02409,
          0.02327,
          0.02442,
          0.02378,
          0.02442,
          0.0254,
          0.02553,
          0.02776,
          0.029109999999999997,
          0.03091,
          0.03399,
          0.036989999999999995,
          0.037180000000000005,
          0.04004,
          0.04086,
          0.04061
         ],
         "yaxis": "y"
        },
        {
         "alignmentgroup": "True",
         "hovertemplate": "<b>%{x}</b><br>Ticker: %{fullData.name}<br>Percentage: %{y:.2f}%<br>",
         "legendgroup": "NFLX",
         "marker": {
          "color": "#FF6692",
          "pattern": {
           "shape": ""
          }
         },
         "name": "NFLX",
         "offsetgroup": "NFLX",
         "orientation": "v",
         "showlegend": true,
         "textposition": "auto",
         "type": "bar",
         "x": [
          "10/2022",
          "11/2022",
          "12/2022",
          "01/2023",
          "02/2023",
          "03/2023",
          "04/2023",
          "05/2023",
          "06/2023",
          "07/2023",
          "08/2023",
          "09/2023",
          "10/2023",
          "11/2023",
          "12/2023",
          "01/2024",
          "02/2024",
          "03/2024",
          "04/2024",
          "05/2024",
          "06/2024",
          "07/2024",
          "08/2024",
          "09/2024"
         ],
         "xaxis": "x",
         "y": [
          0.04038,
          0.03831,
          0.03895,
          0.03313,
          0.02821,
          0.029670000000000002,
          0.02261,
          0.02704,
          0.026969999999999997,
          0.0258,
          0.026639999999999997,
          0.024209999999999995,
          0.0276,
          0.028429999999999997,
          0.02793,
          0.03257,
          0.03388,
          0.03465,
          0.037059999999999996,
          0.03939,
          0.03632,
          0.03253,
          0.02964,
          0.02366
         ],
         "yaxis": "y"
        },
        {
         "alignmentgroup": "True",
         "hovertemplate": "<b>%{x}</b><br>Ticker: %{fullData.name}<br>Percentage: %{y:.2f}%<br>",
         "legendgroup": "V",
         "marker": {
          "color": "#B6E880",
          "pattern": {
           "shape": ""
          }
         },
         "name": "V",
         "offsetgroup": "V",
         "orientation": "v",
         "showlegend": true,
         "textposition": "auto",
         "type": "bar",
         "x": [
          "06/2023",
          "07/2023",
          "08/2023",
          "09/2023",
          "10/2023",
          "11/2023",
          "12/2023",
          "01/2024",
          "02/2024",
          "03/2024",
          "04/2024",
          "05/2024",
          "06/2024",
          "07/2024",
          "08/2024",
          "09/2024"
         ],
         "xaxis": "x",
         "y": [
          0.02064,
          0.01983,
          0.03008,
          0.02939,
          0.03142,
          0.03068,
          0.02977,
          0.03146,
          0.03166,
          0.03174,
          0.03315,
          0.034,
          0.03461,
          0.03725,
          0.03726,
          0.03545
         ],
         "yaxis": "y"
        },
        {
         "alignmentgroup": "True",
         "hovertemplate": "<b>%{x}</b><br>Ticker: %{fullData.name}<br>Percentage: %{y:.2f}%<br>",
         "legendgroup": "LBRD",
         "marker": {
          "color": "#FF97FF",
          "pattern": {
           "shape": ""
          }
         },
         "name": "LBRD",
         "offsetgroup": "LBRD",
         "orientation": "v",
         "showlegend": true,
         "textposition": "auto",
         "type": "bar",
         "x": [
          "10/2022",
          "11/2022",
          "12/2022",
          "01/2023",
          "02/2023",
          "03/2023",
          "04/2023",
          "05/2023",
          "06/2023",
          "07/2023",
          "08/2023",
          "09/2023",
          "10/2023"
         ],
         "xaxis": "x",
         "y": [
          0.03074,
          0.03398000000000001,
          0.03006,
          0.03292,
          0.03513,
          0.03248,
          0.03252,
          0.02837,
          0.02746,
          0.02933,
          0.03217,
          0.03277,
          0.0298
         ],
         "yaxis": "y"
        },
        {
         "alignmentgroup": "True",
         "hovertemplate": "<b>%{x}</b><br>Ticker: %{fullData.name}<br>Percentage: %{y:.2f}%<br>",
         "legendgroup": "MSFT",
         "marker": {
          "color": "#FECB52",
          "pattern": {
           "shape": ""
          }
         },
         "name": "MSFT",
         "offsetgroup": "MSFT",
         "orientation": "v",
         "showlegend": true,
         "textposition": "auto",
         "type": "bar",
         "x": [
          "10/2022",
          "11/2022",
          "12/2022",
          "01/2023",
          "02/2023",
          "03/2023",
          "04/2023",
          "05/2023",
          "06/2023",
          "09/2024"
         ],
         "xaxis": "x",
         "y": [
          0.03965,
          0.044770000000000004,
          0.04378,
          0.04211,
          0.029560000000000003,
          0.030559999999999997,
          0.027179999999999996,
          0.02338,
          0.01021,
          0.00149
         ],
         "yaxis": "y"
        },
        {
         "alignmentgroup": "True",
         "hovertemplate": "<b>%{x}</b><br>Ticker: %{fullData.name}<br>Percentage: %{y:.2f}%<br>",
         "legendgroup": "XPBR",
         "marker": {
          "color": "#636efa",
          "pattern": {
           "shape": ""
          }
         },
         "name": "XPBR",
         "offsetgroup": "XPBR",
         "orientation": "v",
         "showlegend": true,
         "textposition": "auto",
         "type": "bar",
         "x": [
          "10/2022",
          "11/2022",
          "12/2022",
          "01/2023",
          "02/2023",
          "03/2023",
          "04/2023",
          "05/2023",
          "06/2023",
          "07/2023",
          "10/2023",
          "12/2023",
          "05/2024"
         ],
         "xaxis": "x",
         "y": [
          0.06856,
          0.03089,
          0.0448,
          0.033229999999999996,
          0.022770000000000002,
          0.0034000000000000002,
          0.01182,
          -0.004750000000000001,
          -0.00949,
          0.00304,
          0.00138,
          0.00004,
          0.02001
         ],
         "yaxis": "y"
        },
        {
         "alignmentgroup": "True",
         "hovertemplate": "<b>%{x}</b><br>Ticker: %{fullData.name}<br>Percentage: %{y:.2f}%<br>",
         "legendgroup": "ABNB",
         "marker": {
          "color": "#EF553B",
          "pattern": {
           "shape": ""
          }
         },
         "name": "ABNB",
         "offsetgroup": "ABNB",
         "orientation": "v",
         "showlegend": true,
         "textposition": "auto",
         "type": "bar",
         "x": [
          "09/2023",
          "10/2023",
          "11/2023",
          "12/2023",
          "01/2024",
          "02/2024",
          "03/2024",
          "04/2024",
          "05/2024",
          "06/2024",
          "07/2024",
          "08/2024",
          "09/2024"
         ],
         "xaxis": "x",
         "y": [
          0.00936,
          0.00844,
          0.008060000000000001,
          0.00831,
          0.01473,
          0.01566,
          0.01665,
          0.01737,
          0.02345,
          0.02592,
          0.02537,
          0.02051,
          0.0212
         ],
         "yaxis": "y"
        },
        {
         "alignmentgroup": "True",
         "hovertemplate": "<b>%{x}</b><br>Ticker: %{fullData.name}<br>Percentage: %{y:.2f}%<br>",
         "legendgroup": "AMZN",
         "marker": {
          "color": "#00cc96",
          "pattern": {
           "shape": ""
          }
         },
         "name": "AMZN",
         "offsetgroup": "AMZN",
         "orientation": "v",
         "showlegend": true,
         "textposition": "auto",
         "type": "bar",
         "x": [
          "10/2022",
          "11/2022",
          "12/2022",
          "01/2023",
          "02/2023",
          "03/2023",
          "05/2023",
          "08/2024",
          "09/2024"
         ],
         "xaxis": "x",
         "y": [
          0.03486,
          0.0299,
          0.02742,
          0.02682,
          0.02708,
          0.014369999999999999,
          0.005639999999999999,
          0.01543,
          0.0154
         ],
         "yaxis": "y"
        },
        {
         "alignmentgroup": "True",
         "hovertemplate": "<b>%{x}</b><br>Ticker: %{fullData.name}<br>Percentage: %{y:.2f}%<br>",
         "legendgroup": "SCHW",
         "marker": {
          "color": "#ab63fa",
          "pattern": {
           "shape": ""
          }
         },
         "name": "SCHW",
         "offsetgroup": "SCHW",
         "orientation": "v",
         "showlegend": true,
         "textposition": "auto",
         "type": "bar",
         "x": [
          "10/2022",
          "11/2022",
          "12/2022",
          "01/2023",
          "02/2023"
         ],
         "xaxis": "x",
         "y": [
          0.03823,
          0.02972,
          0.03159,
          0.03094,
          0.03441
         ],
         "yaxis": "y"
        },
        {
         "alignmentgroup": "True",
         "hovertemplate": "<b>%{x}</b><br>Ticker: %{fullData.name}<br>Percentage: %{y:.2f}%<br>",
         "legendgroup": "CHTR",
         "marker": {
          "color": "#FFA15A",
          "pattern": {
           "shape": ""
          }
         },
         "name": "CHTR",
         "offsetgroup": "CHTR",
         "orientation": "v",
         "showlegend": true,
         "textposition": "auto",
         "type": "bar",
         "x": [
          "10/2022",
          "11/2022",
          "12/2022",
          "01/2023",
          "02/2023",
          "03/2023",
          "04/2023",
          "05/2023",
          "06/2023",
          "07/2023",
          "08/2023",
          "09/2023",
          "10/2023"
         ],
         "xaxis": "x",
         "y": [
          0.009340000000000001,
          0.01022,
          0.00933,
          0.0152,
          0.01607,
          0.0106,
          0.00621,
          0.00548,
          0.00553,
          0.00586,
          0.00263,
          0.00275,
          0.00115
         ],
         "yaxis": "y"
        },
        {
         "alignmentgroup": "True",
         "hovertemplate": "<b>%{x}</b><br>Ticker: %{fullData.name}<br>Percentage: %{y:.2f}%<br>",
         "legendgroup": "DHER",
         "marker": {
          "color": "#19d3f3",
          "pattern": {
           "shape": ""
          }
         },
         "name": "DHER",
         "offsetgroup": "DHER",
         "orientation": "v",
         "showlegend": true,
         "textposition": "auto",
         "type": "bar",
         "x": [
          "05/2023",
          "06/2023",
          "07/2023",
          "08/2023",
          "09/2023",
          "01/2024",
          "02/2024",
          "03/2024",
          "04/2024"
         ],
         "xaxis": "x",
         "y": [
          0.01793,
          0.01678,
          0.01712,
          0.01756,
          0.01716,
          0.00313,
          0.00322,
          0.00322,
          0.00345
         ],
         "yaxis": "y"
        },
        {
         "alignmentgroup": "True",
         "hovertemplate": "<b>%{x}</b><br>Ticker: %{fullData.name}<br>Percentage: %{y:.2f}%<br>",
         "legendgroup": "META",
         "marker": {
          "color": "#FF6692",
          "pattern": {
           "shape": ""
          }
         },
         "name": "META",
         "offsetgroup": "META",
         "orientation": "v",
         "showlegend": true,
         "textposition": "auto",
         "type": "bar",
         "x": [
          "06/2024",
          "07/2024",
          "08/2024",
          "09/2024"
         ],
         "xaxis": "x",
         "y": [
          0.0071,
          0.02086,
          0.02202,
          0.03675
         ],
         "yaxis": "y"
        },
        {
         "alignmentgroup": "True",
         "hovertemplate": "<b>%{x}</b><br>Ticker: %{fullData.name}<br>Percentage: %{y:.2f}%<br>",
         "legendgroup": "OXY",
         "marker": {
          "color": "#B6E880",
          "pattern": {
           "shape": ""
          }
         },
         "name": "OXY",
         "offsetgroup": "OXY",
         "orientation": "v",
         "showlegend": true,
         "textposition": "auto",
         "type": "bar",
         "x": [
          "03/2023",
          "04/2023"
         ],
         "xaxis": "x",
         "y": [
          0.01076,
          0.01023
         ],
         "yaxis": "y"
        },
        {
         "alignmentgroup": "True",
         "hovertemplate": "<b>%{x}</b><br>Ticker: %{fullData.name}<br>Percentage: %{y:.2f}%<br>",
         "legendgroup": "ACN",
         "marker": {
          "color": "#FF97FF",
          "pattern": {
           "shape": ""
          }
         },
         "name": "ACN",
         "offsetgroup": "ACN",
         "orientation": "v",
         "showlegend": true,
         "textposition": "auto",
         "type": "bar",
         "x": [
          "05/2023",
          "06/2023"
         ],
         "xaxis": "x",
         "y": [
          0.005350000000000001,
          0.00483
         ],
         "yaxis": "y"
        },
        {
         "hovertemplate": "<b>%{x}</b><br>Liquid Patrimony: R$ %{y:,.2f}<br>",
         "line": {
          "color": "black",
          "width": 3
         },
         "marker": {
          "color": "black",
          "size": 8
         },
         "mode": "lines+markers",
         "name": "Liquid Patrimony",
         "type": "scatter",
         "x": [
          "10/2022",
          "11/2022",
          "12/2022",
          "01/2023",
          "02/2023",
          "03/2023",
          "04/2023",
          "05/2023",
          "06/2023",
          "07/2023",
          "08/2023",
          "09/2023",
          "10/2023",
          "11/2023",
          "12/2023",
          "01/2024",
          "02/2024",
          "03/2024",
          "04/2024",
          "05/2024",
          "06/2024",
          "07/2024",
          "08/2024",
          "09/2024"
         ],
         "y": [
          559781852.2399999,
          550207940.4699998,
          528919057.37999976,
          546775878.2099997,
          508029989.3899998,
          503404953.54999983,
          512947647.42,
          523133309.26000017,
          550717156.0699999,
          567633973.11,
          567673199.95,
          553065359.89,
          529684557.7700003,
          578777647.8900001,
          596724653.2099999,
          603370759.41,
          623056929.5499998,
          618455048.3799998,
          590310332.9599999,
          590842748.87,
          594763212.21,
          564935948.66,
          589008407.2799999,
          594311739.8999999
         ],
         "yaxis": "y2"
        }
       ],
       "layout": {
        "barmode": "relative",
        "height": 600,
        "hovermode": "closest",
        "legend": {
         "title": {
          "text": "Ticker"
         },
         "tracegroupgap": 0
        },
        "template": {
         "data": {
          "bar": [
           {
            "error_x": {
             "color": "#2a3f5f"
            },
            "error_y": {
             "color": "#2a3f5f"
            },
            "marker": {
             "line": {
              "color": "#E5ECF6",
              "width": 0.5
             },
             "pattern": {
              "fillmode": "overlay",
              "size": 10,
              "solidity": 0.2
             }
            },
            "type": "bar"
           }
          ],
          "barpolar": [
           {
            "marker": {
             "line": {
              "color": "#E5ECF6",
              "width": 0.5
             },
             "pattern": {
              "fillmode": "overlay",
              "size": 10,
              "solidity": 0.2
             }
            },
            "type": "barpolar"
           }
          ],
          "carpet": [
           {
            "aaxis": {
             "endlinecolor": "#2a3f5f",
             "gridcolor": "white",
             "linecolor": "white",
             "minorgridcolor": "white",
             "startlinecolor": "#2a3f5f"
            },
            "baxis": {
             "endlinecolor": "#2a3f5f",
             "gridcolor": "white",
             "linecolor": "white",
             "minorgridcolor": "white",
             "startlinecolor": "#2a3f5f"
            },
            "type": "carpet"
           }
          ],
          "choropleth": [
           {
            "colorbar": {
             "outlinewidth": 0,
             "ticks": ""
            },
            "type": "choropleth"
           }
          ],
          "contour": [
           {
            "colorbar": {
             "outlinewidth": 0,
             "ticks": ""
            },
            "colorscale": [
             [
              0,
              "#0d0887"
             ],
             [
              0.1111111111111111,
              "#46039f"
             ],
             [
              0.2222222222222222,
              "#7201a8"
             ],
             [
              0.3333333333333333,
              "#9c179e"
             ],
             [
              0.4444444444444444,
              "#bd3786"
             ],
             [
              0.5555555555555556,
              "#d8576b"
             ],
             [
              0.6666666666666666,
              "#ed7953"
             ],
             [
              0.7777777777777778,
              "#fb9f3a"
             ],
             [
              0.8888888888888888,
              "#fdca26"
             ],
             [
              1,
              "#f0f921"
             ]
            ],
            "type": "contour"
           }
          ],
          "contourcarpet": [
           {
            "colorbar": {
             "outlinewidth": 0,
             "ticks": ""
            },
            "type": "contourcarpet"
           }
          ],
          "heatmap": [
           {
            "colorbar": {
             "outlinewidth": 0,
             "ticks": ""
            },
            "colorscale": [
             [
              0,
              "#0d0887"
             ],
             [
              0.1111111111111111,
              "#46039f"
             ],
             [
              0.2222222222222222,
              "#7201a8"
             ],
             [
              0.3333333333333333,
              "#9c179e"
             ],
             [
              0.4444444444444444,
              "#bd3786"
             ],
             [
              0.5555555555555556,
              "#d8576b"
             ],
             [
              0.6666666666666666,
              "#ed7953"
             ],
             [
              0.7777777777777778,
              "#fb9f3a"
             ],
             [
              0.8888888888888888,
              "#fdca26"
             ],
             [
              1,
              "#f0f921"
             ]
            ],
            "type": "heatmap"
           }
          ],
          "heatmapgl": [
           {
            "colorbar": {
             "outlinewidth": 0,
             "ticks": ""
            },
            "colorscale": [
             [
              0,
              "#0d0887"
             ],
             [
              0.1111111111111111,
              "#46039f"
             ],
             [
              0.2222222222222222,
              "#7201a8"
             ],
             [
              0.3333333333333333,
              "#9c179e"
             ],
             [
              0.4444444444444444,
              "#bd3786"
             ],
             [
              0.5555555555555556,
              "#d8576b"
             ],
             [
              0.6666666666666666,
              "#ed7953"
             ],
             [
              0.7777777777777778,
              "#fb9f3a"
             ],
             [
              0.8888888888888888,
              "#fdca26"
             ],
             [
              1,
              "#f0f921"
             ]
            ],
            "type": "heatmapgl"
           }
          ],
          "histogram": [
           {
            "marker": {
             "pattern": {
              "fillmode": "overlay",
              "size": 10,
              "solidity": 0.2
             }
            },
            "type": "histogram"
           }
          ],
          "histogram2d": [
           {
            "colorbar": {
             "outlinewidth": 0,
             "ticks": ""
            },
            "colorscale": [
             [
              0,
              "#0d0887"
             ],
             [
              0.1111111111111111,
              "#46039f"
             ],
             [
              0.2222222222222222,
              "#7201a8"
             ],
             [
              0.3333333333333333,
              "#9c179e"
             ],
             [
              0.4444444444444444,
              "#bd3786"
             ],
             [
              0.5555555555555556,
              "#d8576b"
             ],
             [
              0.6666666666666666,
              "#ed7953"
             ],
             [
              0.7777777777777778,
              "#fb9f3a"
             ],
             [
              0.8888888888888888,
              "#fdca26"
             ],
             [
              1,
              "#f0f921"
             ]
            ],
            "type": "histogram2d"
           }
          ],
          "histogram2dcontour": [
           {
            "colorbar": {
             "outlinewidth": 0,
             "ticks": ""
            },
            "colorscale": [
             [
              0,
              "#0d0887"
             ],
             [
              0.1111111111111111,
              "#46039f"
             ],
             [
              0.2222222222222222,
              "#7201a8"
             ],
             [
              0.3333333333333333,
              "#9c179e"
             ],
             [
              0.4444444444444444,
              "#bd3786"
             ],
             [
              0.5555555555555556,
              "#d8576b"
             ],
             [
              0.6666666666666666,
              "#ed7953"
             ],
             [
              0.7777777777777778,
              "#fb9f3a"
             ],
             [
              0.8888888888888888,
              "#fdca26"
             ],
             [
              1,
              "#f0f921"
             ]
            ],
            "type": "histogram2dcontour"
           }
          ],
          "mesh3d": [
           {
            "colorbar": {
             "outlinewidth": 0,
             "ticks": ""
            },
            "type": "mesh3d"
           }
          ],
          "parcoords": [
           {
            "line": {
             "colorbar": {
              "outlinewidth": 0,
              "ticks": ""
             }
            },
            "type": "parcoords"
           }
          ],
          "pie": [
           {
            "automargin": true,
            "type": "pie"
           }
          ],
          "scatter": [
           {
            "fillpattern": {
             "fillmode": "overlay",
             "size": 10,
             "solidity": 0.2
            },
            "type": "scatter"
           }
          ],
          "scatter3d": [
           {
            "line": {
             "colorbar": {
              "outlinewidth": 0,
              "ticks": ""
             }
            },
            "marker": {
             "colorbar": {
              "outlinewidth": 0,
              "ticks": ""
             }
            },
            "type": "scatter3d"
           }
          ],
          "scattercarpet": [
           {
            "marker": {
             "colorbar": {
              "outlinewidth": 0,
              "ticks": ""
             }
            },
            "type": "scattercarpet"
           }
          ],
          "scattergeo": [
           {
            "marker": {
             "colorbar": {
              "outlinewidth": 0,
              "ticks": ""
             }
            },
            "type": "scattergeo"
           }
          ],
          "scattergl": [
           {
            "marker": {
             "colorbar": {
              "outlinewidth": 0,
              "ticks": ""
             }
            },
            "type": "scattergl"
           }
          ],
          "scattermapbox": [
           {
            "marker": {
             "colorbar": {
              "outlinewidth": 0,
              "ticks": ""
             }
            },
            "type": "scattermapbox"
           }
          ],
          "scatterpolar": [
           {
            "marker": {
             "colorbar": {
              "outlinewidth": 0,
              "ticks": ""
             }
            },
            "type": "scatterpolar"
           }
          ],
          "scatterpolargl": [
           {
            "marker": {
             "colorbar": {
              "outlinewidth": 0,
              "ticks": ""
             }
            },
            "type": "scatterpolargl"
           }
          ],
          "scatterternary": [
           {
            "marker": {
             "colorbar": {
              "outlinewidth": 0,
              "ticks": ""
             }
            },
            "type": "scatterternary"
           }
          ],
          "surface": [
           {
            "colorbar": {
             "outlinewidth": 0,
             "ticks": ""
            },
            "colorscale": [
             [
              0,
              "#0d0887"
             ],
             [
              0.1111111111111111,
              "#46039f"
             ],
             [
              0.2222222222222222,
              "#7201a8"
             ],
             [
              0.3333333333333333,
              "#9c179e"
             ],
             [
              0.4444444444444444,
              "#bd3786"
             ],
             [
              0.5555555555555556,
              "#d8576b"
             ],
             [
              0.6666666666666666,
              "#ed7953"
             ],
             [
              0.7777777777777778,
              "#fb9f3a"
             ],
             [
              0.8888888888888888,
              "#fdca26"
             ],
             [
              1,
              "#f0f921"
             ]
            ],
            "type": "surface"
           }
          ],
          "table": [
           {
            "cells": {
             "fill": {
              "color": "#EBF0F8"
             },
             "line": {
              "color": "white"
             }
            },
            "header": {
             "fill": {
              "color": "#C8D4E3"
             },
             "line": {
              "color": "white"
             }
            },
            "type": "table"
           }
          ]
         },
         "layout": {
          "annotationdefaults": {
           "arrowcolor": "#2a3f5f",
           "arrowhead": 0,
           "arrowwidth": 1
          },
          "autotypenumbers": "strict",
          "coloraxis": {
           "colorbar": {
            "outlinewidth": 0,
            "ticks": ""
           }
          },
          "colorscale": {
           "diverging": [
            [
             0,
             "#8e0152"
            ],
            [
             0.1,
             "#c51b7d"
            ],
            [
             0.2,
             "#de77ae"
            ],
            [
             0.3,
             "#f1b6da"
            ],
            [
             0.4,
             "#fde0ef"
            ],
            [
             0.5,
             "#f7f7f7"
            ],
            [
             0.6,
             "#e6f5d0"
            ],
            [
             0.7,
             "#b8e186"
            ],
            [
             0.8,
             "#7fbc41"
            ],
            [
             0.9,
             "#4d9221"
            ],
            [
             1,
             "#276419"
            ]
           ],
           "sequential": [
            [
             0,
             "#0d0887"
            ],
            [
             0.1111111111111111,
             "#46039f"
            ],
            [
             0.2222222222222222,
             "#7201a8"
            ],
            [
             0.3333333333333333,
             "#9c179e"
            ],
            [
             0.4444444444444444,
             "#bd3786"
            ],
            [
             0.5555555555555556,
             "#d8576b"
            ],
            [
             0.6666666666666666,
             "#ed7953"
            ],
            [
             0.7777777777777778,
             "#fb9f3a"
            ],
            [
             0.8888888888888888,
             "#fdca26"
            ],
            [
             1,
             "#f0f921"
            ]
           ],
           "sequentialminus": [
            [
             0,
             "#0d0887"
            ],
            [
             0.1111111111111111,
             "#46039f"
            ],
            [
             0.2222222222222222,
             "#7201a8"
            ],
            [
             0.3333333333333333,
             "#9c179e"
            ],
            [
             0.4444444444444444,
             "#bd3786"
            ],
            [
             0.5555555555555556,
             "#d8576b"
            ],
            [
             0.6666666666666666,
             "#ed7953"
            ],
            [
             0.7777777777777778,
             "#fb9f3a"
            ],
            [
             0.8888888888888888,
             "#fdca26"
            ],
            [
             1,
             "#f0f921"
            ]
           ]
          },
          "colorway": [
           "#636efa",
           "#EF553B",
           "#00cc96",
           "#ab63fa",
           "#FFA15A",
           "#19d3f3",
           "#FF6692",
           "#B6E880",
           "#FF97FF",
           "#FECB52"
          ],
          "font": {
           "color": "#2a3f5f"
          },
          "geo": {
           "bgcolor": "white",
           "lakecolor": "white",
           "landcolor": "#E5ECF6",
           "showlakes": true,
           "showland": true,
           "subunitcolor": "white"
          },
          "hoverlabel": {
           "align": "left"
          },
          "hovermode": "closest",
          "mapbox": {
           "style": "light"
          },
          "paper_bgcolor": "white",
          "plot_bgcolor": "#E5ECF6",
          "polar": {
           "angularaxis": {
            "gridcolor": "white",
            "linecolor": "white",
            "ticks": ""
           },
           "bgcolor": "#E5ECF6",
           "radialaxis": {
            "gridcolor": "white",
            "linecolor": "white",
            "ticks": ""
           }
          },
          "scene": {
           "xaxis": {
            "backgroundcolor": "#E5ECF6",
            "gridcolor": "white",
            "gridwidth": 2,
            "linecolor": "white",
            "showbackground": true,
            "ticks": "",
            "zerolinecolor": "white"
           },
           "yaxis": {
            "backgroundcolor": "#E5ECF6",
            "gridcolor": "white",
            "gridwidth": 2,
            "linecolor": "white",
            "showbackground": true,
            "ticks": "",
            "zerolinecolor": "white"
           },
           "zaxis": {
            "backgroundcolor": "#E5ECF6",
            "gridcolor": "white",
            "gridwidth": 2,
            "linecolor": "white",
            "showbackground": true,
            "ticks": "",
            "zerolinecolor": "white"
           }
          },
          "shapedefaults": {
           "line": {
            "color": "#2a3f5f"
           }
          },
          "ternary": {
           "aaxis": {
            "gridcolor": "white",
            "linecolor": "white",
            "ticks": ""
           },
           "baxis": {
            "gridcolor": "white",
            "linecolor": "white",
            "ticks": ""
           },
           "bgcolor": "#E5ECF6",
           "caxis": {
            "gridcolor": "white",
            "linecolor": "white",
            "ticks": ""
           }
          },
          "title": {
           "x": 0.05
          },
          "xaxis": {
           "automargin": true,
           "gridcolor": "white",
           "linecolor": "white",
           "ticks": "",
           "title": {
            "standoff": 15
           },
           "zerolinecolor": "white",
           "zerolinewidth": 2
          },
          "yaxis": {
           "automargin": true,
           "gridcolor": "white",
           "linecolor": "white",
           "ticks": "",
           "title": {
            "standoff": 15
           },
           "zerolinecolor": "white",
           "zerolinewidth": 2
          }
         }
        },
        "title": {
         "text": "IP - BDR & Invest. Ext.: Investment Percentage and Liquid Patrimony"
        },
        "xaxis": {
         "anchor": "y",
         "categoryarray": [
          "10/2022",
          "10/2022",
          "10/2022",
          "10/2022",
          "10/2022",
          "10/2022",
          "10/2022",
          "10/2022",
          "10/2022",
          "10/2022",
          "10/2022",
          "10/2022",
          "10/2022",
          "11/2022",
          "11/2022",
          "11/2022",
          "11/2022",
          "11/2022",
          "11/2022",
          "11/2022",
          "11/2022",
          "11/2022",
          "11/2022",
          "11/2022",
          "11/2022",
          "11/2022",
          "12/2022",
          "12/2022",
          "12/2022",
          "12/2022",
          "12/2022",
          "12/2022",
          "12/2022",
          "12/2022",
          "12/2022",
          "12/2022",
          "12/2022",
          "12/2022",
          "12/2022",
          "01/2023",
          "01/2023",
          "01/2023",
          "01/2023",
          "01/2023",
          "01/2023",
          "01/2023",
          "01/2023",
          "01/2023",
          "01/2023",
          "01/2023",
          "01/2023",
          "01/2023",
          "02/2023",
          "02/2023",
          "02/2023",
          "02/2023",
          "02/2023",
          "02/2023",
          "02/2023",
          "02/2023",
          "02/2023",
          "02/2023",
          "02/2023",
          "02/2023",
          "02/2023",
          "03/2023",
          "03/2023",
          "03/2023",
          "03/2023",
          "03/2023",
          "03/2023",
          "03/2023",
          "03/2023",
          "03/2023",
          "03/2023",
          "03/2023",
          "03/2023",
          "03/2023",
          "04/2023",
          "04/2023",
          "04/2023",
          "04/2023",
          "04/2023",
          "04/2023",
          "04/2023",
          "04/2023",
          "04/2023",
          "04/2023",
          "04/2023",
          "04/2023",
          "05/2023",
          "05/2023",
          "05/2023",
          "05/2023",
          "05/2023",
          "05/2023",
          "05/2023",
          "05/2023",
          "05/2023",
          "05/2023",
          "05/2023",
          "05/2023",
          "05/2023",
          "05/2023",
          "06/2023",
          "06/2023",
          "06/2023",
          "06/2023",
          "06/2023",
          "06/2023",
          "06/2023",
          "06/2023",
          "06/2023",
          "06/2023",
          "06/2023",
          "06/2023",
          "06/2023",
          "06/2023",
          "07/2023",
          "07/2023",
          "07/2023",
          "07/2023",
          "07/2023",
          "07/2023",
          "07/2023",
          "07/2023",
          "07/2023",
          "07/2023",
          "07/2023",
          "07/2023",
          "08/2023",
          "08/2023",
          "08/2023",
          "08/2023",
          "08/2023",
          "08/2023",
          "08/2023",
          "08/2023",
          "08/2023",
          "08/2023",
          "08/2023",
          "09/2023",
          "09/2023",
          "09/2023",
          "09/2023",
          "09/2023",
          "09/2023",
          "09/2023",
          "09/2023",
          "09/2023",
          "09/2023",
          "09/2023",
          "09/2023",
          "10/2023",
          "10/2023",
          "10/2023",
          "10/2023",
          "10/2023",
          "10/2023",
          "10/2023",
          "10/2023",
          "10/2023",
          "10/2023",
          "10/2023",
          "10/2023",
          "11/2023",
          "11/2023",
          "11/2023",
          "11/2023",
          "11/2023",
          "11/2023",
          "11/2023",
          "11/2023",
          "11/2023",
          "12/2023",
          "12/2023",
          "12/2023",
          "12/2023",
          "12/2023",
          "12/2023",
          "12/2023",
          "12/2023",
          "12/2023",
          "12/2023",
          "01/2024",
          "01/2024",
          "01/2024",
          "01/2024",
          "01/2024",
          "01/2024",
          "01/2024",
          "01/2024",
          "01/2024",
          "01/2024",
          "02/2024",
          "02/2024",
          "02/2024",
          "02/2024",
          "02/2024",
          "02/2024",
          "02/2024",
          "02/2024",
          "02/2024",
          "02/2024",
          "03/2024",
          "03/2024",
          "03/2024",
          "03/2024",
          "03/2024",
          "03/2024",
          "03/2024",
          "03/2024",
          "03/2024",
          "03/2024",
          "04/2024",
          "04/2024",
          "04/2024",
          "04/2024",
          "04/2024",
          "04/2024",
          "04/2024",
          "04/2024",
          "04/2024",
          "04/2024",
          "05/2024",
          "05/2024",
          "05/2024",
          "05/2024",
          "05/2024",
          "05/2024",
          "05/2024",
          "05/2024",
          "05/2024",
          "05/2024",
          "06/2024",
          "06/2024",
          "06/2024",
          "06/2024",
          "06/2024",
          "06/2024",
          "06/2024",
          "06/2024",
          "06/2024",
          "07/2024",
          "07/2024",
          "07/2024",
          "07/2024",
          "07/2024",
          "07/2024",
          "07/2024",
          "07/2024",
          "07/2024",
          "08/2024",
          "08/2024",
          "08/2024",
          "08/2024",
          "08/2024",
          "08/2024",
          "08/2024",
          "08/2024",
          "08/2024",
          "09/2024",
          "09/2024",
          "09/2024",
          "09/2024",
          "09/2024",
          "09/2024",
          "09/2024",
          "09/2024",
          "09/2024",
          "09/2024"
         ],
         "categoryorder": "array",
         "domain": [
          0,
          1
         ],
         "title": {
          "text": "Month"
         }
        },
        "yaxis": {
         "anchor": "x",
         "domain": [
          0,
          1
         ],
         "title": {
          "text": "Percentage (%)"
         }
        },
        "yaxis2": {
         "anchor": "x",
         "overlaying": "y",
         "side": "right",
         "tickfont": {
          "color": "black"
         },
         "title": {
          "font": {
           "color": "black"
          },
          "text": "Liquid Patrimony (R$)"
         }
        }
       }
      }
     },
     "metadata": {},
     "output_type": "display_data"
    }
   ],
   "source": [
    "def graph_percentage_and_patrimony(df, fund_name=None, investment_type=None):\n",
    "    \"\"\"\n",
    "    Generate a dual-axis graph showing investment percentages as bars (left axis) \n",
    "    and liquid patrimony as a line (right axis).\n",
    "    \n",
    "    Parameters:\n",
    "    -----------\n",
    "    df : polars.DataFrame\n",
    "        The dataframe containing the investment data\n",
    "    fund_name : str or None, default=None\n",
    "        The name of the fund to analyze (None for all funds)\n",
    "    investment_type : str or None, default=None\n",
    "        Filter for specific investment type (\"BDR\", \"Invest. Ext.\", or None for both)\n",
    "    \"\"\"\n",
    "    # Apply filters\n",
    "    filtered_df = df.clone()\n",
    "    \n",
    "    if fund_name is not None:\n",
    "        filtered_df = filtered_df.filter(pl.col(\"funds\") == fund_name)\n",
    "        title_prefix = fund_name\n",
    "    else:\n",
    "        title_prefix = \"All Funds\"\n",
    "    \n",
    "    if investment_type == \"BDR\":\n",
    "        filtered_df = filtered_df.filter(pl.col(\"investment_type\") == \"BDR\")\n",
    "        type_title = \"BDR\"\n",
    "    elif investment_type == \"Invest. Ext.\":\n",
    "        filtered_df = filtered_df.filter(pl.col(\"investment_type\") == \"Invest. Ext.\")\n",
    "        type_title = \"Invest. Ext.\"\n",
    "    else:\n",
    "        type_title = \"BDR & Invest. Ext.\"\n",
    "    \n",
    "    # Group by month, ticker for percentages\n",
    "    monthly_ticker_pct = filtered_df.group_by([\"month\", \"ticker\", \"date_for_sort\"]).agg(\n",
    "        pl.sum(\"percentage\").alias(\"total_percentage\")\n",
    "    )\n",
    "    \n",
    "    # Group by month for liquid patrimony\n",
    "    monthly_patrimony = filtered_df.group_by([\"month\", \"date_for_sort\"]).agg(\n",
    "        pl.mean(\"liquid_patrimony\").alias(\"avg_patrimony\")\n",
    "    ).sort(\"date_for_sort\")\n",
    "    \n",
    "    # Convert to pandas\n",
    "    plot_df_pct = monthly_ticker_pct.to_pandas()\n",
    "    plot_df_patrimony = monthly_patrimony.to_pandas()\n",
    "    \n",
    "    # Check if data exists\n",
    "    if plot_df_pct.empty:\n",
    "        print(f\"No data found for: {title_prefix} with investment type: {type_title}\")\n",
    "        return None\n",
    "    \n",
    "    # Sort by date\n",
    "    plot_df_pct = plot_df_pct.sort_values('date_for_sort')\n",
    "    \n",
    "    # Calculate the total percentage per ticker across all months\n",
    "    ticker_totals = plot_df_pct.groupby('ticker')['total_percentage'].sum().sort_values(ascending=False)\n",
    "    ordered_tickers = ticker_totals.index.tolist()\n",
    "    \n",
    "    # Create the bar chart for percentages\n",
    "    fig = px.bar(\n",
    "        plot_df_pct,\n",
    "        x=\"month\",\n",
    "        y=\"total_percentage\",\n",
    "        color=\"ticker\",\n",
    "        title=f'{title_prefix} - {type_title}: Investment Percentage and Liquid Patrimony',\n",
    "        labels={\n",
    "            \"month\": \"Month\",\n",
    "            \"total_percentage\": \"Percentage (%)\",\n",
    "            \"ticker\": \"Ticker\"\n",
    "        },\n",
    "        category_orders={\n",
    "            \"month\": plot_df_pct[\"month\"].tolist(),\n",
    "            \"ticker\": ordered_tickers,\n",
    "        },\n",
    "        height=600,\n",
    "    )\n",
    "    \n",
    "    # Add the line chart for liquid patrimony\n",
    "    # Instead of adding traces one by one, add a single trace with all points\n",
    "    fig.add_trace(\n",
    "        dict(\n",
    "            type='scatter',\n",
    "            x=plot_df_patrimony['month'],\n",
    "            y=plot_df_patrimony['avg_patrimony'],\n",
    "            name='Liquid Patrimony',\n",
    "            mode='lines+markers',\n",
    "            line=dict(color='black', width=3),\n",
    "            marker=dict(size=8, color='black'),\n",
    "            yaxis='y2'  # Use secondary y-axis\n",
    "        )\n",
    "    )\n",
    "    \n",
    "    # Set up the secondary y-axis for liquid patrimony\n",
    "    fig.update_layout(\n",
    "        xaxis_title=\"Month\",\n",
    "        yaxis_title=\"Percentage (%)\",\n",
    "        yaxis2=dict(\n",
    "            title=\"Liquid Patrimony (R$)\",\n",
    "            titlefont=dict(color=\"black\"),\n",
    "            tickfont=dict(color=\"black\"),\n",
    "            anchor=\"x\",\n",
    "            overlaying=\"y\",\n",
    "            side=\"right\"\n",
    "        ),\n",
    "        legend_title=\"Ticker\",\n",
    "        barmode='relative',\n",
    "        hovermode=\"closest\"\n",
    "    )\n",
    "    \n",
    "    # Format hover info\n",
    "    fig.update_traces(\n",
    "        selector=dict(type='bar'),\n",
    "        hovertemplate=\"<b>%{x}</b><br>\" +\n",
    "                      \"Ticker: %{fullData.name}<br>\" +\n",
    "                      \"Percentage: %{y:.2f}%<br>\"\n",
    "    )\n",
    "    \n",
    "    # Add hover template for the line\n",
    "    fig.update_traces(\n",
    "        selector=dict(name='Liquid Patrimony'),\n",
    "        hovertemplate=\"<b>%{x}</b><br>\" +\n",
    "                      \"Liquid Patrimony: R$ %{y:,.2f}<br>\"\n",
    "    )\n",
    "    \n",
    "    # Show the plot\n",
    "    fig.show()\n",
    "    \n",
    "    return None\n",
    "\n",
    "# Example usage:\n",
    "# For a specific fund\n",
    "graph_percentage_and_patrimony(df_peers, \"IP\")"
   ]
  },
  {
   "cell_type": "code",
   "execution_count": 57,
   "metadata": {},
   "outputs": [
    {
     "data": {
      "application/vnd.plotly.v1+json": {
       "config": {
        "plotlyServerURL": "https://plot.ly"
       },
       "data": [
        {
         "alignmentgroup": "True",
         "hovertemplate": "<b>%{x}</b><br>Ticker: %{fullData.name}<br>Percentage: %{y:.2f}%<br>",
         "legendgroup": "Fundo",
         "marker": {
          "color": "#636efa",
          "pattern": {
           "shape": ""
          }
         },
         "name": "Fundo",
         "offsetgroup": "Fundo",
         "orientation": "v",
         "showlegend": true,
         "textposition": "auto",
         "type": "bar",
         "x": [
          "10/2022",
          "11/2022",
          "12/2022",
          "01/2023",
          "02/2023",
          "03/2023",
          "04/2023",
          "05/2023",
          "06/2023",
          "07/2023",
          "08/2023",
          "09/2023",
          "10/2023",
          "11/2023",
          "12/2023",
          "01/2024",
          "02/2024",
          "03/2024",
          "04/2024",
          "05/2024",
          "06/2024",
          "07/2024",
          "08/2024",
          "09/2024"
         ],
         "xaxis": "x",
         "y": [
          0.13867,
          0.14098,
          0.14581,
          0.15574000000000002,
          0.15842,
          0.12068,
          0.11871999999999999,
          0.12755,
          0.12933,
          0.13565,
          0.17502,
          0.16291,
          0.16999,
          0.19949999999999998,
          0.2009,
          0.22002999999999998,
          0.24473999999999999,
          0.23828000000000002,
          0.21828999999999998,
          0.24507,
          0.23067,
          0.20281000000000002,
          0.21335,
          0.22904
         ],
         "yaxis": "y"
        },
        {
         "alignmentgroup": "True",
         "hovertemplate": "<b>%{x}</b><br>Ticker: %{fullData.name}<br>Percentage: %{y:.2f}%<br>",
         "legendgroup": "GOOGL",
         "marker": {
          "color": "#EF553B",
          "pattern": {
           "shape": ""
          }
         },
         "name": "GOOGL",
         "offsetgroup": "GOOGL",
         "orientation": "v",
         "showlegend": true,
         "textposition": "auto",
         "type": "bar",
         "x": [
          "10/2022",
          "11/2022",
          "12/2022",
          "01/2023",
          "02/2023",
          "03/2023",
          "04/2023",
          "05/2023",
          "06/2023",
          "07/2023",
          "08/2023",
          "09/2023",
          "10/2023",
          "11/2023",
          "12/2023",
          "01/2024",
          "02/2024",
          "03/2024",
          "04/2024",
          "05/2024",
          "06/2024",
          "07/2024",
          "08/2024",
          "09/2024"
         ],
         "xaxis": "x",
         "y": [
          0.04783,
          0.052489999999999995,
          0.04832,
          0.06071,
          0.05137,
          0.07246,
          0.06737,
          0.08202000000000001,
          0.06661,
          0.07601000000000001,
          0.08148,
          0.09077,
          0.08539000000000001,
          0.08158,
          0.08226,
          0.08802,
          0.08965000000000001,
          0.09920000000000001,
          0.11610999999999999,
          0.1084,
          0.11555,
          0.09627000000000001,
          0.09280000000000001,
          0.07596
         ],
         "yaxis": "y"
        },
        {
         "alignmentgroup": "True",
         "hovertemplate": "<b>%{x}</b><br>Ticker: %{fullData.name}<br>Percentage: %{y:.2f}%<br>",
         "legendgroup": "BERK",
         "marker": {
          "color": "#00cc96",
          "pattern": {
           "shape": ""
          }
         },
         "name": "BERK",
         "offsetgroup": "BERK",
         "orientation": "v",
         "showlegend": true,
         "textposition": "auto",
         "type": "bar",
         "x": [
          "10/2022",
          "11/2022",
          "12/2022",
          "01/2023",
          "02/2023",
          "03/2023",
          "04/2023",
          "05/2023",
          "06/2023",
          "07/2023",
          "08/2023",
          "09/2023",
          "10/2023",
          "11/2023",
          "12/2023",
          "01/2024",
          "02/2024",
          "03/2024",
          "04/2024",
          "05/2024"
         ],
         "xaxis": "x",
         "y": [
          0.06682,
          0.07397000000000001,
          0.051430000000000003,
          0.04021,
          0.04353,
          0.10496,
          0.1078,
          0.09489,
          0.07994,
          0.06441,
          0.0636,
          0.05636000000000001,
          0.0573,
          0.05376,
          0.05077,
          0.04178,
          0.03318,
          0.020890000000000002,
          0.02064,
          0.01219
         ],
         "yaxis": "y"
        },
        {
         "alignmentgroup": "True",
         "hovertemplate": "<b>%{x}</b><br>Ticker: %{fullData.name}<br>Percentage: %{y:.2f}%<br>",
         "legendgroup": "MA",
         "marker": {
          "color": "#ab63fa",
          "pattern": {
           "shape": ""
          }
         },
         "name": "MA",
         "offsetgroup": "MA",
         "orientation": "v",
         "showlegend": true,
         "textposition": "auto",
         "type": "bar",
         "x": [
          "10/2022",
          "11/2022",
          "12/2022",
          "01/2023",
          "02/2023",
          "03/2023",
          "04/2023",
          "05/2023",
          "06/2023",
          "07/2023",
          "08/2023",
          "09/2023",
          "10/2023",
          "11/2023",
          "12/2023",
          "01/2024",
          "02/2024",
          "03/2024",
          "04/2024",
          "05/2024",
          "06/2024",
          "07/2024",
          "08/2024",
          "09/2024"
         ],
         "xaxis": "x",
         "y": [
          0.02727,
          0.03042,
          0.03128,
          0.03929,
          0.04144,
          0.04158,
          0.04193,
          0.03553,
          0.03426,
          0.03298,
          0.03607,
          0.036109999999999996,
          0.03589,
          0.0353,
          0.03481,
          0.03691,
          0.03796,
          0.03909,
          0.039740000000000004,
          0.039830000000000004,
          0.04152,
          0.04465,
          0.04475,
          0.04237
         ],
         "yaxis": "y"
        },
        {
         "alignmentgroup": "True",
         "hovertemplate": "<b>%{x}</b><br>Ticker: %{fullData.name}<br>Percentage: %{y:.2f}%<br>",
         "legendgroup": "TMO",
         "marker": {
          "color": "#FFA15A",
          "pattern": {
           "shape": ""
          }
         },
         "name": "TMO",
         "offsetgroup": "TMO",
         "orientation": "v",
         "showlegend": true,
         "textposition": "auto",
         "type": "bar",
         "x": [
          "10/2022",
          "11/2022",
          "12/2022",
          "01/2023",
          "02/2023",
          "03/2023",
          "04/2023",
          "05/2023",
          "06/2023",
          "07/2023",
          "08/2023",
          "09/2023",
          "10/2023",
          "11/2023",
          "12/2023",
          "01/2024",
          "02/2024",
          "03/2024",
          "04/2024",
          "05/2024",
          "06/2024",
          "07/2024"
         ],
         "xaxis": "x",
         "y": [
          0.04627,
          0.05181,
          0.04469,
          0.0385,
          0.04042,
          0.04217,
          0.03916,
          0.04051999999999999,
          0.03722,
          0.03757,
          0.03682,
          0.03491,
          0.03208,
          0.03199,
          0.03276,
          0.03349,
          0.03448,
          0.03266,
          0.03151,
          0.02022,
          0.02015,
          0.02186
         ],
         "yaxis": "y"
        },
        {
         "alignmentgroup": "True",
         "hovertemplate": "<b>%{x}</b><br>Ticker: %{fullData.name}<br>Percentage: %{y:.2f}%<br>",
         "legendgroup": "TDG",
         "marker": {
          "color": "#19d3f3",
          "pattern": {
           "shape": ""
          }
         },
         "name": "TDG",
         "offsetgroup": "TDG",
         "orientation": "v",
         "showlegend": true,
         "textposition": "auto",
         "type": "bar",
         "x": [
          "10/2022",
          "11/2022",
          "12/2022",
          "01/2023",
          "02/2023",
          "03/2023",
          "04/2023",
          "05/2023",
          "06/2023",
          "07/2023",
          "08/2023",
          "09/2023",
          "10/2023",
          "11/2023",
          "12/2023",
          "01/2024",
          "02/2024",
          "03/2024",
          "04/2024",
          "05/2024",
          "06/2024",
          "07/2024",
          "08/2024",
          "09/2024"
         ],
         "xaxis": "x",
         "y": [
          0.037739999999999996,
          0.042319999999999997,
          0.04467,
          0.04739,
          0.049199999999999994,
          0.023030000000000002,
          0.02306,
          0.023280000000000002,
          0.02409,
          0.02327,
          0.02442,
          0.02378,
          0.02442,
          0.0254,
          0.02553,
          0.02776,
          0.029109999999999997,
          0.03091,
          0.03399,
          0.036989999999999995,
          0.037180000000000005,
          0.04004,
          0.04086,
          0.04061
         ],
         "yaxis": "y"
        },
        {
         "alignmentgroup": "True",
         "hovertemplate": "<b>%{x}</b><br>Ticker: %{fullData.name}<br>Percentage: %{y:.2f}%<br>",
         "legendgroup": "NFLX",
         "marker": {
          "color": "#FF6692",
          "pattern": {
           "shape": ""
          }
         },
         "name": "NFLX",
         "offsetgroup": "NFLX",
         "orientation": "v",
         "showlegend": true,
         "textposition": "auto",
         "type": "bar",
         "x": [
          "10/2022",
          "11/2022",
          "12/2022",
          "01/2023",
          "02/2023",
          "03/2023",
          "04/2023",
          "05/2023",
          "06/2023",
          "07/2023",
          "08/2023",
          "09/2023",
          "10/2023",
          "11/2023",
          "12/2023",
          "01/2024",
          "02/2024",
          "03/2024",
          "04/2024",
          "05/2024",
          "06/2024",
          "07/2024",
          "08/2024",
          "09/2024"
         ],
         "xaxis": "x",
         "y": [
          0.04038,
          0.03831,
          0.03895,
          0.03313,
          0.02821,
          0.029670000000000002,
          0.02261,
          0.02704,
          0.026969999999999997,
          0.0258,
          0.026639999999999997,
          0.024209999999999995,
          0.0276,
          0.028429999999999997,
          0.02793,
          0.03257,
          0.03388,
          0.03465,
          0.037059999999999996,
          0.03939,
          0.03632,
          0.03253,
          0.02964,
          0.02366
         ],
         "yaxis": "y"
        },
        {
         "alignmentgroup": "True",
         "hovertemplate": "<b>%{x}</b><br>Ticker: %{fullData.name}<br>Percentage: %{y:.2f}%<br>",
         "legendgroup": "V",
         "marker": {
          "color": "#B6E880",
          "pattern": {
           "shape": ""
          }
         },
         "name": "V",
         "offsetgroup": "V",
         "orientation": "v",
         "showlegend": true,
         "textposition": "auto",
         "type": "bar",
         "x": [
          "06/2023",
          "07/2023",
          "08/2023",
          "09/2023",
          "10/2023",
          "11/2023",
          "12/2023",
          "01/2024",
          "02/2024",
          "03/2024",
          "04/2024",
          "05/2024",
          "06/2024",
          "07/2024",
          "08/2024",
          "09/2024"
         ],
         "xaxis": "x",
         "y": [
          0.02064,
          0.01983,
          0.03008,
          0.02939,
          0.03142,
          0.03068,
          0.02977,
          0.03146,
          0.03166,
          0.03174,
          0.03315,
          0.034,
          0.03461,
          0.03725,
          0.03726,
          0.03545
         ],
         "yaxis": "y"
        },
        {
         "alignmentgroup": "True",
         "hovertemplate": "<b>%{x}</b><br>Ticker: %{fullData.name}<br>Percentage: %{y:.2f}%<br>",
         "legendgroup": "LBRD",
         "marker": {
          "color": "#FF97FF",
          "pattern": {
           "shape": ""
          }
         },
         "name": "LBRD",
         "offsetgroup": "LBRD",
         "orientation": "v",
         "showlegend": true,
         "textposition": "auto",
         "type": "bar",
         "x": [
          "10/2022",
          "11/2022",
          "12/2022",
          "01/2023",
          "02/2023",
          "03/2023",
          "04/2023",
          "05/2023",
          "06/2023",
          "07/2023",
          "08/2023",
          "09/2023",
          "10/2023"
         ],
         "xaxis": "x",
         "y": [
          0.03074,
          0.03398000000000001,
          0.03006,
          0.03292,
          0.03513,
          0.03248,
          0.03252,
          0.02837,
          0.02746,
          0.02933,
          0.03217,
          0.03277,
          0.0298
         ],
         "yaxis": "y"
        },
        {
         "alignmentgroup": "True",
         "hovertemplate": "<b>%{x}</b><br>Ticker: %{fullData.name}<br>Percentage: %{y:.2f}%<br>",
         "legendgroup": "MSFT",
         "marker": {
          "color": "#FECB52",
          "pattern": {
           "shape": ""
          }
         },
         "name": "MSFT",
         "offsetgroup": "MSFT",
         "orientation": "v",
         "showlegend": true,
         "textposition": "auto",
         "type": "bar",
         "x": [
          "10/2022",
          "11/2022",
          "12/2022",
          "01/2023",
          "02/2023",
          "03/2023",
          "04/2023",
          "05/2023",
          "06/2023",
          "09/2024"
         ],
         "xaxis": "x",
         "y": [
          0.03965,
          0.044770000000000004,
          0.04378,
          0.04211,
          0.029560000000000003,
          0.030559999999999997,
          0.027179999999999996,
          0.02338,
          0.01021,
          0.00149
         ],
         "yaxis": "y"
        },
        {
         "alignmentgroup": "True",
         "hovertemplate": "<b>%{x}</b><br>Ticker: %{fullData.name}<br>Percentage: %{y:.2f}%<br>",
         "legendgroup": "XPBR",
         "marker": {
          "color": "#636efa",
          "pattern": {
           "shape": ""
          }
         },
         "name": "XPBR",
         "offsetgroup": "XPBR",
         "orientation": "v",
         "showlegend": true,
         "textposition": "auto",
         "type": "bar",
         "x": [
          "10/2022",
          "11/2022",
          "12/2022",
          "01/2023",
          "02/2023",
          "03/2023",
          "04/2023",
          "05/2023",
          "06/2023",
          "07/2023",
          "10/2023",
          "12/2023",
          "05/2024"
         ],
         "xaxis": "x",
         "y": [
          0.06856,
          0.03089,
          0.0448,
          0.033229999999999996,
          0.022770000000000002,
          0.0034000000000000002,
          0.01182,
          -0.004750000000000001,
          -0.00949,
          0.00304,
          0.00138,
          0.00004,
          0.02001
         ],
         "yaxis": "y"
        },
        {
         "alignmentgroup": "True",
         "hovertemplate": "<b>%{x}</b><br>Ticker: %{fullData.name}<br>Percentage: %{y:.2f}%<br>",
         "legendgroup": "ABNB",
         "marker": {
          "color": "#EF553B",
          "pattern": {
           "shape": ""
          }
         },
         "name": "ABNB",
         "offsetgroup": "ABNB",
         "orientation": "v",
         "showlegend": true,
         "textposition": "auto",
         "type": "bar",
         "x": [
          "09/2023",
          "10/2023",
          "11/2023",
          "12/2023",
          "01/2024",
          "02/2024",
          "03/2024",
          "04/2024",
          "05/2024",
          "06/2024",
          "07/2024",
          "08/2024",
          "09/2024"
         ],
         "xaxis": "x",
         "y": [
          0.00936,
          0.00844,
          0.008060000000000001,
          0.00831,
          0.01473,
          0.01566,
          0.01665,
          0.01737,
          0.02345,
          0.02592,
          0.02537,
          0.02051,
          0.0212
         ],
         "yaxis": "y"
        },
        {
         "alignmentgroup": "True",
         "hovertemplate": "<b>%{x}</b><br>Ticker: %{fullData.name}<br>Percentage: %{y:.2f}%<br>",
         "legendgroup": "AMZN",
         "marker": {
          "color": "#00cc96",
          "pattern": {
           "shape": ""
          }
         },
         "name": "AMZN",
         "offsetgroup": "AMZN",
         "orientation": "v",
         "showlegend": true,
         "textposition": "auto",
         "type": "bar",
         "x": [
          "10/2022",
          "11/2022",
          "12/2022",
          "01/2023",
          "02/2023",
          "03/2023",
          "05/2023",
          "08/2024",
          "09/2024"
         ],
         "xaxis": "x",
         "y": [
          0.03486,
          0.0299,
          0.02742,
          0.02682,
          0.02708,
          0.014369999999999999,
          0.005639999999999999,
          0.01543,
          0.0154
         ],
         "yaxis": "y"
        },
        {
         "alignmentgroup": "True",
         "hovertemplate": "<b>%{x}</b><br>Ticker: %{fullData.name}<br>Percentage: %{y:.2f}%<br>",
         "legendgroup": "SCHW",
         "marker": {
          "color": "#ab63fa",
          "pattern": {
           "shape": ""
          }
         },
         "name": "SCHW",
         "offsetgroup": "SCHW",
         "orientation": "v",
         "showlegend": true,
         "textposition": "auto",
         "type": "bar",
         "x": [
          "10/2022",
          "11/2022",
          "12/2022",
          "01/2023",
          "02/2023"
         ],
         "xaxis": "x",
         "y": [
          0.03823,
          0.02972,
          0.03159,
          0.03094,
          0.03441
         ],
         "yaxis": "y"
        },
        {
         "alignmentgroup": "True",
         "hovertemplate": "<b>%{x}</b><br>Ticker: %{fullData.name}<br>Percentage: %{y:.2f}%<br>",
         "legendgroup": "CHTR",
         "marker": {
          "color": "#FFA15A",
          "pattern": {
           "shape": ""
          }
         },
         "name": "CHTR",
         "offsetgroup": "CHTR",
         "orientation": "v",
         "showlegend": true,
         "textposition": "auto",
         "type": "bar",
         "x": [
          "10/2022",
          "11/2022",
          "12/2022",
          "01/2023",
          "02/2023",
          "03/2023",
          "04/2023",
          "05/2023",
          "06/2023",
          "07/2023",
          "08/2023",
          "09/2023",
          "10/2023"
         ],
         "xaxis": "x",
         "y": [
          0.009340000000000001,
          0.01022,
          0.00933,
          0.0152,
          0.01607,
          0.0106,
          0.00621,
          0.00548,
          0.00553,
          0.00586,
          0.00263,
          0.00275,
          0.00115
         ],
         "yaxis": "y"
        },
        {
         "alignmentgroup": "True",
         "hovertemplate": "<b>%{x}</b><br>Ticker: %{fullData.name}<br>Percentage: %{y:.2f}%<br>",
         "legendgroup": "DHER",
         "marker": {
          "color": "#19d3f3",
          "pattern": {
           "shape": ""
          }
         },
         "name": "DHER",
         "offsetgroup": "DHER",
         "orientation": "v",
         "showlegend": true,
         "textposition": "auto",
         "type": "bar",
         "x": [
          "05/2023",
          "06/2023",
          "07/2023",
          "08/2023",
          "09/2023",
          "01/2024",
          "02/2024",
          "03/2024",
          "04/2024"
         ],
         "xaxis": "x",
         "y": [
          0.01793,
          0.01678,
          0.01712,
          0.01756,
          0.01716,
          0.00313,
          0.00322,
          0.00322,
          0.00345
         ],
         "yaxis": "y"
        },
        {
         "alignmentgroup": "True",
         "hovertemplate": "<b>%{x}</b><br>Ticker: %{fullData.name}<br>Percentage: %{y:.2f}%<br>",
         "legendgroup": "META",
         "marker": {
          "color": "#FF6692",
          "pattern": {
           "shape": ""
          }
         },
         "name": "META",
         "offsetgroup": "META",
         "orientation": "v",
         "showlegend": true,
         "textposition": "auto",
         "type": "bar",
         "x": [
          "06/2024",
          "07/2024",
          "08/2024",
          "09/2024"
         ],
         "xaxis": "x",
         "y": [
          0.0071,
          0.02086,
          0.02202,
          0.03675
         ],
         "yaxis": "y"
        },
        {
         "alignmentgroup": "True",
         "hovertemplate": "<b>%{x}</b><br>Ticker: %{fullData.name}<br>Percentage: %{y:.2f}%<br>",
         "legendgroup": "OXY",
         "marker": {
          "color": "#B6E880",
          "pattern": {
           "shape": ""
          }
         },
         "name": "OXY",
         "offsetgroup": "OXY",
         "orientation": "v",
         "showlegend": true,
         "textposition": "auto",
         "type": "bar",
         "x": [
          "03/2023",
          "04/2023"
         ],
         "xaxis": "x",
         "y": [
          0.01076,
          0.01023
         ],
         "yaxis": "y"
        },
        {
         "alignmentgroup": "True",
         "hovertemplate": "<b>%{x}</b><br>Ticker: %{fullData.name}<br>Percentage: %{y:.2f}%<br>",
         "legendgroup": "ACN",
         "marker": {
          "color": "#FF97FF",
          "pattern": {
           "shape": ""
          }
         },
         "name": "ACN",
         "offsetgroup": "ACN",
         "orientation": "v",
         "showlegend": true,
         "textposition": "auto",
         "type": "bar",
         "x": [
          "05/2023",
          "06/2023"
         ],
         "xaxis": "x",
         "y": [
          0.005350000000000001,
          0.00483
         ],
         "yaxis": "y"
        },
        {
         "hovertemplate": "<b>%{x}</b><br>Rentability: %{y:.2f}%<br>",
         "line": {
          "color": "black",
          "width": 3
         },
         "marker": {
          "color": "black",
          "size": 8
         },
         "mode": "lines+markers",
         "name": "Rentability",
         "type": "scatter",
         "x": [
          "10/2022",
          "11/2022",
          "12/2022",
          "01/2023",
          "02/2023",
          "03/2023",
          "04/2023",
          "05/2023",
          "06/2023",
          "07/2023",
          "08/2023",
          "09/2023",
          "10/2023",
          "11/2023",
          "12/2023",
          "01/2024",
          "02/2024",
          "03/2024",
          "04/2024",
          "05/2024",
          "06/2024",
          "07/2024",
          "08/2024",
          "09/2024"
         ],
         "y": [
          5.450830313298405,
          -1.196160970279636,
          -3.2361185699759885,
          5.1072830478223095,
          -5.147652524745694,
          0.5590841469789387,
          3.5076363591771456,
          3.029949461468529,
          7.543891068193442,
          4.205797317862103,
          -0.1228886862516321,
          -2.6724976157449407,
          -3.693530275350332,
          11.316550961382331,
          4.864292848355301,
          1.77948209019001,
          3.3531729399763677,
          0.5387905555263471,
          -3.817566371228309,
          1.8777893358333348,
          0.8948671423979704,
          0.9348423531378991,
          4.081977381083424,
          0.6624163119365756
         ],
         "yaxis": "y2"
        }
       ],
       "layout": {
        "barmode": "relative",
        "height": 600,
        "hovermode": "closest",
        "legend": {
         "title": {
          "text": "Ticker"
         },
         "tracegroupgap": 0
        },
        "template": {
         "data": {
          "bar": [
           {
            "error_x": {
             "color": "#2a3f5f"
            },
            "error_y": {
             "color": "#2a3f5f"
            },
            "marker": {
             "line": {
              "color": "#E5ECF6",
              "width": 0.5
             },
             "pattern": {
              "fillmode": "overlay",
              "size": 10,
              "solidity": 0.2
             }
            },
            "type": "bar"
           }
          ],
          "barpolar": [
           {
            "marker": {
             "line": {
              "color": "#E5ECF6",
              "width": 0.5
             },
             "pattern": {
              "fillmode": "overlay",
              "size": 10,
              "solidity": 0.2
             }
            },
            "type": "barpolar"
           }
          ],
          "carpet": [
           {
            "aaxis": {
             "endlinecolor": "#2a3f5f",
             "gridcolor": "white",
             "linecolor": "white",
             "minorgridcolor": "white",
             "startlinecolor": "#2a3f5f"
            },
            "baxis": {
             "endlinecolor": "#2a3f5f",
             "gridcolor": "white",
             "linecolor": "white",
             "minorgridcolor": "white",
             "startlinecolor": "#2a3f5f"
            },
            "type": "carpet"
           }
          ],
          "choropleth": [
           {
            "colorbar": {
             "outlinewidth": 0,
             "ticks": ""
            },
            "type": "choropleth"
           }
          ],
          "contour": [
           {
            "colorbar": {
             "outlinewidth": 0,
             "ticks": ""
            },
            "colorscale": [
             [
              0,
              "#0d0887"
             ],
             [
              0.1111111111111111,
              "#46039f"
             ],
             [
              0.2222222222222222,
              "#7201a8"
             ],
             [
              0.3333333333333333,
              "#9c179e"
             ],
             [
              0.4444444444444444,
              "#bd3786"
             ],
             [
              0.5555555555555556,
              "#d8576b"
             ],
             [
              0.6666666666666666,
              "#ed7953"
             ],
             [
              0.7777777777777778,
              "#fb9f3a"
             ],
             [
              0.8888888888888888,
              "#fdca26"
             ],
             [
              1,
              "#f0f921"
             ]
            ],
            "type": "contour"
           }
          ],
          "contourcarpet": [
           {
            "colorbar": {
             "outlinewidth": 0,
             "ticks": ""
            },
            "type": "contourcarpet"
           }
          ],
          "heatmap": [
           {
            "colorbar": {
             "outlinewidth": 0,
             "ticks": ""
            },
            "colorscale": [
             [
              0,
              "#0d0887"
             ],
             [
              0.1111111111111111,
              "#46039f"
             ],
             [
              0.2222222222222222,
              "#7201a8"
             ],
             [
              0.3333333333333333,
              "#9c179e"
             ],
             [
              0.4444444444444444,
              "#bd3786"
             ],
             [
              0.5555555555555556,
              "#d8576b"
             ],
             [
              0.6666666666666666,
              "#ed7953"
             ],
             [
              0.7777777777777778,
              "#fb9f3a"
             ],
             [
              0.8888888888888888,
              "#fdca26"
             ],
             [
              1,
              "#f0f921"
             ]
            ],
            "type": "heatmap"
           }
          ],
          "heatmapgl": [
           {
            "colorbar": {
             "outlinewidth": 0,
             "ticks": ""
            },
            "colorscale": [
             [
              0,
              "#0d0887"
             ],
             [
              0.1111111111111111,
              "#46039f"
             ],
             [
              0.2222222222222222,
              "#7201a8"
             ],
             [
              0.3333333333333333,
              "#9c179e"
             ],
             [
              0.4444444444444444,
              "#bd3786"
             ],
             [
              0.5555555555555556,
              "#d8576b"
             ],
             [
              0.6666666666666666,
              "#ed7953"
             ],
             [
              0.7777777777777778,
              "#fb9f3a"
             ],
             [
              0.8888888888888888,
              "#fdca26"
             ],
             [
              1,
              "#f0f921"
             ]
            ],
            "type": "heatmapgl"
           }
          ],
          "histogram": [
           {
            "marker": {
             "pattern": {
              "fillmode": "overlay",
              "size": 10,
              "solidity": 0.2
             }
            },
            "type": "histogram"
           }
          ],
          "histogram2d": [
           {
            "colorbar": {
             "outlinewidth": 0,
             "ticks": ""
            },
            "colorscale": [
             [
              0,
              "#0d0887"
             ],
             [
              0.1111111111111111,
              "#46039f"
             ],
             [
              0.2222222222222222,
              "#7201a8"
             ],
             [
              0.3333333333333333,
              "#9c179e"
             ],
             [
              0.4444444444444444,
              "#bd3786"
             ],
             [
              0.5555555555555556,
              "#d8576b"
             ],
             [
              0.6666666666666666,
              "#ed7953"
             ],
             [
              0.7777777777777778,
              "#fb9f3a"
             ],
             [
              0.8888888888888888,
              "#fdca26"
             ],
             [
              1,
              "#f0f921"
             ]
            ],
            "type": "histogram2d"
           }
          ],
          "histogram2dcontour": [
           {
            "colorbar": {
             "outlinewidth": 0,
             "ticks": ""
            },
            "colorscale": [
             [
              0,
              "#0d0887"
             ],
             [
              0.1111111111111111,
              "#46039f"
             ],
             [
              0.2222222222222222,
              "#7201a8"
             ],
             [
              0.3333333333333333,
              "#9c179e"
             ],
             [
              0.4444444444444444,
              "#bd3786"
             ],
             [
              0.5555555555555556,
              "#d8576b"
             ],
             [
              0.6666666666666666,
              "#ed7953"
             ],
             [
              0.7777777777777778,
              "#fb9f3a"
             ],
             [
              0.8888888888888888,
              "#fdca26"
             ],
             [
              1,
              "#f0f921"
             ]
            ],
            "type": "histogram2dcontour"
           }
          ],
          "mesh3d": [
           {
            "colorbar": {
             "outlinewidth": 0,
             "ticks": ""
            },
            "type": "mesh3d"
           }
          ],
          "parcoords": [
           {
            "line": {
             "colorbar": {
              "outlinewidth": 0,
              "ticks": ""
             }
            },
            "type": "parcoords"
           }
          ],
          "pie": [
           {
            "automargin": true,
            "type": "pie"
           }
          ],
          "scatter": [
           {
            "fillpattern": {
             "fillmode": "overlay",
             "size": 10,
             "solidity": 0.2
            },
            "type": "scatter"
           }
          ],
          "scatter3d": [
           {
            "line": {
             "colorbar": {
              "outlinewidth": 0,
              "ticks": ""
             }
            },
            "marker": {
             "colorbar": {
              "outlinewidth": 0,
              "ticks": ""
             }
            },
            "type": "scatter3d"
           }
          ],
          "scattercarpet": [
           {
            "marker": {
             "colorbar": {
              "outlinewidth": 0,
              "ticks": ""
             }
            },
            "type": "scattercarpet"
           }
          ],
          "scattergeo": [
           {
            "marker": {
             "colorbar": {
              "outlinewidth": 0,
              "ticks": ""
             }
            },
            "type": "scattergeo"
           }
          ],
          "scattergl": [
           {
            "marker": {
             "colorbar": {
              "outlinewidth": 0,
              "ticks": ""
             }
            },
            "type": "scattergl"
           }
          ],
          "scattermapbox": [
           {
            "marker": {
             "colorbar": {
              "outlinewidth": 0,
              "ticks": ""
             }
            },
            "type": "scattermapbox"
           }
          ],
          "scatterpolar": [
           {
            "marker": {
             "colorbar": {
              "outlinewidth": 0,
              "ticks": ""
             }
            },
            "type": "scatterpolar"
           }
          ],
          "scatterpolargl": [
           {
            "marker": {
             "colorbar": {
              "outlinewidth": 0,
              "ticks": ""
             }
            },
            "type": "scatterpolargl"
           }
          ],
          "scatterternary": [
           {
            "marker": {
             "colorbar": {
              "outlinewidth": 0,
              "ticks": ""
             }
            },
            "type": "scatterternary"
           }
          ],
          "surface": [
           {
            "colorbar": {
             "outlinewidth": 0,
             "ticks": ""
            },
            "colorscale": [
             [
              0,
              "#0d0887"
             ],
             [
              0.1111111111111111,
              "#46039f"
             ],
             [
              0.2222222222222222,
              "#7201a8"
             ],
             [
              0.3333333333333333,
              "#9c179e"
             ],
             [
              0.4444444444444444,
              "#bd3786"
             ],
             [
              0.5555555555555556,
              "#d8576b"
             ],
             [
              0.6666666666666666,
              "#ed7953"
             ],
             [
              0.7777777777777778,
              "#fb9f3a"
             ],
             [
              0.8888888888888888,
              "#fdca26"
             ],
             [
              1,
              "#f0f921"
             ]
            ],
            "type": "surface"
           }
          ],
          "table": [
           {
            "cells": {
             "fill": {
              "color": "#EBF0F8"
             },
             "line": {
              "color": "white"
             }
            },
            "header": {
             "fill": {
              "color": "#C8D4E3"
             },
             "line": {
              "color": "white"
             }
            },
            "type": "table"
           }
          ]
         },
         "layout": {
          "annotationdefaults": {
           "arrowcolor": "#2a3f5f",
           "arrowhead": 0,
           "arrowwidth": 1
          },
          "autotypenumbers": "strict",
          "coloraxis": {
           "colorbar": {
            "outlinewidth": 0,
            "ticks": ""
           }
          },
          "colorscale": {
           "diverging": [
            [
             0,
             "#8e0152"
            ],
            [
             0.1,
             "#c51b7d"
            ],
            [
             0.2,
             "#de77ae"
            ],
            [
             0.3,
             "#f1b6da"
            ],
            [
             0.4,
             "#fde0ef"
            ],
            [
             0.5,
             "#f7f7f7"
            ],
            [
             0.6,
             "#e6f5d0"
            ],
            [
             0.7,
             "#b8e186"
            ],
            [
             0.8,
             "#7fbc41"
            ],
            [
             0.9,
             "#4d9221"
            ],
            [
             1,
             "#276419"
            ]
           ],
           "sequential": [
            [
             0,
             "#0d0887"
            ],
            [
             0.1111111111111111,
             "#46039f"
            ],
            [
             0.2222222222222222,
             "#7201a8"
            ],
            [
             0.3333333333333333,
             "#9c179e"
            ],
            [
             0.4444444444444444,
             "#bd3786"
            ],
            [
             0.5555555555555556,
             "#d8576b"
            ],
            [
             0.6666666666666666,
             "#ed7953"
            ],
            [
             0.7777777777777778,
             "#fb9f3a"
            ],
            [
             0.8888888888888888,
             "#fdca26"
            ],
            [
             1,
             "#f0f921"
            ]
           ],
           "sequentialminus": [
            [
             0,
             "#0d0887"
            ],
            [
             0.1111111111111111,
             "#46039f"
            ],
            [
             0.2222222222222222,
             "#7201a8"
            ],
            [
             0.3333333333333333,
             "#9c179e"
            ],
            [
             0.4444444444444444,
             "#bd3786"
            ],
            [
             0.5555555555555556,
             "#d8576b"
            ],
            [
             0.6666666666666666,
             "#ed7953"
            ],
            [
             0.7777777777777778,
             "#fb9f3a"
            ],
            [
             0.8888888888888888,
             "#fdca26"
            ],
            [
             1,
             "#f0f921"
            ]
           ]
          },
          "colorway": [
           "#636efa",
           "#EF553B",
           "#00cc96",
           "#ab63fa",
           "#FFA15A",
           "#19d3f3",
           "#FF6692",
           "#B6E880",
           "#FF97FF",
           "#FECB52"
          ],
          "font": {
           "color": "#2a3f5f"
          },
          "geo": {
           "bgcolor": "white",
           "lakecolor": "white",
           "landcolor": "#E5ECF6",
           "showlakes": true,
           "showland": true,
           "subunitcolor": "white"
          },
          "hoverlabel": {
           "align": "left"
          },
          "hovermode": "closest",
          "mapbox": {
           "style": "light"
          },
          "paper_bgcolor": "white",
          "plot_bgcolor": "#E5ECF6",
          "polar": {
           "angularaxis": {
            "gridcolor": "white",
            "linecolor": "white",
            "ticks": ""
           },
           "bgcolor": "#E5ECF6",
           "radialaxis": {
            "gridcolor": "white",
            "linecolor": "white",
            "ticks": ""
           }
          },
          "scene": {
           "xaxis": {
            "backgroundcolor": "#E5ECF6",
            "gridcolor": "white",
            "gridwidth": 2,
            "linecolor": "white",
            "showbackground": true,
            "ticks": "",
            "zerolinecolor": "white"
           },
           "yaxis": {
            "backgroundcolor": "#E5ECF6",
            "gridcolor": "white",
            "gridwidth": 2,
            "linecolor": "white",
            "showbackground": true,
            "ticks": "",
            "zerolinecolor": "white"
           },
           "zaxis": {
            "backgroundcolor": "#E5ECF6",
            "gridcolor": "white",
            "gridwidth": 2,
            "linecolor": "white",
            "showbackground": true,
            "ticks": "",
            "zerolinecolor": "white"
           }
          },
          "shapedefaults": {
           "line": {
            "color": "#2a3f5f"
           }
          },
          "ternary": {
           "aaxis": {
            "gridcolor": "white",
            "linecolor": "white",
            "ticks": ""
           },
           "baxis": {
            "gridcolor": "white",
            "linecolor": "white",
            "ticks": ""
           },
           "bgcolor": "#E5ECF6",
           "caxis": {
            "gridcolor": "white",
            "linecolor": "white",
            "ticks": ""
           }
          },
          "title": {
           "x": 0.05
          },
          "xaxis": {
           "automargin": true,
           "gridcolor": "white",
           "linecolor": "white",
           "ticks": "",
           "title": {
            "standoff": 15
           },
           "zerolinecolor": "white",
           "zerolinewidth": 2
          },
          "yaxis": {
           "automargin": true,
           "gridcolor": "white",
           "linecolor": "white",
           "ticks": "",
           "title": {
            "standoff": 15
           },
           "zerolinecolor": "white",
           "zerolinewidth": 2
          }
         }
        },
        "title": {
         "text": "IP - BDR & Invest. Ext.: Investment Percentage and Rentability"
        },
        "xaxis": {
         "anchor": "y",
         "categoryarray": [
          "10/2022",
          "10/2022",
          "10/2022",
          "10/2022",
          "10/2022",
          "10/2022",
          "10/2022",
          "10/2022",
          "10/2022",
          "10/2022",
          "10/2022",
          "10/2022",
          "10/2022",
          "11/2022",
          "11/2022",
          "11/2022",
          "11/2022",
          "11/2022",
          "11/2022",
          "11/2022",
          "11/2022",
          "11/2022",
          "11/2022",
          "11/2022",
          "11/2022",
          "11/2022",
          "12/2022",
          "12/2022",
          "12/2022",
          "12/2022",
          "12/2022",
          "12/2022",
          "12/2022",
          "12/2022",
          "12/2022",
          "12/2022",
          "12/2022",
          "12/2022",
          "12/2022",
          "01/2023",
          "01/2023",
          "01/2023",
          "01/2023",
          "01/2023",
          "01/2023",
          "01/2023",
          "01/2023",
          "01/2023",
          "01/2023",
          "01/2023",
          "01/2023",
          "01/2023",
          "02/2023",
          "02/2023",
          "02/2023",
          "02/2023",
          "02/2023",
          "02/2023",
          "02/2023",
          "02/2023",
          "02/2023",
          "02/2023",
          "02/2023",
          "02/2023",
          "02/2023",
          "03/2023",
          "03/2023",
          "03/2023",
          "03/2023",
          "03/2023",
          "03/2023",
          "03/2023",
          "03/2023",
          "03/2023",
          "03/2023",
          "03/2023",
          "03/2023",
          "03/2023",
          "04/2023",
          "04/2023",
          "04/2023",
          "04/2023",
          "04/2023",
          "04/2023",
          "04/2023",
          "04/2023",
          "04/2023",
          "04/2023",
          "04/2023",
          "04/2023",
          "05/2023",
          "05/2023",
          "05/2023",
          "05/2023",
          "05/2023",
          "05/2023",
          "05/2023",
          "05/2023",
          "05/2023",
          "05/2023",
          "05/2023",
          "05/2023",
          "05/2023",
          "05/2023",
          "06/2023",
          "06/2023",
          "06/2023",
          "06/2023",
          "06/2023",
          "06/2023",
          "06/2023",
          "06/2023",
          "06/2023",
          "06/2023",
          "06/2023",
          "06/2023",
          "06/2023",
          "06/2023",
          "07/2023",
          "07/2023",
          "07/2023",
          "07/2023",
          "07/2023",
          "07/2023",
          "07/2023",
          "07/2023",
          "07/2023",
          "07/2023",
          "07/2023",
          "07/2023",
          "08/2023",
          "08/2023",
          "08/2023",
          "08/2023",
          "08/2023",
          "08/2023",
          "08/2023",
          "08/2023",
          "08/2023",
          "08/2023",
          "08/2023",
          "09/2023",
          "09/2023",
          "09/2023",
          "09/2023",
          "09/2023",
          "09/2023",
          "09/2023",
          "09/2023",
          "09/2023",
          "09/2023",
          "09/2023",
          "09/2023",
          "10/2023",
          "10/2023",
          "10/2023",
          "10/2023",
          "10/2023",
          "10/2023",
          "10/2023",
          "10/2023",
          "10/2023",
          "10/2023",
          "10/2023",
          "10/2023",
          "11/2023",
          "11/2023",
          "11/2023",
          "11/2023",
          "11/2023",
          "11/2023",
          "11/2023",
          "11/2023",
          "11/2023",
          "12/2023",
          "12/2023",
          "12/2023",
          "12/2023",
          "12/2023",
          "12/2023",
          "12/2023",
          "12/2023",
          "12/2023",
          "12/2023",
          "01/2024",
          "01/2024",
          "01/2024",
          "01/2024",
          "01/2024",
          "01/2024",
          "01/2024",
          "01/2024",
          "01/2024",
          "01/2024",
          "02/2024",
          "02/2024",
          "02/2024",
          "02/2024",
          "02/2024",
          "02/2024",
          "02/2024",
          "02/2024",
          "02/2024",
          "02/2024",
          "03/2024",
          "03/2024",
          "03/2024",
          "03/2024",
          "03/2024",
          "03/2024",
          "03/2024",
          "03/2024",
          "03/2024",
          "03/2024",
          "04/2024",
          "04/2024",
          "04/2024",
          "04/2024",
          "04/2024",
          "04/2024",
          "04/2024",
          "04/2024",
          "04/2024",
          "04/2024",
          "05/2024",
          "05/2024",
          "05/2024",
          "05/2024",
          "05/2024",
          "05/2024",
          "05/2024",
          "05/2024",
          "05/2024",
          "05/2024",
          "06/2024",
          "06/2024",
          "06/2024",
          "06/2024",
          "06/2024",
          "06/2024",
          "06/2024",
          "06/2024",
          "06/2024",
          "07/2024",
          "07/2024",
          "07/2024",
          "07/2024",
          "07/2024",
          "07/2024",
          "07/2024",
          "07/2024",
          "07/2024",
          "08/2024",
          "08/2024",
          "08/2024",
          "08/2024",
          "08/2024",
          "08/2024",
          "08/2024",
          "08/2024",
          "08/2024",
          "09/2024",
          "09/2024",
          "09/2024",
          "09/2024",
          "09/2024",
          "09/2024",
          "09/2024",
          "09/2024",
          "09/2024",
          "09/2024"
         ],
         "categoryorder": "array",
         "domain": [
          0,
          1
         ],
         "title": {
          "text": "Month"
         }
        },
        "yaxis": {
         "anchor": "x",
         "domain": [
          0,
          1
         ],
         "title": {
          "text": "Percentage (%)"
         }
        },
        "yaxis2": {
         "anchor": "x",
         "overlaying": "y",
         "side": "right",
         "tickfont": {
          "color": "black"
         },
         "title": {
          "font": {
           "color": "black"
          },
          "text": "Rentability (%)"
         }
        }
       }
      }
     },
     "metadata": {},
     "output_type": "display_data"
    }
   ],
   "source": [
    "def graph_percentage_and_rentability(df, fund_name=None, investment_type=None):\n",
    "    \"\"\"\n",
    "    Generate a dual-axis graph showing investment percentages as bars (left axis) \n",
    "    and fund rentability as a line (right axis).\n",
    "    \n",
    "    Parameters:\n",
    "    -----------\n",
    "    df : polars.DataFrame\n",
    "        The dataframe containing the investment data\n",
    "    fund_name : str or None, default=None\n",
    "        The name of the fund to analyze (None for all funds)\n",
    "    investment_type : str or None, default=None\n",
    "        Filter for specific investment type (\"BDR\", \"Invest. Ext.\", or None for both)\n",
    "    \"\"\"\n",
    "    # Apply filters\n",
    "    filtered_df = df.clone()\n",
    "    \n",
    "    if fund_name is not None:\n",
    "        filtered_df = filtered_df.filter(pl.col(\"funds\") == fund_name)\n",
    "        title_prefix = fund_name\n",
    "    else:\n",
    "        title_prefix = \"All Funds\"\n",
    "    \n",
    "    if investment_type == \"BDR\":\n",
    "        filtered_df = filtered_df.filter(pl.col(\"investment_type\") == \"BDR\")\n",
    "        type_title = \"BDR\"\n",
    "    elif investment_type == \"Invest. Ext.\":\n",
    "        filtered_df = filtered_df.filter(pl.col(\"investment_type\") == \"Invest. Ext.\")\n",
    "        type_title = \"Invest. Ext.\"\n",
    "    else:\n",
    "        type_title = \"BDR & Invest. Ext.\"\n",
    "    \n",
    "    # Group by month, ticker for percentages\n",
    "    monthly_ticker_pct = filtered_df.group_by([\"month\", \"ticker\", \"date_for_sort\"]).agg(\n",
    "        pl.sum(\"percentage\").alias(\"total_percentage\")\n",
    "    )\n",
    "    \n",
    "    # Group by month for rentability\n",
    "    monthly_rentability = filtered_df.group_by([\"month\", \"date_for_sort\"]).agg(\n",
    "        (pl.mean(\"rentability\")*100).alias(\"avg_rentability\")\n",
    "    ).sort(\"date_for_sort\")\n",
    "    \n",
    "    # Convert to pandas\n",
    "    plot_df_pct = monthly_ticker_pct.to_pandas()\n",
    "    plot_df_rentability = monthly_rentability.to_pandas()\n",
    "    \n",
    "    # Check if data exists\n",
    "    if plot_df_pct.empty:\n",
    "        print(f\"No data found for: {title_prefix} with investment type: {type_title}\")\n",
    "        return None\n",
    "    \n",
    "    # Sort by date\n",
    "    plot_df_pct = plot_df_pct.sort_values('date_for_sort')\n",
    "    \n",
    "    # Calculate the total percentage per ticker across all months\n",
    "    ticker_totals = plot_df_pct.groupby('ticker')['total_percentage'].sum().sort_values(ascending=False)\n",
    "    ordered_tickers = ticker_totals.index.tolist()\n",
    "    \n",
    "    # Create the bar chart for percentages\n",
    "    fig = px.bar(\n",
    "        plot_df_pct,\n",
    "        x=\"month\",\n",
    "        y=\"total_percentage\",\n",
    "        color=\"ticker\",\n",
    "        title=f'{title_prefix} - {type_title}: Investment Percentage and Rentability',\n",
    "        labels={\n",
    "            \"month\": \"Month\",\n",
    "            \"total_percentage\": \"Percentage (%)\",\n",
    "            \"ticker\": \"Ticker\"\n",
    "        },\n",
    "        category_orders={\n",
    "            \"month\": plot_df_pct[\"month\"].tolist(),\n",
    "            \"ticker\": ordered_tickers,\n",
    "        },\n",
    "        height=600,\n",
    "    )\n",
    "    \n",
    "    # Add the line chart for rentability\n",
    "    fig.add_trace(\n",
    "        dict(\n",
    "            type='scatter',\n",
    "            x=plot_df_rentability['month'],\n",
    "            y=plot_df_rentability['avg_rentability'],\n",
    "            name='Rentability',\n",
    "            mode='lines+markers',\n",
    "            line=dict(color='black', width=3),\n",
    "            marker=dict(size=8, color='black'),\n",
    "            yaxis='y2'  # Use secondary y-axis\n",
    "        )\n",
    "    )\n",
    "    \n",
    "    # Set up the secondary y-axis for rentability\n",
    "    fig.update_layout(\n",
    "        xaxis_title=\"Month\",\n",
    "        yaxis_title=\"Percentage (%)\",\n",
    "        yaxis2=dict(\n",
    "            title=\"Rentability (%)\",\n",
    "            titlefont=dict(color=\"black\"),\n",
    "            tickfont=dict(color=\"black\"),\n",
    "            anchor=\"x\",\n",
    "            overlaying=\"y\",\n",
    "            side=\"right\"\n",
    "        ),\n",
    "        legend_title=\"Ticker\",\n",
    "        barmode='relative',\n",
    "        hovermode=\"closest\"\n",
    "    )\n",
    "    \n",
    "    # Format hover info\n",
    "    fig.update_traces(\n",
    "        selector=dict(type='bar'),\n",
    "        hovertemplate=\"<b>%{x}</b><br>\" +\n",
    "                      \"Ticker: %{fullData.name}<br>\" +\n",
    "                      \"Percentage: %{y:.2f}%<br>\"\n",
    "    )\n",
    "    \n",
    "    # Add hover template for the line\n",
    "    fig.update_traces(\n",
    "        selector=dict(name='Rentability'),\n",
    "        hovertemplate=\"<b>%{x}</b><br>\" +\n",
    "                      \"Rentability: %{y:.2f}%<br>\"\n",
    "    )\n",
    "    \n",
    "    # Show the plot\n",
    "    fig.show()\n",
    "    \n",
    "    return None\n",
    "\n",
    "# Example usage:\n",
    "# For a specific fund\n",
    "graph_percentage_and_rentability(df_peers, \"IP\")"
   ]
  },
  {
   "cell_type": "code",
   "execution_count": null,
   "metadata": {},
   "outputs": [
    {
     "name": "stdout",
     "output_type": "stream",
     "text": [
      "Analysis for Investment Type: BDR & Invest. Ext. (Excluding South America)\n",
      "Correlation between Average Investment Percentage and Average Rentability: 0.1828\n"
     ]
    },
    {
     "data": {
      "application/vnd.plotly.v1+json": {
       "config": {
        "plotlyServerURL": "https://plot.ly"
       },
       "data": [
        {
         "hovertemplate": "<b>%{hovertext}</b><br>Avg. Investment Pct: %{x:.2f}%<br>Avg. Rentability: %{y:.4f}%<extra></extra>",
         "hovertext": [
          "VENTOR",
          "ASTER",
          "CHARLES",
          "TRUXT",
          "SHARP",
          "TORK",
          "TENAX",
          "DYNAMO",
          "BRASIL CAPITAL 30",
          "LEBLON AÇÕES",
          "ATMOS",
          "IP",
          "KAPITALO",
          "CONSTELLATION",
          "SPX PATRIOT",
          "JGP",
          "BOGARI",
          "VELT",
          "OPPORTUNITY",
          "EQUITAS",
          "3 ILHAS",
          "RYO",
          "KIRON",
          "STK",
          "ABSOLUTE ENDURANCE",
          "STUDIO",
          "ABSOLUTO PARTNERS",
          "ENCORE",
          "NÚCLEO",
          "SQUADRA",
          "ORI CAPITAL",
          "VINLAND",
          "VERDE AM",
          "INDIE"
         ],
         "legendgroup": "",
         "marker": {
          "color": "#636efa",
          "symbol": "circle"
         },
         "mode": "markers",
         "name": "",
         "orientation": "v",
         "showlegend": false,
         "type": "scatter",
         "x": [
          0.08529833333333332,
          0.04350625,
          0.10921833333333335,
          0.19636538461538466,
          0.10903541666666666,
          0.1550945833333333,
          0.00042,
          0.14373208333333334,
          0.01537791666666667,
          0.15819208333333334,
          0.27212375,
          0.5287320833333332,
          0.16961541666666669,
          0.03975222222222222,
          0.07747,
          0.14792000000000002,
          0.0015828571428571428,
          0.01614,
          0.22281791666666664,
          0.043238,
          0.023218999999999997,
          -0.008056666666666667,
          0.03222,
          0.14901625000000002,
          0.03526708333333334,
          0.036842941176470585,
          0.13217833333333334,
          0.041374999999999995,
          0.10285375000000001,
          0.10282541666666667,
          0.026339523809523806,
          0.06334363636363637,
          0.0037119047619047626,
          0.013465
         ],
         "xaxis": "x",
         "y": [
          0.008408460514260621,
          0.012091977025436532,
          0.015637652001135344,
          0.001449618287424173,
          0.008394859907103425,
          0.011116449139456275,
          -0.029411640414919726,
          0.011218772455069095,
          0.009331547807766724,
          0.01474753009614054,
          0.01126017641687297,
          0.016592599425434958,
          0.01991346737581673,
          0.014468029414640753,
          0.05290477388102727,
          0.00539035857743634,
          -0.031001140793118505,
          0.008222024250143406,
          0.016582196649113232,
          0.05240346472882242,
          -0.011369086211909707,
          0.002943247249879155,
          0.03439716932056247,
          0.006657927279214836,
          0.01440521970390729,
          0.0002629442190824648,
          0.00904698758718779,
          0.007075315617463662,
          0.0005905509707183945,
          0.014062709304145424,
          0.006830892120948663,
          0.0036088331375109402,
          -0.002732764359219336,
          0.01880883072658145
         ],
         "yaxis": "y"
        },
        {
         "hovertemplate": "<b>%{hovertext}</b><br>Avg. Investment Pct: %{x:.2f}%<br>Avg. Rentability: %{y:.4f}%<extra></extra>",
         "legendgroup": "",
         "line": {
          "color": "red"
         },
         "marker": {
          "color": "#636efa",
          "symbol": "circle"
         },
         "mode": "lines",
         "name": "",
         "showlegend": false,
         "type": "scatter",
         "x": [
          -0.008056666666666667,
          0.00042,
          0.0015828571428571428,
          0.0037119047619047626,
          0.013465,
          0.01537791666666667,
          0.01614,
          0.023218999999999997,
          0.026339523809523806,
          0.03222,
          0.03526708333333334,
          0.036842941176470585,
          0.03975222222222222,
          0.041374999999999995,
          0.043238,
          0.04350625,
          0.06334363636363637,
          0.07747,
          0.08529833333333332,
          0.10282541666666667,
          0.10285375000000001,
          0.10903541666666666,
          0.10921833333333335,
          0.13217833333333334,
          0.14373208333333334,
          0.14792000000000002,
          0.14901625000000002,
          0.1550945833333333,
          0.15819208333333334,
          0.16961541666666669,
          0.19636538461538466,
          0.22281791666666664,
          0.27212375,
          0.5287320833333332
         ],
         "xaxis": "x",
         "y": [
          0.006817966326295829,
          0.007061740616863991,
          0.0070951823795496515,
          0.007156410111313612,
          0.00743689228266757,
          0.0074919044615900255,
          0.007513820661818553,
          0.007717400473411005,
          0.007807141347717068,
          0.007976253684901846,
          0.008063882537975232,
          0.0081092014873752,
          0.008192867384700191,
          0.008239535670369977,
          0.008293112332186157,
          0.008300826738805691,
          0.008871315703122086,
          0.009277565519138102,
          0.00950269486298369,
          0.010006743503012679,
          0.010007558320735773,
          0.010185332375733278,
          0.010190592743092669,
          0.010850882681525032,
          0.011183148573343973,
          0.011303585822385491,
          0.011335112078701103,
          0.011509914445532027,
          0.01159899319484798,
          0.011927508528617972,
          0.0126967913983883,
          0.013457520525545143,
          0.014875471120319665,
          0.02225508351656958
         ],
         "yaxis": "y"
        }
       ],
       "layout": {
        "height": 600,
        "legend": {
         "tracegroupgap": 0
        },
        "template": {
         "data": {
          "bar": [
           {
            "error_x": {
             "color": "#2a3f5f"
            },
            "error_y": {
             "color": "#2a3f5f"
            },
            "marker": {
             "line": {
              "color": "#E5ECF6",
              "width": 0.5
             },
             "pattern": {
              "fillmode": "overlay",
              "size": 10,
              "solidity": 0.2
             }
            },
            "type": "bar"
           }
          ],
          "barpolar": [
           {
            "marker": {
             "line": {
              "color": "#E5ECF6",
              "width": 0.5
             },
             "pattern": {
              "fillmode": "overlay",
              "size": 10,
              "solidity": 0.2
             }
            },
            "type": "barpolar"
           }
          ],
          "carpet": [
           {
            "aaxis": {
             "endlinecolor": "#2a3f5f",
             "gridcolor": "white",
             "linecolor": "white",
             "minorgridcolor": "white",
             "startlinecolor": "#2a3f5f"
            },
            "baxis": {
             "endlinecolor": "#2a3f5f",
             "gridcolor": "white",
             "linecolor": "white",
             "minorgridcolor": "white",
             "startlinecolor": "#2a3f5f"
            },
            "type": "carpet"
           }
          ],
          "choropleth": [
           {
            "colorbar": {
             "outlinewidth": 0,
             "ticks": ""
            },
            "type": "choropleth"
           }
          ],
          "contour": [
           {
            "colorbar": {
             "outlinewidth": 0,
             "ticks": ""
            },
            "colorscale": [
             [
              0,
              "#0d0887"
             ],
             [
              0.1111111111111111,
              "#46039f"
             ],
             [
              0.2222222222222222,
              "#7201a8"
             ],
             [
              0.3333333333333333,
              "#9c179e"
             ],
             [
              0.4444444444444444,
              "#bd3786"
             ],
             [
              0.5555555555555556,
              "#d8576b"
             ],
             [
              0.6666666666666666,
              "#ed7953"
             ],
             [
              0.7777777777777778,
              "#fb9f3a"
             ],
             [
              0.8888888888888888,
              "#fdca26"
             ],
             [
              1,
              "#f0f921"
             ]
            ],
            "type": "contour"
           }
          ],
          "contourcarpet": [
           {
            "colorbar": {
             "outlinewidth": 0,
             "ticks": ""
            },
            "type": "contourcarpet"
           }
          ],
          "heatmap": [
           {
            "colorbar": {
             "outlinewidth": 0,
             "ticks": ""
            },
            "colorscale": [
             [
              0,
              "#0d0887"
             ],
             [
              0.1111111111111111,
              "#46039f"
             ],
             [
              0.2222222222222222,
              "#7201a8"
             ],
             [
              0.3333333333333333,
              "#9c179e"
             ],
             [
              0.4444444444444444,
              "#bd3786"
             ],
             [
              0.5555555555555556,
              "#d8576b"
             ],
             [
              0.6666666666666666,
              "#ed7953"
             ],
             [
              0.7777777777777778,
              "#fb9f3a"
             ],
             [
              0.8888888888888888,
              "#fdca26"
             ],
             [
              1,
              "#f0f921"
             ]
            ],
            "type": "heatmap"
           }
          ],
          "heatmapgl": [
           {
            "colorbar": {
             "outlinewidth": 0,
             "ticks": ""
            },
            "colorscale": [
             [
              0,
              "#0d0887"
             ],
             [
              0.1111111111111111,
              "#46039f"
             ],
             [
              0.2222222222222222,
              "#7201a8"
             ],
             [
              0.3333333333333333,
              "#9c179e"
             ],
             [
              0.4444444444444444,
              "#bd3786"
             ],
             [
              0.5555555555555556,
              "#d8576b"
             ],
             [
              0.6666666666666666,
              "#ed7953"
             ],
             [
              0.7777777777777778,
              "#fb9f3a"
             ],
             [
              0.8888888888888888,
              "#fdca26"
             ],
             [
              1,
              "#f0f921"
             ]
            ],
            "type": "heatmapgl"
           }
          ],
          "histogram": [
           {
            "marker": {
             "pattern": {
              "fillmode": "overlay",
              "size": 10,
              "solidity": 0.2
             }
            },
            "type": "histogram"
           }
          ],
          "histogram2d": [
           {
            "colorbar": {
             "outlinewidth": 0,
             "ticks": ""
            },
            "colorscale": [
             [
              0,
              "#0d0887"
             ],
             [
              0.1111111111111111,
              "#46039f"
             ],
             [
              0.2222222222222222,
              "#7201a8"
             ],
             [
              0.3333333333333333,
              "#9c179e"
             ],
             [
              0.4444444444444444,
              "#bd3786"
             ],
             [
              0.5555555555555556,
              "#d8576b"
             ],
             [
              0.6666666666666666,
              "#ed7953"
             ],
             [
              0.7777777777777778,
              "#fb9f3a"
             ],
             [
              0.8888888888888888,
              "#fdca26"
             ],
             [
              1,
              "#f0f921"
             ]
            ],
            "type": "histogram2d"
           }
          ],
          "histogram2dcontour": [
           {
            "colorbar": {
             "outlinewidth": 0,
             "ticks": ""
            },
            "colorscale": [
             [
              0,
              "#0d0887"
             ],
             [
              0.1111111111111111,
              "#46039f"
             ],
             [
              0.2222222222222222,
              "#7201a8"
             ],
             [
              0.3333333333333333,
              "#9c179e"
             ],
             [
              0.4444444444444444,
              "#bd3786"
             ],
             [
              0.5555555555555556,
              "#d8576b"
             ],
             [
              0.6666666666666666,
              "#ed7953"
             ],
             [
              0.7777777777777778,
              "#fb9f3a"
             ],
             [
              0.8888888888888888,
              "#fdca26"
             ],
             [
              1,
              "#f0f921"
             ]
            ],
            "type": "histogram2dcontour"
           }
          ],
          "mesh3d": [
           {
            "colorbar": {
             "outlinewidth": 0,
             "ticks": ""
            },
            "type": "mesh3d"
           }
          ],
          "parcoords": [
           {
            "line": {
             "colorbar": {
              "outlinewidth": 0,
              "ticks": ""
             }
            },
            "type": "parcoords"
           }
          ],
          "pie": [
           {
            "automargin": true,
            "type": "pie"
           }
          ],
          "scatter": [
           {
            "fillpattern": {
             "fillmode": "overlay",
             "size": 10,
             "solidity": 0.2
            },
            "type": "scatter"
           }
          ],
          "scatter3d": [
           {
            "line": {
             "colorbar": {
              "outlinewidth": 0,
              "ticks": ""
             }
            },
            "marker": {
             "colorbar": {
              "outlinewidth": 0,
              "ticks": ""
             }
            },
            "type": "scatter3d"
           }
          ],
          "scattercarpet": [
           {
            "marker": {
             "colorbar": {
              "outlinewidth": 0,
              "ticks": ""
             }
            },
            "type": "scattercarpet"
           }
          ],
          "scattergeo": [
           {
            "marker": {
             "colorbar": {
              "outlinewidth": 0,
              "ticks": ""
             }
            },
            "type": "scattergeo"
           }
          ],
          "scattergl": [
           {
            "marker": {
             "colorbar": {
              "outlinewidth": 0,
              "ticks": ""
             }
            },
            "type": "scattergl"
           }
          ],
          "scattermapbox": [
           {
            "marker": {
             "colorbar": {
              "outlinewidth": 0,
              "ticks": ""
             }
            },
            "type": "scattermapbox"
           }
          ],
          "scatterpolar": [
           {
            "marker": {
             "colorbar": {
              "outlinewidth": 0,
              "ticks": ""
             }
            },
            "type": "scatterpolar"
           }
          ],
          "scatterpolargl": [
           {
            "marker": {
             "colorbar": {
              "outlinewidth": 0,
              "ticks": ""
             }
            },
            "type": "scatterpolargl"
           }
          ],
          "scatterternary": [
           {
            "marker": {
             "colorbar": {
              "outlinewidth": 0,
              "ticks": ""
             }
            },
            "type": "scatterternary"
           }
          ],
          "surface": [
           {
            "colorbar": {
             "outlinewidth": 0,
             "ticks": ""
            },
            "colorscale": [
             [
              0,
              "#0d0887"
             ],
             [
              0.1111111111111111,
              "#46039f"
             ],
             [
              0.2222222222222222,
              "#7201a8"
             ],
             [
              0.3333333333333333,
              "#9c179e"
             ],
             [
              0.4444444444444444,
              "#bd3786"
             ],
             [
              0.5555555555555556,
              "#d8576b"
             ],
             [
              0.6666666666666666,
              "#ed7953"
             ],
             [
              0.7777777777777778,
              "#fb9f3a"
             ],
             [
              0.8888888888888888,
              "#fdca26"
             ],
             [
              1,
              "#f0f921"
             ]
            ],
            "type": "surface"
           }
          ],
          "table": [
           {
            "cells": {
             "fill": {
              "color": "#EBF0F8"
             },
             "line": {
              "color": "white"
             }
            },
            "header": {
             "fill": {
              "color": "#C8D4E3"
             },
             "line": {
              "color": "white"
             }
            },
            "type": "table"
           }
          ]
         },
         "layout": {
          "annotationdefaults": {
           "arrowcolor": "#2a3f5f",
           "arrowhead": 0,
           "arrowwidth": 1
          },
          "autotypenumbers": "strict",
          "coloraxis": {
           "colorbar": {
            "outlinewidth": 0,
            "ticks": ""
           }
          },
          "colorscale": {
           "diverging": [
            [
             0,
             "#8e0152"
            ],
            [
             0.1,
             "#c51b7d"
            ],
            [
             0.2,
             "#de77ae"
            ],
            [
             0.3,
             "#f1b6da"
            ],
            [
             0.4,
             "#fde0ef"
            ],
            [
             0.5,
             "#f7f7f7"
            ],
            [
             0.6,
             "#e6f5d0"
            ],
            [
             0.7,
             "#b8e186"
            ],
            [
             0.8,
             "#7fbc41"
            ],
            [
             0.9,
             "#4d9221"
            ],
            [
             1,
             "#276419"
            ]
           ],
           "sequential": [
            [
             0,
             "#0d0887"
            ],
            [
             0.1111111111111111,
             "#46039f"
            ],
            [
             0.2222222222222222,
             "#7201a8"
            ],
            [
             0.3333333333333333,
             "#9c179e"
            ],
            [
             0.4444444444444444,
             "#bd3786"
            ],
            [
             0.5555555555555556,
             "#d8576b"
            ],
            [
             0.6666666666666666,
             "#ed7953"
            ],
            [
             0.7777777777777778,
             "#fb9f3a"
            ],
            [
             0.8888888888888888,
             "#fdca26"
            ],
            [
             1,
             "#f0f921"
            ]
           ],
           "sequentialminus": [
            [
             0,
             "#0d0887"
            ],
            [
             0.1111111111111111,
             "#46039f"
            ],
            [
             0.2222222222222222,
             "#7201a8"
            ],
            [
             0.3333333333333333,
             "#9c179e"
            ],
            [
             0.4444444444444444,
             "#bd3786"
            ],
            [
             0.5555555555555556,
             "#d8576b"
            ],
            [
             0.6666666666666666,
             "#ed7953"
            ],
            [
             0.7777777777777778,
             "#fb9f3a"
            ],
            [
             0.8888888888888888,
             "#fdca26"
            ],
            [
             1,
             "#f0f921"
            ]
           ]
          },
          "colorway": [
           "#636efa",
           "#EF553B",
           "#00cc96",
           "#ab63fa",
           "#FFA15A",
           "#19d3f3",
           "#FF6692",
           "#B6E880",
           "#FF97FF",
           "#FECB52"
          ],
          "font": {
           "color": "#2a3f5f"
          },
          "geo": {
           "bgcolor": "white",
           "lakecolor": "white",
           "landcolor": "#E5ECF6",
           "showlakes": true,
           "showland": true,
           "subunitcolor": "white"
          },
          "hoverlabel": {
           "align": "left"
          },
          "hovermode": "closest",
          "mapbox": {
           "style": "light"
          },
          "paper_bgcolor": "white",
          "plot_bgcolor": "#E5ECF6",
          "polar": {
           "angularaxis": {
            "gridcolor": "white",
            "linecolor": "white",
            "ticks": ""
           },
           "bgcolor": "#E5ECF6",
           "radialaxis": {
            "gridcolor": "white",
            "linecolor": "white",
            "ticks": ""
           }
          },
          "scene": {
           "xaxis": {
            "backgroundcolor": "#E5ECF6",
            "gridcolor": "white",
            "gridwidth": 2,
            "linecolor": "white",
            "showbackground": true,
            "ticks": "",
            "zerolinecolor": "white"
           },
           "yaxis": {
            "backgroundcolor": "#E5ECF6",
            "gridcolor": "white",
            "gridwidth": 2,
            "linecolor": "white",
            "showbackground": true,
            "ticks": "",
            "zerolinecolor": "white"
           },
           "zaxis": {
            "backgroundcolor": "#E5ECF6",
            "gridcolor": "white",
            "gridwidth": 2,
            "linecolor": "white",
            "showbackground": true,
            "ticks": "",
            "zerolinecolor": "white"
           }
          },
          "shapedefaults": {
           "line": {
            "color": "#2a3f5f"
           }
          },
          "ternary": {
           "aaxis": {
            "gridcolor": "white",
            "linecolor": "white",
            "ticks": ""
           },
           "baxis": {
            "gridcolor": "white",
            "linecolor": "white",
            "ticks": ""
           },
           "bgcolor": "#E5ECF6",
           "caxis": {
            "gridcolor": "white",
            "linecolor": "white",
            "ticks": ""
           }
          },
          "title": {
           "x": 0.05
          },
          "xaxis": {
           "automargin": true,
           "gridcolor": "white",
           "linecolor": "white",
           "ticks": "",
           "title": {
            "standoff": 15
           },
           "zerolinecolor": "white",
           "zerolinewidth": 2
          },
          "yaxis": {
           "automargin": true,
           "gridcolor": "white",
           "linecolor": "white",
           "ticks": "",
           "title": {
            "standoff": 15
           },
           "zerolinecolor": "white",
           "zerolinewidth": 2
          }
         }
        },
        "title": {
         "text": "Fund Performance vs. Avg. Investment Percentage (BDR & Invest. Ext. (Excluding South America))<br>Correlation: 0.1828"
        },
        "xaxis": {
         "anchor": "y",
         "domain": [
          0,
          1
         ],
         "title": {
          "text": "Average Monthly Investment Percentage (BDR & Invest. Ext.) (%)"
         }
        },
        "yaxis": {
         "anchor": "x",
         "domain": [
          0,
          1
         ],
         "title": {
          "text": "Average Monthly Rentability (%)"
         }
        }
       }
      }
     },
     "metadata": {},
     "output_type": "display_data"
    }
   ],
   "source": [
    "import polars as pl\n",
    "import pandas as pd\n",
    "import plotly.express as px\n",
    "import numpy as np\n",
    "\n",
    "def analyze_performance_vs_investment_percentage(\n",
    "    df,\n",
    "    investment_type=None,\n",
    "    exclude_south_america=False\n",
    "):\n",
    "    \"\"\"\n",
    "    Analyzes the correlation between average fund performance (rentability)\n",
    "    and the average percentage allocated to specified investment types,\n",
    "    with an option to exclude South American companies.\n",
    "\n",
    "    Parameters:\n",
    "    -----------\n",
    "    df : polars.DataFrame\n",
    "        The dataframe containing the investment data, including 'funds',\n",
    "        'month', 'percentage', 'rentability', 'investment_type', and 'company_country' columns.\n",
    "    investment_type : str or None, default=None\n",
    "        Filter for specific investment type:\n",
    "        - \"BDR\": Only include BDR investments.\n",
    "        - \"Invest. Ext.\": Only include Invest. Ext. investments.\n",
    "        - None (default): Include both BDR and Invest. Ext. investments.\n",
    "    exclude_south_america : bool, default=False\n",
    "        If True, excludes investments in companies based in South America.\n",
    "    \"\"\"\n",
    "    # --- 1. Filter Data ---\n",
    "    filtered_df = df.clone()\n",
    "    title_parts = []\n",
    "\n",
    "    # Apply Investment Type Filter\n",
    "    if investment_type == \"BDR\":\n",
    "        filtered_df = filtered_df.filter(pl.col(\"investment_type\") == \"BDR\")\n",
    "        type_title = \"BDR\"\n",
    "    elif investment_type == \"Invest. Ext.\":\n",
    "        filtered_df = filtered_df.filter(pl.col(\"investment_type\") == \"Invest. Ext.\")\n",
    "        type_title = \"Invest. Ext.\"\n",
    "    else:\n",
    "        # Use both BDR and Invest. Ext. if None is specified\n",
    "        filtered_df = filtered_df.filter(\n",
    "            (pl.col(\"investment_type\") == \"BDR\") | (pl.col(\"investment_type\") == \"Invest. Ext.\")\n",
    "        )\n",
    "        type_title = \"BDR & Invest. Ext.\"\n",
    "    title_parts.append(type_title)\n",
    "\n",
    "    # Apply South America Filter\n",
    "    if exclude_south_america:\n",
    "        south_american_countries = [\n",
    "            \"Argentina\", \"Bolivia\", \"Brazil\", \"Chile\", \"Colombia\",\n",
    "            \"Ecuador\", \"Guyana\", \"Paraguay\", \"Peru\", \"Suriname\",\n",
    "            \"Uruguay\", \"Venezuela\"\n",
    "            # Add French Guiana if needed, though it's technically an overseas department of France\n",
    "        ]\n",
    "        # Ensure the country column is string type for comparison\n",
    "        filtered_df = filtered_df.filter(\n",
    "            ~pl.col(\"company_country\").cast(pl.Utf8).is_in(south_american_countries)\n",
    "        )\n",
    "        title_parts.append(\"(Excluding South America)\")\n",
    "\n",
    "    analysis_title = \" \".join(title_parts)\n",
    "\n",
    "    # --- 2. Calculate Monthly Metrics per Fund ---\n",
    "    # Group by fund and month to get total percentage and unique rentability\n",
    "    # Ensure rentability is numeric before aggregation\n",
    "    monthly_fund_metrics = filtered_df.group_by([\"funds\", \"month\"]).agg(\n",
    "        pl.sum(\"percentage\").alias(\"total_monthly_percentage\"),\n",
    "        pl.first(\"rentability\").cast(pl.Float64).alias(\"monthly_rentability\") # Cast to float\n",
    "    )\n",
    "\n",
    "    # --- 3. Aggregate Data per Fund ---\n",
    "    # Calculate average percentage and average rentability for each fund over time\n",
    "    fund_summary = monthly_fund_metrics.group_by(\"funds\").agg(\n",
    "        (pl.mean(\"total_monthly_percentage\")*100).alias(\"avg_investment_percentage\"),\n",
    "        pl.mean(\"monthly_rentability\").alias(\"avg_rentability\")\n",
    "    ).drop_nulls() # Remove funds with missing data for either metric\n",
    "\n",
    "    # Convert to Pandas for correlation and plotting\n",
    "    fund_summary_pd = fund_summary.to_pandas()\n",
    "\n",
    "    if fund_summary_pd.shape[0] < 2:\n",
    "        print(f\"Not enough data points ({fund_summary_pd.shape[0]}) to calculate correlation for {analysis_title}.\")\n",
    "        return None, None\n",
    "\n",
    "    # --- 4. Correlation Analysis ---\n",
    "    # Ensure columns are numeric before calculating correlation\n",
    "    fund_summary_pd['avg_investment_percentage'] = pd.to_numeric(fund_summary_pd['avg_investment_percentage'], errors='coerce')\n",
    "    fund_summary_pd['avg_rentability'] = pd.to_numeric(fund_summary_pd['avg_rentability'], errors='coerce')\n",
    "    fund_summary_pd = fund_summary_pd.dropna(subset=['avg_investment_percentage', 'avg_rentability'])\n",
    "\n",
    "    if fund_summary_pd.shape[0] < 2:\n",
    "        print(f\"Not enough numeric data points ({fund_summary_pd.shape[0]}) after cleaning for {analysis_title}.\")\n",
    "        return None, None\n",
    "\n",
    "    correlation = fund_summary_pd['avg_investment_percentage'].corr(fund_summary_pd['avg_rentability'])\n",
    "\n",
    "    print(f\"Analysis for Investment Type: {analysis_title}\")\n",
    "    print(f\"Correlation between Average Investment Percentage and Average Rentability: {correlation:.4f}\")\n",
    "\n",
    "    # --- 5. Visualization ---\n",
    "    plot_title = f'Fund Performance vs. Avg. Investment Percentage ({analysis_title})<br>Correlation: {correlation:.4f}'\n",
    "    fig = px.scatter(\n",
    "        fund_summary_pd,\n",
    "        x=\"avg_investment_percentage\",\n",
    "        y=\"avg_rentability\",\n",
    "        title=plot_title,\n",
    "        labels={\n",
    "            \"avg_investment_percentage\": f\"Average Monthly Investment Percentage ({type_title}) (%)\",\n",
    "            \"avg_rentability\": \"Average Monthly Rentability (%)\"\n",
    "        },\n",
    "        hover_name=\"funds\", # Show fund name on hover\n",
    "        trendline=\"ols\", # Add a linear regression trendline\n",
    "        trendline_color_override=\"red\"\n",
    "    )\n",
    "\n",
    "    fig.update_traces(\n",
    "        marker=dict(size=10),\n",
    "        hovertemplate=\"<b>%{hovertext}</b><br>\" +\n",
    "                      \"Avg. Investment Pct: %{x:.2f}%<br>\" +\n",
    "                      \"Avg. Rentability: %{y:.4f}%<extra></extra>\"\n",
    "    )\n",
    "\n",
    "    fig.update_layout(height=600)\n",
    "\n",
    "    return fig\n",
    "# --- Example Usage ---\n",
    "# Make sure df_peers is loaded and contains the necessary columns\n",
    "\n",
    "# Analyze for BDR & Invest. Ext. combined (default), including South America (default)\n",
    "# corr_both_all, summary_both_all = analyze_performance_vs_investment_percentage(df_peers)\n",
    "\n",
    "# Analyze for BDR only, including South America\n",
    "# corr_bdr_all, summary_bdr_all = analyze_performance_vs_investment_percentage(df_peers, investment_type=\"BDR\")\n",
    "\n",
    "# Analyze for Invest. Ext. only, excluding South America\n",
    "# corr_ext_no_sa, summary_ext_no_sa = analyze_performance_vs_investment_percentage(df_peers, investment_type=\"Invest. Ext.\", exclude_south_america=True)\n",
    "\n",
    "# Analyze for BDR & Invest. Ext. combined, excluding South America\n",
    "analyze_performance_vs_investment_percentage(df_peers, exclude_south_america=True)"
   ]
  },
  {
   "cell_type": "code",
   "execution_count": 102,
   "metadata": {},
   "outputs": [
    {
     "data": {
      "text/html": [
       "<div><style>\n",
       ".dataframe > thead > tr,\n",
       ".dataframe > tbody > tr {\n",
       "  text-align: right;\n",
       "  white-space: pre-wrap;\n",
       "}\n",
       "</style>\n",
       "<small>shape: (474, 12)</small><table border=\"1\" class=\"dataframe\"><thead><tr><th>funds</th><th>month</th><th>liquid_patrimony</th><th>investment</th><th>percentage</th><th>value</th><th>ticker</th><th>company_country</th><th>area_of_work</th><th>investment_type</th><th>date_for_sort</th><th>rentability</th></tr><tr><td>str</td><td>str</td><td>f64</td><td>str</td><td>f64</td><td>f64</td><td>str</td><td>str</td><td>str</td><td>str</td><td>datetime[μs]</td><td>f64</td></tr></thead><tbody><tr><td>&quot;IP&quot;</td><td>&quot;09/2024&quot;</td><td>5.9431e8</td><td>&quot;BDR - GOGL34 DT. INI. VIGEN.: …</td><td>0.06952</td><td>4.1317e7</td><td>&quot;GOOGL&quot;</td><td>&quot;USA&quot;</td><td>&quot;Technology and Search Engine&quot;</td><td>&quot;BDR&quot;</td><td>2024-09-01 00:00:00</td><td>0.006624</td></tr><tr><td>&quot;IP&quot;</td><td>&quot;09/2024&quot;</td><td>5.9431e8</td><td>&quot;BDR - MSCD34 DT. INI. VIGEN.: …</td><td>0.03453</td><td>2.0522e7</td><td>&quot;MA&quot;</td><td>&quot;USA&quot;</td><td>&quot;Financial Services&quot;</td><td>&quot;BDR&quot;</td><td>2024-09-01 00:00:00</td><td>0.006624</td></tr><tr><td>&quot;IP&quot;</td><td>&quot;09/2024&quot;</td><td>5.9431e8</td><td>&quot;BDR - NFLX34 DT. INI. VIGEN.: …</td><td>0.02366</td><td>1.4061e7</td><td>&quot;NFLX&quot;</td><td>&quot;USA&quot;</td><td>&quot;Entertainment and Streaming&quot;</td><td>&quot;BDR&quot;</td><td>2024-09-01 00:00:00</td><td>0.006624</td></tr><tr><td>&quot;IP&quot;</td><td>&quot;09/2024&quot;</td><td>5.9431e8</td><td>&quot;BDR - AIRB34 DT. INI. VIGEN.: …</td><td>0.0212</td><td>1.2599e7</td><td>&quot;ABNB&quot;</td><td>&quot;USA&quot;</td><td>&quot;Travel and Hospitality&quot;</td><td>&quot;BDR&quot;</td><td>2024-09-01 00:00:00</td><td>0.006624</td></tr><tr><td>&quot;IP&quot;</td><td>&quot;09/2024&quot;</td><td>5.9431e8</td><td>&quot;Invest. Ext. - IP PART INTL CL&quot;</td><td>0.22687</td><td>1.3483e8</td><td>&quot;Fundo&quot;</td><td>&quot;International&quot;</td><td>&quot;Investment Fund&quot;</td><td>&quot;Invest. Ext.&quot;</td><td>2024-09-01 00:00:00</td><td>0.006624</td></tr><tr><td>&hellip;</td><td>&hellip;</td><td>&hellip;</td><td>&hellip;</td><td>&hellip;</td><td>&hellip;</td><td>&hellip;</td><td>&hellip;</td><td>&hellip;</td><td>&hellip;</td><td>&hellip;</td><td>&hellip;</td></tr><tr><td>&quot;IP&quot;</td><td>&quot;10/2022&quot;</td><td>5.5978e8</td><td>&quot;Invest. Ext. - CHARTER COMMUNI…</td><td>0.00934</td><td>5.2284e6</td><td>&quot;CHTR&quot;</td><td>&quot;USA&quot;</td><td>&quot;Telecomunications&quot;</td><td>&quot;Invest. Ext.&quot;</td><td>2022-10-01 00:00:00</td><td>0.054508</td></tr><tr><td>&quot;IP&quot;</td><td>&quot;10/2022&quot;</td><td>5.5978e8</td><td>&quot;Invest. Ext. - MICROSOFT CORPO…</td><td>0.00922</td><td>5.1612e6</td><td>&quot;MSFT&quot;</td><td>&quot;USA&quot;</td><td>&quot;Technology and Software&quot;</td><td>&quot;Invest. Ext.&quot;</td><td>2022-10-01 00:00:00</td><td>0.054508</td></tr><tr><td>&quot;IP&quot;</td><td>&quot;10/2022&quot;</td><td>5.5978e8</td><td>&quot;Invest. Ext. - AMAZON.COM INC&quot;</td><td>0.00583</td><td>3.2635e6</td><td>&quot;AMZN&quot;</td><td>&quot;USA&quot;</td><td>&quot;E-commerce and Cloud Computing&quot;</td><td>&quot;Invest. Ext.&quot;</td><td>2022-10-01 00:00:00</td><td>0.054508</td></tr><tr><td>&quot;IP&quot;</td><td>&quot;10/2022&quot;</td><td>5.5978e8</td><td>&quot;Invest. Ext. - GOOGLE&quot;</td><td>0.00371</td><td>2.0768e6</td><td>&quot;GOOGL&quot;</td><td>&quot;USA&quot;</td><td>&quot;Technology and Search Engine&quot;</td><td>&quot;Invest. Ext.&quot;</td><td>2022-10-01 00:00:00</td><td>0.054508</td></tr><tr><td>&quot;IP&quot;</td><td>&quot;10/2022&quot;</td><td>5.5978e8</td><td>&quot;Invest. Ext. - LIBERTY BROADBA…</td><td>0.00143</td><td>800488.048703</td><td>&quot;LBRD&quot;</td><td>&quot;USA&quot;</td><td>&quot;Telecomunications&quot;</td><td>&quot;Invest. Ext.&quot;</td><td>2022-10-01 00:00:00</td><td>0.054508</td></tr></tbody></table></div>"
      ],
      "text/plain": [
       "shape: (474, 12)\n",
       "┌───────┬─────────┬────────────┬────────────┬───┬────────────┬────────────┬────────────┬───────────┐\n",
       "│ funds ┆ month   ┆ liquid_pat ┆ investment ┆ … ┆ area_of_wo ┆ investment ┆ date_for_s ┆ rentabili │\n",
       "│ ---   ┆ ---     ┆ rimony     ┆ ---        ┆   ┆ rk         ┆ _type      ┆ ort        ┆ ty        │\n",
       "│ str   ┆ str     ┆ ---        ┆ str        ┆   ┆ ---        ┆ ---        ┆ ---        ┆ ---       │\n",
       "│       ┆         ┆ f64        ┆            ┆   ┆ str        ┆ str        ┆ datetime[μ ┆ f64       │\n",
       "│       ┆         ┆            ┆            ┆   ┆            ┆            ┆ s]         ┆           │\n",
       "╞═══════╪═════════╪════════════╪════════════╪═══╪════════════╪════════════╪════════════╪═══════════╡\n",
       "│ IP    ┆ 09/2024 ┆ 5.9431e8   ┆ BDR -      ┆ … ┆ Technology ┆ BDR        ┆ 2024-09-01 ┆ 0.006624  │\n",
       "│       ┆         ┆            ┆ GOGL34 DT. ┆   ┆ and Search ┆            ┆ 00:00:00   ┆           │\n",
       "│       ┆         ┆            ┆ INI.       ┆   ┆ Engine     ┆            ┆            ┆           │\n",
       "│       ┆         ┆            ┆ VIGEN.: …  ┆   ┆            ┆            ┆            ┆           │\n",
       "│ IP    ┆ 09/2024 ┆ 5.9431e8   ┆ BDR -      ┆ … ┆ Financial  ┆ BDR        ┆ 2024-09-01 ┆ 0.006624  │\n",
       "│       ┆         ┆            ┆ MSCD34 DT. ┆   ┆ Services   ┆            ┆ 00:00:00   ┆           │\n",
       "│       ┆         ┆            ┆ INI.       ┆   ┆            ┆            ┆            ┆           │\n",
       "│       ┆         ┆            ┆ VIGEN.: …  ┆   ┆            ┆            ┆            ┆           │\n",
       "│ IP    ┆ 09/2024 ┆ 5.9431e8   ┆ BDR -      ┆ … ┆ Entertainm ┆ BDR        ┆ 2024-09-01 ┆ 0.006624  │\n",
       "│       ┆         ┆            ┆ NFLX34 DT. ┆   ┆ ent and    ┆            ┆ 00:00:00   ┆           │\n",
       "│       ┆         ┆            ┆ INI.       ┆   ┆ Streaming  ┆            ┆            ┆           │\n",
       "│       ┆         ┆            ┆ VIGEN.: …  ┆   ┆            ┆            ┆            ┆           │\n",
       "│ IP    ┆ 09/2024 ┆ 5.9431e8   ┆ BDR -      ┆ … ┆ Travel and ┆ BDR        ┆ 2024-09-01 ┆ 0.006624  │\n",
       "│       ┆         ┆            ┆ AIRB34 DT. ┆   ┆ Hospitalit ┆            ┆ 00:00:00   ┆           │\n",
       "│       ┆         ┆            ┆ INI.       ┆   ┆ y          ┆            ┆            ┆           │\n",
       "│       ┆         ┆            ┆ VIGEN.: …  ┆   ┆            ┆            ┆            ┆           │\n",
       "│ IP    ┆ 09/2024 ┆ 5.9431e8   ┆ Invest.    ┆ … ┆ Investment ┆ Invest.    ┆ 2024-09-01 ┆ 0.006624  │\n",
       "│       ┆         ┆            ┆ Ext. - IP  ┆   ┆ Fund       ┆ Ext.       ┆ 00:00:00   ┆           │\n",
       "│       ┆         ┆            ┆ PART INTL  ┆   ┆            ┆            ┆            ┆           │\n",
       "│       ┆         ┆            ┆ CL         ┆   ┆            ┆            ┆            ┆           │\n",
       "│ …     ┆ …       ┆ …          ┆ …          ┆ … ┆ …          ┆ …          ┆ …          ┆ …         │\n",
       "│ IP    ┆ 10/2022 ┆ 5.5978e8   ┆ Invest.    ┆ … ┆ Telecomuni ┆ Invest.    ┆ 2022-10-01 ┆ 0.054508  │\n",
       "│       ┆         ┆            ┆ Ext. -     ┆   ┆ cations    ┆ Ext.       ┆ 00:00:00   ┆           │\n",
       "│       ┆         ┆            ┆ CHARTER    ┆   ┆            ┆            ┆            ┆           │\n",
       "│       ┆         ┆            ┆ COMMUNI…   ┆   ┆            ┆            ┆            ┆           │\n",
       "│ IP    ┆ 10/2022 ┆ 5.5978e8   ┆ Invest.    ┆ … ┆ Technology ┆ Invest.    ┆ 2022-10-01 ┆ 0.054508  │\n",
       "│       ┆         ┆            ┆ Ext. -     ┆   ┆ and        ┆ Ext.       ┆ 00:00:00   ┆           │\n",
       "│       ┆         ┆            ┆ MICROSOFT  ┆   ┆ Software   ┆            ┆            ┆           │\n",
       "│       ┆         ┆            ┆ CORPO…     ┆   ┆            ┆            ┆            ┆           │\n",
       "│ IP    ┆ 10/2022 ┆ 5.5978e8   ┆ Invest.    ┆ … ┆ E-commerce ┆ Invest.    ┆ 2022-10-01 ┆ 0.054508  │\n",
       "│       ┆         ┆            ┆ Ext. -     ┆   ┆ and Cloud  ┆ Ext.       ┆ 00:00:00   ┆           │\n",
       "│       ┆         ┆            ┆ AMAZON.COM ┆   ┆ Computing  ┆            ┆            ┆           │\n",
       "│       ┆         ┆            ┆ INC        ┆   ┆            ┆            ┆            ┆           │\n",
       "│ IP    ┆ 10/2022 ┆ 5.5978e8   ┆ Invest.    ┆ … ┆ Technology ┆ Invest.    ┆ 2022-10-01 ┆ 0.054508  │\n",
       "│       ┆         ┆            ┆ Ext. -     ┆   ┆ and Search ┆ Ext.       ┆ 00:00:00   ┆           │\n",
       "│       ┆         ┆            ┆ GOOGLE     ┆   ┆ Engine     ┆            ┆            ┆           │\n",
       "│ IP    ┆ 10/2022 ┆ 5.5978e8   ┆ Invest.    ┆ … ┆ Telecomuni ┆ Invest.    ┆ 2022-10-01 ┆ 0.054508  │\n",
       "│       ┆         ┆            ┆ Ext. -     ┆   ┆ cations    ┆ Ext.       ┆ 00:00:00   ┆           │\n",
       "│       ┆         ┆            ┆ LIBERTY    ┆   ┆            ┆            ┆            ┆           │\n",
       "│       ┆         ┆            ┆ BROADBA…   ┆   ┆            ┆            ┆            ┆           │\n",
       "└───────┴─────────┴────────────┴────────────┴───┴────────────┴────────────┴────────────┴───────────┘"
      ]
     },
     "metadata": {},
     "output_type": "display_data"
    },
    {
     "data": {
      "application/vnd.plotly.v1+json": {
       "config": {
        "plotlyServerURL": "https://plot.ly"
       },
       "data": [
        {
         "alignmentgroup": "True",
         "hovertemplate": "<b>%{x}</b><br>Ticker: %{fullData.name}<br>Percentage: %{y:.2f}%<br>",
         "legendgroup": "Fundo",
         "marker": {
          "color": "#636efa",
          "pattern": {
           "shape": ""
          }
         },
         "name": "Fundo",
         "offsetgroup": "Fundo",
         "orientation": "v",
         "showlegend": true,
         "textposition": "auto",
         "type": "bar",
         "x": [
          "10/2022",
          "11/2022",
          "12/2022",
          "01/2023",
          "02/2023",
          "03/2023",
          "04/2023",
          "05/2023",
          "06/2023",
          "07/2023",
          "08/2023",
          "09/2023",
          "10/2023",
          "11/2023",
          "12/2023",
          "01/2024",
          "02/2024",
          "03/2024",
          "04/2024",
          "05/2024",
          "06/2024",
          "07/2024",
          "08/2024",
          "09/2024"
         ],
         "xaxis": "x",
         "y": [
          0.13867,
          0.14098,
          0.14581,
          0.15574000000000002,
          0.15842,
          0.12068,
          0.11871999999999999,
          0.12755,
          0.12933,
          0.13565,
          0.17502,
          0.16291,
          0.16999,
          0.19949999999999998,
          0.2009,
          0.22002999999999998,
          0.24473999999999999,
          0.23828000000000002,
          0.21828999999999998,
          0.24507,
          0.23067,
          0.20281000000000002,
          0.21335,
          0.22904
         ],
         "yaxis": "y"
        },
        {
         "alignmentgroup": "True",
         "hovertemplate": "<b>%{x}</b><br>Ticker: %{fullData.name}<br>Percentage: %{y:.2f}%<br>",
         "legendgroup": "GOOGL",
         "marker": {
          "color": "#EF553B",
          "pattern": {
           "shape": ""
          }
         },
         "name": "GOOGL",
         "offsetgroup": "GOOGL",
         "orientation": "v",
         "showlegend": true,
         "textposition": "auto",
         "type": "bar",
         "x": [
          "10/2022",
          "11/2022",
          "12/2022",
          "01/2023",
          "02/2023",
          "03/2023",
          "04/2023",
          "05/2023",
          "06/2023",
          "07/2023",
          "08/2023",
          "09/2023",
          "10/2023",
          "11/2023",
          "12/2023",
          "01/2024",
          "02/2024",
          "03/2024",
          "04/2024",
          "05/2024",
          "06/2024",
          "07/2024",
          "08/2024",
          "09/2024"
         ],
         "xaxis": "x",
         "y": [
          0.04783,
          0.052489999999999995,
          0.04832,
          0.06071,
          0.05137,
          0.07246,
          0.06737,
          0.08202000000000001,
          0.06661,
          0.07601000000000001,
          0.08148,
          0.09077,
          0.08539000000000001,
          0.08158,
          0.08226,
          0.08802,
          0.08965000000000001,
          0.09920000000000001,
          0.11610999999999999,
          0.1084,
          0.11555,
          0.09627000000000001,
          0.09280000000000001,
          0.07596
         ],
         "yaxis": "y"
        },
        {
         "alignmentgroup": "True",
         "hovertemplate": "<b>%{x}</b><br>Ticker: %{fullData.name}<br>Percentage: %{y:.2f}%<br>",
         "legendgroup": "BERK",
         "marker": {
          "color": "#00cc96",
          "pattern": {
           "shape": ""
          }
         },
         "name": "BERK",
         "offsetgroup": "BERK",
         "orientation": "v",
         "showlegend": true,
         "textposition": "auto",
         "type": "bar",
         "x": [
          "10/2022",
          "11/2022",
          "12/2022",
          "01/2023",
          "02/2023",
          "03/2023",
          "04/2023",
          "05/2023",
          "06/2023",
          "07/2023",
          "08/2023",
          "09/2023",
          "10/2023",
          "11/2023",
          "12/2023",
          "01/2024",
          "02/2024",
          "03/2024",
          "04/2024",
          "05/2024"
         ],
         "xaxis": "x",
         "y": [
          0.06682,
          0.07397000000000001,
          0.051430000000000003,
          0.04021,
          0.04353,
          0.10496,
          0.1078,
          0.09489,
          0.07994,
          0.06441,
          0.0636,
          0.05636000000000001,
          0.0573,
          0.05376,
          0.05077,
          0.04178,
          0.03318,
          0.020890000000000002,
          0.02064,
          0.01219
         ],
         "yaxis": "y"
        },
        {
         "alignmentgroup": "True",
         "hovertemplate": "<b>%{x}</b><br>Ticker: %{fullData.name}<br>Percentage: %{y:.2f}%<br>",
         "legendgroup": "MA",
         "marker": {
          "color": "#ab63fa",
          "pattern": {
           "shape": ""
          }
         },
         "name": "MA",
         "offsetgroup": "MA",
         "orientation": "v",
         "showlegend": true,
         "textposition": "auto",
         "type": "bar",
         "x": [
          "10/2022",
          "11/2022",
          "12/2022",
          "01/2023",
          "02/2023",
          "03/2023",
          "04/2023",
          "05/2023",
          "06/2023",
          "07/2023",
          "08/2023",
          "09/2023",
          "10/2023",
          "11/2023",
          "12/2023",
          "01/2024",
          "02/2024",
          "03/2024",
          "04/2024",
          "05/2024",
          "06/2024",
          "07/2024",
          "08/2024",
          "09/2024"
         ],
         "xaxis": "x",
         "y": [
          0.02727,
          0.03042,
          0.03128,
          0.03929,
          0.04144,
          0.04158,
          0.04193,
          0.03553,
          0.03426,
          0.03298,
          0.03607,
          0.036109999999999996,
          0.03589,
          0.0353,
          0.03481,
          0.03691,
          0.03796,
          0.03909,
          0.039740000000000004,
          0.039830000000000004,
          0.04152,
          0.04465,
          0.04475,
          0.04237
         ],
         "yaxis": "y"
        },
        {
         "alignmentgroup": "True",
         "hovertemplate": "<b>%{x}</b><br>Ticker: %{fullData.name}<br>Percentage: %{y:.2f}%<br>",
         "legendgroup": "TMO",
         "marker": {
          "color": "#FFA15A",
          "pattern": {
           "shape": ""
          }
         },
         "name": "TMO",
         "offsetgroup": "TMO",
         "orientation": "v",
         "showlegend": true,
         "textposition": "auto",
         "type": "bar",
         "x": [
          "10/2022",
          "11/2022",
          "12/2022",
          "01/2023",
          "02/2023",
          "03/2023",
          "04/2023",
          "05/2023",
          "06/2023",
          "07/2023",
          "08/2023",
          "09/2023",
          "10/2023",
          "11/2023",
          "12/2023",
          "01/2024",
          "02/2024",
          "03/2024",
          "04/2024",
          "05/2024",
          "06/2024",
          "07/2024"
         ],
         "xaxis": "x",
         "y": [
          0.04627,
          0.05181,
          0.04469,
          0.0385,
          0.04042,
          0.04217,
          0.03916,
          0.04051999999999999,
          0.03722,
          0.03757,
          0.03682,
          0.03491,
          0.03208,
          0.03199,
          0.03276,
          0.03349,
          0.03448,
          0.03266,
          0.03151,
          0.02022,
          0.02015,
          0.02186
         ],
         "yaxis": "y"
        },
        {
         "alignmentgroup": "True",
         "hovertemplate": "<b>%{x}</b><br>Ticker: %{fullData.name}<br>Percentage: %{y:.2f}%<br>",
         "legendgroup": "TDG",
         "marker": {
          "color": "#19d3f3",
          "pattern": {
           "shape": ""
          }
         },
         "name": "TDG",
         "offsetgroup": "TDG",
         "orientation": "v",
         "showlegend": true,
         "textposition": "auto",
         "type": "bar",
         "x": [
          "10/2022",
          "11/2022",
          "12/2022",
          "01/2023",
          "02/2023",
          "03/2023",
          "04/2023",
          "05/2023",
          "06/2023",
          "07/2023",
          "08/2023",
          "09/2023",
          "10/2023",
          "11/2023",
          "12/2023",
          "01/2024",
          "02/2024",
          "03/2024",
          "04/2024",
          "05/2024",
          "06/2024",
          "07/2024",
          "08/2024",
          "09/2024"
         ],
         "xaxis": "x",
         "y": [
          0.037739999999999996,
          0.042319999999999997,
          0.04467,
          0.04739,
          0.049199999999999994,
          0.023030000000000002,
          0.02306,
          0.023280000000000002,
          0.02409,
          0.02327,
          0.02442,
          0.02378,
          0.02442,
          0.0254,
          0.02553,
          0.02776,
          0.029109999999999997,
          0.03091,
          0.03399,
          0.036989999999999995,
          0.037180000000000005,
          0.04004,
          0.04086,
          0.04061
         ],
         "yaxis": "y"
        },
        {
         "alignmentgroup": "True",
         "hovertemplate": "<b>%{x}</b><br>Ticker: %{fullData.name}<br>Percentage: %{y:.2f}%<br>",
         "legendgroup": "NFLX",
         "marker": {
          "color": "#FF6692",
          "pattern": {
           "shape": ""
          }
         },
         "name": "NFLX",
         "offsetgroup": "NFLX",
         "orientation": "v",
         "showlegend": true,
         "textposition": "auto",
         "type": "bar",
         "x": [
          "10/2022",
          "11/2022",
          "12/2022",
          "01/2023",
          "02/2023",
          "03/2023",
          "04/2023",
          "05/2023",
          "06/2023",
          "07/2023",
          "08/2023",
          "09/2023",
          "10/2023",
          "11/2023",
          "12/2023",
          "01/2024",
          "02/2024",
          "03/2024",
          "04/2024",
          "05/2024",
          "06/2024",
          "07/2024",
          "08/2024",
          "09/2024"
         ],
         "xaxis": "x",
         "y": [
          0.04038,
          0.03831,
          0.03895,
          0.03313,
          0.02821,
          0.029670000000000002,
          0.02261,
          0.02704,
          0.026969999999999997,
          0.0258,
          0.026639999999999997,
          0.024209999999999995,
          0.0276,
          0.028429999999999997,
          0.02793,
          0.03257,
          0.03388,
          0.03465,
          0.037059999999999996,
          0.03939,
          0.03632,
          0.03253,
          0.02964,
          0.02366
         ],
         "yaxis": "y"
        },
        {
         "alignmentgroup": "True",
         "hovertemplate": "<b>%{x}</b><br>Ticker: %{fullData.name}<br>Percentage: %{y:.2f}%<br>",
         "legendgroup": "V",
         "marker": {
          "color": "#B6E880",
          "pattern": {
           "shape": ""
          }
         },
         "name": "V",
         "offsetgroup": "V",
         "orientation": "v",
         "showlegend": true,
         "textposition": "auto",
         "type": "bar",
         "x": [
          "06/2023",
          "07/2023",
          "08/2023",
          "09/2023",
          "10/2023",
          "11/2023",
          "12/2023",
          "01/2024",
          "02/2024",
          "03/2024",
          "04/2024",
          "05/2024",
          "06/2024",
          "07/2024",
          "08/2024",
          "09/2024"
         ],
         "xaxis": "x",
         "y": [
          0.02064,
          0.01983,
          0.03008,
          0.02939,
          0.03142,
          0.03068,
          0.02977,
          0.03146,
          0.03166,
          0.03174,
          0.03315,
          0.034,
          0.03461,
          0.03725,
          0.03726,
          0.03545
         ],
         "yaxis": "y"
        },
        {
         "alignmentgroup": "True",
         "hovertemplate": "<b>%{x}</b><br>Ticker: %{fullData.name}<br>Percentage: %{y:.2f}%<br>",
         "legendgroup": "LBRD",
         "marker": {
          "color": "#FF97FF",
          "pattern": {
           "shape": ""
          }
         },
         "name": "LBRD",
         "offsetgroup": "LBRD",
         "orientation": "v",
         "showlegend": true,
         "textposition": "auto",
         "type": "bar",
         "x": [
          "10/2022",
          "11/2022",
          "12/2022",
          "01/2023",
          "02/2023",
          "03/2023",
          "04/2023",
          "05/2023",
          "06/2023",
          "07/2023",
          "08/2023",
          "09/2023",
          "10/2023"
         ],
         "xaxis": "x",
         "y": [
          0.03074,
          0.03398000000000001,
          0.03006,
          0.03292,
          0.03513,
          0.03248,
          0.03252,
          0.02837,
          0.02746,
          0.02933,
          0.03217,
          0.03277,
          0.0298
         ],
         "yaxis": "y"
        },
        {
         "alignmentgroup": "True",
         "hovertemplate": "<b>%{x}</b><br>Ticker: %{fullData.name}<br>Percentage: %{y:.2f}%<br>",
         "legendgroup": "MSFT",
         "marker": {
          "color": "#FECB52",
          "pattern": {
           "shape": ""
          }
         },
         "name": "MSFT",
         "offsetgroup": "MSFT",
         "orientation": "v",
         "showlegend": true,
         "textposition": "auto",
         "type": "bar",
         "x": [
          "10/2022",
          "11/2022",
          "12/2022",
          "01/2023",
          "02/2023",
          "03/2023",
          "04/2023",
          "05/2023",
          "06/2023",
          "09/2024"
         ],
         "xaxis": "x",
         "y": [
          0.03965,
          0.044770000000000004,
          0.04378,
          0.04211,
          0.029560000000000003,
          0.030559999999999997,
          0.027179999999999996,
          0.02338,
          0.01021,
          0.00149
         ],
         "yaxis": "y"
        },
        {
         "alignmentgroup": "True",
         "hovertemplate": "<b>%{x}</b><br>Ticker: %{fullData.name}<br>Percentage: %{y:.2f}%<br>",
         "legendgroup": "XPBR",
         "marker": {
          "color": "#636efa",
          "pattern": {
           "shape": ""
          }
         },
         "name": "XPBR",
         "offsetgroup": "XPBR",
         "orientation": "v",
         "showlegend": true,
         "textposition": "auto",
         "type": "bar",
         "x": [
          "10/2022",
          "11/2022",
          "12/2022",
          "01/2023",
          "02/2023",
          "03/2023",
          "04/2023",
          "05/2023",
          "06/2023",
          "07/2023",
          "10/2023",
          "12/2023",
          "05/2024"
         ],
         "xaxis": "x",
         "y": [
          0.06856,
          0.03089,
          0.0448,
          0.033229999999999996,
          0.022770000000000002,
          0.0034000000000000002,
          0.01182,
          -0.004750000000000001,
          -0.00949,
          0.00304,
          0.00138,
          0.00004,
          0.02001
         ],
         "yaxis": "y"
        },
        {
         "alignmentgroup": "True",
         "hovertemplate": "<b>%{x}</b><br>Ticker: %{fullData.name}<br>Percentage: %{y:.2f}%<br>",
         "legendgroup": "ABNB",
         "marker": {
          "color": "#EF553B",
          "pattern": {
           "shape": ""
          }
         },
         "name": "ABNB",
         "offsetgroup": "ABNB",
         "orientation": "v",
         "showlegend": true,
         "textposition": "auto",
         "type": "bar",
         "x": [
          "09/2023",
          "10/2023",
          "11/2023",
          "12/2023",
          "01/2024",
          "02/2024",
          "03/2024",
          "04/2024",
          "05/2024",
          "06/2024",
          "07/2024",
          "08/2024",
          "09/2024"
         ],
         "xaxis": "x",
         "y": [
          0.00936,
          0.00844,
          0.008060000000000001,
          0.00831,
          0.01473,
          0.01566,
          0.01665,
          0.01737,
          0.02345,
          0.02592,
          0.02537,
          0.02051,
          0.0212
         ],
         "yaxis": "y"
        },
        {
         "alignmentgroup": "True",
         "hovertemplate": "<b>%{x}</b><br>Ticker: %{fullData.name}<br>Percentage: %{y:.2f}%<br>",
         "legendgroup": "AMZN",
         "marker": {
          "color": "#00cc96",
          "pattern": {
           "shape": ""
          }
         },
         "name": "AMZN",
         "offsetgroup": "AMZN",
         "orientation": "v",
         "showlegend": true,
         "textposition": "auto",
         "type": "bar",
         "x": [
          "10/2022",
          "11/2022",
          "12/2022",
          "01/2023",
          "02/2023",
          "03/2023",
          "05/2023",
          "08/2024",
          "09/2024"
         ],
         "xaxis": "x",
         "y": [
          0.03486,
          0.0299,
          0.02742,
          0.02682,
          0.02708,
          0.014369999999999999,
          0.005639999999999999,
          0.01543,
          0.0154
         ],
         "yaxis": "y"
        },
        {
         "alignmentgroup": "True",
         "hovertemplate": "<b>%{x}</b><br>Ticker: %{fullData.name}<br>Percentage: %{y:.2f}%<br>",
         "legendgroup": "SCHW",
         "marker": {
          "color": "#ab63fa",
          "pattern": {
           "shape": ""
          }
         },
         "name": "SCHW",
         "offsetgroup": "SCHW",
         "orientation": "v",
         "showlegend": true,
         "textposition": "auto",
         "type": "bar",
         "x": [
          "10/2022",
          "11/2022",
          "12/2022",
          "01/2023",
          "02/2023"
         ],
         "xaxis": "x",
         "y": [
          0.03823,
          0.02972,
          0.03159,
          0.03094,
          0.03441
         ],
         "yaxis": "y"
        },
        {
         "alignmentgroup": "True",
         "hovertemplate": "<b>%{x}</b><br>Ticker: %{fullData.name}<br>Percentage: %{y:.2f}%<br>",
         "legendgroup": "CHTR",
         "marker": {
          "color": "#FFA15A",
          "pattern": {
           "shape": ""
          }
         },
         "name": "CHTR",
         "offsetgroup": "CHTR",
         "orientation": "v",
         "showlegend": true,
         "textposition": "auto",
         "type": "bar",
         "x": [
          "10/2022",
          "11/2022",
          "12/2022",
          "01/2023",
          "02/2023",
          "03/2023",
          "04/2023",
          "05/2023",
          "06/2023",
          "07/2023",
          "08/2023",
          "09/2023",
          "10/2023"
         ],
         "xaxis": "x",
         "y": [
          0.009340000000000001,
          0.01022,
          0.00933,
          0.0152,
          0.01607,
          0.0106,
          0.00621,
          0.00548,
          0.00553,
          0.00586,
          0.00263,
          0.00275,
          0.00115
         ],
         "yaxis": "y"
        },
        {
         "alignmentgroup": "True",
         "hovertemplate": "<b>%{x}</b><br>Ticker: %{fullData.name}<br>Percentage: %{y:.2f}%<br>",
         "legendgroup": "DHER",
         "marker": {
          "color": "#19d3f3",
          "pattern": {
           "shape": ""
          }
         },
         "name": "DHER",
         "offsetgroup": "DHER",
         "orientation": "v",
         "showlegend": true,
         "textposition": "auto",
         "type": "bar",
         "x": [
          "05/2023",
          "06/2023",
          "07/2023",
          "08/2023",
          "09/2023",
          "01/2024",
          "02/2024",
          "03/2024",
          "04/2024"
         ],
         "xaxis": "x",
         "y": [
          0.01793,
          0.01678,
          0.01712,
          0.01756,
          0.01716,
          0.00313,
          0.00322,
          0.00322,
          0.00345
         ],
         "yaxis": "y"
        },
        {
         "alignmentgroup": "True",
         "hovertemplate": "<b>%{x}</b><br>Ticker: %{fullData.name}<br>Percentage: %{y:.2f}%<br>",
         "legendgroup": "META",
         "marker": {
          "color": "#FF6692",
          "pattern": {
           "shape": ""
          }
         },
         "name": "META",
         "offsetgroup": "META",
         "orientation": "v",
         "showlegend": true,
         "textposition": "auto",
         "type": "bar",
         "x": [
          "06/2024",
          "07/2024",
          "08/2024",
          "09/2024"
         ],
         "xaxis": "x",
         "y": [
          0.0071,
          0.02086,
          0.02202,
          0.03675
         ],
         "yaxis": "y"
        },
        {
         "alignmentgroup": "True",
         "hovertemplate": "<b>%{x}</b><br>Ticker: %{fullData.name}<br>Percentage: %{y:.2f}%<br>",
         "legendgroup": "OXY",
         "marker": {
          "color": "#B6E880",
          "pattern": {
           "shape": ""
          }
         },
         "name": "OXY",
         "offsetgroup": "OXY",
         "orientation": "v",
         "showlegend": true,
         "textposition": "auto",
         "type": "bar",
         "x": [
          "03/2023",
          "04/2023"
         ],
         "xaxis": "x",
         "y": [
          0.01076,
          0.01023
         ],
         "yaxis": "y"
        },
        {
         "alignmentgroup": "True",
         "hovertemplate": "<b>%{x}</b><br>Ticker: %{fullData.name}<br>Percentage: %{y:.2f}%<br>",
         "legendgroup": "ACN",
         "marker": {
          "color": "#FF97FF",
          "pattern": {
           "shape": ""
          }
         },
         "name": "ACN",
         "offsetgroup": "ACN",
         "orientation": "v",
         "showlegend": true,
         "textposition": "auto",
         "type": "bar",
         "x": [
          "05/2023",
          "06/2023"
         ],
         "xaxis": "x",
         "y": [
          0.005350000000000001,
          0.00483
         ],
         "yaxis": "y"
        },
        {
         "hovertemplate": "<b>%{x}</b><br>Liquid Patrimony: R$ %{y:,.2f}<br>",
         "line": {
          "color": "black",
          "width": 3
         },
         "marker": {
          "color": "black",
          "size": 8
         },
         "mode": "lines+markers",
         "name": "Liquid Patrimony",
         "type": "scatter",
         "x": [
          "10/2022",
          "11/2022",
          "12/2022",
          "01/2023",
          "02/2023",
          "03/2023",
          "04/2023",
          "05/2023",
          "06/2023",
          "07/2023",
          "08/2023",
          "09/2023",
          "10/2023",
          "11/2023",
          "12/2023",
          "01/2024",
          "02/2024",
          "03/2024",
          "04/2024",
          "05/2024",
          "06/2024",
          "07/2024",
          "08/2024",
          "09/2024"
         ],
         "y": [
          559781852.24,
          550207940.47,
          528919057.38,
          546775878.21,
          508029989.39,
          503404953.55,
          512947647.42,
          523133309.26,
          550717156.07,
          567633973.11,
          567673199.95,
          553065359.89,
          529684557.77,
          578777647.89,
          596724653.21,
          603370759.41,
          623056929.55,
          618455048.38,
          590310332.96,
          590842748.87,
          594763212.21,
          564935948.66,
          589008407.28,
          594311739.9
         ],
         "yaxis": "y2"
        }
       ],
       "layout": {
        "barmode": "relative",
        "height": 600,
        "hovermode": "closest",
        "legend": {
         "title": {
          "text": "Ticker"
         },
         "tracegroupgap": 0
        },
        "template": {
         "data": {
          "bar": [
           {
            "error_x": {
             "color": "#2a3f5f"
            },
            "error_y": {
             "color": "#2a3f5f"
            },
            "marker": {
             "line": {
              "color": "#E5ECF6",
              "width": 0.5
             },
             "pattern": {
              "fillmode": "overlay",
              "size": 10,
              "solidity": 0.2
             }
            },
            "type": "bar"
           }
          ],
          "barpolar": [
           {
            "marker": {
             "line": {
              "color": "#E5ECF6",
              "width": 0.5
             },
             "pattern": {
              "fillmode": "overlay",
              "size": 10,
              "solidity": 0.2
             }
            },
            "type": "barpolar"
           }
          ],
          "carpet": [
           {
            "aaxis": {
             "endlinecolor": "#2a3f5f",
             "gridcolor": "white",
             "linecolor": "white",
             "minorgridcolor": "white",
             "startlinecolor": "#2a3f5f"
            },
            "baxis": {
             "endlinecolor": "#2a3f5f",
             "gridcolor": "white",
             "linecolor": "white",
             "minorgridcolor": "white",
             "startlinecolor": "#2a3f5f"
            },
            "type": "carpet"
           }
          ],
          "choropleth": [
           {
            "colorbar": {
             "outlinewidth": 0,
             "ticks": ""
            },
            "type": "choropleth"
           }
          ],
          "contour": [
           {
            "colorbar": {
             "outlinewidth": 0,
             "ticks": ""
            },
            "colorscale": [
             [
              0,
              "#0d0887"
             ],
             [
              0.1111111111111111,
              "#46039f"
             ],
             [
              0.2222222222222222,
              "#7201a8"
             ],
             [
              0.3333333333333333,
              "#9c179e"
             ],
             [
              0.4444444444444444,
              "#bd3786"
             ],
             [
              0.5555555555555556,
              "#d8576b"
             ],
             [
              0.6666666666666666,
              "#ed7953"
             ],
             [
              0.7777777777777778,
              "#fb9f3a"
             ],
             [
              0.8888888888888888,
              "#fdca26"
             ],
             [
              1,
              "#f0f921"
             ]
            ],
            "type": "contour"
           }
          ],
          "contourcarpet": [
           {
            "colorbar": {
             "outlinewidth": 0,
             "ticks": ""
            },
            "type": "contourcarpet"
           }
          ],
          "heatmap": [
           {
            "colorbar": {
             "outlinewidth": 0,
             "ticks": ""
            },
            "colorscale": [
             [
              0,
              "#0d0887"
             ],
             [
              0.1111111111111111,
              "#46039f"
             ],
             [
              0.2222222222222222,
              "#7201a8"
             ],
             [
              0.3333333333333333,
              "#9c179e"
             ],
             [
              0.4444444444444444,
              "#bd3786"
             ],
             [
              0.5555555555555556,
              "#d8576b"
             ],
             [
              0.6666666666666666,
              "#ed7953"
             ],
             [
              0.7777777777777778,
              "#fb9f3a"
             ],
             [
              0.8888888888888888,
              "#fdca26"
             ],
             [
              1,
              "#f0f921"
             ]
            ],
            "type": "heatmap"
           }
          ],
          "heatmapgl": [
           {
            "colorbar": {
             "outlinewidth": 0,
             "ticks": ""
            },
            "colorscale": [
             [
              0,
              "#0d0887"
             ],
             [
              0.1111111111111111,
              "#46039f"
             ],
             [
              0.2222222222222222,
              "#7201a8"
             ],
             [
              0.3333333333333333,
              "#9c179e"
             ],
             [
              0.4444444444444444,
              "#bd3786"
             ],
             [
              0.5555555555555556,
              "#d8576b"
             ],
             [
              0.6666666666666666,
              "#ed7953"
             ],
             [
              0.7777777777777778,
              "#fb9f3a"
             ],
             [
              0.8888888888888888,
              "#fdca26"
             ],
             [
              1,
              "#f0f921"
             ]
            ],
            "type": "heatmapgl"
           }
          ],
          "histogram": [
           {
            "marker": {
             "pattern": {
              "fillmode": "overlay",
              "size": 10,
              "solidity": 0.2
             }
            },
            "type": "histogram"
           }
          ],
          "histogram2d": [
           {
            "colorbar": {
             "outlinewidth": 0,
             "ticks": ""
            },
            "colorscale": [
             [
              0,
              "#0d0887"
             ],
             [
              0.1111111111111111,
              "#46039f"
             ],
             [
              0.2222222222222222,
              "#7201a8"
             ],
             [
              0.3333333333333333,
              "#9c179e"
             ],
             [
              0.4444444444444444,
              "#bd3786"
             ],
             [
              0.5555555555555556,
              "#d8576b"
             ],
             [
              0.6666666666666666,
              "#ed7953"
             ],
             [
              0.7777777777777778,
              "#fb9f3a"
             ],
             [
              0.8888888888888888,
              "#fdca26"
             ],
             [
              1,
              "#f0f921"
             ]
            ],
            "type": "histogram2d"
           }
          ],
          "histogram2dcontour": [
           {
            "colorbar": {
             "outlinewidth": 0,
             "ticks": ""
            },
            "colorscale": [
             [
              0,
              "#0d0887"
             ],
             [
              0.1111111111111111,
              "#46039f"
             ],
             [
              0.2222222222222222,
              "#7201a8"
             ],
             [
              0.3333333333333333,
              "#9c179e"
             ],
             [
              0.4444444444444444,
              "#bd3786"
             ],
             [
              0.5555555555555556,
              "#d8576b"
             ],
             [
              0.6666666666666666,
              "#ed7953"
             ],
             [
              0.7777777777777778,
              "#fb9f3a"
             ],
             [
              0.8888888888888888,
              "#fdca26"
             ],
             [
              1,
              "#f0f921"
             ]
            ],
            "type": "histogram2dcontour"
           }
          ],
          "mesh3d": [
           {
            "colorbar": {
             "outlinewidth": 0,
             "ticks": ""
            },
            "type": "mesh3d"
           }
          ],
          "parcoords": [
           {
            "line": {
             "colorbar": {
              "outlinewidth": 0,
              "ticks": ""
             }
            },
            "type": "parcoords"
           }
          ],
          "pie": [
           {
            "automargin": true,
            "type": "pie"
           }
          ],
          "scatter": [
           {
            "fillpattern": {
             "fillmode": "overlay",
             "size": 10,
             "solidity": 0.2
            },
            "type": "scatter"
           }
          ],
          "scatter3d": [
           {
            "line": {
             "colorbar": {
              "outlinewidth": 0,
              "ticks": ""
             }
            },
            "marker": {
             "colorbar": {
              "outlinewidth": 0,
              "ticks": ""
             }
            },
            "type": "scatter3d"
           }
          ],
          "scattercarpet": [
           {
            "marker": {
             "colorbar": {
              "outlinewidth": 0,
              "ticks": ""
             }
            },
            "type": "scattercarpet"
           }
          ],
          "scattergeo": [
           {
            "marker": {
             "colorbar": {
              "outlinewidth": 0,
              "ticks": ""
             }
            },
            "type": "scattergeo"
           }
          ],
          "scattergl": [
           {
            "marker": {
             "colorbar": {
              "outlinewidth": 0,
              "ticks": ""
             }
            },
            "type": "scattergl"
           }
          ],
          "scattermapbox": [
           {
            "marker": {
             "colorbar": {
              "outlinewidth": 0,
              "ticks": ""
             }
            },
            "type": "scattermapbox"
           }
          ],
          "scatterpolar": [
           {
            "marker": {
             "colorbar": {
              "outlinewidth": 0,
              "ticks": ""
             }
            },
            "type": "scatterpolar"
           }
          ],
          "scatterpolargl": [
           {
            "marker": {
             "colorbar": {
              "outlinewidth": 0,
              "ticks": ""
             }
            },
            "type": "scatterpolargl"
           }
          ],
          "scatterternary": [
           {
            "marker": {
             "colorbar": {
              "outlinewidth": 0,
              "ticks": ""
             }
            },
            "type": "scatterternary"
           }
          ],
          "surface": [
           {
            "colorbar": {
             "outlinewidth": 0,
             "ticks": ""
            },
            "colorscale": [
             [
              0,
              "#0d0887"
             ],
             [
              0.1111111111111111,
              "#46039f"
             ],
             [
              0.2222222222222222,
              "#7201a8"
             ],
             [
              0.3333333333333333,
              "#9c179e"
             ],
             [
              0.4444444444444444,
              "#bd3786"
             ],
             [
              0.5555555555555556,
              "#d8576b"
             ],
             [
              0.6666666666666666,
              "#ed7953"
             ],
             [
              0.7777777777777778,
              "#fb9f3a"
             ],
             [
              0.8888888888888888,
              "#fdca26"
             ],
             [
              1,
              "#f0f921"
             ]
            ],
            "type": "surface"
           }
          ],
          "table": [
           {
            "cells": {
             "fill": {
              "color": "#EBF0F8"
             },
             "line": {
              "color": "white"
             }
            },
            "header": {
             "fill": {
              "color": "#C8D4E3"
             },
             "line": {
              "color": "white"
             }
            },
            "type": "table"
           }
          ]
         },
         "layout": {
          "annotationdefaults": {
           "arrowcolor": "#2a3f5f",
           "arrowhead": 0,
           "arrowwidth": 1
          },
          "autotypenumbers": "strict",
          "coloraxis": {
           "colorbar": {
            "outlinewidth": 0,
            "ticks": ""
           }
          },
          "colorscale": {
           "diverging": [
            [
             0,
             "#8e0152"
            ],
            [
             0.1,
             "#c51b7d"
            ],
            [
             0.2,
             "#de77ae"
            ],
            [
             0.3,
             "#f1b6da"
            ],
            [
             0.4,
             "#fde0ef"
            ],
            [
             0.5,
             "#f7f7f7"
            ],
            [
             0.6,
             "#e6f5d0"
            ],
            [
             0.7,
             "#b8e186"
            ],
            [
             0.8,
             "#7fbc41"
            ],
            [
             0.9,
             "#4d9221"
            ],
            [
             1,
             "#276419"
            ]
           ],
           "sequential": [
            [
             0,
             "#0d0887"
            ],
            [
             0.1111111111111111,
             "#46039f"
            ],
            [
             0.2222222222222222,
             "#7201a8"
            ],
            [
             0.3333333333333333,
             "#9c179e"
            ],
            [
             0.4444444444444444,
             "#bd3786"
            ],
            [
             0.5555555555555556,
             "#d8576b"
            ],
            [
             0.6666666666666666,
             "#ed7953"
            ],
            [
             0.7777777777777778,
             "#fb9f3a"
            ],
            [
             0.8888888888888888,
             "#fdca26"
            ],
            [
             1,
             "#f0f921"
            ]
           ],
           "sequentialminus": [
            [
             0,
             "#0d0887"
            ],
            [
             0.1111111111111111,
             "#46039f"
            ],
            [
             0.2222222222222222,
             "#7201a8"
            ],
            [
             0.3333333333333333,
             "#9c179e"
            ],
            [
             0.4444444444444444,
             "#bd3786"
            ],
            [
             0.5555555555555556,
             "#d8576b"
            ],
            [
             0.6666666666666666,
             "#ed7953"
            ],
            [
             0.7777777777777778,
             "#fb9f3a"
            ],
            [
             0.8888888888888888,
             "#fdca26"
            ],
            [
             1,
             "#f0f921"
            ]
           ]
          },
          "colorway": [
           "#636efa",
           "#EF553B",
           "#00cc96",
           "#ab63fa",
           "#FFA15A",
           "#19d3f3",
           "#FF6692",
           "#B6E880",
           "#FF97FF",
           "#FECB52"
          ],
          "font": {
           "color": "#2a3f5f"
          },
          "geo": {
           "bgcolor": "white",
           "lakecolor": "white",
           "landcolor": "#E5ECF6",
           "showlakes": true,
           "showland": true,
           "subunitcolor": "white"
          },
          "hoverlabel": {
           "align": "left"
          },
          "hovermode": "closest",
          "mapbox": {
           "style": "light"
          },
          "paper_bgcolor": "white",
          "plot_bgcolor": "#E5ECF6",
          "polar": {
           "angularaxis": {
            "gridcolor": "white",
            "linecolor": "white",
            "ticks": ""
           },
           "bgcolor": "#E5ECF6",
           "radialaxis": {
            "gridcolor": "white",
            "linecolor": "white",
            "ticks": ""
           }
          },
          "scene": {
           "xaxis": {
            "backgroundcolor": "#E5ECF6",
            "gridcolor": "white",
            "gridwidth": 2,
            "linecolor": "white",
            "showbackground": true,
            "ticks": "",
            "zerolinecolor": "white"
           },
           "yaxis": {
            "backgroundcolor": "#E5ECF6",
            "gridcolor": "white",
            "gridwidth": 2,
            "linecolor": "white",
            "showbackground": true,
            "ticks": "",
            "zerolinecolor": "white"
           },
           "zaxis": {
            "backgroundcolor": "#E5ECF6",
            "gridcolor": "white",
            "gridwidth": 2,
            "linecolor": "white",
            "showbackground": true,
            "ticks": "",
            "zerolinecolor": "white"
           }
          },
          "shapedefaults": {
           "line": {
            "color": "#2a3f5f"
           }
          },
          "ternary": {
           "aaxis": {
            "gridcolor": "white",
            "linecolor": "white",
            "ticks": ""
           },
           "baxis": {
            "gridcolor": "white",
            "linecolor": "white",
            "ticks": ""
           },
           "bgcolor": "#E5ECF6",
           "caxis": {
            "gridcolor": "white",
            "linecolor": "white",
            "ticks": ""
           }
          },
          "title": {
           "x": 0.05
          },
          "xaxis": {
           "automargin": true,
           "gridcolor": "white",
           "linecolor": "white",
           "ticks": "",
           "title": {
            "standoff": 15
           },
           "zerolinecolor": "white",
           "zerolinewidth": 2
          },
          "yaxis": {
           "automargin": true,
           "gridcolor": "white",
           "linecolor": "white",
           "ticks": "",
           "title": {
            "standoff": 15
           },
           "zerolinecolor": "white",
           "zerolinewidth": 2
          }
         }
        },
        "title": {
         "text": "IP - BDR & Invest. Ext.: Investment Percentage and Liquid Patrimony"
        },
        "xaxis": {
         "anchor": "y",
         "categoryarray": [
          "10/2022",
          "10/2022",
          "10/2022",
          "10/2022",
          "10/2022",
          "10/2022",
          "10/2022",
          "10/2022",
          "10/2022",
          "10/2022",
          "10/2022",
          "10/2022",
          "10/2022",
          "11/2022",
          "11/2022",
          "11/2022",
          "11/2022",
          "11/2022",
          "11/2022",
          "11/2022",
          "11/2022",
          "11/2022",
          "11/2022",
          "11/2022",
          "11/2022",
          "11/2022",
          "12/2022",
          "12/2022",
          "12/2022",
          "12/2022",
          "12/2022",
          "12/2022",
          "12/2022",
          "12/2022",
          "12/2022",
          "12/2022",
          "12/2022",
          "12/2022",
          "12/2022",
          "01/2023",
          "01/2023",
          "01/2023",
          "01/2023",
          "01/2023",
          "01/2023",
          "01/2023",
          "01/2023",
          "01/2023",
          "01/2023",
          "01/2023",
          "01/2023",
          "01/2023",
          "02/2023",
          "02/2023",
          "02/2023",
          "02/2023",
          "02/2023",
          "02/2023",
          "02/2023",
          "02/2023",
          "02/2023",
          "02/2023",
          "02/2023",
          "02/2023",
          "02/2023",
          "03/2023",
          "03/2023",
          "03/2023",
          "03/2023",
          "03/2023",
          "03/2023",
          "03/2023",
          "03/2023",
          "03/2023",
          "03/2023",
          "03/2023",
          "03/2023",
          "03/2023",
          "04/2023",
          "04/2023",
          "04/2023",
          "04/2023",
          "04/2023",
          "04/2023",
          "04/2023",
          "04/2023",
          "04/2023",
          "04/2023",
          "04/2023",
          "04/2023",
          "05/2023",
          "05/2023",
          "05/2023",
          "05/2023",
          "05/2023",
          "05/2023",
          "05/2023",
          "05/2023",
          "05/2023",
          "05/2023",
          "05/2023",
          "05/2023",
          "05/2023",
          "05/2023",
          "06/2023",
          "06/2023",
          "06/2023",
          "06/2023",
          "06/2023",
          "06/2023",
          "06/2023",
          "06/2023",
          "06/2023",
          "06/2023",
          "06/2023",
          "06/2023",
          "06/2023",
          "06/2023",
          "07/2023",
          "07/2023",
          "07/2023",
          "07/2023",
          "07/2023",
          "07/2023",
          "07/2023",
          "07/2023",
          "07/2023",
          "07/2023",
          "07/2023",
          "07/2023",
          "08/2023",
          "08/2023",
          "08/2023",
          "08/2023",
          "08/2023",
          "08/2023",
          "08/2023",
          "08/2023",
          "08/2023",
          "08/2023",
          "08/2023",
          "09/2023",
          "09/2023",
          "09/2023",
          "09/2023",
          "09/2023",
          "09/2023",
          "09/2023",
          "09/2023",
          "09/2023",
          "09/2023",
          "09/2023",
          "09/2023",
          "10/2023",
          "10/2023",
          "10/2023",
          "10/2023",
          "10/2023",
          "10/2023",
          "10/2023",
          "10/2023",
          "10/2023",
          "10/2023",
          "10/2023",
          "10/2023",
          "11/2023",
          "11/2023",
          "11/2023",
          "11/2023",
          "11/2023",
          "11/2023",
          "11/2023",
          "11/2023",
          "11/2023",
          "12/2023",
          "12/2023",
          "12/2023",
          "12/2023",
          "12/2023",
          "12/2023",
          "12/2023",
          "12/2023",
          "12/2023",
          "12/2023",
          "01/2024",
          "01/2024",
          "01/2024",
          "01/2024",
          "01/2024",
          "01/2024",
          "01/2024",
          "01/2024",
          "01/2024",
          "01/2024",
          "02/2024",
          "02/2024",
          "02/2024",
          "02/2024",
          "02/2024",
          "02/2024",
          "02/2024",
          "02/2024",
          "02/2024",
          "02/2024",
          "03/2024",
          "03/2024",
          "03/2024",
          "03/2024",
          "03/2024",
          "03/2024",
          "03/2024",
          "03/2024",
          "03/2024",
          "03/2024",
          "04/2024",
          "04/2024",
          "04/2024",
          "04/2024",
          "04/2024",
          "04/2024",
          "04/2024",
          "04/2024",
          "04/2024",
          "04/2024",
          "05/2024",
          "05/2024",
          "05/2024",
          "05/2024",
          "05/2024",
          "05/2024",
          "05/2024",
          "05/2024",
          "05/2024",
          "05/2024",
          "06/2024",
          "06/2024",
          "06/2024",
          "06/2024",
          "06/2024",
          "06/2024",
          "06/2024",
          "06/2024",
          "06/2024",
          "07/2024",
          "07/2024",
          "07/2024",
          "07/2024",
          "07/2024",
          "07/2024",
          "07/2024",
          "07/2024",
          "07/2024",
          "08/2024",
          "08/2024",
          "08/2024",
          "08/2024",
          "08/2024",
          "08/2024",
          "08/2024",
          "08/2024",
          "08/2024",
          "09/2024",
          "09/2024",
          "09/2024",
          "09/2024",
          "09/2024",
          "09/2024",
          "09/2024",
          "09/2024",
          "09/2024",
          "09/2024"
         ],
         "categoryorder": "array",
         "domain": [
          0,
          1
         ],
         "title": {
          "text": "Month"
         }
        },
        "yaxis": {
         "anchor": "x",
         "domain": [
          0,
          1
         ],
         "title": {
          "text": "Percentage (%)"
         }
        },
        "yaxis2": {
         "anchor": "x",
         "overlaying": "y",
         "side": "right",
         "tickfont": {
          "color": "black"
         },
         "title": {
          "font": {
           "color": "black"
          },
          "text": "Liquid Patrimony (R$)"
         }
        }
       }
      }
     },
     "metadata": {},
     "output_type": "display_data"
    },
    {
     "data": {
      "text/html": [
       "<div><style>\n",
       ".dataframe > thead > tr,\n",
       ".dataframe > tbody > tr {\n",
       "  text-align: right;\n",
       "  white-space: pre-wrap;\n",
       "}\n",
       "</style>\n",
       "<small>shape: (474, 12)</small><table border=\"1\" class=\"dataframe\"><thead><tr><th>funds</th><th>month</th><th>liquid_patrimony</th><th>investment</th><th>percentage</th><th>value</th><th>ticker</th><th>company_country</th><th>area_of_work</th><th>investment_type</th><th>date_for_sort</th><th>rentability</th></tr><tr><td>str</td><td>str</td><td>f64</td><td>str</td><td>f64</td><td>f64</td><td>str</td><td>str</td><td>str</td><td>str</td><td>datetime[μs]</td><td>f64</td></tr></thead><tbody><tr><td>&quot;IP&quot;</td><td>&quot;09/2024&quot;</td><td>5.9431e8</td><td>&quot;BDR - GOGL34 DT. INI. VIGEN.: …</td><td>0.06952</td><td>4.1317e7</td><td>&quot;GOOGL&quot;</td><td>&quot;USA&quot;</td><td>&quot;Technology and Search Engine&quot;</td><td>&quot;BDR&quot;</td><td>2024-09-01 00:00:00</td><td>0.006624</td></tr><tr><td>&quot;IP&quot;</td><td>&quot;09/2024&quot;</td><td>5.9431e8</td><td>&quot;BDR - MSCD34 DT. INI. VIGEN.: …</td><td>0.03453</td><td>2.0522e7</td><td>&quot;MA&quot;</td><td>&quot;USA&quot;</td><td>&quot;Financial Services&quot;</td><td>&quot;BDR&quot;</td><td>2024-09-01 00:00:00</td><td>0.006624</td></tr><tr><td>&quot;IP&quot;</td><td>&quot;09/2024&quot;</td><td>5.9431e8</td><td>&quot;BDR - NFLX34 DT. INI. VIGEN.: …</td><td>0.02366</td><td>1.4061e7</td><td>&quot;NFLX&quot;</td><td>&quot;USA&quot;</td><td>&quot;Entertainment and Streaming&quot;</td><td>&quot;BDR&quot;</td><td>2024-09-01 00:00:00</td><td>0.006624</td></tr><tr><td>&quot;IP&quot;</td><td>&quot;09/2024&quot;</td><td>5.9431e8</td><td>&quot;BDR - AIRB34 DT. INI. VIGEN.: …</td><td>0.0212</td><td>1.2599e7</td><td>&quot;ABNB&quot;</td><td>&quot;USA&quot;</td><td>&quot;Travel and Hospitality&quot;</td><td>&quot;BDR&quot;</td><td>2024-09-01 00:00:00</td><td>0.006624</td></tr><tr><td>&quot;IP&quot;</td><td>&quot;09/2024&quot;</td><td>5.9431e8</td><td>&quot;Invest. Ext. - IP PART INTL CL&quot;</td><td>0.22687</td><td>1.3483e8</td><td>&quot;Fundo&quot;</td><td>&quot;International&quot;</td><td>&quot;Investment Fund&quot;</td><td>&quot;Invest. Ext.&quot;</td><td>2024-09-01 00:00:00</td><td>0.006624</td></tr><tr><td>&hellip;</td><td>&hellip;</td><td>&hellip;</td><td>&hellip;</td><td>&hellip;</td><td>&hellip;</td><td>&hellip;</td><td>&hellip;</td><td>&hellip;</td><td>&hellip;</td><td>&hellip;</td><td>&hellip;</td></tr><tr><td>&quot;IP&quot;</td><td>&quot;10/2022&quot;</td><td>5.5978e8</td><td>&quot;Invest. Ext. - CHARTER COMMUNI…</td><td>0.00934</td><td>5.2284e6</td><td>&quot;CHTR&quot;</td><td>&quot;USA&quot;</td><td>&quot;Telecomunications&quot;</td><td>&quot;Invest. Ext.&quot;</td><td>2022-10-01 00:00:00</td><td>0.054508</td></tr><tr><td>&quot;IP&quot;</td><td>&quot;10/2022&quot;</td><td>5.5978e8</td><td>&quot;Invest. Ext. - MICROSOFT CORPO…</td><td>0.00922</td><td>5.1612e6</td><td>&quot;MSFT&quot;</td><td>&quot;USA&quot;</td><td>&quot;Technology and Software&quot;</td><td>&quot;Invest. Ext.&quot;</td><td>2022-10-01 00:00:00</td><td>0.054508</td></tr><tr><td>&quot;IP&quot;</td><td>&quot;10/2022&quot;</td><td>5.5978e8</td><td>&quot;Invest. Ext. - AMAZON.COM INC&quot;</td><td>0.00583</td><td>3.2635e6</td><td>&quot;AMZN&quot;</td><td>&quot;USA&quot;</td><td>&quot;E-commerce and Cloud Computing&quot;</td><td>&quot;Invest. Ext.&quot;</td><td>2022-10-01 00:00:00</td><td>0.054508</td></tr><tr><td>&quot;IP&quot;</td><td>&quot;10/2022&quot;</td><td>5.5978e8</td><td>&quot;Invest. Ext. - GOOGLE&quot;</td><td>0.00371</td><td>2.0768e6</td><td>&quot;GOOGL&quot;</td><td>&quot;USA&quot;</td><td>&quot;Technology and Search Engine&quot;</td><td>&quot;Invest. Ext.&quot;</td><td>2022-10-01 00:00:00</td><td>0.054508</td></tr><tr><td>&quot;IP&quot;</td><td>&quot;10/2022&quot;</td><td>5.5978e8</td><td>&quot;Invest. Ext. - LIBERTY BROADBA…</td><td>0.00143</td><td>800488.048703</td><td>&quot;LBRD&quot;</td><td>&quot;USA&quot;</td><td>&quot;Telecomunications&quot;</td><td>&quot;Invest. Ext.&quot;</td><td>2022-10-01 00:00:00</td><td>0.054508</td></tr></tbody></table></div>"
      ],
      "text/plain": [
       "shape: (474, 12)\n",
       "┌───────┬─────────┬────────────┬────────────┬───┬────────────┬────────────┬────────────┬───────────┐\n",
       "│ funds ┆ month   ┆ liquid_pat ┆ investment ┆ … ┆ area_of_wo ┆ investment ┆ date_for_s ┆ rentabili │\n",
       "│ ---   ┆ ---     ┆ rimony     ┆ ---        ┆   ┆ rk         ┆ _type      ┆ ort        ┆ ty        │\n",
       "│ str   ┆ str     ┆ ---        ┆ str        ┆   ┆ ---        ┆ ---        ┆ ---        ┆ ---       │\n",
       "│       ┆         ┆ f64        ┆            ┆   ┆ str        ┆ str        ┆ datetime[μ ┆ f64       │\n",
       "│       ┆         ┆            ┆            ┆   ┆            ┆            ┆ s]         ┆           │\n",
       "╞═══════╪═════════╪════════════╪════════════╪═══╪════════════╪════════════╪════════════╪═══════════╡\n",
       "│ IP    ┆ 09/2024 ┆ 5.9431e8   ┆ BDR -      ┆ … ┆ Technology ┆ BDR        ┆ 2024-09-01 ┆ 0.006624  │\n",
       "│       ┆         ┆            ┆ GOGL34 DT. ┆   ┆ and Search ┆            ┆ 00:00:00   ┆           │\n",
       "│       ┆         ┆            ┆ INI.       ┆   ┆ Engine     ┆            ┆            ┆           │\n",
       "│       ┆         ┆            ┆ VIGEN.: …  ┆   ┆            ┆            ┆            ┆           │\n",
       "│ IP    ┆ 09/2024 ┆ 5.9431e8   ┆ BDR -      ┆ … ┆ Financial  ┆ BDR        ┆ 2024-09-01 ┆ 0.006624  │\n",
       "│       ┆         ┆            ┆ MSCD34 DT. ┆   ┆ Services   ┆            ┆ 00:00:00   ┆           │\n",
       "│       ┆         ┆            ┆ INI.       ┆   ┆            ┆            ┆            ┆           │\n",
       "│       ┆         ┆            ┆ VIGEN.: …  ┆   ┆            ┆            ┆            ┆           │\n",
       "│ IP    ┆ 09/2024 ┆ 5.9431e8   ┆ BDR -      ┆ … ┆ Entertainm ┆ BDR        ┆ 2024-09-01 ┆ 0.006624  │\n",
       "│       ┆         ┆            ┆ NFLX34 DT. ┆   ┆ ent and    ┆            ┆ 00:00:00   ┆           │\n",
       "│       ┆         ┆            ┆ INI.       ┆   ┆ Streaming  ┆            ┆            ┆           │\n",
       "│       ┆         ┆            ┆ VIGEN.: …  ┆   ┆            ┆            ┆            ┆           │\n",
       "│ IP    ┆ 09/2024 ┆ 5.9431e8   ┆ BDR -      ┆ … ┆ Travel and ┆ BDR        ┆ 2024-09-01 ┆ 0.006624  │\n",
       "│       ┆         ┆            ┆ AIRB34 DT. ┆   ┆ Hospitalit ┆            ┆ 00:00:00   ┆           │\n",
       "│       ┆         ┆            ┆ INI.       ┆   ┆ y          ┆            ┆            ┆           │\n",
       "│       ┆         ┆            ┆ VIGEN.: …  ┆   ┆            ┆            ┆            ┆           │\n",
       "│ IP    ┆ 09/2024 ┆ 5.9431e8   ┆ Invest.    ┆ … ┆ Investment ┆ Invest.    ┆ 2024-09-01 ┆ 0.006624  │\n",
       "│       ┆         ┆            ┆ Ext. - IP  ┆   ┆ Fund       ┆ Ext.       ┆ 00:00:00   ┆           │\n",
       "│       ┆         ┆            ┆ PART INTL  ┆   ┆            ┆            ┆            ┆           │\n",
       "│       ┆         ┆            ┆ CL         ┆   ┆            ┆            ┆            ┆           │\n",
       "│ …     ┆ …       ┆ …          ┆ …          ┆ … ┆ …          ┆ …          ┆ …          ┆ …         │\n",
       "│ IP    ┆ 10/2022 ┆ 5.5978e8   ┆ Invest.    ┆ … ┆ Telecomuni ┆ Invest.    ┆ 2022-10-01 ┆ 0.054508  │\n",
       "│       ┆         ┆            ┆ Ext. -     ┆   ┆ cations    ┆ Ext.       ┆ 00:00:00   ┆           │\n",
       "│       ┆         ┆            ┆ CHARTER    ┆   ┆            ┆            ┆            ┆           │\n",
       "│       ┆         ┆            ┆ COMMUNI…   ┆   ┆            ┆            ┆            ┆           │\n",
       "│ IP    ┆ 10/2022 ┆ 5.5978e8   ┆ Invest.    ┆ … ┆ Technology ┆ Invest.    ┆ 2022-10-01 ┆ 0.054508  │\n",
       "│       ┆         ┆            ┆ Ext. -     ┆   ┆ and        ┆ Ext.       ┆ 00:00:00   ┆           │\n",
       "│       ┆         ┆            ┆ MICROSOFT  ┆   ┆ Software   ┆            ┆            ┆           │\n",
       "│       ┆         ┆            ┆ CORPO…     ┆   ┆            ┆            ┆            ┆           │\n",
       "│ IP    ┆ 10/2022 ┆ 5.5978e8   ┆ Invest.    ┆ … ┆ E-commerce ┆ Invest.    ┆ 2022-10-01 ┆ 0.054508  │\n",
       "│       ┆         ┆            ┆ Ext. -     ┆   ┆ and Cloud  ┆ Ext.       ┆ 00:00:00   ┆           │\n",
       "│       ┆         ┆            ┆ AMAZON.COM ┆   ┆ Computing  ┆            ┆            ┆           │\n",
       "│       ┆         ┆            ┆ INC        ┆   ┆            ┆            ┆            ┆           │\n",
       "│ IP    ┆ 10/2022 ┆ 5.5978e8   ┆ Invest.    ┆ … ┆ Technology ┆ Invest.    ┆ 2022-10-01 ┆ 0.054508  │\n",
       "│       ┆         ┆            ┆ Ext. -     ┆   ┆ and Search ┆ Ext.       ┆ 00:00:00   ┆           │\n",
       "│       ┆         ┆            ┆ GOOGLE     ┆   ┆ Engine     ┆            ┆            ┆           │\n",
       "│ IP    ┆ 10/2022 ┆ 5.5978e8   ┆ Invest.    ┆ … ┆ Telecomuni ┆ Invest.    ┆ 2022-10-01 ┆ 0.054508  │\n",
       "│       ┆         ┆            ┆ Ext. -     ┆   ┆ cations    ┆ Ext.       ┆ 00:00:00   ┆           │\n",
       "│       ┆         ┆            ┆ LIBERTY    ┆   ┆            ┆            ┆            ┆           │\n",
       "│       ┆         ┆            ┆ BROADBA…   ┆   ┆            ┆            ┆            ┆           │\n",
       "└───────┴─────────┴────────────┴────────────┴───┴────────────┴────────────┴────────────┴───────────┘"
      ]
     },
     "metadata": {},
     "output_type": "display_data"
    },
    {
     "data": {
      "application/vnd.plotly.v1+json": {
       "config": {
        "plotlyServerURL": "https://plot.ly"
       },
       "data": [
        {
         "alignmentgroup": "True",
         "hovertemplate": "<b>%{x}</b><br>Ticker: %{fullData.name}<br>Percentage: %{y:.2f}%<br>",
         "legendgroup": "Fundo",
         "marker": {
          "color": "#636efa",
          "pattern": {
           "shape": ""
          }
         },
         "name": "Fundo",
         "offsetgroup": "Fundo",
         "orientation": "v",
         "showlegend": true,
         "textposition": "auto",
         "type": "bar",
         "x": [
          "10/2022",
          "11/2022",
          "12/2022",
          "01/2023",
          "02/2023",
          "03/2023",
          "04/2023",
          "05/2023",
          "06/2023",
          "07/2023",
          "08/2023",
          "09/2023",
          "10/2023",
          "11/2023",
          "12/2023",
          "01/2024",
          "02/2024",
          "03/2024",
          "04/2024",
          "05/2024",
          "06/2024",
          "07/2024",
          "08/2024",
          "09/2024"
         ],
         "xaxis": "x",
         "y": [
          0.13867,
          0.14098,
          0.14581,
          0.15574000000000002,
          0.15842,
          0.12068,
          0.11871999999999999,
          0.12755,
          0.12933,
          0.13565,
          0.17502,
          0.16291,
          0.16999,
          0.19949999999999998,
          0.2009,
          0.22002999999999998,
          0.24473999999999999,
          0.23828000000000002,
          0.21828999999999998,
          0.24507,
          0.23067,
          0.20281000000000002,
          0.21335,
          0.22904
         ],
         "yaxis": "y"
        },
        {
         "alignmentgroup": "True",
         "hovertemplate": "<b>%{x}</b><br>Ticker: %{fullData.name}<br>Percentage: %{y:.2f}%<br>",
         "legendgroup": "GOOGL",
         "marker": {
          "color": "#EF553B",
          "pattern": {
           "shape": ""
          }
         },
         "name": "GOOGL",
         "offsetgroup": "GOOGL",
         "orientation": "v",
         "showlegend": true,
         "textposition": "auto",
         "type": "bar",
         "x": [
          "10/2022",
          "11/2022",
          "12/2022",
          "01/2023",
          "02/2023",
          "03/2023",
          "04/2023",
          "05/2023",
          "06/2023",
          "07/2023",
          "08/2023",
          "09/2023",
          "10/2023",
          "11/2023",
          "12/2023",
          "01/2024",
          "02/2024",
          "03/2024",
          "04/2024",
          "05/2024",
          "06/2024",
          "07/2024",
          "08/2024",
          "09/2024"
         ],
         "xaxis": "x",
         "y": [
          0.04783,
          0.052489999999999995,
          0.04832,
          0.06071,
          0.05137,
          0.07246,
          0.06737,
          0.08202000000000001,
          0.06661,
          0.07601000000000001,
          0.08148,
          0.09077,
          0.08539000000000001,
          0.08158,
          0.08226,
          0.08802,
          0.08965000000000001,
          0.09920000000000001,
          0.11610999999999999,
          0.1084,
          0.11555,
          0.09627000000000001,
          0.09280000000000001,
          0.07596
         ],
         "yaxis": "y"
        },
        {
         "alignmentgroup": "True",
         "hovertemplate": "<b>%{x}</b><br>Ticker: %{fullData.name}<br>Percentage: %{y:.2f}%<br>",
         "legendgroup": "BERK",
         "marker": {
          "color": "#00cc96",
          "pattern": {
           "shape": ""
          }
         },
         "name": "BERK",
         "offsetgroup": "BERK",
         "orientation": "v",
         "showlegend": true,
         "textposition": "auto",
         "type": "bar",
         "x": [
          "10/2022",
          "11/2022",
          "12/2022",
          "01/2023",
          "02/2023",
          "03/2023",
          "04/2023",
          "05/2023",
          "06/2023",
          "07/2023",
          "08/2023",
          "09/2023",
          "10/2023",
          "11/2023",
          "12/2023",
          "01/2024",
          "02/2024",
          "03/2024",
          "04/2024",
          "05/2024"
         ],
         "xaxis": "x",
         "y": [
          0.06682,
          0.07397000000000001,
          0.051430000000000003,
          0.04021,
          0.04353,
          0.10496,
          0.1078,
          0.09489,
          0.07994,
          0.06441,
          0.0636,
          0.05636000000000001,
          0.0573,
          0.05376,
          0.05077,
          0.04178,
          0.03318,
          0.020890000000000002,
          0.02064,
          0.01219
         ],
         "yaxis": "y"
        },
        {
         "alignmentgroup": "True",
         "hovertemplate": "<b>%{x}</b><br>Ticker: %{fullData.name}<br>Percentage: %{y:.2f}%<br>",
         "legendgroup": "MA",
         "marker": {
          "color": "#ab63fa",
          "pattern": {
           "shape": ""
          }
         },
         "name": "MA",
         "offsetgroup": "MA",
         "orientation": "v",
         "showlegend": true,
         "textposition": "auto",
         "type": "bar",
         "x": [
          "10/2022",
          "11/2022",
          "12/2022",
          "01/2023",
          "02/2023",
          "03/2023",
          "04/2023",
          "05/2023",
          "06/2023",
          "07/2023",
          "08/2023",
          "09/2023",
          "10/2023",
          "11/2023",
          "12/2023",
          "01/2024",
          "02/2024",
          "03/2024",
          "04/2024",
          "05/2024",
          "06/2024",
          "07/2024",
          "08/2024",
          "09/2024"
         ],
         "xaxis": "x",
         "y": [
          0.02727,
          0.03042,
          0.03128,
          0.03929,
          0.04144,
          0.04158,
          0.04193,
          0.03553,
          0.03426,
          0.03298,
          0.03607,
          0.036109999999999996,
          0.03589,
          0.0353,
          0.03481,
          0.03691,
          0.03796,
          0.03909,
          0.039740000000000004,
          0.039830000000000004,
          0.04152,
          0.04465,
          0.04475,
          0.04237
         ],
         "yaxis": "y"
        },
        {
         "alignmentgroup": "True",
         "hovertemplate": "<b>%{x}</b><br>Ticker: %{fullData.name}<br>Percentage: %{y:.2f}%<br>",
         "legendgroup": "TMO",
         "marker": {
          "color": "#FFA15A",
          "pattern": {
           "shape": ""
          }
         },
         "name": "TMO",
         "offsetgroup": "TMO",
         "orientation": "v",
         "showlegend": true,
         "textposition": "auto",
         "type": "bar",
         "x": [
          "10/2022",
          "11/2022",
          "12/2022",
          "01/2023",
          "02/2023",
          "03/2023",
          "04/2023",
          "05/2023",
          "06/2023",
          "07/2023",
          "08/2023",
          "09/2023",
          "10/2023",
          "11/2023",
          "12/2023",
          "01/2024",
          "02/2024",
          "03/2024",
          "04/2024",
          "05/2024",
          "06/2024",
          "07/2024"
         ],
         "xaxis": "x",
         "y": [
          0.04627,
          0.05181,
          0.04469,
          0.0385,
          0.04042,
          0.04217,
          0.03916,
          0.04051999999999999,
          0.03722,
          0.03757,
          0.03682,
          0.03491,
          0.03208,
          0.03199,
          0.03276,
          0.03349,
          0.03448,
          0.03266,
          0.03151,
          0.02022,
          0.02015,
          0.02186
         ],
         "yaxis": "y"
        },
        {
         "alignmentgroup": "True",
         "hovertemplate": "<b>%{x}</b><br>Ticker: %{fullData.name}<br>Percentage: %{y:.2f}%<br>",
         "legendgroup": "TDG",
         "marker": {
          "color": "#19d3f3",
          "pattern": {
           "shape": ""
          }
         },
         "name": "TDG",
         "offsetgroup": "TDG",
         "orientation": "v",
         "showlegend": true,
         "textposition": "auto",
         "type": "bar",
         "x": [
          "10/2022",
          "11/2022",
          "12/2022",
          "01/2023",
          "02/2023",
          "03/2023",
          "04/2023",
          "05/2023",
          "06/2023",
          "07/2023",
          "08/2023",
          "09/2023",
          "10/2023",
          "11/2023",
          "12/2023",
          "01/2024",
          "02/2024",
          "03/2024",
          "04/2024",
          "05/2024",
          "06/2024",
          "07/2024",
          "08/2024",
          "09/2024"
         ],
         "xaxis": "x",
         "y": [
          0.037739999999999996,
          0.042319999999999997,
          0.04467,
          0.04739,
          0.049199999999999994,
          0.023030000000000002,
          0.02306,
          0.023280000000000002,
          0.02409,
          0.02327,
          0.02442,
          0.02378,
          0.02442,
          0.0254,
          0.02553,
          0.02776,
          0.029109999999999997,
          0.03091,
          0.03399,
          0.036989999999999995,
          0.037180000000000005,
          0.04004,
          0.04086,
          0.04061
         ],
         "yaxis": "y"
        },
        {
         "alignmentgroup": "True",
         "hovertemplate": "<b>%{x}</b><br>Ticker: %{fullData.name}<br>Percentage: %{y:.2f}%<br>",
         "legendgroup": "NFLX",
         "marker": {
          "color": "#FF6692",
          "pattern": {
           "shape": ""
          }
         },
         "name": "NFLX",
         "offsetgroup": "NFLX",
         "orientation": "v",
         "showlegend": true,
         "textposition": "auto",
         "type": "bar",
         "x": [
          "10/2022",
          "11/2022",
          "12/2022",
          "01/2023",
          "02/2023",
          "03/2023",
          "04/2023",
          "05/2023",
          "06/2023",
          "07/2023",
          "08/2023",
          "09/2023",
          "10/2023",
          "11/2023",
          "12/2023",
          "01/2024",
          "02/2024",
          "03/2024",
          "04/2024",
          "05/2024",
          "06/2024",
          "07/2024",
          "08/2024",
          "09/2024"
         ],
         "xaxis": "x",
         "y": [
          0.04038,
          0.03831,
          0.03895,
          0.03313,
          0.02821,
          0.029670000000000002,
          0.02261,
          0.02704,
          0.026969999999999997,
          0.0258,
          0.026639999999999997,
          0.024209999999999995,
          0.0276,
          0.028429999999999997,
          0.02793,
          0.03257,
          0.03388,
          0.03465,
          0.037059999999999996,
          0.03939,
          0.03632,
          0.03253,
          0.02964,
          0.02366
         ],
         "yaxis": "y"
        },
        {
         "alignmentgroup": "True",
         "hovertemplate": "<b>%{x}</b><br>Ticker: %{fullData.name}<br>Percentage: %{y:.2f}%<br>",
         "legendgroup": "V",
         "marker": {
          "color": "#B6E880",
          "pattern": {
           "shape": ""
          }
         },
         "name": "V",
         "offsetgroup": "V",
         "orientation": "v",
         "showlegend": true,
         "textposition": "auto",
         "type": "bar",
         "x": [
          "06/2023",
          "07/2023",
          "08/2023",
          "09/2023",
          "10/2023",
          "11/2023",
          "12/2023",
          "01/2024",
          "02/2024",
          "03/2024",
          "04/2024",
          "05/2024",
          "06/2024",
          "07/2024",
          "08/2024",
          "09/2024"
         ],
         "xaxis": "x",
         "y": [
          0.02064,
          0.01983,
          0.03008,
          0.02939,
          0.03142,
          0.03068,
          0.02977,
          0.03146,
          0.03166,
          0.03174,
          0.03315,
          0.034,
          0.03461,
          0.03725,
          0.03726,
          0.03545
         ],
         "yaxis": "y"
        },
        {
         "alignmentgroup": "True",
         "hovertemplate": "<b>%{x}</b><br>Ticker: %{fullData.name}<br>Percentage: %{y:.2f}%<br>",
         "legendgroup": "LBRD",
         "marker": {
          "color": "#FF97FF",
          "pattern": {
           "shape": ""
          }
         },
         "name": "LBRD",
         "offsetgroup": "LBRD",
         "orientation": "v",
         "showlegend": true,
         "textposition": "auto",
         "type": "bar",
         "x": [
          "10/2022",
          "11/2022",
          "12/2022",
          "01/2023",
          "02/2023",
          "03/2023",
          "04/2023",
          "05/2023",
          "06/2023",
          "07/2023",
          "08/2023",
          "09/2023",
          "10/2023"
         ],
         "xaxis": "x",
         "y": [
          0.03074,
          0.03398000000000001,
          0.03006,
          0.03292,
          0.03513,
          0.03248,
          0.03252,
          0.02837,
          0.02746,
          0.02933,
          0.03217,
          0.03277,
          0.0298
         ],
         "yaxis": "y"
        },
        {
         "alignmentgroup": "True",
         "hovertemplate": "<b>%{x}</b><br>Ticker: %{fullData.name}<br>Percentage: %{y:.2f}%<br>",
         "legendgroup": "MSFT",
         "marker": {
          "color": "#FECB52",
          "pattern": {
           "shape": ""
          }
         },
         "name": "MSFT",
         "offsetgroup": "MSFT",
         "orientation": "v",
         "showlegend": true,
         "textposition": "auto",
         "type": "bar",
         "x": [
          "10/2022",
          "11/2022",
          "12/2022",
          "01/2023",
          "02/2023",
          "03/2023",
          "04/2023",
          "05/2023",
          "06/2023",
          "09/2024"
         ],
         "xaxis": "x",
         "y": [
          0.03965,
          0.044770000000000004,
          0.04378,
          0.04211,
          0.029560000000000003,
          0.030559999999999997,
          0.027179999999999996,
          0.02338,
          0.01021,
          0.00149
         ],
         "yaxis": "y"
        },
        {
         "alignmentgroup": "True",
         "hovertemplate": "<b>%{x}</b><br>Ticker: %{fullData.name}<br>Percentage: %{y:.2f}%<br>",
         "legendgroup": "ABNB",
         "marker": {
          "color": "#636efa",
          "pattern": {
           "shape": ""
          }
         },
         "name": "ABNB",
         "offsetgroup": "ABNB",
         "orientation": "v",
         "showlegend": true,
         "textposition": "auto",
         "type": "bar",
         "x": [
          "09/2023",
          "10/2023",
          "11/2023",
          "12/2023",
          "01/2024",
          "02/2024",
          "03/2024",
          "04/2024",
          "05/2024",
          "06/2024",
          "07/2024",
          "08/2024",
          "09/2024"
         ],
         "xaxis": "x",
         "y": [
          0.00936,
          0.00844,
          0.008060000000000001,
          0.00831,
          0.01473,
          0.01566,
          0.01665,
          0.01737,
          0.02345,
          0.02592,
          0.02537,
          0.02051,
          0.0212
         ],
         "yaxis": "y"
        },
        {
         "alignmentgroup": "True",
         "hovertemplate": "<b>%{x}</b><br>Ticker: %{fullData.name}<br>Percentage: %{y:.2f}%<br>",
         "legendgroup": "AMZN",
         "marker": {
          "color": "#EF553B",
          "pattern": {
           "shape": ""
          }
         },
         "name": "AMZN",
         "offsetgroup": "AMZN",
         "orientation": "v",
         "showlegend": true,
         "textposition": "auto",
         "type": "bar",
         "x": [
          "10/2022",
          "11/2022",
          "12/2022",
          "01/2023",
          "02/2023",
          "03/2023",
          "05/2023",
          "08/2024",
          "09/2024"
         ],
         "xaxis": "x",
         "y": [
          0.03486,
          0.0299,
          0.02742,
          0.02682,
          0.02708,
          0.014369999999999999,
          0.005639999999999999,
          0.01543,
          0.0154
         ],
         "yaxis": "y"
        },
        {
         "alignmentgroup": "True",
         "hovertemplate": "<b>%{x}</b><br>Ticker: %{fullData.name}<br>Percentage: %{y:.2f}%<br>",
         "legendgroup": "SCHW",
         "marker": {
          "color": "#00cc96",
          "pattern": {
           "shape": ""
          }
         },
         "name": "SCHW",
         "offsetgroup": "SCHW",
         "orientation": "v",
         "showlegend": true,
         "textposition": "auto",
         "type": "bar",
         "x": [
          "10/2022",
          "11/2022",
          "12/2022",
          "01/2023",
          "02/2023"
         ],
         "xaxis": "x",
         "y": [
          0.03823,
          0.02972,
          0.03159,
          0.03094,
          0.03441
         ],
         "yaxis": "y"
        },
        {
         "alignmentgroup": "True",
         "hovertemplate": "<b>%{x}</b><br>Ticker: %{fullData.name}<br>Percentage: %{y:.2f}%<br>",
         "legendgroup": "CHTR",
         "marker": {
          "color": "#ab63fa",
          "pattern": {
           "shape": ""
          }
         },
         "name": "CHTR",
         "offsetgroup": "CHTR",
         "orientation": "v",
         "showlegend": true,
         "textposition": "auto",
         "type": "bar",
         "x": [
          "10/2022",
          "11/2022",
          "12/2022",
          "01/2023",
          "02/2023",
          "03/2023",
          "04/2023",
          "05/2023",
          "06/2023",
          "07/2023",
          "08/2023",
          "09/2023",
          "10/2023"
         ],
         "xaxis": "x",
         "y": [
          0.009340000000000001,
          0.01022,
          0.00933,
          0.0152,
          0.01607,
          0.0106,
          0.00621,
          0.00548,
          0.00553,
          0.00586,
          0.00263,
          0.00275,
          0.00115
         ],
         "yaxis": "y"
        },
        {
         "alignmentgroup": "True",
         "hovertemplate": "<b>%{x}</b><br>Ticker: %{fullData.name}<br>Percentage: %{y:.2f}%<br>",
         "legendgroup": "DHER",
         "marker": {
          "color": "#FFA15A",
          "pattern": {
           "shape": ""
          }
         },
         "name": "DHER",
         "offsetgroup": "DHER",
         "orientation": "v",
         "showlegend": true,
         "textposition": "auto",
         "type": "bar",
         "x": [
          "05/2023",
          "06/2023",
          "07/2023",
          "08/2023",
          "09/2023",
          "01/2024",
          "02/2024",
          "03/2024",
          "04/2024"
         ],
         "xaxis": "x",
         "y": [
          0.01793,
          0.01678,
          0.01712,
          0.01756,
          0.01716,
          0.00313,
          0.00322,
          0.00322,
          0.00345
         ],
         "yaxis": "y"
        },
        {
         "alignmentgroup": "True",
         "hovertemplate": "<b>%{x}</b><br>Ticker: %{fullData.name}<br>Percentage: %{y:.2f}%<br>",
         "legendgroup": "META",
         "marker": {
          "color": "#19d3f3",
          "pattern": {
           "shape": ""
          }
         },
         "name": "META",
         "offsetgroup": "META",
         "orientation": "v",
         "showlegend": true,
         "textposition": "auto",
         "type": "bar",
         "x": [
          "06/2024",
          "07/2024",
          "08/2024",
          "09/2024"
         ],
         "xaxis": "x",
         "y": [
          0.0071,
          0.02086,
          0.02202,
          0.03675
         ],
         "yaxis": "y"
        },
        {
         "alignmentgroup": "True",
         "hovertemplate": "<b>%{x}</b><br>Ticker: %{fullData.name}<br>Percentage: %{y:.2f}%<br>",
         "legendgroup": "OXY",
         "marker": {
          "color": "#FF6692",
          "pattern": {
           "shape": ""
          }
         },
         "name": "OXY",
         "offsetgroup": "OXY",
         "orientation": "v",
         "showlegend": true,
         "textposition": "auto",
         "type": "bar",
         "x": [
          "03/2023",
          "04/2023"
         ],
         "xaxis": "x",
         "y": [
          0.01076,
          0.01023
         ],
         "yaxis": "y"
        },
        {
         "alignmentgroup": "True",
         "hovertemplate": "<b>%{x}</b><br>Ticker: %{fullData.name}<br>Percentage: %{y:.2f}%<br>",
         "legendgroup": "ACN",
         "marker": {
          "color": "#B6E880",
          "pattern": {
           "shape": ""
          }
         },
         "name": "ACN",
         "offsetgroup": "ACN",
         "orientation": "v",
         "showlegend": true,
         "textposition": "auto",
         "type": "bar",
         "x": [
          "05/2023",
          "06/2023"
         ],
         "xaxis": "x",
         "y": [
          0.005350000000000001,
          0.00483
         ],
         "yaxis": "y"
        },
        {
         "hovertemplate": "<b>%{x}</b><br>Liquid Patrimony: R$ %{y:,.2f}<br>",
         "line": {
          "color": "black",
          "width": 3
         },
         "marker": {
          "color": "black",
          "size": 8
         },
         "mode": "lines+markers",
         "name": "Liquid Patrimony",
         "type": "scatter",
         "x": [
          "10/2022",
          "11/2022",
          "12/2022",
          "01/2023",
          "02/2023",
          "03/2023",
          "04/2023",
          "05/2023",
          "06/2023",
          "07/2023",
          "08/2023",
          "09/2023",
          "10/2023",
          "11/2023",
          "12/2023",
          "01/2024",
          "02/2024",
          "03/2024",
          "04/2024",
          "05/2024",
          "06/2024",
          "07/2024",
          "08/2024",
          "09/2024"
         ],
         "y": [
          559781852.24,
          550207940.47,
          528919057.38,
          546775878.21,
          508029989.39,
          503404953.55,
          512947647.42,
          523133309.26,
          550717156.07,
          567633973.11,
          567673199.95,
          553065359.89,
          529684557.77,
          578777647.89,
          596724653.21,
          603370759.41,
          623056929.55,
          618455048.38,
          590310332.96,
          590842748.87,
          594763212.21,
          564935948.66,
          589008407.28,
          594311739.9
         ],
         "yaxis": "y2"
        }
       ],
       "layout": {
        "barmode": "relative",
        "height": 600,
        "hovermode": "closest",
        "legend": {
         "title": {
          "text": "Ticker"
         },
         "tracegroupgap": 0
        },
        "template": {
         "data": {
          "bar": [
           {
            "error_x": {
             "color": "#2a3f5f"
            },
            "error_y": {
             "color": "#2a3f5f"
            },
            "marker": {
             "line": {
              "color": "#E5ECF6",
              "width": 0.5
             },
             "pattern": {
              "fillmode": "overlay",
              "size": 10,
              "solidity": 0.2
             }
            },
            "type": "bar"
           }
          ],
          "barpolar": [
           {
            "marker": {
             "line": {
              "color": "#E5ECF6",
              "width": 0.5
             },
             "pattern": {
              "fillmode": "overlay",
              "size": 10,
              "solidity": 0.2
             }
            },
            "type": "barpolar"
           }
          ],
          "carpet": [
           {
            "aaxis": {
             "endlinecolor": "#2a3f5f",
             "gridcolor": "white",
             "linecolor": "white",
             "minorgridcolor": "white",
             "startlinecolor": "#2a3f5f"
            },
            "baxis": {
             "endlinecolor": "#2a3f5f",
             "gridcolor": "white",
             "linecolor": "white",
             "minorgridcolor": "white",
             "startlinecolor": "#2a3f5f"
            },
            "type": "carpet"
           }
          ],
          "choropleth": [
           {
            "colorbar": {
             "outlinewidth": 0,
             "ticks": ""
            },
            "type": "choropleth"
           }
          ],
          "contour": [
           {
            "colorbar": {
             "outlinewidth": 0,
             "ticks": ""
            },
            "colorscale": [
             [
              0,
              "#0d0887"
             ],
             [
              0.1111111111111111,
              "#46039f"
             ],
             [
              0.2222222222222222,
              "#7201a8"
             ],
             [
              0.3333333333333333,
              "#9c179e"
             ],
             [
              0.4444444444444444,
              "#bd3786"
             ],
             [
              0.5555555555555556,
              "#d8576b"
             ],
             [
              0.6666666666666666,
              "#ed7953"
             ],
             [
              0.7777777777777778,
              "#fb9f3a"
             ],
             [
              0.8888888888888888,
              "#fdca26"
             ],
             [
              1,
              "#f0f921"
             ]
            ],
            "type": "contour"
           }
          ],
          "contourcarpet": [
           {
            "colorbar": {
             "outlinewidth": 0,
             "ticks": ""
            },
            "type": "contourcarpet"
           }
          ],
          "heatmap": [
           {
            "colorbar": {
             "outlinewidth": 0,
             "ticks": ""
            },
            "colorscale": [
             [
              0,
              "#0d0887"
             ],
             [
              0.1111111111111111,
              "#46039f"
             ],
             [
              0.2222222222222222,
              "#7201a8"
             ],
             [
              0.3333333333333333,
              "#9c179e"
             ],
             [
              0.4444444444444444,
              "#bd3786"
             ],
             [
              0.5555555555555556,
              "#d8576b"
             ],
             [
              0.6666666666666666,
              "#ed7953"
             ],
             [
              0.7777777777777778,
              "#fb9f3a"
             ],
             [
              0.8888888888888888,
              "#fdca26"
             ],
             [
              1,
              "#f0f921"
             ]
            ],
            "type": "heatmap"
           }
          ],
          "heatmapgl": [
           {
            "colorbar": {
             "outlinewidth": 0,
             "ticks": ""
            },
            "colorscale": [
             [
              0,
              "#0d0887"
             ],
             [
              0.1111111111111111,
              "#46039f"
             ],
             [
              0.2222222222222222,
              "#7201a8"
             ],
             [
              0.3333333333333333,
              "#9c179e"
             ],
             [
              0.4444444444444444,
              "#bd3786"
             ],
             [
              0.5555555555555556,
              "#d8576b"
             ],
             [
              0.6666666666666666,
              "#ed7953"
             ],
             [
              0.7777777777777778,
              "#fb9f3a"
             ],
             [
              0.8888888888888888,
              "#fdca26"
             ],
             [
              1,
              "#f0f921"
             ]
            ],
            "type": "heatmapgl"
           }
          ],
          "histogram": [
           {
            "marker": {
             "pattern": {
              "fillmode": "overlay",
              "size": 10,
              "solidity": 0.2
             }
            },
            "type": "histogram"
           }
          ],
          "histogram2d": [
           {
            "colorbar": {
             "outlinewidth": 0,
             "ticks": ""
            },
            "colorscale": [
             [
              0,
              "#0d0887"
             ],
             [
              0.1111111111111111,
              "#46039f"
             ],
             [
              0.2222222222222222,
              "#7201a8"
             ],
             [
              0.3333333333333333,
              "#9c179e"
             ],
             [
              0.4444444444444444,
              "#bd3786"
             ],
             [
              0.5555555555555556,
              "#d8576b"
             ],
             [
              0.6666666666666666,
              "#ed7953"
             ],
             [
              0.7777777777777778,
              "#fb9f3a"
             ],
             [
              0.8888888888888888,
              "#fdca26"
             ],
             [
              1,
              "#f0f921"
             ]
            ],
            "type": "histogram2d"
           }
          ],
          "histogram2dcontour": [
           {
            "colorbar": {
             "outlinewidth": 0,
             "ticks": ""
            },
            "colorscale": [
             [
              0,
              "#0d0887"
             ],
             [
              0.1111111111111111,
              "#46039f"
             ],
             [
              0.2222222222222222,
              "#7201a8"
             ],
             [
              0.3333333333333333,
              "#9c179e"
             ],
             [
              0.4444444444444444,
              "#bd3786"
             ],
             [
              0.5555555555555556,
              "#d8576b"
             ],
             [
              0.6666666666666666,
              "#ed7953"
             ],
             [
              0.7777777777777778,
              "#fb9f3a"
             ],
             [
              0.8888888888888888,
              "#fdca26"
             ],
             [
              1,
              "#f0f921"
             ]
            ],
            "type": "histogram2dcontour"
           }
          ],
          "mesh3d": [
           {
            "colorbar": {
             "outlinewidth": 0,
             "ticks": ""
            },
            "type": "mesh3d"
           }
          ],
          "parcoords": [
           {
            "line": {
             "colorbar": {
              "outlinewidth": 0,
              "ticks": ""
             }
            },
            "type": "parcoords"
           }
          ],
          "pie": [
           {
            "automargin": true,
            "type": "pie"
           }
          ],
          "scatter": [
           {
            "fillpattern": {
             "fillmode": "overlay",
             "size": 10,
             "solidity": 0.2
            },
            "type": "scatter"
           }
          ],
          "scatter3d": [
           {
            "line": {
             "colorbar": {
              "outlinewidth": 0,
              "ticks": ""
             }
            },
            "marker": {
             "colorbar": {
              "outlinewidth": 0,
              "ticks": ""
             }
            },
            "type": "scatter3d"
           }
          ],
          "scattercarpet": [
           {
            "marker": {
             "colorbar": {
              "outlinewidth": 0,
              "ticks": ""
             }
            },
            "type": "scattercarpet"
           }
          ],
          "scattergeo": [
           {
            "marker": {
             "colorbar": {
              "outlinewidth": 0,
              "ticks": ""
             }
            },
            "type": "scattergeo"
           }
          ],
          "scattergl": [
           {
            "marker": {
             "colorbar": {
              "outlinewidth": 0,
              "ticks": ""
             }
            },
            "type": "scattergl"
           }
          ],
          "scattermapbox": [
           {
            "marker": {
             "colorbar": {
              "outlinewidth": 0,
              "ticks": ""
             }
            },
            "type": "scattermapbox"
           }
          ],
          "scatterpolar": [
           {
            "marker": {
             "colorbar": {
              "outlinewidth": 0,
              "ticks": ""
             }
            },
            "type": "scatterpolar"
           }
          ],
          "scatterpolargl": [
           {
            "marker": {
             "colorbar": {
              "outlinewidth": 0,
              "ticks": ""
             }
            },
            "type": "scatterpolargl"
           }
          ],
          "scatterternary": [
           {
            "marker": {
             "colorbar": {
              "outlinewidth": 0,
              "ticks": ""
             }
            },
            "type": "scatterternary"
           }
          ],
          "surface": [
           {
            "colorbar": {
             "outlinewidth": 0,
             "ticks": ""
            },
            "colorscale": [
             [
              0,
              "#0d0887"
             ],
             [
              0.1111111111111111,
              "#46039f"
             ],
             [
              0.2222222222222222,
              "#7201a8"
             ],
             [
              0.3333333333333333,
              "#9c179e"
             ],
             [
              0.4444444444444444,
              "#bd3786"
             ],
             [
              0.5555555555555556,
              "#d8576b"
             ],
             [
              0.6666666666666666,
              "#ed7953"
             ],
             [
              0.7777777777777778,
              "#fb9f3a"
             ],
             [
              0.8888888888888888,
              "#fdca26"
             ],
             [
              1,
              "#f0f921"
             ]
            ],
            "type": "surface"
           }
          ],
          "table": [
           {
            "cells": {
             "fill": {
              "color": "#EBF0F8"
             },
             "line": {
              "color": "white"
             }
            },
            "header": {
             "fill": {
              "color": "#C8D4E3"
             },
             "line": {
              "color": "white"
             }
            },
            "type": "table"
           }
          ]
         },
         "layout": {
          "annotationdefaults": {
           "arrowcolor": "#2a3f5f",
           "arrowhead": 0,
           "arrowwidth": 1
          },
          "autotypenumbers": "strict",
          "coloraxis": {
           "colorbar": {
            "outlinewidth": 0,
            "ticks": ""
           }
          },
          "colorscale": {
           "diverging": [
            [
             0,
             "#8e0152"
            ],
            [
             0.1,
             "#c51b7d"
            ],
            [
             0.2,
             "#de77ae"
            ],
            [
             0.3,
             "#f1b6da"
            ],
            [
             0.4,
             "#fde0ef"
            ],
            [
             0.5,
             "#f7f7f7"
            ],
            [
             0.6,
             "#e6f5d0"
            ],
            [
             0.7,
             "#b8e186"
            ],
            [
             0.8,
             "#7fbc41"
            ],
            [
             0.9,
             "#4d9221"
            ],
            [
             1,
             "#276419"
            ]
           ],
           "sequential": [
            [
             0,
             "#0d0887"
            ],
            [
             0.1111111111111111,
             "#46039f"
            ],
            [
             0.2222222222222222,
             "#7201a8"
            ],
            [
             0.3333333333333333,
             "#9c179e"
            ],
            [
             0.4444444444444444,
             "#bd3786"
            ],
            [
             0.5555555555555556,
             "#d8576b"
            ],
            [
             0.6666666666666666,
             "#ed7953"
            ],
            [
             0.7777777777777778,
             "#fb9f3a"
            ],
            [
             0.8888888888888888,
             "#fdca26"
            ],
            [
             1,
             "#f0f921"
            ]
           ],
           "sequentialminus": [
            [
             0,
             "#0d0887"
            ],
            [
             0.1111111111111111,
             "#46039f"
            ],
            [
             0.2222222222222222,
             "#7201a8"
            ],
            [
             0.3333333333333333,
             "#9c179e"
            ],
            [
             0.4444444444444444,
             "#bd3786"
            ],
            [
             0.5555555555555556,
             "#d8576b"
            ],
            [
             0.6666666666666666,
             "#ed7953"
            ],
            [
             0.7777777777777778,
             "#fb9f3a"
            ],
            [
             0.8888888888888888,
             "#fdca26"
            ],
            [
             1,
             "#f0f921"
            ]
           ]
          },
          "colorway": [
           "#636efa",
           "#EF553B",
           "#00cc96",
           "#ab63fa",
           "#FFA15A",
           "#19d3f3",
           "#FF6692",
           "#B6E880",
           "#FF97FF",
           "#FECB52"
          ],
          "font": {
           "color": "#2a3f5f"
          },
          "geo": {
           "bgcolor": "white",
           "lakecolor": "white",
           "landcolor": "#E5ECF6",
           "showlakes": true,
           "showland": true,
           "subunitcolor": "white"
          },
          "hoverlabel": {
           "align": "left"
          },
          "hovermode": "closest",
          "mapbox": {
           "style": "light"
          },
          "paper_bgcolor": "white",
          "plot_bgcolor": "#E5ECF6",
          "polar": {
           "angularaxis": {
            "gridcolor": "white",
            "linecolor": "white",
            "ticks": ""
           },
           "bgcolor": "#E5ECF6",
           "radialaxis": {
            "gridcolor": "white",
            "linecolor": "white",
            "ticks": ""
           }
          },
          "scene": {
           "xaxis": {
            "backgroundcolor": "#E5ECF6",
            "gridcolor": "white",
            "gridwidth": 2,
            "linecolor": "white",
            "showbackground": true,
            "ticks": "",
            "zerolinecolor": "white"
           },
           "yaxis": {
            "backgroundcolor": "#E5ECF6",
            "gridcolor": "white",
            "gridwidth": 2,
            "linecolor": "white",
            "showbackground": true,
            "ticks": "",
            "zerolinecolor": "white"
           },
           "zaxis": {
            "backgroundcolor": "#E5ECF6",
            "gridcolor": "white",
            "gridwidth": 2,
            "linecolor": "white",
            "showbackground": true,
            "ticks": "",
            "zerolinecolor": "white"
           }
          },
          "shapedefaults": {
           "line": {
            "color": "#2a3f5f"
           }
          },
          "ternary": {
           "aaxis": {
            "gridcolor": "white",
            "linecolor": "white",
            "ticks": ""
           },
           "baxis": {
            "gridcolor": "white",
            "linecolor": "white",
            "ticks": ""
           },
           "bgcolor": "#E5ECF6",
           "caxis": {
            "gridcolor": "white",
            "linecolor": "white",
            "ticks": ""
           }
          },
          "title": {
           "x": 0.05
          },
          "xaxis": {
           "automargin": true,
           "gridcolor": "white",
           "linecolor": "white",
           "ticks": "",
           "title": {
            "standoff": 15
           },
           "zerolinecolor": "white",
           "zerolinewidth": 2
          },
          "yaxis": {
           "automargin": true,
           "gridcolor": "white",
           "linecolor": "white",
           "ticks": "",
           "title": {
            "standoff": 15
           },
           "zerolinecolor": "white",
           "zerolinewidth": 2
          }
         }
        },
        "title": {
         "text": "IP - BDR & Invest. Ext.: Investment Percentage and Liquid Patrimony (Excluding South America)"
        },
        "xaxis": {
         "anchor": "y",
         "categoryarray": [
          "10/2022",
          "10/2022",
          "10/2022",
          "10/2022",
          "10/2022",
          "10/2022",
          "10/2022",
          "10/2022",
          "10/2022",
          "10/2022",
          "10/2022",
          "10/2022",
          "11/2022",
          "11/2022",
          "11/2022",
          "11/2022",
          "11/2022",
          "11/2022",
          "11/2022",
          "11/2022",
          "11/2022",
          "11/2022",
          "11/2022",
          "11/2022",
          "12/2022",
          "12/2022",
          "12/2022",
          "12/2022",
          "12/2022",
          "12/2022",
          "12/2022",
          "12/2022",
          "12/2022",
          "12/2022",
          "12/2022",
          "12/2022",
          "01/2023",
          "01/2023",
          "01/2023",
          "01/2023",
          "01/2023",
          "01/2023",
          "01/2023",
          "01/2023",
          "01/2023",
          "01/2023",
          "01/2023",
          "01/2023",
          "02/2023",
          "02/2023",
          "02/2023",
          "02/2023",
          "02/2023",
          "02/2023",
          "02/2023",
          "02/2023",
          "02/2023",
          "02/2023",
          "02/2023",
          "02/2023",
          "03/2023",
          "03/2023",
          "03/2023",
          "03/2023",
          "03/2023",
          "03/2023",
          "03/2023",
          "03/2023",
          "03/2023",
          "03/2023",
          "03/2023",
          "03/2023",
          "04/2023",
          "04/2023",
          "04/2023",
          "04/2023",
          "04/2023",
          "04/2023",
          "04/2023",
          "04/2023",
          "04/2023",
          "04/2023",
          "04/2023",
          "05/2023",
          "05/2023",
          "05/2023",
          "05/2023",
          "05/2023",
          "05/2023",
          "05/2023",
          "05/2023",
          "05/2023",
          "05/2023",
          "05/2023",
          "05/2023",
          "05/2023",
          "06/2023",
          "06/2023",
          "06/2023",
          "06/2023",
          "06/2023",
          "06/2023",
          "06/2023",
          "06/2023",
          "06/2023",
          "06/2023",
          "06/2023",
          "06/2023",
          "06/2023",
          "07/2023",
          "07/2023",
          "07/2023",
          "07/2023",
          "07/2023",
          "07/2023",
          "07/2023",
          "07/2023",
          "07/2023",
          "07/2023",
          "07/2023",
          "08/2023",
          "08/2023",
          "08/2023",
          "08/2023",
          "08/2023",
          "08/2023",
          "08/2023",
          "08/2023",
          "08/2023",
          "08/2023",
          "08/2023",
          "09/2023",
          "09/2023",
          "09/2023",
          "09/2023",
          "09/2023",
          "09/2023",
          "09/2023",
          "09/2023",
          "09/2023",
          "09/2023",
          "09/2023",
          "09/2023",
          "10/2023",
          "10/2023",
          "10/2023",
          "10/2023",
          "10/2023",
          "10/2023",
          "10/2023",
          "10/2023",
          "10/2023",
          "10/2023",
          "10/2023",
          "11/2023",
          "11/2023",
          "11/2023",
          "11/2023",
          "11/2023",
          "11/2023",
          "11/2023",
          "11/2023",
          "11/2023",
          "12/2023",
          "12/2023",
          "12/2023",
          "12/2023",
          "12/2023",
          "12/2023",
          "12/2023",
          "12/2023",
          "12/2023",
          "01/2024",
          "01/2024",
          "01/2024",
          "01/2024",
          "01/2024",
          "01/2024",
          "01/2024",
          "01/2024",
          "01/2024",
          "01/2024",
          "02/2024",
          "02/2024",
          "02/2024",
          "02/2024",
          "02/2024",
          "02/2024",
          "02/2024",
          "02/2024",
          "02/2024",
          "02/2024",
          "03/2024",
          "03/2024",
          "03/2024",
          "03/2024",
          "03/2024",
          "03/2024",
          "03/2024",
          "03/2024",
          "03/2024",
          "03/2024",
          "04/2024",
          "04/2024",
          "04/2024",
          "04/2024",
          "04/2024",
          "04/2024",
          "04/2024",
          "04/2024",
          "04/2024",
          "04/2024",
          "05/2024",
          "05/2024",
          "05/2024",
          "05/2024",
          "05/2024",
          "05/2024",
          "05/2024",
          "05/2024",
          "05/2024",
          "06/2024",
          "06/2024",
          "06/2024",
          "06/2024",
          "06/2024",
          "06/2024",
          "06/2024",
          "06/2024",
          "06/2024",
          "07/2024",
          "07/2024",
          "07/2024",
          "07/2024",
          "07/2024",
          "07/2024",
          "07/2024",
          "07/2024",
          "07/2024",
          "08/2024",
          "08/2024",
          "08/2024",
          "08/2024",
          "08/2024",
          "08/2024",
          "08/2024",
          "08/2024",
          "08/2024",
          "09/2024",
          "09/2024",
          "09/2024",
          "09/2024",
          "09/2024",
          "09/2024",
          "09/2024",
          "09/2024",
          "09/2024",
          "09/2024"
         ],
         "categoryorder": "array",
         "domain": [
          0,
          1
         ],
         "title": {
          "text": "Month"
         }
        },
        "yaxis": {
         "anchor": "x",
         "domain": [
          0,
          1
         ],
         "title": {
          "text": "Percentage (%)"
         }
        },
        "yaxis2": {
         "anchor": "x",
         "overlaying": "y",
         "side": "right",
         "tickfont": {
          "color": "black"
         },
         "title": {
          "font": {
           "color": "black"
          },
          "text": "Liquid Patrimony (R$)"
         }
        }
       }
      }
     },
     "metadata": {},
     "output_type": "display_data"
    },
    {
     "name": "stderr",
     "output_type": "stream",
     "text": [
      "C:\\Users\\VHENEQUIM\\AppData\\Local\\Temp\\ipykernel_33560\\1766033946.py:21: UserWarning:\n",
      "\n",
      "Comparisons with None always result in null. Consider using `.is_null()` or `.is_not_null()`.\n",
      "\n"
     ]
    },
    {
     "data": {
      "text/html": [
       "<div><style>\n",
       ".dataframe > thead > tr,\n",
       ".dataframe > tbody > tr {\n",
       "  text-align: right;\n",
       "  white-space: pre-wrap;\n",
       "}\n",
       "</style>\n",
       "<small>shape: (188, 12)</small><table border=\"1\" class=\"dataframe\"><thead><tr><th>funds</th><th>month</th><th>liquid_patrimony</th><th>investment</th><th>percentage</th><th>value</th><th>ticker</th><th>company_country</th><th>area_of_work</th><th>investment_type</th><th>date_for_sort</th><th>rentability</th></tr><tr><td>str</td><td>str</td><td>f64</td><td>str</td><td>f64</td><td>f64</td><td>str</td><td>str</td><td>str</td><td>str</td><td>datetime[μs]</td><td>f64</td></tr></thead><tbody><tr><td>&quot;IP&quot;</td><td>&quot;09/2024&quot;</td><td>5.9431e8</td><td>&quot;BDR - GOGL34 DT. INI. VIGEN.: …</td><td>0.06952</td><td>4.1317e7</td><td>&quot;GOOGL&quot;</td><td>&quot;USA&quot;</td><td>&quot;Technology and Search Engine&quot;</td><td>&quot;BDR&quot;</td><td>2024-09-01 00:00:00</td><td>0.006624</td></tr><tr><td>&quot;IP&quot;</td><td>&quot;09/2024&quot;</td><td>5.9431e8</td><td>&quot;BDR - MSCD34 DT. INI. VIGEN.: …</td><td>0.03453</td><td>2.0522e7</td><td>&quot;MA&quot;</td><td>&quot;USA&quot;</td><td>&quot;Financial Services&quot;</td><td>&quot;BDR&quot;</td><td>2024-09-01 00:00:00</td><td>0.006624</td></tr><tr><td>&quot;IP&quot;</td><td>&quot;09/2024&quot;</td><td>5.9431e8</td><td>&quot;BDR - NFLX34 DT. INI. VIGEN.: …</td><td>0.02366</td><td>1.4061e7</td><td>&quot;NFLX&quot;</td><td>&quot;USA&quot;</td><td>&quot;Entertainment and Streaming&quot;</td><td>&quot;BDR&quot;</td><td>2024-09-01 00:00:00</td><td>0.006624</td></tr><tr><td>&quot;IP&quot;</td><td>&quot;09/2024&quot;</td><td>5.9431e8</td><td>&quot;BDR - AIRB34 DT. INI. VIGEN.: …</td><td>0.0212</td><td>1.2599e7</td><td>&quot;ABNB&quot;</td><td>&quot;USA&quot;</td><td>&quot;Travel and Hospitality&quot;</td><td>&quot;BDR&quot;</td><td>2024-09-01 00:00:00</td><td>0.006624</td></tr><tr><td>&quot;IP&quot;</td><td>&quot;08/2024&quot;</td><td>5.8901e8</td><td>&quot;BDR - GOGL34 DT. INI. VIGEN.: …</td><td>0.07162</td><td>4.2185e7</td><td>&quot;GOOGL&quot;</td><td>&quot;USA&quot;</td><td>&quot;Technology and Search Engine&quot;</td><td>&quot;BDR&quot;</td><td>2024-08-01 00:00:00</td><td>0.04082</td></tr><tr><td>&hellip;</td><td>&hellip;</td><td>&hellip;</td><td>&hellip;</td><td>&hellip;</td><td>&hellip;</td><td>&hellip;</td><td>&hellip;</td><td>&hellip;</td><td>&hellip;</td><td>&hellip;</td><td>&hellip;</td></tr><tr><td>&quot;IP&quot;</td><td>&quot;10/2022&quot;</td><td>5.5978e8</td><td>&quot;BDR - MSFT34 DT. INI. VIGEN.: …</td><td>0.03043</td><td>1.7034e7</td><td>&quot;MSFT&quot;</td><td>&quot;USA&quot;</td><td>&quot;Technology and Software&quot;</td><td>&quot;BDR&quot;</td><td>2022-10-01 00:00:00</td><td>0.054508</td></tr><tr><td>&quot;IP&quot;</td><td>&quot;10/2022&quot;</td><td>5.5978e8</td><td>&quot;BDR - LBRD34 DT. INI. VIGEN.: …</td><td>0.02931</td><td>1.6407e7</td><td>&quot;LBRD&quot;</td><td>&quot;USA&quot;</td><td>&quot;Telecomunications&quot;</td><td>&quot;BDR&quot;</td><td>2022-10-01 00:00:00</td><td>0.054508</td></tr><tr><td>&quot;IP&quot;</td><td>&quot;10/2022&quot;</td><td>5.5978e8</td><td>&quot;BDR - AMZO34 DT. INI. VIGEN.: …</td><td>0.02893</td><td>1.6194e7</td><td>&quot;AMZN&quot;</td><td>&quot;USA&quot;</td><td>&quot;E-commerce and Cloud Computing&quot;</td><td>&quot;BDR&quot;</td><td>2022-10-01 00:00:00</td><td>0.054508</td></tr><tr><td>&quot;IP&quot;</td><td>&quot;10/2022&quot;</td><td>5.5978e8</td><td>&quot;BDR - T1DG34 DT. INI. VIGEN.: …</td><td>0.02711</td><td>1.5176e7</td><td>&quot;TDG&quot;</td><td>&quot;USA&quot;</td><td>&quot;Aerospace and Defense&quot;</td><td>&quot;BDR&quot;</td><td>2022-10-01 00:00:00</td><td>0.054508</td></tr><tr><td>&quot;IP&quot;</td><td>&quot;10/2022&quot;</td><td>5.5978e8</td><td>&quot;BDR - XPBR31 DT. INI. VIGEN.: …</td><td>0.02384</td><td>1.3345e7</td><td>&quot;XPBR&quot;</td><td>&quot;Brazil&quot;</td><td>&quot;Financial Services&quot;</td><td>&quot;BDR&quot;</td><td>2022-10-01 00:00:00</td><td>0.054508</td></tr></tbody></table></div>"
      ],
      "text/plain": [
       "shape: (188, 12)\n",
       "┌───────┬─────────┬────────────┬────────────┬───┬────────────┬────────────┬────────────┬───────────┐\n",
       "│ funds ┆ month   ┆ liquid_pat ┆ investment ┆ … ┆ area_of_wo ┆ investment ┆ date_for_s ┆ rentabili │\n",
       "│ ---   ┆ ---     ┆ rimony     ┆ ---        ┆   ┆ rk         ┆ _type      ┆ ort        ┆ ty        │\n",
       "│ str   ┆ str     ┆ ---        ┆ str        ┆   ┆ ---        ┆ ---        ┆ ---        ┆ ---       │\n",
       "│       ┆         ┆ f64        ┆            ┆   ┆ str        ┆ str        ┆ datetime[μ ┆ f64       │\n",
       "│       ┆         ┆            ┆            ┆   ┆            ┆            ┆ s]         ┆           │\n",
       "╞═══════╪═════════╪════════════╪════════════╪═══╪════════════╪════════════╪════════════╪═══════════╡\n",
       "│ IP    ┆ 09/2024 ┆ 5.9431e8   ┆ BDR -      ┆ … ┆ Technology ┆ BDR        ┆ 2024-09-01 ┆ 0.006624  │\n",
       "│       ┆         ┆            ┆ GOGL34 DT. ┆   ┆ and Search ┆            ┆ 00:00:00   ┆           │\n",
       "│       ┆         ┆            ┆ INI.       ┆   ┆ Engine     ┆            ┆            ┆           │\n",
       "│       ┆         ┆            ┆ VIGEN.: …  ┆   ┆            ┆            ┆            ┆           │\n",
       "│ IP    ┆ 09/2024 ┆ 5.9431e8   ┆ BDR -      ┆ … ┆ Financial  ┆ BDR        ┆ 2024-09-01 ┆ 0.006624  │\n",
       "│       ┆         ┆            ┆ MSCD34 DT. ┆   ┆ Services   ┆            ┆ 00:00:00   ┆           │\n",
       "│       ┆         ┆            ┆ INI.       ┆   ┆            ┆            ┆            ┆           │\n",
       "│       ┆         ┆            ┆ VIGEN.: …  ┆   ┆            ┆            ┆            ┆           │\n",
       "│ IP    ┆ 09/2024 ┆ 5.9431e8   ┆ BDR -      ┆ … ┆ Entertainm ┆ BDR        ┆ 2024-09-01 ┆ 0.006624  │\n",
       "│       ┆         ┆            ┆ NFLX34 DT. ┆   ┆ ent and    ┆            ┆ 00:00:00   ┆           │\n",
       "│       ┆         ┆            ┆ INI.       ┆   ┆ Streaming  ┆            ┆            ┆           │\n",
       "│       ┆         ┆            ┆ VIGEN.: …  ┆   ┆            ┆            ┆            ┆           │\n",
       "│ IP    ┆ 09/2024 ┆ 5.9431e8   ┆ BDR -      ┆ … ┆ Travel and ┆ BDR        ┆ 2024-09-01 ┆ 0.006624  │\n",
       "│       ┆         ┆            ┆ AIRB34 DT. ┆   ┆ Hospitalit ┆            ┆ 00:00:00   ┆           │\n",
       "│       ┆         ┆            ┆ INI.       ┆   ┆ y          ┆            ┆            ┆           │\n",
       "│       ┆         ┆            ┆ VIGEN.: …  ┆   ┆            ┆            ┆            ┆           │\n",
       "│ IP    ┆ 08/2024 ┆ 5.8901e8   ┆ BDR -      ┆ … ┆ Technology ┆ BDR        ┆ 2024-08-01 ┆ 0.04082   │\n",
       "│       ┆         ┆            ┆ GOGL34 DT. ┆   ┆ and Search ┆            ┆ 00:00:00   ┆           │\n",
       "│       ┆         ┆            ┆ INI.       ┆   ┆ Engine     ┆            ┆            ┆           │\n",
       "│       ┆         ┆            ┆ VIGEN.: …  ┆   ┆            ┆            ┆            ┆           │\n",
       "│ …     ┆ …       ┆ …          ┆ …          ┆ … ┆ …          ┆ …          ┆ …          ┆ …         │\n",
       "│ IP    ┆ 10/2022 ┆ 5.5978e8   ┆ BDR -      ┆ … ┆ Technology ┆ BDR        ┆ 2022-10-01 ┆ 0.054508  │\n",
       "│       ┆         ┆            ┆ MSFT34 DT. ┆   ┆ and        ┆            ┆ 00:00:00   ┆           │\n",
       "│       ┆         ┆            ┆ INI.       ┆   ┆ Software   ┆            ┆            ┆           │\n",
       "│       ┆         ┆            ┆ VIGEN.: …  ┆   ┆            ┆            ┆            ┆           │\n",
       "│ IP    ┆ 10/2022 ┆ 5.5978e8   ┆ BDR -      ┆ … ┆ Telecomuni ┆ BDR        ┆ 2022-10-01 ┆ 0.054508  │\n",
       "│       ┆         ┆            ┆ LBRD34 DT. ┆   ┆ cations    ┆            ┆ 00:00:00   ┆           │\n",
       "│       ┆         ┆            ┆ INI.       ┆   ┆            ┆            ┆            ┆           │\n",
       "│       ┆         ┆            ┆ VIGEN.: …  ┆   ┆            ┆            ┆            ┆           │\n",
       "│ IP    ┆ 10/2022 ┆ 5.5978e8   ┆ BDR -      ┆ … ┆ E-commerce ┆ BDR        ┆ 2022-10-01 ┆ 0.054508  │\n",
       "│       ┆         ┆            ┆ AMZO34 DT. ┆   ┆ and Cloud  ┆            ┆ 00:00:00   ┆           │\n",
       "│       ┆         ┆            ┆ INI.       ┆   ┆ Computing  ┆            ┆            ┆           │\n",
       "│       ┆         ┆            ┆ VIGEN.: …  ┆   ┆            ┆            ┆            ┆           │\n",
       "│ IP    ┆ 10/2022 ┆ 5.5978e8   ┆ BDR -      ┆ … ┆ Aerospace  ┆ BDR        ┆ 2022-10-01 ┆ 0.054508  │\n",
       "│       ┆         ┆            ┆ T1DG34 DT. ┆   ┆ and        ┆            ┆ 00:00:00   ┆           │\n",
       "│       ┆         ┆            ┆ INI.       ┆   ┆ Defense    ┆            ┆            ┆           │\n",
       "│       ┆         ┆            ┆ VIGEN.: …  ┆   ┆            ┆            ┆            ┆           │\n",
       "│ IP    ┆ 10/2022 ┆ 5.5978e8   ┆ BDR -      ┆ … ┆ Financial  ┆ BDR        ┆ 2022-10-01 ┆ 0.054508  │\n",
       "│       ┆         ┆            ┆ XPBR31 DT. ┆   ┆ Services   ┆            ┆ 00:00:00   ┆           │\n",
       "│       ┆         ┆            ┆ INI.       ┆   ┆            ┆            ┆            ┆           │\n",
       "│       ┆         ┆            ┆ VIGEN.: …  ┆   ┆            ┆            ┆            ┆           │\n",
       "└───────┴─────────┴────────────┴────────────┴───┴────────────┴────────────┴────────────┴───────────┘"
      ]
     },
     "metadata": {},
     "output_type": "display_data"
    },
    {
     "data": {
      "application/vnd.plotly.v1+json": {
       "config": {
        "plotlyServerURL": "https://plot.ly"
       },
       "data": [
        {
         "alignmentgroup": "True",
         "hovertemplate": "<b>%{x}</b><br>Ticker: %{fullData.name}<br>Percentage: %{y:.2f}%<br>",
         "legendgroup": "AURA",
         "marker": {
          "color": "#636efa",
          "pattern": {
           "shape": ""
          }
         },
         "name": "AURA",
         "offsetgroup": "AURA",
         "orientation": "v",
         "showlegend": true,
         "textposition": "auto",
         "type": "bar",
         "x": [
          "10/2022",
          "11/2022",
          "12/2022",
          "01/2023",
          "02/2023",
          "03/2023",
          "04/2023",
          "05/2023",
          "06/2023",
          "07/2023",
          "08/2023",
          "09/2023",
          "10/2023",
          "11/2023",
          "12/2023",
          "01/2024",
          "02/2024",
          "03/2024",
          "04/2024",
          "05/2024",
          "06/2024",
          "07/2024",
          "08/2024",
          "09/2024"
         ],
         "xaxis": "x",
         "y": [
          0.06942,
          0.061810000000000004,
          0.054560000000000004,
          0.07544000000000001,
          0.07887999999999999,
          0.07836999999999998,
          0.08238000000000001,
          0.07133000000000002,
          0.06233,
          0.06672,
          0.05174,
          0.05219,
          0.05568,
          0.04916,
          0.04910999999999999,
          0.04891,
          0.04654,
          0.06291000000000001,
          0.07343,
          0.09405,
          0.09447,
          0.11817,
          0.10493,
          0.08025
         ],
         "yaxis": "y"
        },
        {
         "alignmentgroup": "True",
         "hovertemplate": "<b>%{x}</b><br>Ticker: %{fullData.name}<br>Percentage: %{y:.2f}%<br>",
         "legendgroup": "GOOGL",
         "marker": {
          "color": "#EF553B",
          "pattern": {
           "shape": ""
          }
         },
         "name": "GOOGL",
         "offsetgroup": "GOOGL",
         "orientation": "v",
         "showlegend": true,
         "textposition": "auto",
         "type": "bar",
         "x": [
          "10/2022",
          "11/2022",
          "12/2022",
          "01/2023",
          "02/2023",
          "03/2023",
          "04/2023",
          "05/2023",
          "06/2023",
          "07/2023",
          "08/2023",
          "09/2023",
          "10/2023",
          "11/2023",
          "12/2023",
          "01/2024",
          "02/2024",
          "03/2024",
          "04/2024",
          "05/2024",
          "06/2024",
          "07/2024",
          "08/2024",
          "09/2024"
         ],
         "xaxis": "x",
         "y": [
          0.07471,
          0.08432,
          0.07802,
          0.08112,
          0.07608999999999999,
          0.08734,
          0.04832,
          0.05523,
          0.04816,
          0.05127,
          0.05496,
          0.05512,
          0.054650000000000004,
          0.05221,
          0.052649999999999995,
          0.05315,
          0.05611,
          0.062090000000000006,
          0.07268,
          0.07267,
          0.08108,
          0.07269,
          0.07162,
          0.06952
         ],
         "yaxis": "y"
        },
        {
         "alignmentgroup": "True",
         "hovertemplate": "<b>%{x}</b><br>Ticker: %{fullData.name}<br>Percentage: %{y:.2f}%<br>",
         "legendgroup": "MSFT",
         "marker": {
          "color": "#00cc96",
          "pattern": {
           "shape": ""
          }
         },
         "name": "MSFT",
         "offsetgroup": "MSFT",
         "orientation": "v",
         "showlegend": true,
         "textposition": "auto",
         "type": "bar",
         "x": [
          "10/2022",
          "11/2022",
          "12/2022",
          "01/2023",
          "02/2023",
          "03/2023",
          "04/2023",
          "05/2023",
          "06/2023",
          "07/2023",
          "08/2023",
          "09/2023",
          "10/2023",
          "11/2023",
          "12/2023",
          "01/2024",
          "02/2024",
          "03/2024",
          "04/2024",
          "05/2024",
          "06/2024",
          "07/2024",
          "08/2024",
          "09/2024"
         ],
         "xaxis": "x",
         "y": [
          0.05457,
          0.0635,
          0.06339,
          0.05689999999999999,
          0.04594,
          0.04578,
          0.04732,
          0.055549999999999995,
          0.02614,
          0.01976,
          0.02096,
          0.02091,
          0.02589,
          0.02721,
          0.02703,
          0.02538,
          0.02584,
          0.0267,
          0.00904,
          0.01003,
          0.01135,
          0.00559,
          0.01016,
          0.0112
         ],
         "yaxis": "y"
        },
        {
         "alignmentgroup": "True",
         "hovertemplate": "<b>%{x}</b><br>Ticker: %{fullData.name}<br>Percentage: %{y:.2f}%<br>",
         "legendgroup": "BERK",
         "marker": {
          "color": "#ab63fa",
          "pattern": {
           "shape": ""
          }
         },
         "name": "BERK",
         "offsetgroup": "BERK",
         "orientation": "v",
         "showlegend": true,
         "textposition": "auto",
         "type": "bar",
         "x": [
          "11/2022",
          "12/2022",
          "01/2023",
          "02/2023",
          "03/2023",
          "04/2023",
          "05/2023",
          "06/2023",
          "07/2023",
          "08/2023",
          "09/2023",
          "10/2023",
          "11/2023",
          "12/2023",
          "01/2024",
          "02/2024",
          "03/2024",
          "04/2024",
          "05/2024"
         ],
         "xaxis": "x",
         "y": [
          0.03823,
          0.03917,
          0.03679,
          0.03983,
          0.03946,
          0.04057,
          0.03947,
          0.03764,
          0.03721,
          0.03987,
          0.04046,
          0.0411,
          0.03886,
          0.03665,
          0.03991,
          0.03124,
          0.01914,
          0.01885,
          0.0196
         ],
         "yaxis": "y"
        },
        {
         "alignmentgroup": "True",
         "hovertemplate": "<b>%{x}</b><br>Ticker: %{fullData.name}<br>Percentage: %{y:.2f}%<br>",
         "legendgroup": "NFLX",
         "marker": {
          "color": "#FFA15A",
          "pattern": {
           "shape": ""
          }
         },
         "name": "NFLX",
         "offsetgroup": "NFLX",
         "orientation": "v",
         "showlegend": true,
         "textposition": "auto",
         "type": "bar",
         "x": [
          "10/2022",
          "11/2022",
          "12/2022",
          "01/2023",
          "02/2023",
          "03/2023",
          "04/2023",
          "05/2023",
          "06/2023",
          "07/2023",
          "08/2023",
          "09/2023",
          "10/2023",
          "11/2023",
          "12/2023",
          "01/2024",
          "02/2024",
          "03/2024",
          "04/2024",
          "05/2024",
          "06/2024",
          "07/2024",
          "08/2024",
          "09/2024"
         ],
         "xaxis": "x",
         "y": [
          0.04038,
          0.03831,
          0.03895,
          0.02277,
          0.01779,
          0.01871,
          0.017240000000000002,
          0.02061,
          0.02056,
          0.01967,
          0.020309999999999998,
          0.018459999999999997,
          0.02104,
          0.02167,
          0.02129,
          0.02483,
          0.02583,
          0.02641,
          0.02599,
          0.03062,
          0.03403,
          0.03253,
          0.02964,
          0.02366
         ],
         "yaxis": "y"
        },
        {
         "alignmentgroup": "True",
         "hovertemplate": "<b>%{x}</b><br>Ticker: %{fullData.name}<br>Percentage: %{y:.2f}%<br>",
         "legendgroup": "MA",
         "marker": {
          "color": "#19d3f3",
          "pattern": {
           "shape": ""
          }
         },
         "name": "MA",
         "offsetgroup": "MA",
         "orientation": "v",
         "showlegend": true,
         "textposition": "auto",
         "type": "bar",
         "x": [
          "03/2023",
          "04/2023",
          "05/2023",
          "06/2023",
          "07/2023",
          "08/2023",
          "09/2023",
          "10/2023",
          "11/2023",
          "12/2023",
          "01/2024",
          "02/2024",
          "03/2024",
          "04/2024",
          "05/2024",
          "06/2024",
          "07/2024",
          "08/2024",
          "09/2024"
         ],
         "xaxis": "x",
         "y": [
          0.02931,
          0.02956,
          0.02835,
          0.02734,
          0.02632,
          0.02878,
          0.02881,
          0.02864,
          0.02817,
          0.02778,
          0.02945,
          0.03029,
          0.03119,
          0.03171,
          0.03178,
          0.03313,
          0.03527,
          0.03535,
          0.03453
         ],
         "yaxis": "y"
        },
        {
         "alignmentgroup": "True",
         "hovertemplate": "<b>%{x}</b><br>Ticker: %{fullData.name}<br>Percentage: %{y:.2f}%<br>",
         "legendgroup": "TDG",
         "marker": {
          "color": "#FF6692",
          "pattern": {
           "shape": ""
          }
         },
         "name": "TDG",
         "offsetgroup": "TDG",
         "orientation": "v",
         "showlegend": true,
         "textposition": "auto",
         "type": "bar",
         "x": [
          "10/2022",
          "11/2022",
          "12/2022",
          "01/2023",
          "02/2023",
          "03/2023",
          "04/2023",
          "05/2023",
          "06/2023",
          "07/2023",
          "08/2023",
          "09/2023",
          "10/2023",
          "11/2023",
          "12/2023",
          "01/2024",
          "02/2024",
          "03/2024",
          "04/2024",
          "05/2024",
          "06/2024",
          "07/2024",
          "08/2024"
         ],
         "xaxis": "x",
         "y": [
          0.02711,
          0.0304,
          0.03209,
          0.03404,
          0.03899,
          0.01337,
          0.01339,
          0.01352,
          0.01399,
          0.01351,
          0.01418,
          0.01381,
          0.01418,
          0.01475,
          0.01482,
          0.01612,
          0.0169,
          0.01795,
          0.01974,
          0.02148,
          0.02159,
          0.02325,
          0.02373
         ],
         "yaxis": "y"
        },
        {
         "alignmentgroup": "True",
         "hovertemplate": "<b>%{x}</b><br>Ticker: %{fullData.name}<br>Percentage: %{y:.2f}%<br>",
         "legendgroup": "AMZN",
         "marker": {
          "color": "#B6E880",
          "pattern": {
           "shape": ""
          }
         },
         "name": "AMZN",
         "offsetgroup": "AMZN",
         "orientation": "v",
         "showlegend": true,
         "textposition": "auto",
         "type": "bar",
         "x": [
          "10/2022",
          "11/2022",
          "12/2022",
          "01/2023",
          "02/2023",
          "03/2023",
          "08/2023",
          "09/2023",
          "10/2023",
          "01/2024",
          "02/2024",
          "03/2024",
          "04/2024",
          "05/2024",
          "06/2024",
          "07/2024",
          "08/2024",
          "09/2024"
         ],
         "xaxis": "x",
         "y": [
          0.04305,
          0.04239,
          0.03747,
          0.04222,
          0.042370000000000005,
          0.03483,
          0.01591,
          0.01493,
          0.01296,
          0.01007,
          0.01136,
          0.01469,
          0.02527,
          0.02617,
          0.02162,
          0.02062,
          0.014700000000000001,
          0.01442
         ],
         "yaxis": "y"
        },
        {
         "alignmentgroup": "True",
         "hovertemplate": "<b>%{x}</b><br>Ticker: %{fullData.name}<br>Percentage: %{y:.2f}%<br>",
         "legendgroup": "LBRD",
         "marker": {
          "color": "#FF97FF",
          "pattern": {
           "shape": ""
          }
         },
         "name": "LBRD",
         "offsetgroup": "LBRD",
         "orientation": "v",
         "showlegend": true,
         "textposition": "auto",
         "type": "bar",
         "x": [
          "10/2022",
          "11/2022",
          "12/2022",
          "01/2023",
          "02/2023",
          "03/2023",
          "04/2023",
          "05/2023",
          "06/2023",
          "07/2023",
          "08/2023",
          "09/2023",
          "10/2023"
         ],
         "xaxis": "x",
         "y": [
          0.02931,
          0.03240000000000001,
          0.02866,
          0.03139,
          0.03349,
          0.03097,
          0.031,
          0.02705,
          0.02618,
          0.02796,
          0.03067,
          0.03124,
          0.0298
         ],
         "yaxis": "y"
        },
        {
         "alignmentgroup": "True",
         "hovertemplate": "<b>%{x}</b><br>Ticker: %{fullData.name}<br>Percentage: %{y:.2f}%<br>",
         "legendgroup": "BEEM",
         "marker": {
          "color": "#FECB52",
          "pattern": {
           "shape": ""
          }
         },
         "name": "BEEM",
         "offsetgroup": "BEEM",
         "orientation": "v",
         "showlegend": true,
         "textposition": "auto",
         "type": "bar",
         "x": [
          "01/2023",
          "02/2023",
          "03/2023",
          "04/2023",
          "05/2023"
         ],
         "xaxis": "x",
         "y": [
          0.00618,
          0.02646,
          0.0403,
          0.03804,
          0.00897
         ],
         "yaxis": "y"
        },
        {
         "alignmentgroup": "True",
         "hovertemplate": "<b>%{x}</b><br>Ticker: %{fullData.name}<br>Percentage: %{y:.2f}%<br>",
         "legendgroup": "TXSA",
         "marker": {
          "color": "#636efa",
          "pattern": {
           "shape": ""
          }
         },
         "name": "TXSA",
         "offsetgroup": "TXSA",
         "orientation": "v",
         "showlegend": true,
         "textposition": "auto",
         "type": "bar",
         "x": [
          "10/2022",
          "11/2022",
          "12/2022",
          "01/2023",
          "02/2023",
          "03/2023",
          "04/2023"
         ],
         "xaxis": "x",
         "y": [
          0.01103,
          0.01253,
          0.00822,
          0.0161,
          0.01848,
          0.01289,
          0.01019
         ],
         "yaxis": "y"
        },
        {
         "alignmentgroup": "True",
         "hovertemplate": "<b>%{x}</b><br>Ticker: %{fullData.name}<br>Percentage: %{y:.2f}%<br>",
         "legendgroup": "T1SS",
         "marker": {
          "color": "#EF553B",
          "pattern": {
           "shape": ""
          }
         },
         "name": "T1SS",
         "offsetgroup": "T1SS",
         "orientation": "v",
         "showlegend": true,
         "textposition": "auto",
         "type": "bar",
         "x": [
          "10/2022",
          "11/2022"
         ],
         "xaxis": "x",
         "y": [
          0.04969,
          0.03306
         ],
         "yaxis": "y"
        },
        {
         "alignmentgroup": "True",
         "hovertemplate": "<b>%{x}</b><br>Ticker: %{fullData.name}<br>Percentage: %{y:.2f}%<br>",
         "legendgroup": "SCHW",
         "marker": {
          "color": "#00cc96",
          "pattern": {
           "shape": ""
          }
         },
         "name": "SCHW",
         "offsetgroup": "SCHW",
         "orientation": "v",
         "showlegend": true,
         "textposition": "auto",
         "type": "bar",
         "x": [
          "06/2023",
          "07/2023",
          "08/2023",
          "09/2023",
          "10/2023",
          "11/2023",
          "12/2023"
         ],
         "xaxis": "x",
         "y": [
          0.01612,
          0.01707,
          0.00949,
          0.00897,
          0.01023,
          0.01043,
          0.01012
         ],
         "yaxis": "y"
        },
        {
         "alignmentgroup": "True",
         "hovertemplate": "<b>%{x}</b><br>Ticker: %{fullData.name}<br>Percentage: %{y:.2f}%<br>",
         "legendgroup": "META",
         "marker": {
          "color": "#ab63fa",
          "pattern": {
           "shape": ""
          }
         },
         "name": "META",
         "offsetgroup": "META",
         "orientation": "v",
         "showlegend": true,
         "textposition": "auto",
         "type": "bar",
         "x": [
          "12/2023",
          "01/2024",
          "02/2024",
          "03/2024",
          "04/2024",
          "07/2024",
          "08/2024",
          "09/2024"
         ],
         "xaxis": "x",
         "y": [
          0.00493,
          0.00573,
          0.00519,
          0.00501,
          0.0048,
          0.0094,
          0.00995,
          0.00531
         ],
         "yaxis": "y"
        },
        {
         "alignmentgroup": "True",
         "hovertemplate": "<b>%{x}</b><br>Ticker: %{fullData.name}<br>Percentage: %{y:.2f}%<br>",
         "legendgroup": "Fundo",
         "marker": {
          "color": "#FFA15A",
          "pattern": {
           "shape": ""
          }
         },
         "name": "Fundo",
         "offsetgroup": "Fundo",
         "orientation": "v",
         "showlegend": true,
         "textposition": "auto",
         "type": "bar",
         "x": [
          "06/2024",
          "09/2024"
         ],
         "xaxis": "x",
         "y": [
          0.01913,
          0.01984
         ],
         "yaxis": "y"
        },
        {
         "alignmentgroup": "True",
         "hovertemplate": "<b>%{x}</b><br>Ticker: %{fullData.name}<br>Percentage: %{y:.2f}%<br>",
         "legendgroup": "ABNB",
         "marker": {
          "color": "#19d3f3",
          "pattern": {
           "shape": ""
          }
         },
         "name": "ABNB",
         "offsetgroup": "ABNB",
         "orientation": "v",
         "showlegend": true,
         "textposition": "auto",
         "type": "bar",
         "x": [
          "09/2024"
         ],
         "xaxis": "x",
         "y": [
          0.0212
         ],
         "yaxis": "y"
        },
        {
         "alignmentgroup": "True",
         "hovertemplate": "<b>%{x}</b><br>Ticker: %{fullData.name}<br>Percentage: %{y:.2f}%<br>",
         "legendgroup": "BABA",
         "marker": {
          "color": "#FF6692",
          "pattern": {
           "shape": ""
          }
         },
         "name": "BABA",
         "offsetgroup": "BABA",
         "orientation": "v",
         "showlegend": true,
         "textposition": "auto",
         "type": "bar",
         "x": [
          "11/2022",
          "12/2022",
          "01/2023",
          "02/2023",
          "03/2023"
         ],
         "xaxis": "x",
         "y": [
          0.00136,
          0.00091,
          0.00082,
          0.00073,
          0.00211
         ],
         "yaxis": "y"
        },
        {
         "alignmentgroup": "True",
         "hovertemplate": "<b>%{x}</b><br>Ticker: %{fullData.name}<br>Percentage: %{y:.2f}%<br>",
         "legendgroup": "EVTC",
         "marker": {
          "color": "#B6E880",
          "pattern": {
           "shape": ""
          }
         },
         "name": "EVTC",
         "offsetgroup": "EVTC",
         "orientation": "v",
         "showlegend": true,
         "textposition": "auto",
         "type": "bar",
         "x": [
          "11/2023",
          "12/2023",
          "01/2024",
          "02/2024",
          "03/2024",
          "04/2024"
         ],
         "xaxis": "x",
         "y": [
          0.00033999999999999997,
          0.00008999999999999999,
          0.00008999999999999999,
          0.00008999999999999999,
          0.0001,
          0.00011
         ],
         "yaxis": "y"
        },
        {
         "hovertemplate": "<b>%{x}</b><br>Liquid Patrimony: R$ %{y:,.2f}<br>",
         "line": {
          "color": "black",
          "width": 3
         },
         "marker": {
          "color": "black",
          "size": 8
         },
         "mode": "lines+markers",
         "name": "Liquid Patrimony",
         "type": "scatter",
         "x": [],
         "y": [],
         "yaxis": "y2"
        }
       ],
       "layout": {
        "barmode": "relative",
        "height": 600,
        "hovermode": "closest",
        "legend": {
         "title": {
          "text": "Ticker"
         },
         "tracegroupgap": 0
        },
        "template": {
         "data": {
          "bar": [
           {
            "error_x": {
             "color": "#2a3f5f"
            },
            "error_y": {
             "color": "#2a3f5f"
            },
            "marker": {
             "line": {
              "color": "#E5ECF6",
              "width": 0.5
             },
             "pattern": {
              "fillmode": "overlay",
              "size": 10,
              "solidity": 0.2
             }
            },
            "type": "bar"
           }
          ],
          "barpolar": [
           {
            "marker": {
             "line": {
              "color": "#E5ECF6",
              "width": 0.5
             },
             "pattern": {
              "fillmode": "overlay",
              "size": 10,
              "solidity": 0.2
             }
            },
            "type": "barpolar"
           }
          ],
          "carpet": [
           {
            "aaxis": {
             "endlinecolor": "#2a3f5f",
             "gridcolor": "white",
             "linecolor": "white",
             "minorgridcolor": "white",
             "startlinecolor": "#2a3f5f"
            },
            "baxis": {
             "endlinecolor": "#2a3f5f",
             "gridcolor": "white",
             "linecolor": "white",
             "minorgridcolor": "white",
             "startlinecolor": "#2a3f5f"
            },
            "type": "carpet"
           }
          ],
          "choropleth": [
           {
            "colorbar": {
             "outlinewidth": 0,
             "ticks": ""
            },
            "type": "choropleth"
           }
          ],
          "contour": [
           {
            "colorbar": {
             "outlinewidth": 0,
             "ticks": ""
            },
            "colorscale": [
             [
              0,
              "#0d0887"
             ],
             [
              0.1111111111111111,
              "#46039f"
             ],
             [
              0.2222222222222222,
              "#7201a8"
             ],
             [
              0.3333333333333333,
              "#9c179e"
             ],
             [
              0.4444444444444444,
              "#bd3786"
             ],
             [
              0.5555555555555556,
              "#d8576b"
             ],
             [
              0.6666666666666666,
              "#ed7953"
             ],
             [
              0.7777777777777778,
              "#fb9f3a"
             ],
             [
              0.8888888888888888,
              "#fdca26"
             ],
             [
              1,
              "#f0f921"
             ]
            ],
            "type": "contour"
           }
          ],
          "contourcarpet": [
           {
            "colorbar": {
             "outlinewidth": 0,
             "ticks": ""
            },
            "type": "contourcarpet"
           }
          ],
          "heatmap": [
           {
            "colorbar": {
             "outlinewidth": 0,
             "ticks": ""
            },
            "colorscale": [
             [
              0,
              "#0d0887"
             ],
             [
              0.1111111111111111,
              "#46039f"
             ],
             [
              0.2222222222222222,
              "#7201a8"
             ],
             [
              0.3333333333333333,
              "#9c179e"
             ],
             [
              0.4444444444444444,
              "#bd3786"
             ],
             [
              0.5555555555555556,
              "#d8576b"
             ],
             [
              0.6666666666666666,
              "#ed7953"
             ],
             [
              0.7777777777777778,
              "#fb9f3a"
             ],
             [
              0.8888888888888888,
              "#fdca26"
             ],
             [
              1,
              "#f0f921"
             ]
            ],
            "type": "heatmap"
           }
          ],
          "heatmapgl": [
           {
            "colorbar": {
             "outlinewidth": 0,
             "ticks": ""
            },
            "colorscale": [
             [
              0,
              "#0d0887"
             ],
             [
              0.1111111111111111,
              "#46039f"
             ],
             [
              0.2222222222222222,
              "#7201a8"
             ],
             [
              0.3333333333333333,
              "#9c179e"
             ],
             [
              0.4444444444444444,
              "#bd3786"
             ],
             [
              0.5555555555555556,
              "#d8576b"
             ],
             [
              0.6666666666666666,
              "#ed7953"
             ],
             [
              0.7777777777777778,
              "#fb9f3a"
             ],
             [
              0.8888888888888888,
              "#fdca26"
             ],
             [
              1,
              "#f0f921"
             ]
            ],
            "type": "heatmapgl"
           }
          ],
          "histogram": [
           {
            "marker": {
             "pattern": {
              "fillmode": "overlay",
              "size": 10,
              "solidity": 0.2
             }
            },
            "type": "histogram"
           }
          ],
          "histogram2d": [
           {
            "colorbar": {
             "outlinewidth": 0,
             "ticks": ""
            },
            "colorscale": [
             [
              0,
              "#0d0887"
             ],
             [
              0.1111111111111111,
              "#46039f"
             ],
             [
              0.2222222222222222,
              "#7201a8"
             ],
             [
              0.3333333333333333,
              "#9c179e"
             ],
             [
              0.4444444444444444,
              "#bd3786"
             ],
             [
              0.5555555555555556,
              "#d8576b"
             ],
             [
              0.6666666666666666,
              "#ed7953"
             ],
             [
              0.7777777777777778,
              "#fb9f3a"
             ],
             [
              0.8888888888888888,
              "#fdca26"
             ],
             [
              1,
              "#f0f921"
             ]
            ],
            "type": "histogram2d"
           }
          ],
          "histogram2dcontour": [
           {
            "colorbar": {
             "outlinewidth": 0,
             "ticks": ""
            },
            "colorscale": [
             [
              0,
              "#0d0887"
             ],
             [
              0.1111111111111111,
              "#46039f"
             ],
             [
              0.2222222222222222,
              "#7201a8"
             ],
             [
              0.3333333333333333,
              "#9c179e"
             ],
             [
              0.4444444444444444,
              "#bd3786"
             ],
             [
              0.5555555555555556,
              "#d8576b"
             ],
             [
              0.6666666666666666,
              "#ed7953"
             ],
             [
              0.7777777777777778,
              "#fb9f3a"
             ],
             [
              0.8888888888888888,
              "#fdca26"
             ],
             [
              1,
              "#f0f921"
             ]
            ],
            "type": "histogram2dcontour"
           }
          ],
          "mesh3d": [
           {
            "colorbar": {
             "outlinewidth": 0,
             "ticks": ""
            },
            "type": "mesh3d"
           }
          ],
          "parcoords": [
           {
            "line": {
             "colorbar": {
              "outlinewidth": 0,
              "ticks": ""
             }
            },
            "type": "parcoords"
           }
          ],
          "pie": [
           {
            "automargin": true,
            "type": "pie"
           }
          ],
          "scatter": [
           {
            "fillpattern": {
             "fillmode": "overlay",
             "size": 10,
             "solidity": 0.2
            },
            "type": "scatter"
           }
          ],
          "scatter3d": [
           {
            "line": {
             "colorbar": {
              "outlinewidth": 0,
              "ticks": ""
             }
            },
            "marker": {
             "colorbar": {
              "outlinewidth": 0,
              "ticks": ""
             }
            },
            "type": "scatter3d"
           }
          ],
          "scattercarpet": [
           {
            "marker": {
             "colorbar": {
              "outlinewidth": 0,
              "ticks": ""
             }
            },
            "type": "scattercarpet"
           }
          ],
          "scattergeo": [
           {
            "marker": {
             "colorbar": {
              "outlinewidth": 0,
              "ticks": ""
             }
            },
            "type": "scattergeo"
           }
          ],
          "scattergl": [
           {
            "marker": {
             "colorbar": {
              "outlinewidth": 0,
              "ticks": ""
             }
            },
            "type": "scattergl"
           }
          ],
          "scattermapbox": [
           {
            "marker": {
             "colorbar": {
              "outlinewidth": 0,
              "ticks": ""
             }
            },
            "type": "scattermapbox"
           }
          ],
          "scatterpolar": [
           {
            "marker": {
             "colorbar": {
              "outlinewidth": 0,
              "ticks": ""
             }
            },
            "type": "scatterpolar"
           }
          ],
          "scatterpolargl": [
           {
            "marker": {
             "colorbar": {
              "outlinewidth": 0,
              "ticks": ""
             }
            },
            "type": "scatterpolargl"
           }
          ],
          "scatterternary": [
           {
            "marker": {
             "colorbar": {
              "outlinewidth": 0,
              "ticks": ""
             }
            },
            "type": "scatterternary"
           }
          ],
          "surface": [
           {
            "colorbar": {
             "outlinewidth": 0,
             "ticks": ""
            },
            "colorscale": [
             [
              0,
              "#0d0887"
             ],
             [
              0.1111111111111111,
              "#46039f"
             ],
             [
              0.2222222222222222,
              "#7201a8"
             ],
             [
              0.3333333333333333,
              "#9c179e"
             ],
             [
              0.4444444444444444,
              "#bd3786"
             ],
             [
              0.5555555555555556,
              "#d8576b"
             ],
             [
              0.6666666666666666,
              "#ed7953"
             ],
             [
              0.7777777777777778,
              "#fb9f3a"
             ],
             [
              0.8888888888888888,
              "#fdca26"
             ],
             [
              1,
              "#f0f921"
             ]
            ],
            "type": "surface"
           }
          ],
          "table": [
           {
            "cells": {
             "fill": {
              "color": "#EBF0F8"
             },
             "line": {
              "color": "white"
             }
            },
            "header": {
             "fill": {
              "color": "#C8D4E3"
             },
             "line": {
              "color": "white"
             }
            },
            "type": "table"
           }
          ]
         },
         "layout": {
          "annotationdefaults": {
           "arrowcolor": "#2a3f5f",
           "arrowhead": 0,
           "arrowwidth": 1
          },
          "autotypenumbers": "strict",
          "coloraxis": {
           "colorbar": {
            "outlinewidth": 0,
            "ticks": ""
           }
          },
          "colorscale": {
           "diverging": [
            [
             0,
             "#8e0152"
            ],
            [
             0.1,
             "#c51b7d"
            ],
            [
             0.2,
             "#de77ae"
            ],
            [
             0.3,
             "#f1b6da"
            ],
            [
             0.4,
             "#fde0ef"
            ],
            [
             0.5,
             "#f7f7f7"
            ],
            [
             0.6,
             "#e6f5d0"
            ],
            [
             0.7,
             "#b8e186"
            ],
            [
             0.8,
             "#7fbc41"
            ],
            [
             0.9,
             "#4d9221"
            ],
            [
             1,
             "#276419"
            ]
           ],
           "sequential": [
            [
             0,
             "#0d0887"
            ],
            [
             0.1111111111111111,
             "#46039f"
            ],
            [
             0.2222222222222222,
             "#7201a8"
            ],
            [
             0.3333333333333333,
             "#9c179e"
            ],
            [
             0.4444444444444444,
             "#bd3786"
            ],
            [
             0.5555555555555556,
             "#d8576b"
            ],
            [
             0.6666666666666666,
             "#ed7953"
            ],
            [
             0.7777777777777778,
             "#fb9f3a"
            ],
            [
             0.8888888888888888,
             "#fdca26"
            ],
            [
             1,
             "#f0f921"
            ]
           ],
           "sequentialminus": [
            [
             0,
             "#0d0887"
            ],
            [
             0.1111111111111111,
             "#46039f"
            ],
            [
             0.2222222222222222,
             "#7201a8"
            ],
            [
             0.3333333333333333,
             "#9c179e"
            ],
            [
             0.4444444444444444,
             "#bd3786"
            ],
            [
             0.5555555555555556,
             "#d8576b"
            ],
            [
             0.6666666666666666,
             "#ed7953"
            ],
            [
             0.7777777777777778,
             "#fb9f3a"
            ],
            [
             0.8888888888888888,
             "#fdca26"
            ],
            [
             1,
             "#f0f921"
            ]
           ]
          },
          "colorway": [
           "#636efa",
           "#EF553B",
           "#00cc96",
           "#ab63fa",
           "#FFA15A",
           "#19d3f3",
           "#FF6692",
           "#B6E880",
           "#FF97FF",
           "#FECB52"
          ],
          "font": {
           "color": "#2a3f5f"
          },
          "geo": {
           "bgcolor": "white",
           "lakecolor": "white",
           "landcolor": "#E5ECF6",
           "showlakes": true,
           "showland": true,
           "subunitcolor": "white"
          },
          "hoverlabel": {
           "align": "left"
          },
          "hovermode": "closest",
          "mapbox": {
           "style": "light"
          },
          "paper_bgcolor": "white",
          "plot_bgcolor": "#E5ECF6",
          "polar": {
           "angularaxis": {
            "gridcolor": "white",
            "linecolor": "white",
            "ticks": ""
           },
           "bgcolor": "#E5ECF6",
           "radialaxis": {
            "gridcolor": "white",
            "linecolor": "white",
            "ticks": ""
           }
          },
          "scene": {
           "xaxis": {
            "backgroundcolor": "#E5ECF6",
            "gridcolor": "white",
            "gridwidth": 2,
            "linecolor": "white",
            "showbackground": true,
            "ticks": "",
            "zerolinecolor": "white"
           },
           "yaxis": {
            "backgroundcolor": "#E5ECF6",
            "gridcolor": "white",
            "gridwidth": 2,
            "linecolor": "white",
            "showbackground": true,
            "ticks": "",
            "zerolinecolor": "white"
           },
           "zaxis": {
            "backgroundcolor": "#E5ECF6",
            "gridcolor": "white",
            "gridwidth": 2,
            "linecolor": "white",
            "showbackground": true,
            "ticks": "",
            "zerolinecolor": "white"
           }
          },
          "shapedefaults": {
           "line": {
            "color": "#2a3f5f"
           }
          },
          "ternary": {
           "aaxis": {
            "gridcolor": "white",
            "linecolor": "white",
            "ticks": ""
           },
           "baxis": {
            "gridcolor": "white",
            "linecolor": "white",
            "ticks": ""
           },
           "bgcolor": "#E5ECF6",
           "caxis": {
            "gridcolor": "white",
            "linecolor": "white",
            "ticks": ""
           }
          },
          "title": {
           "x": 0.05
          },
          "xaxis": {
           "automargin": true,
           "gridcolor": "white",
           "linecolor": "white",
           "ticks": "",
           "title": {
            "standoff": 15
           },
           "zerolinecolor": "white",
           "zerolinewidth": 2
          },
          "yaxis": {
           "automargin": true,
           "gridcolor": "white",
           "linecolor": "white",
           "ticks": "",
           "title": {
            "standoff": 15
           },
           "zerolinecolor": "white",
           "zerolinewidth": 2
          }
         }
        },
        "title": {
         "text": "All Funds - BDR: Investment Percentage and Liquid Patrimony (Excluding South America)"
        },
        "xaxis": {
         "anchor": "y",
         "categoryarray": [
          "10/2022",
          "10/2022",
          "10/2022",
          "10/2022",
          "10/2022",
          "10/2022",
          "10/2022",
          "10/2022",
          "10/2022",
          "11/2022",
          "11/2022",
          "11/2022",
          "11/2022",
          "11/2022",
          "11/2022",
          "11/2022",
          "11/2022",
          "11/2022",
          "11/2022",
          "11/2022",
          "12/2022",
          "12/2022",
          "12/2022",
          "12/2022",
          "12/2022",
          "12/2022",
          "12/2022",
          "12/2022",
          "12/2022",
          "12/2022",
          "01/2023",
          "01/2023",
          "01/2023",
          "01/2023",
          "01/2023",
          "01/2023",
          "01/2023",
          "01/2023",
          "01/2023",
          "01/2023",
          "01/2023",
          "02/2023",
          "02/2023",
          "02/2023",
          "02/2023",
          "02/2023",
          "02/2023",
          "02/2023",
          "02/2023",
          "02/2023",
          "02/2023",
          "02/2023",
          "03/2023",
          "03/2023",
          "03/2023",
          "03/2023",
          "03/2023",
          "03/2023",
          "03/2023",
          "03/2023",
          "03/2023",
          "03/2023",
          "03/2023",
          "03/2023",
          "04/2023",
          "04/2023",
          "04/2023",
          "04/2023",
          "04/2023",
          "04/2023",
          "04/2023",
          "04/2023",
          "04/2023",
          "04/2023",
          "05/2023",
          "05/2023",
          "05/2023",
          "05/2023",
          "05/2023",
          "05/2023",
          "05/2023",
          "05/2023",
          "05/2023",
          "06/2023",
          "06/2023",
          "06/2023",
          "06/2023",
          "06/2023",
          "06/2023",
          "06/2023",
          "06/2023",
          "06/2023",
          "07/2023",
          "07/2023",
          "07/2023",
          "07/2023",
          "07/2023",
          "07/2023",
          "07/2023",
          "07/2023",
          "07/2023",
          "08/2023",
          "08/2023",
          "08/2023",
          "08/2023",
          "08/2023",
          "08/2023",
          "08/2023",
          "08/2023",
          "08/2023",
          "08/2023",
          "09/2023",
          "09/2023",
          "09/2023",
          "09/2023",
          "09/2023",
          "09/2023",
          "09/2023",
          "09/2023",
          "09/2023",
          "09/2023",
          "10/2023",
          "10/2023",
          "10/2023",
          "10/2023",
          "10/2023",
          "10/2023",
          "10/2023",
          "10/2023",
          "10/2023",
          "10/2023",
          "11/2023",
          "11/2023",
          "11/2023",
          "11/2023",
          "11/2023",
          "11/2023",
          "11/2023",
          "11/2023",
          "11/2023",
          "12/2023",
          "12/2023",
          "12/2023",
          "12/2023",
          "12/2023",
          "12/2023",
          "12/2023",
          "12/2023",
          "12/2023",
          "12/2023",
          "01/2024",
          "01/2024",
          "01/2024",
          "01/2024",
          "01/2024",
          "01/2024",
          "01/2024",
          "01/2024",
          "01/2024",
          "01/2024",
          "02/2024",
          "02/2024",
          "02/2024",
          "02/2024",
          "02/2024",
          "02/2024",
          "02/2024",
          "02/2024",
          "02/2024",
          "02/2024",
          "03/2024",
          "03/2024",
          "03/2024",
          "03/2024",
          "03/2024",
          "03/2024",
          "03/2024",
          "03/2024",
          "03/2024",
          "03/2024",
          "04/2024",
          "04/2024",
          "04/2024",
          "04/2024",
          "04/2024",
          "04/2024",
          "04/2024",
          "04/2024",
          "04/2024",
          "04/2024",
          "05/2024",
          "05/2024",
          "05/2024",
          "05/2024",
          "05/2024",
          "05/2024",
          "05/2024",
          "05/2024",
          "06/2024",
          "06/2024",
          "06/2024",
          "06/2024",
          "06/2024",
          "06/2024",
          "06/2024",
          "06/2024",
          "07/2024",
          "07/2024",
          "07/2024",
          "07/2024",
          "07/2024",
          "07/2024",
          "07/2024",
          "07/2024",
          "08/2024",
          "08/2024",
          "08/2024",
          "08/2024",
          "08/2024",
          "08/2024",
          "08/2024",
          "08/2024",
          "09/2024",
          "09/2024",
          "09/2024",
          "09/2024",
          "09/2024",
          "09/2024",
          "09/2024",
          "09/2024",
          "09/2024"
         ],
         "categoryorder": "array",
         "domain": [
          0,
          1
         ],
         "title": {
          "text": "Month"
         }
        },
        "yaxis": {
         "anchor": "x",
         "domain": [
          0,
          1
         ],
         "title": {
          "text": "Percentage (%)"
         }
        },
        "yaxis2": {
         "anchor": "x",
         "overlaying": "y",
         "side": "right",
         "tickfont": {
          "color": "black"
         },
         "title": {
          "font": {
           "color": "black"
          },
          "text": "Liquid Patrimony (R$)"
         }
        }
       }
      }
     },
     "metadata": {},
     "output_type": "display_data"
    }
   ],
   "source": [
    "def graph_percentage_and_patrimony(df, fund_name=None, investment_type=None, exclude_south_america=False):\n",
    "    \"\"\"\n",
    "    Generate a dual-axis graph showing investment percentages as bars (left axis) \n",
    "    and liquid patrimony as a line (right axis).\n",
    "    \n",
    "    Parameters:\n",
    "    -----------\n",
    "    df : polars.DataFrame\n",
    "        The dataframe containing the investment data\n",
    "    fund_name : str or None, default=None\n",
    "        The name of the fund to analyze (None for all funds)\n",
    "    investment_type : str or None, default=None\n",
    "        Filter for specific investment type (\"BDR\", \"Invest. Ext.\", or None for both)\n",
    "    exclude_south_america : bool, default=False\n",
    "        If True, excludes investments in companies based in South America.\n",
    "    \"\"\"\n",
    "    # Apply filters\n",
    "    filtered_df = df.clone()\n",
    "    title_parts = []\n",
    "    # Group by month for liquid patrimony\n",
    "    monthly_patrimony = filtered_df.clone().filter(pl.col(\"funds\") == fund_name).group_by([\"month\", \"date_for_sort\"]).agg(\n",
    "        pl.first(\"liquid_patrimony\").alias(\"avg_patrimony\")\n",
    "    ).sort(\"date_for_sort\")\n",
    "    \n",
    "    if fund_name is not None:\n",
    "        filtered_df = filtered_df.filter(pl.col(\"funds\") == fund_name)\n",
    "        title_prefix = fund_name\n",
    "    else:\n",
    "        title_prefix = \"All Funds\"\n",
    "    title_parts.append(title_prefix)\n",
    "    \n",
    "    if investment_type == \"BDR\":\n",
    "        filtered_df = filtered_df.filter(pl.col(\"investment_type\") == \"BDR\")\n",
    "        type_title = \"BDR\"\n",
    "    elif investment_type == \"Invest. Ext.\":\n",
    "        filtered_df = filtered_df.filter(pl.col(\"investment_type\") == \"Invest. Ext.\")\n",
    "        type_title = \"Invest. Ext.\"\n",
    "    else:\n",
    "        type_title = \"BDR & Invest. Ext.\"\n",
    "    title_parts.append(type_title)\n",
    "\n",
    "    # Apply South America Filter\n",
    "    if exclude_south_america:\n",
    "        south_american_countries = [\n",
    "            \"Argentina\", \"Bolivia\", \"Brazil\", \"Chile\", \"Colombia\",\n",
    "            \"Ecuador\", \"Guyana\", \"Paraguay\", \"Peru\", \"Suriname\",\n",
    "            \"Uruguay\", \"Venezuela\"\n",
    "        ]\n",
    "        # Ensure the country column is string type for comparison\n",
    "        filtered_df = filtered_df.filter(\n",
    "            ~pl.col(\"company_country\").cast(pl.Utf8).is_in(south_american_countries)\n",
    "        )\n",
    "        title_parts.append(\"(Excluding South America)\")\n",
    "\n",
    "    graph_title = f'{title_parts[0]} - {title_parts[1]}: Investment Percentage and Liquid Patrimony'\n",
    "    if len(title_parts) > 2:\n",
    "        graph_title += f' {title_parts[2]}'\n",
    "    \n",
    "    # Group by month, ticker for percentages\n",
    "    monthly_ticker_pct = filtered_df.group_by([\"month\", \"ticker\", \"date_for_sort\"]).agg(\n",
    "        pl.sum(\"percentage\").alias(\"total_percentage\")\n",
    "    )\n",
    "\n",
    "    # Convert to pandas\n",
    "    plot_df_pct = monthly_ticker_pct.to_pandas()\n",
    "    plot_df_patrimony = monthly_patrimony.to_pandas()\n",
    "    \n",
    "    # Check if data exists\n",
    "    if plot_df_pct.empty:\n",
    "        print(f\"No data found for: {title_prefix} with investment type: {type_title}\")\n",
    "        return None\n",
    "    \n",
    "    # Sort by date\n",
    "    plot_df_pct = plot_df_pct.sort_values('date_for_sort')\n",
    "    \n",
    "    # Calculate the total percentage per ticker across all months\n",
    "    ticker_totals = plot_df_pct.groupby('ticker')['total_percentage'].sum().sort_values(ascending=False)\n",
    "    ordered_tickers = ticker_totals.index.tolist()\n",
    "    \n",
    "    # Create the bar chart for percentages\n",
    "    fig = px.bar(\n",
    "        plot_df_pct,\n",
    "        x=\"month\",\n",
    "        y=\"total_percentage\",\n",
    "        color=\"ticker\",\n",
    "        title=graph_title,\n",
    "        labels={\n",
    "            \"month\": \"Month\",\n",
    "            \"total_percentage\": \"Percentage (%)\",\n",
    "            \"ticker\": \"Ticker\"\n",
    "        },\n",
    "        category_orders={\n",
    "            \"month\": plot_df_pct[\"month\"].tolist(),\n",
    "            \"ticker\": ordered_tickers,\n",
    "        },\n",
    "        height=600,\n",
    "    )\n",
    "    \n",
    "    # Add the line chart for liquid patrimony\n",
    "    # Instead of adding traces one by one, add a single trace with all points\n",
    "    fig.add_trace(\n",
    "        dict(\n",
    "            type='scatter',\n",
    "            x=plot_df_patrimony['month'],\n",
    "            y=plot_df_patrimony['avg_patrimony'],\n",
    "            name='Liquid Patrimony',\n",
    "            mode='lines+markers',\n",
    "            line=dict(color='black', width=3),\n",
    "            marker=dict(size=8, color='black'),\n",
    "            yaxis='y2'  # Use secondary y-axis\n",
    "        )\n",
    "    )\n",
    "    \n",
    "    # Set up the secondary y-axis for liquid patrimony\n",
    "    fig.update_layout(\n",
    "        xaxis_title=\"Month\",\n",
    "        yaxis_title=\"Percentage (%)\",\n",
    "        yaxis2=dict(\n",
    "            title=\"Liquid Patrimony (R$)\",\n",
    "            titlefont=dict(color=\"black\"),\n",
    "            tickfont=dict(color=\"black\"),\n",
    "            anchor=\"x\",\n",
    "            overlaying=\"y\",\n",
    "            side=\"right\"\n",
    "        ),\n",
    "        legend_title=\"Ticker\",\n",
    "        barmode='relative',\n",
    "        hovermode=\"closest\"\n",
    "    )\n",
    "    \n",
    "    # Format hover info\n",
    "    fig.update_traces(\n",
    "        selector=dict(type='bar'),\n",
    "        hovertemplate=\"<b>%{x}</b><br>\" +\n",
    "                      \"Ticker: %{fullData.name}<br>\" +\n",
    "                      \"Percentage: %{y:.2f}%<br>\"\n",
    "    )\n",
    "    \n",
    "    # Add hover template for the line\n",
    "    fig.update_traces(\n",
    "        selector=dict(name='Liquid Patrimony'),\n",
    "        hovertemplate=\"<b>%{x}</b><br>\" +\n",
    "                      \"Liquid Patrimony: R$ %{y:,.2f}<br>\"\n",
    "    )\n",
    "    \n",
    "    # Show the plot\n",
    "    fig.show()\n",
    "    \n",
    "    return None\n",
    "\n",
    "# Example usage:\n",
    "# For a specific fund\n",
    "graph_percentage_and_patrimony(df_peers, \"IP\")\n",
    "# For a specific fund, excluding South America\n",
    "graph_percentage_and_patrimony(df_peers, \"IP\", exclude_south_america=True)\n",
    "# For all funds, BDR only, excluding South America\n",
    "graph_percentage_and_patrimony(df_peers, investment_type=\"BDR\", exclude_south_america=True)"
   ]
  },
  {
   "cell_type": "code",
   "execution_count": 130,
   "metadata": {},
   "outputs": [
    {
     "data": {
      "application/vnd.plotly.v1+json": {
       "config": {
        "plotlyServerURL": "https://plot.ly"
       },
       "data": [
        {
         "alignmentgroup": "True",
         "hovertemplate": "<b>%{x}</b><br>Ticker: %{fullData.name}<br>Value: %{y:.2f}%<br>",
         "legendgroup": "GOOGL",
         "marker": {
          "color": "#636efa",
          "pattern": {
           "shape": ""
          }
         },
         "name": "GOOGL",
         "offsetgroup": "GOOGL",
         "orientation": "v",
         "showlegend": true,
         "textposition": "auto",
         "type": "bar",
         "x": [
          "10/2022",
          "11/2022",
          "12/2022",
          "01/2023",
          "02/2023",
          "03/2023",
          "04/2023",
          "05/2023",
          "06/2023",
          "07/2023",
          "08/2023",
          "09/2023",
          "10/2023",
          "11/2023",
          "12/2023",
          "01/2024",
          "02/2024",
          "03/2024",
          "04/2024",
          "05/2024",
          "06/2024",
          "07/2024",
          "08/2024",
          "09/2024"
         ],
         "xaxis": "x",
         "y": [
          4.412,
          4.842,
          4.458,
          4.394,
          3.4480000000000004,
          4.840999999999999,
          4.832,
          5.523,
          4.816,
          5.127000000000001,
          5.496,
          5.5120000000000005,
          5.465000000000001,
          5.221,
          5.265,
          5.315,
          5.611,
          6.2090000000000005,
          7.268,
          7.2669999999999995,
          8.108,
          7.269,
          7.162,
          6.952
         ],
         "yaxis": "y"
        },
        {
         "alignmentgroup": "True",
         "hovertemplate": "<b>%{x}</b><br>Ticker: %{fullData.name}<br>Value: %{y:.2f}%<br>",
         "legendgroup": "BERK",
         "marker": {
          "color": "#EF553B",
          "pattern": {
           "shape": ""
          }
         },
         "name": "BERK",
         "offsetgroup": "BERK",
         "orientation": "v",
         "showlegend": true,
         "textposition": "auto",
         "type": "bar",
         "x": [
          "11/2022",
          "12/2022",
          "01/2023",
          "02/2023",
          "03/2023",
          "04/2023",
          "05/2023",
          "06/2023",
          "07/2023",
          "08/2023",
          "09/2023",
          "10/2023",
          "11/2023",
          "12/2023",
          "01/2024",
          "02/2024",
          "03/2024",
          "04/2024",
          "05/2024"
         ],
         "xaxis": "x",
         "y": [
          3.823,
          3.9170000000000003,
          3.6790000000000003,
          3.9829999999999997,
          3.946,
          4.057,
          3.9469999999999996,
          3.764,
          3.721,
          3.987,
          4.046,
          4.109999999999999,
          3.8859999999999997,
          3.665,
          3.991,
          3.124,
          1.9140000000000001,
          1.8849999999999998,
          1.96
         ],
         "yaxis": "y"
        },
        {
         "alignmentgroup": "True",
         "hovertemplate": "<b>%{x}</b><br>Ticker: %{fullData.name}<br>Value: %{y:.2f}%<br>",
         "legendgroup": "NFLX",
         "marker": {
          "color": "#00cc96",
          "pattern": {
           "shape": ""
          }
         },
         "name": "NFLX",
         "offsetgroup": "NFLX",
         "orientation": "v",
         "showlegend": true,
         "textposition": "auto",
         "type": "bar",
         "x": [
          "10/2022",
          "11/2022",
          "12/2022",
          "01/2023",
          "02/2023",
          "03/2023",
          "04/2023",
          "05/2023",
          "06/2023",
          "07/2023",
          "08/2023",
          "09/2023",
          "10/2023",
          "11/2023",
          "12/2023",
          "01/2024",
          "02/2024",
          "03/2024",
          "04/2024",
          "05/2024",
          "06/2024",
          "07/2024",
          "08/2024",
          "09/2024"
         ],
         "xaxis": "x",
         "y": [
          4.038,
          3.8309999999999995,
          3.895,
          2.2769999999999997,
          1.779,
          1.871,
          1.7240000000000002,
          2.061,
          2.056,
          1.967,
          2.0309999999999997,
          1.8459999999999996,
          2.104,
          2.167,
          2.129,
          2.483,
          2.5829999999999997,
          2.641,
          2.5989999999999998,
          3.0620000000000003,
          3.4029999999999996,
          3.253,
          2.964,
          2.366
         ],
         "yaxis": "y"
        },
        {
         "alignmentgroup": "True",
         "hovertemplate": "<b>%{x}</b><br>Ticker: %{fullData.name}<br>Value: %{y:.2f}%<br>",
         "legendgroup": "MA",
         "marker": {
          "color": "#ab63fa",
          "pattern": {
           "shape": ""
          }
         },
         "name": "MA",
         "offsetgroup": "MA",
         "orientation": "v",
         "showlegend": true,
         "textposition": "auto",
         "type": "bar",
         "x": [
          "03/2023",
          "04/2023",
          "05/2023",
          "06/2023",
          "07/2023",
          "08/2023",
          "09/2023",
          "10/2023",
          "11/2023",
          "12/2023",
          "01/2024",
          "02/2024",
          "03/2024",
          "04/2024",
          "05/2024",
          "06/2024",
          "07/2024",
          "08/2024",
          "09/2024"
         ],
         "xaxis": "x",
         "y": [
          2.931,
          2.956,
          2.835,
          2.734,
          2.632,
          2.878,
          2.881,
          2.864,
          2.817,
          2.778,
          2.945,
          3.029,
          3.1189999999999998,
          3.1710000000000003,
          3.1780000000000004,
          3.313,
          3.527,
          3.535,
          3.453
         ],
         "yaxis": "y"
        },
        {
         "alignmentgroup": "True",
         "hovertemplate": "<b>%{x}</b><br>Ticker: %{fullData.name}<br>Value: %{y:.2f}%<br>",
         "legendgroup": "TDG",
         "marker": {
          "color": "#FFA15A",
          "pattern": {
           "shape": ""
          }
         },
         "name": "TDG",
         "offsetgroup": "TDG",
         "orientation": "v",
         "showlegend": true,
         "textposition": "auto",
         "type": "bar",
         "x": [
          "10/2022",
          "11/2022",
          "12/2022",
          "01/2023",
          "02/2023",
          "03/2023",
          "04/2023",
          "05/2023",
          "06/2023",
          "07/2023",
          "08/2023",
          "09/2023",
          "10/2023",
          "11/2023",
          "12/2023",
          "01/2024",
          "02/2024",
          "03/2024",
          "04/2024",
          "05/2024",
          "06/2024",
          "07/2024",
          "08/2024"
         ],
         "xaxis": "x",
         "y": [
          2.711,
          3.04,
          3.209,
          3.404,
          3.8989999999999996,
          1.337,
          1.3390000000000002,
          1.352,
          1.399,
          1.351,
          1.418,
          1.381,
          1.418,
          1.4749999999999999,
          1.482,
          1.6119999999999999,
          1.69,
          1.7950000000000002,
          1.974,
          2.1479999999999997,
          2.1590000000000003,
          2.325,
          2.373
         ],
         "yaxis": "y"
        },
        {
         "alignmentgroup": "True",
         "hovertemplate": "<b>%{x}</b><br>Ticker: %{fullData.name}<br>Value: %{y:.2f}%<br>",
         "legendgroup": "LBRD",
         "marker": {
          "color": "#19d3f3",
          "pattern": {
           "shape": ""
          }
         },
         "name": "LBRD",
         "offsetgroup": "LBRD",
         "orientation": "v",
         "showlegend": true,
         "textposition": "auto",
         "type": "bar",
         "x": [
          "10/2022",
          "11/2022",
          "12/2022",
          "01/2023",
          "02/2023",
          "03/2023",
          "04/2023",
          "05/2023",
          "06/2023",
          "07/2023",
          "08/2023",
          "09/2023",
          "10/2023"
         ],
         "xaxis": "x",
         "y": [
          2.931,
          3.240000000000001,
          2.866,
          3.1390000000000002,
          3.3489999999999998,
          3.097,
          3.1,
          2.705,
          2.618,
          2.796,
          3.0669999999999997,
          3.124,
          2.98
         ],
         "yaxis": "y"
        },
        {
         "alignmentgroup": "True",
         "hovertemplate": "<b>%{x}</b><br>Ticker: %{fullData.name}<br>Value: %{y:.2f}%<br>",
         "legendgroup": "MSFT",
         "marker": {
          "color": "#FF6692",
          "pattern": {
           "shape": ""
          }
         },
         "name": "MSFT",
         "offsetgroup": "MSFT",
         "orientation": "v",
         "showlegend": true,
         "textposition": "auto",
         "type": "bar",
         "x": [
          "10/2022",
          "11/2022",
          "12/2022",
          "01/2023",
          "02/2023",
          "03/2023",
          "04/2023",
          "05/2023"
         ],
         "xaxis": "x",
         "y": [
          3.0429999999999997,
          3.436,
          3.4029999999999996,
          3.273,
          1.913,
          2.1679999999999997,
          2.2289999999999996,
          2.379
         ],
         "yaxis": "y"
        },
        {
         "alignmentgroup": "True",
         "hovertemplate": "<b>%{x}</b><br>Ticker: %{fullData.name}<br>Value: %{y:.2f}%<br>",
         "legendgroup": "AMZN",
         "marker": {
          "color": "#B6E880",
          "pattern": {
           "shape": ""
          }
         },
         "name": "AMZN",
         "offsetgroup": "AMZN",
         "orientation": "v",
         "showlegend": true,
         "textposition": "auto",
         "type": "bar",
         "x": [
          "10/2022",
          "11/2022",
          "12/2022",
          "01/2023",
          "02/2023",
          "03/2023"
         ],
         "xaxis": "x",
         "y": [
          2.903,
          2.81,
          2.577,
          2.682,
          2.708,
          1.4369999999999998
         ],
         "yaxis": "y"
        },
        {
         "alignmentgroup": "True",
         "hovertemplate": "<b>%{x}</b><br>Ticker: %{fullData.name}<br>Value: %{y:.2f}%<br>",
         "legendgroup": "XPBR",
         "marker": {
          "color": "#FF97FF",
          "pattern": {
           "shape": ""
          }
         },
         "name": "XPBR",
         "offsetgroup": "XPBR",
         "orientation": "v",
         "showlegend": true,
         "textposition": "auto",
         "type": "bar",
         "x": [
          "10/2022",
          "11/2022",
          "12/2022",
          "01/2023",
          "02/2023",
          "03/2023"
         ],
         "xaxis": "x",
         "y": [
          2.384,
          2.314,
          2.1380000000000003,
          2.308,
          1.779,
          0.054
         ],
         "yaxis": "y"
        },
        {
         "alignmentgroup": "True",
         "hovertemplate": "<b>%{x}</b><br>Ticker: %{fullData.name}<br>Value: %{y:.2f}%<br>",
         "legendgroup": "ABNB",
         "marker": {
          "color": "#FECB52",
          "pattern": {
           "shape": ""
          }
         },
         "name": "ABNB",
         "offsetgroup": "ABNB",
         "orientation": "v",
         "showlegend": true,
         "textposition": "auto",
         "type": "bar",
         "x": [
          "09/2024"
         ],
         "xaxis": "x",
         "y": [
          2.12
         ],
         "yaxis": "y"
        }
       ],
       "layout": {
        "barmode": "relative",
        "height": 600,
        "hovermode": "closest",
        "legend": {
         "title": {
          "text": "Ticker"
         },
         "tracegroupgap": 0
        },
        "template": {
         "data": {
          "bar": [
           {
            "error_x": {
             "color": "#2a3f5f"
            },
            "error_y": {
             "color": "#2a3f5f"
            },
            "marker": {
             "line": {
              "color": "#E5ECF6",
              "width": 0.5
             },
             "pattern": {
              "fillmode": "overlay",
              "size": 10,
              "solidity": 0.2
             }
            },
            "type": "bar"
           }
          ],
          "barpolar": [
           {
            "marker": {
             "line": {
              "color": "#E5ECF6",
              "width": 0.5
             },
             "pattern": {
              "fillmode": "overlay",
              "size": 10,
              "solidity": 0.2
             }
            },
            "type": "barpolar"
           }
          ],
          "carpet": [
           {
            "aaxis": {
             "endlinecolor": "#2a3f5f",
             "gridcolor": "white",
             "linecolor": "white",
             "minorgridcolor": "white",
             "startlinecolor": "#2a3f5f"
            },
            "baxis": {
             "endlinecolor": "#2a3f5f",
             "gridcolor": "white",
             "linecolor": "white",
             "minorgridcolor": "white",
             "startlinecolor": "#2a3f5f"
            },
            "type": "carpet"
           }
          ],
          "choropleth": [
           {
            "colorbar": {
             "outlinewidth": 0,
             "ticks": ""
            },
            "type": "choropleth"
           }
          ],
          "contour": [
           {
            "colorbar": {
             "outlinewidth": 0,
             "ticks": ""
            },
            "colorscale": [
             [
              0,
              "#0d0887"
             ],
             [
              0.1111111111111111,
              "#46039f"
             ],
             [
              0.2222222222222222,
              "#7201a8"
             ],
             [
              0.3333333333333333,
              "#9c179e"
             ],
             [
              0.4444444444444444,
              "#bd3786"
             ],
             [
              0.5555555555555556,
              "#d8576b"
             ],
             [
              0.6666666666666666,
              "#ed7953"
             ],
             [
              0.7777777777777778,
              "#fb9f3a"
             ],
             [
              0.8888888888888888,
              "#fdca26"
             ],
             [
              1,
              "#f0f921"
             ]
            ],
            "type": "contour"
           }
          ],
          "contourcarpet": [
           {
            "colorbar": {
             "outlinewidth": 0,
             "ticks": ""
            },
            "type": "contourcarpet"
           }
          ],
          "heatmap": [
           {
            "colorbar": {
             "outlinewidth": 0,
             "ticks": ""
            },
            "colorscale": [
             [
              0,
              "#0d0887"
             ],
             [
              0.1111111111111111,
              "#46039f"
             ],
             [
              0.2222222222222222,
              "#7201a8"
             ],
             [
              0.3333333333333333,
              "#9c179e"
             ],
             [
              0.4444444444444444,
              "#bd3786"
             ],
             [
              0.5555555555555556,
              "#d8576b"
             ],
             [
              0.6666666666666666,
              "#ed7953"
             ],
             [
              0.7777777777777778,
              "#fb9f3a"
             ],
             [
              0.8888888888888888,
              "#fdca26"
             ],
             [
              1,
              "#f0f921"
             ]
            ],
            "type": "heatmap"
           }
          ],
          "heatmapgl": [
           {
            "colorbar": {
             "outlinewidth": 0,
             "ticks": ""
            },
            "colorscale": [
             [
              0,
              "#0d0887"
             ],
             [
              0.1111111111111111,
              "#46039f"
             ],
             [
              0.2222222222222222,
              "#7201a8"
             ],
             [
              0.3333333333333333,
              "#9c179e"
             ],
             [
              0.4444444444444444,
              "#bd3786"
             ],
             [
              0.5555555555555556,
              "#d8576b"
             ],
             [
              0.6666666666666666,
              "#ed7953"
             ],
             [
              0.7777777777777778,
              "#fb9f3a"
             ],
             [
              0.8888888888888888,
              "#fdca26"
             ],
             [
              1,
              "#f0f921"
             ]
            ],
            "type": "heatmapgl"
           }
          ],
          "histogram": [
           {
            "marker": {
             "pattern": {
              "fillmode": "overlay",
              "size": 10,
              "solidity": 0.2
             }
            },
            "type": "histogram"
           }
          ],
          "histogram2d": [
           {
            "colorbar": {
             "outlinewidth": 0,
             "ticks": ""
            },
            "colorscale": [
             [
              0,
              "#0d0887"
             ],
             [
              0.1111111111111111,
              "#46039f"
             ],
             [
              0.2222222222222222,
              "#7201a8"
             ],
             [
              0.3333333333333333,
              "#9c179e"
             ],
             [
              0.4444444444444444,
              "#bd3786"
             ],
             [
              0.5555555555555556,
              "#d8576b"
             ],
             [
              0.6666666666666666,
              "#ed7953"
             ],
             [
              0.7777777777777778,
              "#fb9f3a"
             ],
             [
              0.8888888888888888,
              "#fdca26"
             ],
             [
              1,
              "#f0f921"
             ]
            ],
            "type": "histogram2d"
           }
          ],
          "histogram2dcontour": [
           {
            "colorbar": {
             "outlinewidth": 0,
             "ticks": ""
            },
            "colorscale": [
             [
              0,
              "#0d0887"
             ],
             [
              0.1111111111111111,
              "#46039f"
             ],
             [
              0.2222222222222222,
              "#7201a8"
             ],
             [
              0.3333333333333333,
              "#9c179e"
             ],
             [
              0.4444444444444444,
              "#bd3786"
             ],
             [
              0.5555555555555556,
              "#d8576b"
             ],
             [
              0.6666666666666666,
              "#ed7953"
             ],
             [
              0.7777777777777778,
              "#fb9f3a"
             ],
             [
              0.8888888888888888,
              "#fdca26"
             ],
             [
              1,
              "#f0f921"
             ]
            ],
            "type": "histogram2dcontour"
           }
          ],
          "mesh3d": [
           {
            "colorbar": {
             "outlinewidth": 0,
             "ticks": ""
            },
            "type": "mesh3d"
           }
          ],
          "parcoords": [
           {
            "line": {
             "colorbar": {
              "outlinewidth": 0,
              "ticks": ""
             }
            },
            "type": "parcoords"
           }
          ],
          "pie": [
           {
            "automargin": true,
            "type": "pie"
           }
          ],
          "scatter": [
           {
            "fillpattern": {
             "fillmode": "overlay",
             "size": 10,
             "solidity": 0.2
            },
            "type": "scatter"
           }
          ],
          "scatter3d": [
           {
            "line": {
             "colorbar": {
              "outlinewidth": 0,
              "ticks": ""
             }
            },
            "marker": {
             "colorbar": {
              "outlinewidth": 0,
              "ticks": ""
             }
            },
            "type": "scatter3d"
           }
          ],
          "scattercarpet": [
           {
            "marker": {
             "colorbar": {
              "outlinewidth": 0,
              "ticks": ""
             }
            },
            "type": "scattercarpet"
           }
          ],
          "scattergeo": [
           {
            "marker": {
             "colorbar": {
              "outlinewidth": 0,
              "ticks": ""
             }
            },
            "type": "scattergeo"
           }
          ],
          "scattergl": [
           {
            "marker": {
             "colorbar": {
              "outlinewidth": 0,
              "ticks": ""
             }
            },
            "type": "scattergl"
           }
          ],
          "scattermapbox": [
           {
            "marker": {
             "colorbar": {
              "outlinewidth": 0,
              "ticks": ""
             }
            },
            "type": "scattermapbox"
           }
          ],
          "scatterpolar": [
           {
            "marker": {
             "colorbar": {
              "outlinewidth": 0,
              "ticks": ""
             }
            },
            "type": "scatterpolar"
           }
          ],
          "scatterpolargl": [
           {
            "marker": {
             "colorbar": {
              "outlinewidth": 0,
              "ticks": ""
             }
            },
            "type": "scatterpolargl"
           }
          ],
          "scatterternary": [
           {
            "marker": {
             "colorbar": {
              "outlinewidth": 0,
              "ticks": ""
             }
            },
            "type": "scatterternary"
           }
          ],
          "surface": [
           {
            "colorbar": {
             "outlinewidth": 0,
             "ticks": ""
            },
            "colorscale": [
             [
              0,
              "#0d0887"
             ],
             [
              0.1111111111111111,
              "#46039f"
             ],
             [
              0.2222222222222222,
              "#7201a8"
             ],
             [
              0.3333333333333333,
              "#9c179e"
             ],
             [
              0.4444444444444444,
              "#bd3786"
             ],
             [
              0.5555555555555556,
              "#d8576b"
             ],
             [
              0.6666666666666666,
              "#ed7953"
             ],
             [
              0.7777777777777778,
              "#fb9f3a"
             ],
             [
              0.8888888888888888,
              "#fdca26"
             ],
             [
              1,
              "#f0f921"
             ]
            ],
            "type": "surface"
           }
          ],
          "table": [
           {
            "cells": {
             "fill": {
              "color": "#EBF0F8"
             },
             "line": {
              "color": "white"
             }
            },
            "header": {
             "fill": {
              "color": "#C8D4E3"
             },
             "line": {
              "color": "white"
             }
            },
            "type": "table"
           }
          ]
         },
         "layout": {
          "annotationdefaults": {
           "arrowcolor": "#2a3f5f",
           "arrowhead": 0,
           "arrowwidth": 1
          },
          "autotypenumbers": "strict",
          "coloraxis": {
           "colorbar": {
            "outlinewidth": 0,
            "ticks": ""
           }
          },
          "colorscale": {
           "diverging": [
            [
             0,
             "#8e0152"
            ],
            [
             0.1,
             "#c51b7d"
            ],
            [
             0.2,
             "#de77ae"
            ],
            [
             0.3,
             "#f1b6da"
            ],
            [
             0.4,
             "#fde0ef"
            ],
            [
             0.5,
             "#f7f7f7"
            ],
            [
             0.6,
             "#e6f5d0"
            ],
            [
             0.7,
             "#b8e186"
            ],
            [
             0.8,
             "#7fbc41"
            ],
            [
             0.9,
             "#4d9221"
            ],
            [
             1,
             "#276419"
            ]
           ],
           "sequential": [
            [
             0,
             "#0d0887"
            ],
            [
             0.1111111111111111,
             "#46039f"
            ],
            [
             0.2222222222222222,
             "#7201a8"
            ],
            [
             0.3333333333333333,
             "#9c179e"
            ],
            [
             0.4444444444444444,
             "#bd3786"
            ],
            [
             0.5555555555555556,
             "#d8576b"
            ],
            [
             0.6666666666666666,
             "#ed7953"
            ],
            [
             0.7777777777777778,
             "#fb9f3a"
            ],
            [
             0.8888888888888888,
             "#fdca26"
            ],
            [
             1,
             "#f0f921"
            ]
           ],
           "sequentialminus": [
            [
             0,
             "#0d0887"
            ],
            [
             0.1111111111111111,
             "#46039f"
            ],
            [
             0.2222222222222222,
             "#7201a8"
            ],
            [
             0.3333333333333333,
             "#9c179e"
            ],
            [
             0.4444444444444444,
             "#bd3786"
            ],
            [
             0.5555555555555556,
             "#d8576b"
            ],
            [
             0.6666666666666666,
             "#ed7953"
            ],
            [
             0.7777777777777778,
             "#fb9f3a"
            ],
            [
             0.8888888888888888,
             "#fdca26"
            ],
            [
             1,
             "#f0f921"
            ]
           ]
          },
          "colorway": [
           "#636efa",
           "#EF553B",
           "#00cc96",
           "#ab63fa",
           "#FFA15A",
           "#19d3f3",
           "#FF6692",
           "#B6E880",
           "#FF97FF",
           "#FECB52"
          ],
          "font": {
           "color": "#2a3f5f"
          },
          "geo": {
           "bgcolor": "white",
           "lakecolor": "white",
           "landcolor": "#E5ECF6",
           "showlakes": true,
           "showland": true,
           "subunitcolor": "white"
          },
          "hoverlabel": {
           "align": "left"
          },
          "hovermode": "closest",
          "mapbox": {
           "style": "light"
          },
          "paper_bgcolor": "white",
          "plot_bgcolor": "#E5ECF6",
          "polar": {
           "angularaxis": {
            "gridcolor": "white",
            "linecolor": "white",
            "ticks": ""
           },
           "bgcolor": "#E5ECF6",
           "radialaxis": {
            "gridcolor": "white",
            "linecolor": "white",
            "ticks": ""
           }
          },
          "scene": {
           "xaxis": {
            "backgroundcolor": "#E5ECF6",
            "gridcolor": "white",
            "gridwidth": 2,
            "linecolor": "white",
            "showbackground": true,
            "ticks": "",
            "zerolinecolor": "white"
           },
           "yaxis": {
            "backgroundcolor": "#E5ECF6",
            "gridcolor": "white",
            "gridwidth": 2,
            "linecolor": "white",
            "showbackground": true,
            "ticks": "",
            "zerolinecolor": "white"
           },
           "zaxis": {
            "backgroundcolor": "#E5ECF6",
            "gridcolor": "white",
            "gridwidth": 2,
            "linecolor": "white",
            "showbackground": true,
            "ticks": "",
            "zerolinecolor": "white"
           }
          },
          "shapedefaults": {
           "line": {
            "color": "#2a3f5f"
           }
          },
          "ternary": {
           "aaxis": {
            "gridcolor": "white",
            "linecolor": "white",
            "ticks": ""
           },
           "baxis": {
            "gridcolor": "white",
            "linecolor": "white",
            "ticks": ""
           },
           "bgcolor": "#E5ECF6",
           "caxis": {
            "gridcolor": "white",
            "linecolor": "white",
            "ticks": ""
           }
          },
          "title": {
           "x": 0.05
          },
          "xaxis": {
           "automargin": true,
           "gridcolor": "white",
           "linecolor": "white",
           "ticks": "",
           "title": {
            "standoff": 15
           },
           "zerolinecolor": "white",
           "zerolinewidth": 2
          },
          "yaxis": {
           "automargin": true,
           "gridcolor": "white",
           "linecolor": "white",
           "ticks": "",
           "title": {
            "standoff": 15
           },
           "zerolinecolor": "white",
           "zerolinewidth": 2
          }
         }
        },
        "title": {
         "text": "IP - BDR (Percentage (%))"
        },
        "xaxis": {
         "anchor": "y",
         "categoryarray": [
          "10/2022",
          "10/2022",
          "10/2022",
          "10/2022",
          "10/2022",
          "10/2022",
          "10/2022",
          "11/2022",
          "11/2022",
          "11/2022",
          "11/2022",
          "11/2022",
          "11/2022",
          "11/2022",
          "11/2022",
          "12/2022",
          "12/2022",
          "12/2022",
          "12/2022",
          "12/2022",
          "12/2022",
          "12/2022",
          "12/2022",
          "01/2023",
          "01/2023",
          "01/2023",
          "01/2023",
          "01/2023",
          "01/2023",
          "01/2023",
          "01/2023",
          "02/2023",
          "02/2023",
          "02/2023",
          "02/2023",
          "02/2023",
          "02/2023",
          "02/2023",
          "02/2023",
          "03/2023",
          "03/2023",
          "03/2023",
          "03/2023",
          "03/2023",
          "03/2023",
          "03/2023",
          "03/2023",
          "03/2023",
          "04/2023",
          "04/2023",
          "04/2023",
          "04/2023",
          "04/2023",
          "04/2023",
          "04/2023",
          "05/2023",
          "05/2023",
          "05/2023",
          "05/2023",
          "05/2023",
          "05/2023",
          "05/2023",
          "06/2023",
          "06/2023",
          "06/2023",
          "06/2023",
          "06/2023",
          "06/2023",
          "07/2023",
          "07/2023",
          "07/2023",
          "07/2023",
          "07/2023",
          "07/2023",
          "08/2023",
          "08/2023",
          "08/2023",
          "08/2023",
          "08/2023",
          "08/2023",
          "09/2023",
          "09/2023",
          "09/2023",
          "09/2023",
          "09/2023",
          "09/2023",
          "10/2023",
          "10/2023",
          "10/2023",
          "10/2023",
          "10/2023",
          "10/2023",
          "11/2023",
          "11/2023",
          "11/2023",
          "11/2023",
          "11/2023",
          "12/2023",
          "12/2023",
          "12/2023",
          "12/2023",
          "12/2023",
          "01/2024",
          "01/2024",
          "01/2024",
          "01/2024",
          "01/2024",
          "02/2024",
          "02/2024",
          "02/2024",
          "02/2024",
          "02/2024",
          "03/2024",
          "03/2024",
          "03/2024",
          "03/2024",
          "03/2024",
          "04/2024",
          "04/2024",
          "04/2024",
          "04/2024",
          "04/2024",
          "05/2024",
          "05/2024",
          "05/2024",
          "05/2024",
          "05/2024",
          "06/2024",
          "06/2024",
          "06/2024",
          "06/2024",
          "07/2024",
          "07/2024",
          "07/2024",
          "07/2024",
          "08/2024",
          "08/2024",
          "08/2024",
          "08/2024",
          "09/2024",
          "09/2024",
          "09/2024",
          "09/2024"
         ],
         "categoryorder": "array",
         "domain": [
          0,
          1
         ],
         "title": {
          "text": "Month"
         }
        },
        "yaxis": {
         "anchor": "x",
         "domain": [
          0,
          1
         ],
         "title": {
          "text": "Percentage (%)"
         }
        }
       }
      }
     },
     "metadata": {},
     "output_type": "display_data"
    },
    {
     "data": {
      "application/vnd.plotly.v1+json": {
       "config": {
        "plotlyServerURL": "https://plot.ly"
       },
       "data": [
        {
         "alignmentgroup": "True",
         "hovertemplate": "<b>%{x}</b><br>Ticker: %{fullData.name}<br>Value: %{y:.2f}%<br>",
         "legendgroup": "GOOGL",
         "marker": {
          "color": "#636efa",
          "pattern": {
           "shape": ""
          }
         },
         "name": "GOOGL",
         "offsetgroup": "GOOGL",
         "orientation": "v",
         "showlegend": true,
         "textposition": "auto",
         "type": "bar",
         "x": [
          "10/2022",
          "11/2022",
          "12/2022",
          "01/2023",
          "02/2023",
          "03/2023",
          "04/2023",
          "05/2023",
          "06/2023",
          "07/2023",
          "08/2023",
          "09/2023",
          "10/2023",
          "11/2023",
          "12/2023",
          "01/2024",
          "02/2024",
          "03/2024",
          "04/2024",
          "05/2024",
          "06/2024",
          "07/2024",
          "08/2024",
          "09/2024"
         ],
         "xaxis": "x",
         "y": [
          4.412,
          4.842,
          4.458,
          4.394,
          3.4480000000000004,
          4.840999999999999,
          4.832,
          5.523,
          4.816,
          5.127000000000001,
          5.496,
          5.5120000000000005,
          5.465000000000001,
          5.221,
          5.265,
          5.315,
          5.611,
          6.2090000000000005,
          7.268,
          7.2669999999999995,
          8.108,
          7.269,
          7.162,
          6.952
         ],
         "yaxis": "y"
        },
        {
         "alignmentgroup": "True",
         "hovertemplate": "<b>%{x}</b><br>Ticker: %{fullData.name}<br>Value: %{y:.2f}%<br>",
         "legendgroup": "BERK",
         "marker": {
          "color": "#EF553B",
          "pattern": {
           "shape": ""
          }
         },
         "name": "BERK",
         "offsetgroup": "BERK",
         "orientation": "v",
         "showlegend": true,
         "textposition": "auto",
         "type": "bar",
         "x": [
          "11/2022",
          "12/2022",
          "01/2023",
          "02/2023",
          "03/2023",
          "04/2023",
          "05/2023",
          "06/2023",
          "07/2023",
          "08/2023",
          "09/2023",
          "10/2023",
          "11/2023",
          "12/2023",
          "01/2024",
          "02/2024",
          "03/2024",
          "04/2024",
          "05/2024"
         ],
         "xaxis": "x",
         "y": [
          3.823,
          3.9170000000000003,
          3.6790000000000003,
          3.9829999999999997,
          3.946,
          4.057,
          3.9469999999999996,
          3.764,
          3.721,
          3.987,
          4.046,
          4.109999999999999,
          3.8859999999999997,
          3.665,
          3.991,
          3.124,
          1.9140000000000001,
          1.8849999999999998,
          1.96
         ],
         "yaxis": "y"
        },
        {
         "alignmentgroup": "True",
         "hovertemplate": "<b>%{x}</b><br>Ticker: %{fullData.name}<br>Value: %{y:.2f}%<br>",
         "legendgroup": "NFLX",
         "marker": {
          "color": "#00cc96",
          "pattern": {
           "shape": ""
          }
         },
         "name": "NFLX",
         "offsetgroup": "NFLX",
         "orientation": "v",
         "showlegend": true,
         "textposition": "auto",
         "type": "bar",
         "x": [
          "10/2022",
          "11/2022",
          "12/2022",
          "01/2023",
          "02/2023",
          "03/2023",
          "04/2023",
          "05/2023",
          "06/2023",
          "07/2023",
          "08/2023",
          "09/2023",
          "10/2023",
          "11/2023",
          "12/2023",
          "01/2024",
          "02/2024",
          "03/2024",
          "04/2024",
          "05/2024",
          "06/2024",
          "07/2024",
          "08/2024",
          "09/2024"
         ],
         "xaxis": "x",
         "y": [
          4.038,
          3.8309999999999995,
          3.895,
          2.2769999999999997,
          1.779,
          1.871,
          1.7240000000000002,
          2.061,
          2.056,
          1.967,
          2.0309999999999997,
          1.8459999999999996,
          2.104,
          2.167,
          2.129,
          2.483,
          2.5829999999999997,
          2.641,
          2.5989999999999998,
          3.0620000000000003,
          3.4029999999999996,
          3.253,
          2.964,
          2.366
         ],
         "yaxis": "y"
        },
        {
         "alignmentgroup": "True",
         "hovertemplate": "<b>%{x}</b><br>Ticker: %{fullData.name}<br>Value: %{y:.2f}%<br>",
         "legendgroup": "MA",
         "marker": {
          "color": "#ab63fa",
          "pattern": {
           "shape": ""
          }
         },
         "name": "MA",
         "offsetgroup": "MA",
         "orientation": "v",
         "showlegend": true,
         "textposition": "auto",
         "type": "bar",
         "x": [
          "03/2023",
          "04/2023",
          "05/2023",
          "06/2023",
          "07/2023",
          "08/2023",
          "09/2023",
          "10/2023",
          "11/2023",
          "12/2023",
          "01/2024",
          "02/2024",
          "03/2024",
          "04/2024",
          "05/2024",
          "06/2024",
          "07/2024",
          "08/2024",
          "09/2024"
         ],
         "xaxis": "x",
         "y": [
          2.931,
          2.956,
          2.835,
          2.734,
          2.632,
          2.878,
          2.881,
          2.864,
          2.817,
          2.778,
          2.945,
          3.029,
          3.1189999999999998,
          3.1710000000000003,
          3.1780000000000004,
          3.313,
          3.527,
          3.535,
          3.453
         ],
         "yaxis": "y"
        },
        {
         "alignmentgroup": "True",
         "hovertemplate": "<b>%{x}</b><br>Ticker: %{fullData.name}<br>Value: %{y:.2f}%<br>",
         "legendgroup": "TDG",
         "marker": {
          "color": "#FFA15A",
          "pattern": {
           "shape": ""
          }
         },
         "name": "TDG",
         "offsetgroup": "TDG",
         "orientation": "v",
         "showlegend": true,
         "textposition": "auto",
         "type": "bar",
         "x": [
          "10/2022",
          "11/2022",
          "12/2022",
          "01/2023",
          "02/2023",
          "03/2023",
          "04/2023",
          "05/2023",
          "06/2023",
          "07/2023",
          "08/2023",
          "09/2023",
          "10/2023",
          "11/2023",
          "12/2023",
          "01/2024",
          "02/2024",
          "03/2024",
          "04/2024",
          "05/2024",
          "06/2024",
          "07/2024",
          "08/2024"
         ],
         "xaxis": "x",
         "y": [
          2.711,
          3.04,
          3.209,
          3.404,
          3.8989999999999996,
          1.337,
          1.3390000000000002,
          1.352,
          1.399,
          1.351,
          1.418,
          1.381,
          1.418,
          1.4749999999999999,
          1.482,
          1.6119999999999999,
          1.69,
          1.7950000000000002,
          1.974,
          2.1479999999999997,
          2.1590000000000003,
          2.325,
          2.373
         ],
         "yaxis": "y"
        },
        {
         "alignmentgroup": "True",
         "hovertemplate": "<b>%{x}</b><br>Ticker: %{fullData.name}<br>Value: %{y:.2f}%<br>",
         "legendgroup": "LBRD",
         "marker": {
          "color": "#19d3f3",
          "pattern": {
           "shape": ""
          }
         },
         "name": "LBRD",
         "offsetgroup": "LBRD",
         "orientation": "v",
         "showlegend": true,
         "textposition": "auto",
         "type": "bar",
         "x": [
          "10/2022",
          "11/2022",
          "12/2022",
          "01/2023",
          "02/2023",
          "03/2023",
          "04/2023",
          "05/2023",
          "06/2023",
          "07/2023",
          "08/2023",
          "09/2023",
          "10/2023"
         ],
         "xaxis": "x",
         "y": [
          2.931,
          3.240000000000001,
          2.866,
          3.1390000000000002,
          3.3489999999999998,
          3.097,
          3.1,
          2.705,
          2.618,
          2.796,
          3.0669999999999997,
          3.124,
          2.98
         ],
         "yaxis": "y"
        },
        {
         "alignmentgroup": "True",
         "hovertemplate": "<b>%{x}</b><br>Ticker: %{fullData.name}<br>Value: %{y:.2f}%<br>",
         "legendgroup": "MSFT",
         "marker": {
          "color": "#FF6692",
          "pattern": {
           "shape": ""
          }
         },
         "name": "MSFT",
         "offsetgroup": "MSFT",
         "orientation": "v",
         "showlegend": true,
         "textposition": "auto",
         "type": "bar",
         "x": [
          "10/2022",
          "11/2022",
          "12/2022",
          "01/2023",
          "02/2023",
          "03/2023",
          "04/2023",
          "05/2023"
         ],
         "xaxis": "x",
         "y": [
          3.0429999999999997,
          3.436,
          3.4029999999999996,
          3.273,
          1.913,
          2.1679999999999997,
          2.2289999999999996,
          2.379
         ],
         "yaxis": "y"
        },
        {
         "alignmentgroup": "True",
         "hovertemplate": "<b>%{x}</b><br>Ticker: %{fullData.name}<br>Value: %{y:.2f}%<br>",
         "legendgroup": "AMZN",
         "marker": {
          "color": "#B6E880",
          "pattern": {
           "shape": ""
          }
         },
         "name": "AMZN",
         "offsetgroup": "AMZN",
         "orientation": "v",
         "showlegend": true,
         "textposition": "auto",
         "type": "bar",
         "x": [
          "10/2022",
          "11/2022",
          "12/2022",
          "01/2023",
          "02/2023",
          "03/2023"
         ],
         "xaxis": "x",
         "y": [
          2.903,
          2.81,
          2.577,
          2.682,
          2.708,
          1.4369999999999998
         ],
         "yaxis": "y"
        },
        {
         "alignmentgroup": "True",
         "hovertemplate": "<b>%{x}</b><br>Ticker: %{fullData.name}<br>Value: %{y:.2f}%<br>",
         "legendgroup": "ABNB",
         "marker": {
          "color": "#FF97FF",
          "pattern": {
           "shape": ""
          }
         },
         "name": "ABNB",
         "offsetgroup": "ABNB",
         "orientation": "v",
         "showlegend": true,
         "textposition": "auto",
         "type": "bar",
         "x": [
          "09/2024"
         ],
         "xaxis": "x",
         "y": [
          2.12
         ],
         "yaxis": "y"
        }
       ],
       "layout": {
        "barmode": "relative",
        "height": 600,
        "hovermode": "closest",
        "legend": {
         "title": {
          "text": "Ticker"
         },
         "tracegroupgap": 0
        },
        "template": {
         "data": {
          "bar": [
           {
            "error_x": {
             "color": "#2a3f5f"
            },
            "error_y": {
             "color": "#2a3f5f"
            },
            "marker": {
             "line": {
              "color": "#E5ECF6",
              "width": 0.5
             },
             "pattern": {
              "fillmode": "overlay",
              "size": 10,
              "solidity": 0.2
             }
            },
            "type": "bar"
           }
          ],
          "barpolar": [
           {
            "marker": {
             "line": {
              "color": "#E5ECF6",
              "width": 0.5
             },
             "pattern": {
              "fillmode": "overlay",
              "size": 10,
              "solidity": 0.2
             }
            },
            "type": "barpolar"
           }
          ],
          "carpet": [
           {
            "aaxis": {
             "endlinecolor": "#2a3f5f",
             "gridcolor": "white",
             "linecolor": "white",
             "minorgridcolor": "white",
             "startlinecolor": "#2a3f5f"
            },
            "baxis": {
             "endlinecolor": "#2a3f5f",
             "gridcolor": "white",
             "linecolor": "white",
             "minorgridcolor": "white",
             "startlinecolor": "#2a3f5f"
            },
            "type": "carpet"
           }
          ],
          "choropleth": [
           {
            "colorbar": {
             "outlinewidth": 0,
             "ticks": ""
            },
            "type": "choropleth"
           }
          ],
          "contour": [
           {
            "colorbar": {
             "outlinewidth": 0,
             "ticks": ""
            },
            "colorscale": [
             [
              0,
              "#0d0887"
             ],
             [
              0.1111111111111111,
              "#46039f"
             ],
             [
              0.2222222222222222,
              "#7201a8"
             ],
             [
              0.3333333333333333,
              "#9c179e"
             ],
             [
              0.4444444444444444,
              "#bd3786"
             ],
             [
              0.5555555555555556,
              "#d8576b"
             ],
             [
              0.6666666666666666,
              "#ed7953"
             ],
             [
              0.7777777777777778,
              "#fb9f3a"
             ],
             [
              0.8888888888888888,
              "#fdca26"
             ],
             [
              1,
              "#f0f921"
             ]
            ],
            "type": "contour"
           }
          ],
          "contourcarpet": [
           {
            "colorbar": {
             "outlinewidth": 0,
             "ticks": ""
            },
            "type": "contourcarpet"
           }
          ],
          "heatmap": [
           {
            "colorbar": {
             "outlinewidth": 0,
             "ticks": ""
            },
            "colorscale": [
             [
              0,
              "#0d0887"
             ],
             [
              0.1111111111111111,
              "#46039f"
             ],
             [
              0.2222222222222222,
              "#7201a8"
             ],
             [
              0.3333333333333333,
              "#9c179e"
             ],
             [
              0.4444444444444444,
              "#bd3786"
             ],
             [
              0.5555555555555556,
              "#d8576b"
             ],
             [
              0.6666666666666666,
              "#ed7953"
             ],
             [
              0.7777777777777778,
              "#fb9f3a"
             ],
             [
              0.8888888888888888,
              "#fdca26"
             ],
             [
              1,
              "#f0f921"
             ]
            ],
            "type": "heatmap"
           }
          ],
          "heatmapgl": [
           {
            "colorbar": {
             "outlinewidth": 0,
             "ticks": ""
            },
            "colorscale": [
             [
              0,
              "#0d0887"
             ],
             [
              0.1111111111111111,
              "#46039f"
             ],
             [
              0.2222222222222222,
              "#7201a8"
             ],
             [
              0.3333333333333333,
              "#9c179e"
             ],
             [
              0.4444444444444444,
              "#bd3786"
             ],
             [
              0.5555555555555556,
              "#d8576b"
             ],
             [
              0.6666666666666666,
              "#ed7953"
             ],
             [
              0.7777777777777778,
              "#fb9f3a"
             ],
             [
              0.8888888888888888,
              "#fdca26"
             ],
             [
              1,
              "#f0f921"
             ]
            ],
            "type": "heatmapgl"
           }
          ],
          "histogram": [
           {
            "marker": {
             "pattern": {
              "fillmode": "overlay",
              "size": 10,
              "solidity": 0.2
             }
            },
            "type": "histogram"
           }
          ],
          "histogram2d": [
           {
            "colorbar": {
             "outlinewidth": 0,
             "ticks": ""
            },
            "colorscale": [
             [
              0,
              "#0d0887"
             ],
             [
              0.1111111111111111,
              "#46039f"
             ],
             [
              0.2222222222222222,
              "#7201a8"
             ],
             [
              0.3333333333333333,
              "#9c179e"
             ],
             [
              0.4444444444444444,
              "#bd3786"
             ],
             [
              0.5555555555555556,
              "#d8576b"
             ],
             [
              0.6666666666666666,
              "#ed7953"
             ],
             [
              0.7777777777777778,
              "#fb9f3a"
             ],
             [
              0.8888888888888888,
              "#fdca26"
             ],
             [
              1,
              "#f0f921"
             ]
            ],
            "type": "histogram2d"
           }
          ],
          "histogram2dcontour": [
           {
            "colorbar": {
             "outlinewidth": 0,
             "ticks": ""
            },
            "colorscale": [
             [
              0,
              "#0d0887"
             ],
             [
              0.1111111111111111,
              "#46039f"
             ],
             [
              0.2222222222222222,
              "#7201a8"
             ],
             [
              0.3333333333333333,
              "#9c179e"
             ],
             [
              0.4444444444444444,
              "#bd3786"
             ],
             [
              0.5555555555555556,
              "#d8576b"
             ],
             [
              0.6666666666666666,
              "#ed7953"
             ],
             [
              0.7777777777777778,
              "#fb9f3a"
             ],
             [
              0.8888888888888888,
              "#fdca26"
             ],
             [
              1,
              "#f0f921"
             ]
            ],
            "type": "histogram2dcontour"
           }
          ],
          "mesh3d": [
           {
            "colorbar": {
             "outlinewidth": 0,
             "ticks": ""
            },
            "type": "mesh3d"
           }
          ],
          "parcoords": [
           {
            "line": {
             "colorbar": {
              "outlinewidth": 0,
              "ticks": ""
             }
            },
            "type": "parcoords"
           }
          ],
          "pie": [
           {
            "automargin": true,
            "type": "pie"
           }
          ],
          "scatter": [
           {
            "fillpattern": {
             "fillmode": "overlay",
             "size": 10,
             "solidity": 0.2
            },
            "type": "scatter"
           }
          ],
          "scatter3d": [
           {
            "line": {
             "colorbar": {
              "outlinewidth": 0,
              "ticks": ""
             }
            },
            "marker": {
             "colorbar": {
              "outlinewidth": 0,
              "ticks": ""
             }
            },
            "type": "scatter3d"
           }
          ],
          "scattercarpet": [
           {
            "marker": {
             "colorbar": {
              "outlinewidth": 0,
              "ticks": ""
             }
            },
            "type": "scattercarpet"
           }
          ],
          "scattergeo": [
           {
            "marker": {
             "colorbar": {
              "outlinewidth": 0,
              "ticks": ""
             }
            },
            "type": "scattergeo"
           }
          ],
          "scattergl": [
           {
            "marker": {
             "colorbar": {
              "outlinewidth": 0,
              "ticks": ""
             }
            },
            "type": "scattergl"
           }
          ],
          "scattermapbox": [
           {
            "marker": {
             "colorbar": {
              "outlinewidth": 0,
              "ticks": ""
             }
            },
            "type": "scattermapbox"
           }
          ],
          "scatterpolar": [
           {
            "marker": {
             "colorbar": {
              "outlinewidth": 0,
              "ticks": ""
             }
            },
            "type": "scatterpolar"
           }
          ],
          "scatterpolargl": [
           {
            "marker": {
             "colorbar": {
              "outlinewidth": 0,
              "ticks": ""
             }
            },
            "type": "scatterpolargl"
           }
          ],
          "scatterternary": [
           {
            "marker": {
             "colorbar": {
              "outlinewidth": 0,
              "ticks": ""
             }
            },
            "type": "scatterternary"
           }
          ],
          "surface": [
           {
            "colorbar": {
             "outlinewidth": 0,
             "ticks": ""
            },
            "colorscale": [
             [
              0,
              "#0d0887"
             ],
             [
              0.1111111111111111,
              "#46039f"
             ],
             [
              0.2222222222222222,
              "#7201a8"
             ],
             [
              0.3333333333333333,
              "#9c179e"
             ],
             [
              0.4444444444444444,
              "#bd3786"
             ],
             [
              0.5555555555555556,
              "#d8576b"
             ],
             [
              0.6666666666666666,
              "#ed7953"
             ],
             [
              0.7777777777777778,
              "#fb9f3a"
             ],
             [
              0.8888888888888888,
              "#fdca26"
             ],
             [
              1,
              "#f0f921"
             ]
            ],
            "type": "surface"
           }
          ],
          "table": [
           {
            "cells": {
             "fill": {
              "color": "#EBF0F8"
             },
             "line": {
              "color": "white"
             }
            },
            "header": {
             "fill": {
              "color": "#C8D4E3"
             },
             "line": {
              "color": "white"
             }
            },
            "type": "table"
           }
          ]
         },
         "layout": {
          "annotationdefaults": {
           "arrowcolor": "#2a3f5f",
           "arrowhead": 0,
           "arrowwidth": 1
          },
          "autotypenumbers": "strict",
          "coloraxis": {
           "colorbar": {
            "outlinewidth": 0,
            "ticks": ""
           }
          },
          "colorscale": {
           "diverging": [
            [
             0,
             "#8e0152"
            ],
            [
             0.1,
             "#c51b7d"
            ],
            [
             0.2,
             "#de77ae"
            ],
            [
             0.3,
             "#f1b6da"
            ],
            [
             0.4,
             "#fde0ef"
            ],
            [
             0.5,
             "#f7f7f7"
            ],
            [
             0.6,
             "#e6f5d0"
            ],
            [
             0.7,
             "#b8e186"
            ],
            [
             0.8,
             "#7fbc41"
            ],
            [
             0.9,
             "#4d9221"
            ],
            [
             1,
             "#276419"
            ]
           ],
           "sequential": [
            [
             0,
             "#0d0887"
            ],
            [
             0.1111111111111111,
             "#46039f"
            ],
            [
             0.2222222222222222,
             "#7201a8"
            ],
            [
             0.3333333333333333,
             "#9c179e"
            ],
            [
             0.4444444444444444,
             "#bd3786"
            ],
            [
             0.5555555555555556,
             "#d8576b"
            ],
            [
             0.6666666666666666,
             "#ed7953"
            ],
            [
             0.7777777777777778,
             "#fb9f3a"
            ],
            [
             0.8888888888888888,
             "#fdca26"
            ],
            [
             1,
             "#f0f921"
            ]
           ],
           "sequentialminus": [
            [
             0,
             "#0d0887"
            ],
            [
             0.1111111111111111,
             "#46039f"
            ],
            [
             0.2222222222222222,
             "#7201a8"
            ],
            [
             0.3333333333333333,
             "#9c179e"
            ],
            [
             0.4444444444444444,
             "#bd3786"
            ],
            [
             0.5555555555555556,
             "#d8576b"
            ],
            [
             0.6666666666666666,
             "#ed7953"
            ],
            [
             0.7777777777777778,
             "#fb9f3a"
            ],
            [
             0.8888888888888888,
             "#fdca26"
            ],
            [
             1,
             "#f0f921"
            ]
           ]
          },
          "colorway": [
           "#636efa",
           "#EF553B",
           "#00cc96",
           "#ab63fa",
           "#FFA15A",
           "#19d3f3",
           "#FF6692",
           "#B6E880",
           "#FF97FF",
           "#FECB52"
          ],
          "font": {
           "color": "#2a3f5f"
          },
          "geo": {
           "bgcolor": "white",
           "lakecolor": "white",
           "landcolor": "#E5ECF6",
           "showlakes": true,
           "showland": true,
           "subunitcolor": "white"
          },
          "hoverlabel": {
           "align": "left"
          },
          "hovermode": "closest",
          "mapbox": {
           "style": "light"
          },
          "paper_bgcolor": "white",
          "plot_bgcolor": "#E5ECF6",
          "polar": {
           "angularaxis": {
            "gridcolor": "white",
            "linecolor": "white",
            "ticks": ""
           },
           "bgcolor": "#E5ECF6",
           "radialaxis": {
            "gridcolor": "white",
            "linecolor": "white",
            "ticks": ""
           }
          },
          "scene": {
           "xaxis": {
            "backgroundcolor": "#E5ECF6",
            "gridcolor": "white",
            "gridwidth": 2,
            "linecolor": "white",
            "showbackground": true,
            "ticks": "",
            "zerolinecolor": "white"
           },
           "yaxis": {
            "backgroundcolor": "#E5ECF6",
            "gridcolor": "white",
            "gridwidth": 2,
            "linecolor": "white",
            "showbackground": true,
            "ticks": "",
            "zerolinecolor": "white"
           },
           "zaxis": {
            "backgroundcolor": "#E5ECF6",
            "gridcolor": "white",
            "gridwidth": 2,
            "linecolor": "white",
            "showbackground": true,
            "ticks": "",
            "zerolinecolor": "white"
           }
          },
          "shapedefaults": {
           "line": {
            "color": "#2a3f5f"
           }
          },
          "ternary": {
           "aaxis": {
            "gridcolor": "white",
            "linecolor": "white",
            "ticks": ""
           },
           "baxis": {
            "gridcolor": "white",
            "linecolor": "white",
            "ticks": ""
           },
           "bgcolor": "#E5ECF6",
           "caxis": {
            "gridcolor": "white",
            "linecolor": "white",
            "ticks": ""
           }
          },
          "title": {
           "x": 0.05
          },
          "xaxis": {
           "automargin": true,
           "gridcolor": "white",
           "linecolor": "white",
           "ticks": "",
           "title": {
            "standoff": 15
           },
           "zerolinecolor": "white",
           "zerolinewidth": 2
          },
          "yaxis": {
           "automargin": true,
           "gridcolor": "white",
           "linecolor": "white",
           "ticks": "",
           "title": {
            "standoff": 15
           },
           "zerolinecolor": "white",
           "zerolinewidth": 2
          }
         }
        },
        "title": {
         "text": "IP - BDR (Excluding South America) (Percentage (%))"
        },
        "xaxis": {
         "anchor": "y",
         "categoryarray": [
          "10/2022",
          "10/2022",
          "10/2022",
          "10/2022",
          "10/2022",
          "10/2022",
          "11/2022",
          "11/2022",
          "11/2022",
          "11/2022",
          "11/2022",
          "11/2022",
          "11/2022",
          "12/2022",
          "12/2022",
          "12/2022",
          "12/2022",
          "12/2022",
          "12/2022",
          "12/2022",
          "01/2023",
          "01/2023",
          "01/2023",
          "01/2023",
          "01/2023",
          "01/2023",
          "01/2023",
          "02/2023",
          "02/2023",
          "02/2023",
          "02/2023",
          "02/2023",
          "02/2023",
          "02/2023",
          "03/2023",
          "03/2023",
          "03/2023",
          "03/2023",
          "03/2023",
          "03/2023",
          "03/2023",
          "03/2023",
          "04/2023",
          "04/2023",
          "04/2023",
          "04/2023",
          "04/2023",
          "04/2023",
          "04/2023",
          "05/2023",
          "05/2023",
          "05/2023",
          "05/2023",
          "05/2023",
          "05/2023",
          "05/2023",
          "06/2023",
          "06/2023",
          "06/2023",
          "06/2023",
          "06/2023",
          "06/2023",
          "07/2023",
          "07/2023",
          "07/2023",
          "07/2023",
          "07/2023",
          "07/2023",
          "08/2023",
          "08/2023",
          "08/2023",
          "08/2023",
          "08/2023",
          "08/2023",
          "09/2023",
          "09/2023",
          "09/2023",
          "09/2023",
          "09/2023",
          "09/2023",
          "10/2023",
          "10/2023",
          "10/2023",
          "10/2023",
          "10/2023",
          "10/2023",
          "11/2023",
          "11/2023",
          "11/2023",
          "11/2023",
          "11/2023",
          "12/2023",
          "12/2023",
          "12/2023",
          "12/2023",
          "12/2023",
          "01/2024",
          "01/2024",
          "01/2024",
          "01/2024",
          "01/2024",
          "02/2024",
          "02/2024",
          "02/2024",
          "02/2024",
          "02/2024",
          "03/2024",
          "03/2024",
          "03/2024",
          "03/2024",
          "03/2024",
          "04/2024",
          "04/2024",
          "04/2024",
          "04/2024",
          "04/2024",
          "05/2024",
          "05/2024",
          "05/2024",
          "05/2024",
          "05/2024",
          "06/2024",
          "06/2024",
          "06/2024",
          "06/2024",
          "07/2024",
          "07/2024",
          "07/2024",
          "07/2024",
          "08/2024",
          "08/2024",
          "08/2024",
          "08/2024",
          "09/2024",
          "09/2024",
          "09/2024",
          "09/2024"
         ],
         "categoryorder": "array",
         "domain": [
          0,
          1
         ],
         "title": {
          "text": "Month"
         }
        },
        "yaxis": {
         "anchor": "x",
         "domain": [
          0,
          1
         ],
         "title": {
          "text": "Percentage (%)"
         }
        }
       }
      }
     },
     "metadata": {},
     "output_type": "display_data"
    }
   ],
   "source": [
    "\n",
    "def graph_per_fund(df, fund_name, value_type=\"percentage\", investment_type=None, exclude_south_america=False):\n",
    "    \"\"\"\n",
    "    Generate a graph showing the investment composition of a specific fund over time.\n",
    "    \n",
    "    Parameters:\n",
    "    -----------\n",
    "    df : polars.DataFrame\n",
    "        The dataframe containing the investment data\n",
    "    fund_name : str\n",
    "        The name of the fund to analyze\n",
    "    value_type : str, default=\"value\"\n",
    "        The column to use for values (\"value\" for absolute or \"percentage\" for percentage)\n",
    "    investment_type : str or None, default=None\n",
    "        Filter for specific investment type (\"BDR\", \"Invest. Ext.\", or None for both)\n",
    "    exclude_south_america : bool, default=False\n",
    "        If True, excludes investments in companies based in South America.\n",
    "    \"\"\"\n",
    "    # Filter for the specified fund\n",
    "    filtered_df = df.filter(pl.col(\"funds\") == fund_name)\n",
    "    title_parts = [fund_name]\n",
    "    \n",
    "    # Apply investment type filter if specified\n",
    "    if investment_type == \"BDR\":\n",
    "        filtered_df = filtered_df.filter(pl.col(\"investment_type\") == \"BDR\")\n",
    "        type_title = \"BDR\"\n",
    "    elif investment_type == \"Invest. Ext.\":\n",
    "        filtered_df = filtered_df.filter(pl.col(\"investment_type\") == \"Invest. Ext.\")\n",
    "        type_title = \"Invest. Ext.\"\n",
    "    else:\n",
    "        type_title = \"BDR & Invest. Ext.\"\n",
    "    title_parts.append(type_title)\n",
    "    \n",
    "    # Apply South America Filter\n",
    "    if exclude_south_america:\n",
    "        south_american_countries = [\n",
    "            \"Argentina\", \"Bolivia\", \"Brazil\", \"Chile\", \"Colombia\",\n",
    "            \"Ecuador\", \"Guyana\", \"Paraguay\", \"Peru\", \"Suriname\",\n",
    "            \"Uruguay\", \"Venezuela\"\n",
    "        ]\n",
    "        # Ensure the country column is string type for comparison\n",
    "        filtered_df = filtered_df.filter(\n",
    "            ~pl.col(\"company_country\").cast(pl.Utf8).is_in(south_american_countries)\n",
    "        )\n",
    "        title_parts.append(\"(Excluding South America)\")\n",
    "\n",
    "    # Set value type label for the title\n",
    "    value_label = \"Value (R$)\" if value_type == \"value\" else \"Percentage (%)\"\n",
    "    title_parts.append(f\"({value_label})\")\n",
    "\n",
    "    graph_title = \" - \".join(title_parts[:2]) # Join fund name and type\n",
    "    if len(title_parts) > 3: # Add exclusion and value label parts\n",
    "        graph_title += f\" {title_parts[2]}\"\n",
    "    graph_title += f\" {title_parts[-1]}\" # Add value label part\n",
    "\n",
    "    # Group by month, ticker, and date_for_sort, sum the values\n",
    "    # Multiply by 100 only if value_type is percentage\n",
    "    agg_expr = pl.sum(value_type)\n",
    "    if value_type == \"percentage\":\n",
    "        agg_expr = (agg_expr * 100)\n",
    "        \n",
    "    monthly_ticker_sum = filtered_df.group_by([\"month\", \"ticker\", \"date_for_sort\"]).agg(\n",
    "        agg_expr.alias(\"total_value\")\n",
    "    )\n",
    "    \n",
    "    # Convert to pandas for easier manipulation with plotly\n",
    "    plot_df = monthly_ticker_sum.to_pandas()\n",
    "    \n",
    "    # Check if data exists\n",
    "    if plot_df.empty:\n",
    "        print(f\"No data found for fund: {fund_name} with specified filters.\")\n",
    "        return None\n",
    "    \n",
    "    # Sort by date to ensure chronological order\n",
    "    plot_df = plot_df.sort_values('date_for_sort')\n",
    "    \n",
    "    # Calculate the total value per ticker across all months\n",
    "    ticker_totals = plot_df.groupby('ticker')['total_value'].sum().sort_values(ascending=False)\n",
    "    \n",
    "    # Get ordered list of tickers for the color assignment\n",
    "    ordered_tickers = ticker_totals.index.tolist()\n",
    "    \n",
    "    # Create stacked bar chart with plotly\n",
    "    fig = px.bar(\n",
    "        plot_df,\n",
    "        x=\"month\",\n",
    "        y=\"total_value\",\n",
    "        color=\"ticker\",\n",
    "        title=graph_title, # Use the constructed title\n",
    "        labels={\n",
    "            \"month\": \"Month\",\n",
    "            \"total_value\": value_label,\n",
    "            \"ticker\": \"Ticker\"\n",
    "        },\n",
    "        category_orders={\n",
    "            \"month\": plot_df[\"month\"].tolist(),  # Preserves chronological order\n",
    "            \"ticker\": ordered_tickers,  # Use the custom order based on total values\n",
    "        },\n",
    "        height=600,\n",
    "    )\n",
    "    \n",
    "    \n",
    "    # Improve layout\n",
    "    fig.update_layout(\n",
    "        xaxis_title=\"Month\",\n",
    "        yaxis_title=value_label,\n",
    "        legend_title=\"Ticker\",\n",
    "        barmode='relative',  # Use relative instead of stack to properly handle negative values\n",
    "        hovermode=\"closest\"\n",
    "    )\n",
    "    \n",
    "    # Format hover info\n",
    "    hover_format = \"%{y:.2f}%\" if value_type == \"percentage\" else \"R$ %{y:,.2f}\"\n",
    "    fig.update_traces(\n",
    "        hovertemplate=\"<b>%{x}</b><br>\" +\n",
    "                      \"Ticker: %{fullData.name}<br>\" +\n",
    "                      f\"Value: {hover_format}<br>\"\n",
    "    )\n",
    "    \n",
    "    # Return the figure instead of showing it\n",
    "    return fig\n",
    "\n",
    "graph_per_fund(df_peers, fund_name=\"IP\", value_type=\"percentage\", exclude_south_america=False, investment_type=\"BDR\").show()\n",
    "graph_per_fund(df_peers, fund_name=\"IP\", value_type=\"percentage\", exclude_south_america=True, investment_type=\"BDR\").show()"
   ]
  },
  {
   "cell_type": "code",
   "execution_count": null,
   "metadata": {},
   "outputs": [],
   "source": []
  },
  {
   "cell_type": "code",
   "execution_count": 123,
   "metadata": {},
   "outputs": [],
   "source": [
    "# In[10]:\n",
    "def graph_per_fund(df, fund_name, value_type=\"percentage\", investment_type=None, exclude_south_america=False):\n",
    "    \"\"\"\n",
    "    Generate a graph showing the investment composition of a specific fund over time.\n",
    "    \n",
    "    Parameters:\n",
    "    -----------\n",
    "    df : polars.DataFrame\n",
    "        The dataframe containing the investment data\n",
    "    fund_name : str\n",
    "        The name of the fund to analyze\n",
    "    value_type : str, default=\"value\"\n",
    "        The column to use for values (\"value\" for absolute or \"percentage\" for percentage)\n",
    "    investment_type : str or None, default=None\n",
    "        Filter for specific investment type (\"BDR\", \"Invest. Ext.\", or None for both)\n",
    "    exclude_south_america : bool, default=False\n",
    "        If True, excludes investments in companies based in South America.\n",
    "    \"\"\"\n",
    "    # Filter for the specified fund\n",
    "    filtered_df = df.filter(pl.col(\"funds\") == fund_name)\n",
    "    title_parts = [fund_name]\n",
    "    \n",
    "    # Apply investment type filter if specified\n",
    "    if investment_type == \"BDR\":\n",
    "        filtered_df = filtered_df.filter(pl.col(\"investment_type\") == \"BDR\")\n",
    "        type_title = \"BDR\"\n",
    "    elif investment_type == \"Invest. Ext.\":\n",
    "        filtered_df = filtered_df.filter(pl.col(\"investment_type\") == \"Invest. Ext.\")\n",
    "        type_title = \"Invest. Ext.\"\n",
    "    else:\n",
    "        type_title = \"BDR & Invest. Ext.\"\n",
    "    title_parts.append(type_title)\n",
    "    \n",
    "    # Apply South America Filter\n",
    "    if exclude_south_america:\n",
    "        south_american_countries = [\n",
    "            \"Argentina\", \"Bolivia\", \"Brazil\", \"Chile\", \"Colombia\",\n",
    "            \"Ecuador\", \"Guyana\", \"Paraguay\", \"Peru\", \"Suriname\",\n",
    "            \"Uruguay\", \"Venezuela\"\n",
    "        ]\n",
    "        # Ensure the country column is string type for comparison\n",
    "        filtered_df = filtered_df.filter(\n",
    "            ~pl.col(\"company_country\").cast(pl.Utf8).is_in(south_american_countries)\n",
    "        )\n",
    "        title_parts.append(\"(Excluding South America)\")\n",
    "\n",
    "    # Set value type label for the title\n",
    "    value_label = \"Value (R$)\" if value_type == \"value\" else \"Percentage (%)\"\n",
    "    title_parts.append(f\"({value_label})\")\n",
    "\n",
    "    graph_title = \" - \".join(title_parts[:2]) # Join fund name and type\n",
    "    if len(title_parts) > 3: # Add exclusion and value label parts\n",
    "        graph_title += f\" {title_parts[2]}\"\n",
    "    graph_title += f\" {title_parts[-1]}\" # Add value label part\n",
    "\n",
    "    # Group by month, ticker, and date_for_sort, sum the values\n",
    "    # Multiply by 100 only if value_type is percentage\n",
    "    agg_expr = pl.sum(value_type)\n",
    "    if value_type == \"percentage\":\n",
    "        agg_expr = (agg_expr * 100)\n",
    "        \n",
    "    monthly_ticker_sum = filtered_df.group_by([\"month\", \"ticker\", \"date_for_sort\"]).agg(\n",
    "        agg_expr.alias(\"total_value\")\n",
    "    )\n",
    "    \n",
    "    # Convert to pandas for easier manipulation with plotly\n",
    "    plot_df = monthly_ticker_sum.to_pandas()\n",
    "    \n",
    "    # Check if data exists\n",
    "    if plot_df.empty:\n",
    "        print(f\"No data found for fund: {fund_name} with specified filters.\")\n",
    "        return None\n",
    "    \n",
    "    # Sort by date to ensure chronological order\n",
    "    plot_df = plot_df.sort_values('date_for_sort')\n",
    "    \n",
    "    # Calculate the total value per ticker across all months\n",
    "    ticker_totals = plot_df.groupby('ticker')['total_value'].sum().sort_values(ascending=False)\n",
    "    \n",
    "    # Get ordered list of tickers for the color assignment\n",
    "    ordered_tickers = ticker_totals.index.tolist()\n",
    "    \n",
    "    # Create stacked bar chart with plotly\n",
    "    fig = px.bar(\n",
    "        plot_df,\n",
    "        x=\"month\",\n",
    "        y=\"total_value\",\n",
    "        color=\"ticker\",\n",
    "        title=graph_title, # Use the constructed title\n",
    "        labels={\n",
    "            \"month\": \"Month\",\n",
    "            \"total_value\": value_label,\n",
    "            \"ticker\": \"Ticker\"\n",
    "        },\n",
    "        category_orders={\n",
    "            \"month\": plot_df[\"month\"].tolist(),  # Preserves chronological order\n",
    "            \"ticker\": ordered_tickers,  # Use the custom order based on total values\n",
    "        },\n",
    "        height=600,\n",
    "    )\n",
    "    \n",
    "    # ... existing code ...\n",
    "\n",
    "# Example usage with the new filter:\n",
    "# graph_per_fund(df_peers, fund_name=\"IP\", value_type=\"percentage\", exclude_south_america=True)\n",
    "graph_per_fund(df_peers, fund_name=\"IP\", value_type=\"percentage\")\n"
   ]
  },
  {
   "cell_type": "code",
   "execution_count": 136,
   "metadata": {},
   "outputs": [
    {
     "name": "stdout",
     "output_type": "stream",
     "text": [
      "Monthly Analysis for Fund: IP BDR & Invest. Ext.\n",
      "Correlation between Monthly Investment Percentage and Monthly Rentability: -0.3242\n"
     ]
    },
    {
     "data": {
      "application/vnd.plotly.v1+json": {
       "config": {
        "plotlyServerURL": "https://plot.ly"
       },
       "data": [
        {
         "hovertemplate": "<b>Month: %{hovertext}</b><br>Investment Pct: %{x:.2f}%<br>Rentability: %{y:.4f}%<extra></extra>",
         "hovertext": [
          "10/2022",
          "11/2022",
          "12/2022",
          "01/2023",
          "02/2023",
          "03/2023",
          "04/2023",
          "05/2023",
          "06/2023",
          "07/2023",
          "08/2023",
          "09/2023",
          "10/2023",
          "11/2023",
          "12/2023",
          "01/2024",
          "02/2024",
          "03/2024",
          "04/2024",
          "05/2024",
          "06/2024",
          "07/2024",
          "08/2024",
          "09/2024"
         ],
         "legendgroup": "",
         "marker": {
          "color": "#636efa",
          "size": 10,
          "symbol": "circle"
         },
         "mode": "markers",
         "name": "",
         "orientation": "v",
         "showlegend": false,
         "type": "scatter",
         "x": [
          62.636,
          60.97800000000001,
          59.21300000000001,
          59.619,
          57.76100000000001,
          53.67200000000001,
          50.86100000000001,
          51.223000000000006,
          47.43800000000001,
          47.086999999999996,
          52.64899999999999,
          52.048,
          50.486,
          49.470000000000006,
          49.308,
          52.988,
          55.354000000000006,
          54.729000000000006,
          55.131,
          57.955,
          54.90200000000001,
          52.16400000000001,
          51.661999999999985,
          52.19299999999999
         ],
         "xaxis": "x",
         "y": [
          0.05450830313298405,
          -0.01196160970279636,
          -0.03236118569975988,
          0.05107283047822309,
          -0.05147652524745694,
          0.005590841469789387,
          0.03507636359177146,
          0.03029949461468529,
          0.07543891068193442,
          0.04205797317862103,
          -0.001228886862516321,
          -0.0267249761574494,
          -0.03693530275350332,
          0.1131655096138233,
          0.04864292848355301,
          0.0177948209019001,
          0.03353172939976368,
          0.005387905555263472,
          -0.03817566371228309,
          0.01877789335833335,
          0.008948671423979704,
          0.009348423531378991,
          0.04081977381083424,
          0.006624163119365756
         ],
         "yaxis": "y"
        },
        {
         "hovertemplate": "<b>Month: %{hovertext}</b><br>Investment Pct: %{x:.2f}%<br>Rentability: %{y:.4f}%<extra></extra>",
         "legendgroup": "",
         "line": {
          "color": "red"
         },
         "marker": {
          "color": "#636efa",
          "size": 10,
          "symbol": "circle"
         },
         "mode": "lines",
         "name": "",
         "showlegend": false,
         "type": "scatter",
         "x": [
          47.086999999999996,
          47.43800000000001,
          49.308,
          49.470000000000006,
          50.486,
          50.86100000000001,
          51.223000000000006,
          51.661999999999985,
          52.048,
          52.16400000000001,
          52.19299999999999,
          52.64899999999999,
          52.988,
          53.67200000000001,
          54.729000000000006,
          54.90200000000001,
          55.131,
          55.354000000000006,
          57.76100000000001,
          57.955,
          59.21300000000001,
          59.619,
          60.97800000000001,
          62.636
         ],
         "xaxis": "x",
         "y": [
          0.037013328329822376,
          0.0359477604045344,
          0.03027080308177535,
          0.029779002500873203,
          0.026694623549042618,
          0.025556196278435805,
          0.02445723448654344,
          0.023124515628419856,
          0.02195269449120857,
          0.021600540988834183,
          0.02151250261324064,
          0.02012817505218284,
          0.01909903679955427,
          0.017022545457967497,
          0.01381369845788391,
          0.013288504010377317,
          0.012593304423793472,
          0.011916319673539288,
          0.004609134499271306,
          0.004020188124610774,
          0.00020114410748192646,
          -0.0010313931508283136,
          -0.00515705357950727,
          -0.010190420018616642
         ],
         "yaxis": "y"
        }
       ],
       "layout": {
        "height": 600,
        "legend": {
         "tracegroupgap": 0
        },
        "template": {
         "data": {
          "bar": [
           {
            "error_x": {
             "color": "#2a3f5f"
            },
            "error_y": {
             "color": "#2a3f5f"
            },
            "marker": {
             "line": {
              "color": "#E5ECF6",
              "width": 0.5
             },
             "pattern": {
              "fillmode": "overlay",
              "size": 10,
              "solidity": 0.2
             }
            },
            "type": "bar"
           }
          ],
          "barpolar": [
           {
            "marker": {
             "line": {
              "color": "#E5ECF6",
              "width": 0.5
             },
             "pattern": {
              "fillmode": "overlay",
              "size": 10,
              "solidity": 0.2
             }
            },
            "type": "barpolar"
           }
          ],
          "carpet": [
           {
            "aaxis": {
             "endlinecolor": "#2a3f5f",
             "gridcolor": "white",
             "linecolor": "white",
             "minorgridcolor": "white",
             "startlinecolor": "#2a3f5f"
            },
            "baxis": {
             "endlinecolor": "#2a3f5f",
             "gridcolor": "white",
             "linecolor": "white",
             "minorgridcolor": "white",
             "startlinecolor": "#2a3f5f"
            },
            "type": "carpet"
           }
          ],
          "choropleth": [
           {
            "colorbar": {
             "outlinewidth": 0,
             "ticks": ""
            },
            "type": "choropleth"
           }
          ],
          "contour": [
           {
            "colorbar": {
             "outlinewidth": 0,
             "ticks": ""
            },
            "colorscale": [
             [
              0,
              "#0d0887"
             ],
             [
              0.1111111111111111,
              "#46039f"
             ],
             [
              0.2222222222222222,
              "#7201a8"
             ],
             [
              0.3333333333333333,
              "#9c179e"
             ],
             [
              0.4444444444444444,
              "#bd3786"
             ],
             [
              0.5555555555555556,
              "#d8576b"
             ],
             [
              0.6666666666666666,
              "#ed7953"
             ],
             [
              0.7777777777777778,
              "#fb9f3a"
             ],
             [
              0.8888888888888888,
              "#fdca26"
             ],
             [
              1,
              "#f0f921"
             ]
            ],
            "type": "contour"
           }
          ],
          "contourcarpet": [
           {
            "colorbar": {
             "outlinewidth": 0,
             "ticks": ""
            },
            "type": "contourcarpet"
           }
          ],
          "heatmap": [
           {
            "colorbar": {
             "outlinewidth": 0,
             "ticks": ""
            },
            "colorscale": [
             [
              0,
              "#0d0887"
             ],
             [
              0.1111111111111111,
              "#46039f"
             ],
             [
              0.2222222222222222,
              "#7201a8"
             ],
             [
              0.3333333333333333,
              "#9c179e"
             ],
             [
              0.4444444444444444,
              "#bd3786"
             ],
             [
              0.5555555555555556,
              "#d8576b"
             ],
             [
              0.6666666666666666,
              "#ed7953"
             ],
             [
              0.7777777777777778,
              "#fb9f3a"
             ],
             [
              0.8888888888888888,
              "#fdca26"
             ],
             [
              1,
              "#f0f921"
             ]
            ],
            "type": "heatmap"
           }
          ],
          "heatmapgl": [
           {
            "colorbar": {
             "outlinewidth": 0,
             "ticks": ""
            },
            "colorscale": [
             [
              0,
              "#0d0887"
             ],
             [
              0.1111111111111111,
              "#46039f"
             ],
             [
              0.2222222222222222,
              "#7201a8"
             ],
             [
              0.3333333333333333,
              "#9c179e"
             ],
             [
              0.4444444444444444,
              "#bd3786"
             ],
             [
              0.5555555555555556,
              "#d8576b"
             ],
             [
              0.6666666666666666,
              "#ed7953"
             ],
             [
              0.7777777777777778,
              "#fb9f3a"
             ],
             [
              0.8888888888888888,
              "#fdca26"
             ],
             [
              1,
              "#f0f921"
             ]
            ],
            "type": "heatmapgl"
           }
          ],
          "histogram": [
           {
            "marker": {
             "pattern": {
              "fillmode": "overlay",
              "size": 10,
              "solidity": 0.2
             }
            },
            "type": "histogram"
           }
          ],
          "histogram2d": [
           {
            "colorbar": {
             "outlinewidth": 0,
             "ticks": ""
            },
            "colorscale": [
             [
              0,
              "#0d0887"
             ],
             [
              0.1111111111111111,
              "#46039f"
             ],
             [
              0.2222222222222222,
              "#7201a8"
             ],
             [
              0.3333333333333333,
              "#9c179e"
             ],
             [
              0.4444444444444444,
              "#bd3786"
             ],
             [
              0.5555555555555556,
              "#d8576b"
             ],
             [
              0.6666666666666666,
              "#ed7953"
             ],
             [
              0.7777777777777778,
              "#fb9f3a"
             ],
             [
              0.8888888888888888,
              "#fdca26"
             ],
             [
              1,
              "#f0f921"
             ]
            ],
            "type": "histogram2d"
           }
          ],
          "histogram2dcontour": [
           {
            "colorbar": {
             "outlinewidth": 0,
             "ticks": ""
            },
            "colorscale": [
             [
              0,
              "#0d0887"
             ],
             [
              0.1111111111111111,
              "#46039f"
             ],
             [
              0.2222222222222222,
              "#7201a8"
             ],
             [
              0.3333333333333333,
              "#9c179e"
             ],
             [
              0.4444444444444444,
              "#bd3786"
             ],
             [
              0.5555555555555556,
              "#d8576b"
             ],
             [
              0.6666666666666666,
              "#ed7953"
             ],
             [
              0.7777777777777778,
              "#fb9f3a"
             ],
             [
              0.8888888888888888,
              "#fdca26"
             ],
             [
              1,
              "#f0f921"
             ]
            ],
            "type": "histogram2dcontour"
           }
          ],
          "mesh3d": [
           {
            "colorbar": {
             "outlinewidth": 0,
             "ticks": ""
            },
            "type": "mesh3d"
           }
          ],
          "parcoords": [
           {
            "line": {
             "colorbar": {
              "outlinewidth": 0,
              "ticks": ""
             }
            },
            "type": "parcoords"
           }
          ],
          "pie": [
           {
            "automargin": true,
            "type": "pie"
           }
          ],
          "scatter": [
           {
            "fillpattern": {
             "fillmode": "overlay",
             "size": 10,
             "solidity": 0.2
            },
            "type": "scatter"
           }
          ],
          "scatter3d": [
           {
            "line": {
             "colorbar": {
              "outlinewidth": 0,
              "ticks": ""
             }
            },
            "marker": {
             "colorbar": {
              "outlinewidth": 0,
              "ticks": ""
             }
            },
            "type": "scatter3d"
           }
          ],
          "scattercarpet": [
           {
            "marker": {
             "colorbar": {
              "outlinewidth": 0,
              "ticks": ""
             }
            },
            "type": "scattercarpet"
           }
          ],
          "scattergeo": [
           {
            "marker": {
             "colorbar": {
              "outlinewidth": 0,
              "ticks": ""
             }
            },
            "type": "scattergeo"
           }
          ],
          "scattergl": [
           {
            "marker": {
             "colorbar": {
              "outlinewidth": 0,
              "ticks": ""
             }
            },
            "type": "scattergl"
           }
          ],
          "scattermapbox": [
           {
            "marker": {
             "colorbar": {
              "outlinewidth": 0,
              "ticks": ""
             }
            },
            "type": "scattermapbox"
           }
          ],
          "scatterpolar": [
           {
            "marker": {
             "colorbar": {
              "outlinewidth": 0,
              "ticks": ""
             }
            },
            "type": "scatterpolar"
           }
          ],
          "scatterpolargl": [
           {
            "marker": {
             "colorbar": {
              "outlinewidth": 0,
              "ticks": ""
             }
            },
            "type": "scatterpolargl"
           }
          ],
          "scatterternary": [
           {
            "marker": {
             "colorbar": {
              "outlinewidth": 0,
              "ticks": ""
             }
            },
            "type": "scatterternary"
           }
          ],
          "surface": [
           {
            "colorbar": {
             "outlinewidth": 0,
             "ticks": ""
            },
            "colorscale": [
             [
              0,
              "#0d0887"
             ],
             [
              0.1111111111111111,
              "#46039f"
             ],
             [
              0.2222222222222222,
              "#7201a8"
             ],
             [
              0.3333333333333333,
              "#9c179e"
             ],
             [
              0.4444444444444444,
              "#bd3786"
             ],
             [
              0.5555555555555556,
              "#d8576b"
             ],
             [
              0.6666666666666666,
              "#ed7953"
             ],
             [
              0.7777777777777778,
              "#fb9f3a"
             ],
             [
              0.8888888888888888,
              "#fdca26"
             ],
             [
              1,
              "#f0f921"
             ]
            ],
            "type": "surface"
           }
          ],
          "table": [
           {
            "cells": {
             "fill": {
              "color": "#EBF0F8"
             },
             "line": {
              "color": "white"
             }
            },
            "header": {
             "fill": {
              "color": "#C8D4E3"
             },
             "line": {
              "color": "white"
             }
            },
            "type": "table"
           }
          ]
         },
         "layout": {
          "annotationdefaults": {
           "arrowcolor": "#2a3f5f",
           "arrowhead": 0,
           "arrowwidth": 1
          },
          "autotypenumbers": "strict",
          "coloraxis": {
           "colorbar": {
            "outlinewidth": 0,
            "ticks": ""
           }
          },
          "colorscale": {
           "diverging": [
            [
             0,
             "#8e0152"
            ],
            [
             0.1,
             "#c51b7d"
            ],
            [
             0.2,
             "#de77ae"
            ],
            [
             0.3,
             "#f1b6da"
            ],
            [
             0.4,
             "#fde0ef"
            ],
            [
             0.5,
             "#f7f7f7"
            ],
            [
             0.6,
             "#e6f5d0"
            ],
            [
             0.7,
             "#b8e186"
            ],
            [
             0.8,
             "#7fbc41"
            ],
            [
             0.9,
             "#4d9221"
            ],
            [
             1,
             "#276419"
            ]
           ],
           "sequential": [
            [
             0,
             "#0d0887"
            ],
            [
             0.1111111111111111,
             "#46039f"
            ],
            [
             0.2222222222222222,
             "#7201a8"
            ],
            [
             0.3333333333333333,
             "#9c179e"
            ],
            [
             0.4444444444444444,
             "#bd3786"
            ],
            [
             0.5555555555555556,
             "#d8576b"
            ],
            [
             0.6666666666666666,
             "#ed7953"
            ],
            [
             0.7777777777777778,
             "#fb9f3a"
            ],
            [
             0.8888888888888888,
             "#fdca26"
            ],
            [
             1,
             "#f0f921"
            ]
           ],
           "sequentialminus": [
            [
             0,
             "#0d0887"
            ],
            [
             0.1111111111111111,
             "#46039f"
            ],
            [
             0.2222222222222222,
             "#7201a8"
            ],
            [
             0.3333333333333333,
             "#9c179e"
            ],
            [
             0.4444444444444444,
             "#bd3786"
            ],
            [
             0.5555555555555556,
             "#d8576b"
            ],
            [
             0.6666666666666666,
             "#ed7953"
            ],
            [
             0.7777777777777778,
             "#fb9f3a"
            ],
            [
             0.8888888888888888,
             "#fdca26"
            ],
            [
             1,
             "#f0f921"
            ]
           ]
          },
          "colorway": [
           "#636efa",
           "#EF553B",
           "#00cc96",
           "#ab63fa",
           "#FFA15A",
           "#19d3f3",
           "#FF6692",
           "#B6E880",
           "#FF97FF",
           "#FECB52"
          ],
          "font": {
           "color": "#2a3f5f"
          },
          "geo": {
           "bgcolor": "white",
           "lakecolor": "white",
           "landcolor": "#E5ECF6",
           "showlakes": true,
           "showland": true,
           "subunitcolor": "white"
          },
          "hoverlabel": {
           "align": "left"
          },
          "hovermode": "closest",
          "mapbox": {
           "style": "light"
          },
          "paper_bgcolor": "white",
          "plot_bgcolor": "#E5ECF6",
          "polar": {
           "angularaxis": {
            "gridcolor": "white",
            "linecolor": "white",
            "ticks": ""
           },
           "bgcolor": "#E5ECF6",
           "radialaxis": {
            "gridcolor": "white",
            "linecolor": "white",
            "ticks": ""
           }
          },
          "scene": {
           "xaxis": {
            "backgroundcolor": "#E5ECF6",
            "gridcolor": "white",
            "gridwidth": 2,
            "linecolor": "white",
            "showbackground": true,
            "ticks": "",
            "zerolinecolor": "white"
           },
           "yaxis": {
            "backgroundcolor": "#E5ECF6",
            "gridcolor": "white",
            "gridwidth": 2,
            "linecolor": "white",
            "showbackground": true,
            "ticks": "",
            "zerolinecolor": "white"
           },
           "zaxis": {
            "backgroundcolor": "#E5ECF6",
            "gridcolor": "white",
            "gridwidth": 2,
            "linecolor": "white",
            "showbackground": true,
            "ticks": "",
            "zerolinecolor": "white"
           }
          },
          "shapedefaults": {
           "line": {
            "color": "#2a3f5f"
           }
          },
          "ternary": {
           "aaxis": {
            "gridcolor": "white",
            "linecolor": "white",
            "ticks": ""
           },
           "baxis": {
            "gridcolor": "white",
            "linecolor": "white",
            "ticks": ""
           },
           "bgcolor": "#E5ECF6",
           "caxis": {
            "gridcolor": "white",
            "linecolor": "white",
            "ticks": ""
           }
          },
          "title": {
           "x": 0.05
          },
          "xaxis": {
           "automargin": true,
           "gridcolor": "white",
           "linecolor": "white",
           "ticks": "",
           "title": {
            "standoff": 15
           },
           "zerolinecolor": "white",
           "zerolinewidth": 2
          },
          "yaxis": {
           "automargin": true,
           "gridcolor": "white",
           "linecolor": "white",
           "ticks": "",
           "title": {
            "standoff": 15
           },
           "zerolinecolor": "white",
           "zerolinewidth": 2
          }
         }
        },
        "title": {
         "text": "IP: Monthly Rentability vs. Investment Pct (BDR & Invest. Ext.)<br>Correlation: -0.3242"
        },
        "xaxis": {
         "anchor": "y",
         "domain": [
          0,
          1
         ],
         "title": {
          "text": "Monthly Investment Percentage (BDR & Invest. Ext.) (%)"
         }
        },
        "yaxis": {
         "anchor": "x",
         "domain": [
          0,
          1
         ],
         "title": {
          "text": "Monthly Rentability (%)"
         }
        }
       }
      }
     },
     "metadata": {},
     "output_type": "display_data"
    },
    {
     "name": "stdout",
     "output_type": "stream",
     "text": [
      "Monthly Analysis for Fund: IP BDR (Excl. S.Am.)\n",
      "Correlation between Monthly Investment Percentage and Monthly Rentability: -0.3288\n"
     ]
    },
    {
     "data": {
      "application/vnd.plotly.v1+json": {
       "config": {
        "plotlyServerURL": "https://plot.ly"
       },
       "data": [
        {
         "hovertemplate": "<b>Month: %{hovertext}</b><br>Investment Pct: %{x:.2f}%<br>Rentability: %{y:.4f}%<extra></extra>",
         "hovertext": [
          "10/2022",
          "11/2022",
          "12/2022",
          "01/2023",
          "02/2023",
          "03/2023",
          "04/2023",
          "05/2023",
          "06/2023",
          "07/2023",
          "08/2023",
          "09/2023",
          "10/2023",
          "11/2023",
          "12/2023",
          "01/2024",
          "02/2024",
          "03/2024",
          "04/2024",
          "05/2024",
          "06/2024",
          "07/2024",
          "08/2024",
          "09/2024"
         ],
         "legendgroup": "",
         "marker": {
          "color": "#636efa",
          "size": 10,
          "symbol": "circle"
         },
         "mode": "markers",
         "name": "",
         "orientation": "v",
         "showlegend": false,
         "type": "scatter",
         "x": [
          20.038,
          25.022,
          24.325,
          22.848000000000003,
          21.079,
          21.628,
          20.237000000000005,
          20.802,
          17.387,
          17.593999999999998,
          18.877,
          18.79,
          18.941,
          15.566000000000003,
          15.318999999999999,
          16.346000000000004,
          16.037,
          15.677999999999997,
          16.897000000000002,
          17.615,
          16.982999999999997,
          16.374,
          16.034000000000002,
          14.890999999999998
         ],
         "xaxis": "x",
         "y": [
          0.05450830313298405,
          -0.01196160970279636,
          -0.03236118569975988,
          0.05107283047822309,
          -0.05147652524745694,
          0.005590841469789387,
          0.03507636359177146,
          0.03029949461468529,
          0.07543891068193442,
          0.04205797317862103,
          -0.001228886862516321,
          -0.0267249761574494,
          -0.03693530275350332,
          0.1131655096138233,
          0.04864292848355301,
          0.0177948209019001,
          0.03353172939976368,
          0.005387905555263472,
          -0.03817566371228309,
          0.01877789335833335,
          0.008948671423979704,
          0.009348423531378991,
          0.04081977381083424,
          0.006624163119365756
         ],
         "yaxis": "y"
        },
        {
         "hovertemplate": "<b>Month: %{hovertext}</b><br>Investment Pct: %{x:.2f}%<br>Rentability: %{y:.4f}%<extra></extra>",
         "legendgroup": "",
         "line": {
          "color": "red"
         },
         "marker": {
          "color": "#636efa",
          "size": 10,
          "symbol": "circle"
         },
         "mode": "lines",
         "name": "",
         "showlegend": false,
         "type": "scatter",
         "x": [
          14.890999999999998,
          15.318999999999999,
          15.566000000000003,
          15.677999999999997,
          16.034000000000002,
          16.037,
          16.346000000000004,
          16.374,
          16.897000000000002,
          16.982999999999997,
          17.387,
          17.593999999999998,
          17.615,
          18.79,
          18.877,
          18.941,
          20.038,
          20.237000000000005,
          20.802,
          21.079,
          21.628,
          22.848000000000003,
          24.325,
          25.022
         ],
         "xaxis": "x",
         "y": [
          0.032843514438425855,
          0.030944949780159145,
          0.02984928279279493,
          0.02935246213455693,
          0.027773282185157497,
          0.027759974488954703,
          0.026389281780065874,
          0.02626507661550638,
          0.023945101577484196,
          0.023563614286337173,
          0.021771511197692883,
          0.02085328015969941,
          0.02076012628627978,
          0.015547945273514857,
          0.015162022083633542,
          0.014878124564640383,
          0.010011943653148364,
          0.009129199805029006,
          0.00662291702016761,
          0.00539417307077536,
          0.0029588646656622253,
          -0.0024529317901447606,
          -0.009004754220658606,
          -0.012096575638443408
         ],
         "yaxis": "y"
        }
       ],
       "layout": {
        "height": 600,
        "legend": {
         "tracegroupgap": 0
        },
        "template": {
         "data": {
          "bar": [
           {
            "error_x": {
             "color": "#2a3f5f"
            },
            "error_y": {
             "color": "#2a3f5f"
            },
            "marker": {
             "line": {
              "color": "#E5ECF6",
              "width": 0.5
             },
             "pattern": {
              "fillmode": "overlay",
              "size": 10,
              "solidity": 0.2
             }
            },
            "type": "bar"
           }
          ],
          "barpolar": [
           {
            "marker": {
             "line": {
              "color": "#E5ECF6",
              "width": 0.5
             },
             "pattern": {
              "fillmode": "overlay",
              "size": 10,
              "solidity": 0.2
             }
            },
            "type": "barpolar"
           }
          ],
          "carpet": [
           {
            "aaxis": {
             "endlinecolor": "#2a3f5f",
             "gridcolor": "white",
             "linecolor": "white",
             "minorgridcolor": "white",
             "startlinecolor": "#2a3f5f"
            },
            "baxis": {
             "endlinecolor": "#2a3f5f",
             "gridcolor": "white",
             "linecolor": "white",
             "minorgridcolor": "white",
             "startlinecolor": "#2a3f5f"
            },
            "type": "carpet"
           }
          ],
          "choropleth": [
           {
            "colorbar": {
             "outlinewidth": 0,
             "ticks": ""
            },
            "type": "choropleth"
           }
          ],
          "contour": [
           {
            "colorbar": {
             "outlinewidth": 0,
             "ticks": ""
            },
            "colorscale": [
             [
              0,
              "#0d0887"
             ],
             [
              0.1111111111111111,
              "#46039f"
             ],
             [
              0.2222222222222222,
              "#7201a8"
             ],
             [
              0.3333333333333333,
              "#9c179e"
             ],
             [
              0.4444444444444444,
              "#bd3786"
             ],
             [
              0.5555555555555556,
              "#d8576b"
             ],
             [
              0.6666666666666666,
              "#ed7953"
             ],
             [
              0.7777777777777778,
              "#fb9f3a"
             ],
             [
              0.8888888888888888,
              "#fdca26"
             ],
             [
              1,
              "#f0f921"
             ]
            ],
            "type": "contour"
           }
          ],
          "contourcarpet": [
           {
            "colorbar": {
             "outlinewidth": 0,
             "ticks": ""
            },
            "type": "contourcarpet"
           }
          ],
          "heatmap": [
           {
            "colorbar": {
             "outlinewidth": 0,
             "ticks": ""
            },
            "colorscale": [
             [
              0,
              "#0d0887"
             ],
             [
              0.1111111111111111,
              "#46039f"
             ],
             [
              0.2222222222222222,
              "#7201a8"
             ],
             [
              0.3333333333333333,
              "#9c179e"
             ],
             [
              0.4444444444444444,
              "#bd3786"
             ],
             [
              0.5555555555555556,
              "#d8576b"
             ],
             [
              0.6666666666666666,
              "#ed7953"
             ],
             [
              0.7777777777777778,
              "#fb9f3a"
             ],
             [
              0.8888888888888888,
              "#fdca26"
             ],
             [
              1,
              "#f0f921"
             ]
            ],
            "type": "heatmap"
           }
          ],
          "heatmapgl": [
           {
            "colorbar": {
             "outlinewidth": 0,
             "ticks": ""
            },
            "colorscale": [
             [
              0,
              "#0d0887"
             ],
             [
              0.1111111111111111,
              "#46039f"
             ],
             [
              0.2222222222222222,
              "#7201a8"
             ],
             [
              0.3333333333333333,
              "#9c179e"
             ],
             [
              0.4444444444444444,
              "#bd3786"
             ],
             [
              0.5555555555555556,
              "#d8576b"
             ],
             [
              0.6666666666666666,
              "#ed7953"
             ],
             [
              0.7777777777777778,
              "#fb9f3a"
             ],
             [
              0.8888888888888888,
              "#fdca26"
             ],
             [
              1,
              "#f0f921"
             ]
            ],
            "type": "heatmapgl"
           }
          ],
          "histogram": [
           {
            "marker": {
             "pattern": {
              "fillmode": "overlay",
              "size": 10,
              "solidity": 0.2
             }
            },
            "type": "histogram"
           }
          ],
          "histogram2d": [
           {
            "colorbar": {
             "outlinewidth": 0,
             "ticks": ""
            },
            "colorscale": [
             [
              0,
              "#0d0887"
             ],
             [
              0.1111111111111111,
              "#46039f"
             ],
             [
              0.2222222222222222,
              "#7201a8"
             ],
             [
              0.3333333333333333,
              "#9c179e"
             ],
             [
              0.4444444444444444,
              "#bd3786"
             ],
             [
              0.5555555555555556,
              "#d8576b"
             ],
             [
              0.6666666666666666,
              "#ed7953"
             ],
             [
              0.7777777777777778,
              "#fb9f3a"
             ],
             [
              0.8888888888888888,
              "#fdca26"
             ],
             [
              1,
              "#f0f921"
             ]
            ],
            "type": "histogram2d"
           }
          ],
          "histogram2dcontour": [
           {
            "colorbar": {
             "outlinewidth": 0,
             "ticks": ""
            },
            "colorscale": [
             [
              0,
              "#0d0887"
             ],
             [
              0.1111111111111111,
              "#46039f"
             ],
             [
              0.2222222222222222,
              "#7201a8"
             ],
             [
              0.3333333333333333,
              "#9c179e"
             ],
             [
              0.4444444444444444,
              "#bd3786"
             ],
             [
              0.5555555555555556,
              "#d8576b"
             ],
             [
              0.6666666666666666,
              "#ed7953"
             ],
             [
              0.7777777777777778,
              "#fb9f3a"
             ],
             [
              0.8888888888888888,
              "#fdca26"
             ],
             [
              1,
              "#f0f921"
             ]
            ],
            "type": "histogram2dcontour"
           }
          ],
          "mesh3d": [
           {
            "colorbar": {
             "outlinewidth": 0,
             "ticks": ""
            },
            "type": "mesh3d"
           }
          ],
          "parcoords": [
           {
            "line": {
             "colorbar": {
              "outlinewidth": 0,
              "ticks": ""
             }
            },
            "type": "parcoords"
           }
          ],
          "pie": [
           {
            "automargin": true,
            "type": "pie"
           }
          ],
          "scatter": [
           {
            "fillpattern": {
             "fillmode": "overlay",
             "size": 10,
             "solidity": 0.2
            },
            "type": "scatter"
           }
          ],
          "scatter3d": [
           {
            "line": {
             "colorbar": {
              "outlinewidth": 0,
              "ticks": ""
             }
            },
            "marker": {
             "colorbar": {
              "outlinewidth": 0,
              "ticks": ""
             }
            },
            "type": "scatter3d"
           }
          ],
          "scattercarpet": [
           {
            "marker": {
             "colorbar": {
              "outlinewidth": 0,
              "ticks": ""
             }
            },
            "type": "scattercarpet"
           }
          ],
          "scattergeo": [
           {
            "marker": {
             "colorbar": {
              "outlinewidth": 0,
              "ticks": ""
             }
            },
            "type": "scattergeo"
           }
          ],
          "scattergl": [
           {
            "marker": {
             "colorbar": {
              "outlinewidth": 0,
              "ticks": ""
             }
            },
            "type": "scattergl"
           }
          ],
          "scattermapbox": [
           {
            "marker": {
             "colorbar": {
              "outlinewidth": 0,
              "ticks": ""
             }
            },
            "type": "scattermapbox"
           }
          ],
          "scatterpolar": [
           {
            "marker": {
             "colorbar": {
              "outlinewidth": 0,
              "ticks": ""
             }
            },
            "type": "scatterpolar"
           }
          ],
          "scatterpolargl": [
           {
            "marker": {
             "colorbar": {
              "outlinewidth": 0,
              "ticks": ""
             }
            },
            "type": "scatterpolargl"
           }
          ],
          "scatterternary": [
           {
            "marker": {
             "colorbar": {
              "outlinewidth": 0,
              "ticks": ""
             }
            },
            "type": "scatterternary"
           }
          ],
          "surface": [
           {
            "colorbar": {
             "outlinewidth": 0,
             "ticks": ""
            },
            "colorscale": [
             [
              0,
              "#0d0887"
             ],
             [
              0.1111111111111111,
              "#46039f"
             ],
             [
              0.2222222222222222,
              "#7201a8"
             ],
             [
              0.3333333333333333,
              "#9c179e"
             ],
             [
              0.4444444444444444,
              "#bd3786"
             ],
             [
              0.5555555555555556,
              "#d8576b"
             ],
             [
              0.6666666666666666,
              "#ed7953"
             ],
             [
              0.7777777777777778,
              "#fb9f3a"
             ],
             [
              0.8888888888888888,
              "#fdca26"
             ],
             [
              1,
              "#f0f921"
             ]
            ],
            "type": "surface"
           }
          ],
          "table": [
           {
            "cells": {
             "fill": {
              "color": "#EBF0F8"
             },
             "line": {
              "color": "white"
             }
            },
            "header": {
             "fill": {
              "color": "#C8D4E3"
             },
             "line": {
              "color": "white"
             }
            },
            "type": "table"
           }
          ]
         },
         "layout": {
          "annotationdefaults": {
           "arrowcolor": "#2a3f5f",
           "arrowhead": 0,
           "arrowwidth": 1
          },
          "autotypenumbers": "strict",
          "coloraxis": {
           "colorbar": {
            "outlinewidth": 0,
            "ticks": ""
           }
          },
          "colorscale": {
           "diverging": [
            [
             0,
             "#8e0152"
            ],
            [
             0.1,
             "#c51b7d"
            ],
            [
             0.2,
             "#de77ae"
            ],
            [
             0.3,
             "#f1b6da"
            ],
            [
             0.4,
             "#fde0ef"
            ],
            [
             0.5,
             "#f7f7f7"
            ],
            [
             0.6,
             "#e6f5d0"
            ],
            [
             0.7,
             "#b8e186"
            ],
            [
             0.8,
             "#7fbc41"
            ],
            [
             0.9,
             "#4d9221"
            ],
            [
             1,
             "#276419"
            ]
           ],
           "sequential": [
            [
             0,
             "#0d0887"
            ],
            [
             0.1111111111111111,
             "#46039f"
            ],
            [
             0.2222222222222222,
             "#7201a8"
            ],
            [
             0.3333333333333333,
             "#9c179e"
            ],
            [
             0.4444444444444444,
             "#bd3786"
            ],
            [
             0.5555555555555556,
             "#d8576b"
            ],
            [
             0.6666666666666666,
             "#ed7953"
            ],
            [
             0.7777777777777778,
             "#fb9f3a"
            ],
            [
             0.8888888888888888,
             "#fdca26"
            ],
            [
             1,
             "#f0f921"
            ]
           ],
           "sequentialminus": [
            [
             0,
             "#0d0887"
            ],
            [
             0.1111111111111111,
             "#46039f"
            ],
            [
             0.2222222222222222,
             "#7201a8"
            ],
            [
             0.3333333333333333,
             "#9c179e"
            ],
            [
             0.4444444444444444,
             "#bd3786"
            ],
            [
             0.5555555555555556,
             "#d8576b"
            ],
            [
             0.6666666666666666,
             "#ed7953"
            ],
            [
             0.7777777777777778,
             "#fb9f3a"
            ],
            [
             0.8888888888888888,
             "#fdca26"
            ],
            [
             1,
             "#f0f921"
            ]
           ]
          },
          "colorway": [
           "#636efa",
           "#EF553B",
           "#00cc96",
           "#ab63fa",
           "#FFA15A",
           "#19d3f3",
           "#FF6692",
           "#B6E880",
           "#FF97FF",
           "#FECB52"
          ],
          "font": {
           "color": "#2a3f5f"
          },
          "geo": {
           "bgcolor": "white",
           "lakecolor": "white",
           "landcolor": "#E5ECF6",
           "showlakes": true,
           "showland": true,
           "subunitcolor": "white"
          },
          "hoverlabel": {
           "align": "left"
          },
          "hovermode": "closest",
          "mapbox": {
           "style": "light"
          },
          "paper_bgcolor": "white",
          "plot_bgcolor": "#E5ECF6",
          "polar": {
           "angularaxis": {
            "gridcolor": "white",
            "linecolor": "white",
            "ticks": ""
           },
           "bgcolor": "#E5ECF6",
           "radialaxis": {
            "gridcolor": "white",
            "linecolor": "white",
            "ticks": ""
           }
          },
          "scene": {
           "xaxis": {
            "backgroundcolor": "#E5ECF6",
            "gridcolor": "white",
            "gridwidth": 2,
            "linecolor": "white",
            "showbackground": true,
            "ticks": "",
            "zerolinecolor": "white"
           },
           "yaxis": {
            "backgroundcolor": "#E5ECF6",
            "gridcolor": "white",
            "gridwidth": 2,
            "linecolor": "white",
            "showbackground": true,
            "ticks": "",
            "zerolinecolor": "white"
           },
           "zaxis": {
            "backgroundcolor": "#E5ECF6",
            "gridcolor": "white",
            "gridwidth": 2,
            "linecolor": "white",
            "showbackground": true,
            "ticks": "",
            "zerolinecolor": "white"
           }
          },
          "shapedefaults": {
           "line": {
            "color": "#2a3f5f"
           }
          },
          "ternary": {
           "aaxis": {
            "gridcolor": "white",
            "linecolor": "white",
            "ticks": ""
           },
           "baxis": {
            "gridcolor": "white",
            "linecolor": "white",
            "ticks": ""
           },
           "bgcolor": "#E5ECF6",
           "caxis": {
            "gridcolor": "white",
            "linecolor": "white",
            "ticks": ""
           }
          },
          "title": {
           "x": 0.05
          },
          "xaxis": {
           "automargin": true,
           "gridcolor": "white",
           "linecolor": "white",
           "ticks": "",
           "title": {
            "standoff": 15
           },
           "zerolinecolor": "white",
           "zerolinewidth": 2
          },
          "yaxis": {
           "automargin": true,
           "gridcolor": "white",
           "linecolor": "white",
           "ticks": "",
           "title": {
            "standoff": 15
           },
           "zerolinecolor": "white",
           "zerolinewidth": 2
          }
         }
        },
        "title": {
         "text": "IP: Monthly Rentability vs. Investment Pct (BDR) (Excl. S.Am.)<br>Correlation: -0.3288"
        },
        "xaxis": {
         "anchor": "y",
         "domain": [
          0,
          1
         ],
         "title": {
          "text": "Monthly Investment Percentage (BDR) (%)"
         }
        },
        "yaxis": {
         "anchor": "x",
         "domain": [
          0,
          1
         ],
         "title": {
          "text": "Monthly Rentability (%)"
         }
        }
       }
      }
     },
     "metadata": {},
     "output_type": "display_data"
    }
   ],
   "source": [
    "# In[12]:\n",
    "import polars as pl\n",
    "import pandas as pd\n",
    "import plotly.express as px\n",
    "import numpy as np\n",
    "\n",
    "def analyze_monthly_performance_vs_percentage_for_fund(\n",
    "    df,\n",
    "    fund_name,\n",
    "    investment_type=None,\n",
    "    exclude_south_america=False\n",
    "):\n",
    "    \"\"\"\n",
    "    Analyzes the month-to-month relationship between a specific fund's performance\n",
    "    (rentability) and its percentage allocation to specified investment types.\n",
    "\n",
    "    Parameters:\n",
    "    -----------\n",
    "    df : polars.DataFrame\n",
    "        The dataframe containing the investment data.\n",
    "    fund_name : str\n",
    "        The name of the fund to analyze.\n",
    "    investment_type : str or None, default=None\n",
    "        Filter for specific investment type (\"BDR\", \"Invest. Ext.\", or None for both).\n",
    "    exclude_south_america : bool, default=False\n",
    "        If True, excludes investments in companies based in South America.\n",
    "\n",
    "    Returns:\n",
    "    --------\n",
    "    plotly.graph_objects.Figure or None\n",
    "        A scatter plot figure visualizing the relationship, or None if insufficient data.\n",
    "    \"\"\"\n",
    "    # --- 1. Filter Data for the Specific Fund ---\n",
    "    fund_df = df.filter(pl.col(\"funds\") == fund_name)\n",
    "    if fund_df.height == 0:\n",
    "        print(f\"No data found for fund: {fund_name}\")\n",
    "        return None\n",
    "\n",
    "    filtered_df = fund_df.clone()\n",
    "    title_parts = [fund_name]\n",
    "\n",
    "    # --- 2. Apply Investment Type and Geography Filters ---\n",
    "    if investment_type == \"BDR\":\n",
    "        filtered_df = filtered_df.filter(pl.col(\"investment_type\") == \"BDR\")\n",
    "        type_title = \"BDR\"\n",
    "    elif investment_type == \"Invest. Ext.\":\n",
    "        filtered_df = filtered_df.filter(pl.col(\"investment_type\") == \"Invest. Ext.\")\n",
    "        type_title = \"Invest. Ext.\"\n",
    "    else:\n",
    "        filtered_df = filtered_df.filter(\n",
    "            (pl.col(\"investment_type\") == \"BDR\") | (pl.col(\"investment_type\") == \"Invest. Ext.\")\n",
    "        )\n",
    "        type_title = \"BDR & Invest. Ext.\"\n",
    "    title_parts.append(type_title)\n",
    "\n",
    "    if exclude_south_america:\n",
    "        south_american_countries = [\n",
    "            \"Argentina\", \"Bolivia\", \"Brazil\", \"Chile\", \"Colombia\",\n",
    "            \"Ecuador\", \"Guyana\", \"Paraguay\", \"Peru\", \"Suriname\",\n",
    "            \"Uruguay\", \"Venezuela\"\n",
    "        ]\n",
    "        filtered_df = filtered_df.filter(\n",
    "            ~pl.col(\"company_country\").cast(pl.Utf8).is_in(south_american_countries)\n",
    "        )\n",
    "        title_parts.append(\"(Excl. S.Am.)\")\n",
    "\n",
    "    analysis_title = \" \".join(title_parts)\n",
    "\n",
    "    # --- 3. Calculate Monthly Metrics ---\n",
    "    # Group by month to get total percentage in filtered assets and the fund's rentability for that month\n",
    "    monthly_metrics = filtered_df.group_by([\"month\", \"date_for_sort\"]).agg(\n",
    "        (pl.sum(\"percentage\") * 100).alias(\"monthly_investment_percentage\"), # Sum percentages within the month\n",
    "        pl.first(\"rentability\").cast(pl.Float64).alias(\"monthly_rentability\") # Get the unique rentability for the fund that month\n",
    "    ).sort(\"date_for_sort\").drop_nulls() # Ensure we have both metrics for the month\n",
    "\n",
    "    # Convert to Pandas for correlation and plotting\n",
    "    monthly_metrics_pd = monthly_metrics.to_pandas()\n",
    "\n",
    "    if monthly_metrics_pd.shape[0] < 2:\n",
    "        print(f\"Not enough monthly data points ({monthly_metrics_pd.shape[0]}) after filtering for {analysis_title}.\")\n",
    "        return None\n",
    "\n",
    "    # --- 4. Correlation Analysis ---\n",
    "    # Ensure columns are numeric\n",
    "    monthly_metrics_pd['monthly_investment_percentage'] = pd.to_numeric(monthly_metrics_pd['monthly_investment_percentage'], errors='coerce')\n",
    "    monthly_metrics_pd['monthly_rentability'] = pd.to_numeric(monthly_metrics_pd['monthly_rentability'], errors='coerce')\n",
    "    monthly_metrics_pd = monthly_metrics_pd.dropna(subset=['monthly_investment_percentage', 'monthly_rentability'])\n",
    "\n",
    "    if monthly_metrics_pd.shape[0] < 2:\n",
    "        print(f\"Not enough numeric monthly data points ({monthly_metrics_pd.shape[0]}) after cleaning for {analysis_title}.\")\n",
    "        return None\n",
    "\n",
    "    correlation = monthly_metrics_pd['monthly_investment_percentage'].corr(monthly_metrics_pd['monthly_rentability'])\n",
    "\n",
    "    print(f\"Monthly Analysis for Fund: {analysis_title}\")\n",
    "    print(f\"Correlation between Monthly Investment Percentage and Monthly Rentability: {correlation:.4f}\")\n",
    "\n",
    "    # --- 5. Visualization ---\n",
    "    plot_title = f'{fund_name}: Monthly Rentability vs. Investment Pct ({type_title})'\n",
    "    if exclude_south_america:\n",
    "        plot_title += \" (Excl. S.Am.)\"\n",
    "    plot_title += f'<br>Correlation: {correlation:.4f}'\n",
    "\n",
    "    fig = px.scatter(\n",
    "        monthly_metrics_pd,\n",
    "        x=\"monthly_investment_percentage\",\n",
    "        y=\"monthly_rentability\",\n",
    "        title=plot_title,\n",
    "        labels={\n",
    "            \"monthly_investment_percentage\": f\"Monthly Investment Percentage ({type_title}) (%)\",\n",
    "            \"monthly_rentability\": \"Monthly Rentability (%)\"\n",
    "        },\n",
    "        hover_name=\"month\", # Show month on hover\n",
    "        trendline=\"ols\",\n",
    "        trendline_color_override=\"red\"\n",
    "    )\n",
    "\n",
    "    fig.update_traces(\n",
    "        marker=dict(size=10),\n",
    "        hovertemplate=\"<b>Month: %{hovertext}</b><br>\" +\n",
    "                      \"Investment Pct: %{x:.2f}%<br>\" +\n",
    "                      \"Rentability: %{y:.4f}%<extra></extra>\"\n",
    "    )\n",
    "\n",
    "    fig.update_layout(height=600)\n",
    "\n",
    "    return fig\n",
    "\n",
    "# --- Example Usage ---\n",
    "# Analyze IP fund, BDR & Invest. Ext., including South America\n",
    "fig_ip_all = analyze_monthly_performance_vs_percentage_for_fund(df_peers, \"IP\")\n",
    "if fig_ip_all: fig_ip_all.show()\n",
    "\n",
    "# Analyze IP fund, BDR only, excluding South America\n",
    "fig_ip_bdr_no_sa = analyze_monthly_performance_vs_percentage_for_fund(\n",
    "    df_peers,\n",
    "    \"IP\",\n",
    "    investment_type=\"BDR\",\n",
    "    exclude_south_america=True\n",
    ")\n",
    "if fig_ip_bdr_no_sa: fig_ip_bdr_no_sa.show()\n",
    "\n",
    "# Analyze VINLAND fund, Invest. Ext. only, including South America\n",
    "# fig_vin_ext = analyze_monthly_performance_vs_percentage_for_fund(\n",
    "#     df_peers,\n",
    "#     \"VINLAND\",\n",
    "#     investment_type=\"Invest. Ext.\"\n",
    "# )\n",
    "# if fig_vin_ext: fig_vin_ext.show()"
   ]
  },
  {
   "cell_type": "code",
   "execution_count": 144,
   "metadata": {},
   "outputs": [
    {
     "name": "stdout",
     "output_type": "stream",
     "text": [
      "Analysis for Investment Type: BDR & Invest. Ext. (Excluding South America) (Top 10 Funds)\n",
      "Correlation between Average Investment Percentage and Average Rentability: -0.3581\n"
     ]
    },
    {
     "data": {
      "application/vnd.plotly.v1+json": {
       "config": {
        "plotlyServerURL": "https://plot.ly"
       },
       "data": [
        {
         "hovertemplate": "<b>%{hovertext}</b><br>Avg. Investment Pct: %{x:.2f}%<br>Avg. Rentability: %{y:.2f}%<extra></extra>",
         "hovertext": [
          "SPX PATRIOT",
          "EQUITAS",
          "KIRON",
          "KAPITALO",
          "INDIE",
          "IP",
          "OPPORTUNITY",
          "CHARLES",
          "LEBLON AÇÕES",
          "CONSTELLATION"
         ],
         "legendgroup": "",
         "marker": {
          "color": "#636efa",
          "size": 10,
          "symbol": "circle"
         },
         "mode": "markers",
         "name": "",
         "orientation": "v",
         "showlegend": false,
         "type": "scatter",
         "x": [
          7.747,
          4.3238,
          3.222,
          16.961541666666665,
          1.3465,
          52.873208333333345,
          22.28179166666667,
          10.921833333333337,
          15.819208333333334,
          3.9752222222222224
         ],
         "xaxis": "x",
         "y": [
          5.290477388102727,
          5.240346472882242,
          3.439716932056247,
          1.991346737581673,
          1.880883072658145,
          1.6592599425434962,
          1.6582196649113228,
          1.5637652001135343,
          1.474753009614054,
          1.4468029414640753
         ],
         "yaxis": "y"
        },
        {
         "hovertemplate": "<b>%{hovertext}</b><br>Avg. Investment Pct: %{x:.2f}%<br>Avg. Rentability: %{y:.2f}%<extra></extra>",
         "legendgroup": "",
         "line": {
          "color": "red"
         },
         "marker": {
          "color": "#636efa",
          "size": 10,
          "symbol": "circle"
         },
         "mode": "lines",
         "name": "",
         "showlegend": false,
         "type": "scatter",
         "x": [
          1.3465,
          3.222,
          3.9752222222222224,
          4.3238,
          7.747,
          10.921833333333337,
          15.819208333333334,
          16.961541666666665,
          22.28179166666667,
          52.873208333333345
         ],
         "xaxis": "x",
         "y": [
          3.017130403164741,
          2.949769030291071,
          2.922715933534022,
          2.910196244030229,
          2.7872469229845622,
          2.6732180602927875,
          2.497321550840807,
          2.4562929496077017,
          2.2652082553762205,
          1.166472011805366
         ],
         "yaxis": "y"
        }
       ],
       "layout": {
        "height": 600,
        "legend": {
         "tracegroupgap": 0
        },
        "template": {
         "data": {
          "bar": [
           {
            "error_x": {
             "color": "#2a3f5f"
            },
            "error_y": {
             "color": "#2a3f5f"
            },
            "marker": {
             "line": {
              "color": "#E5ECF6",
              "width": 0.5
             },
             "pattern": {
              "fillmode": "overlay",
              "size": 10,
              "solidity": 0.2
             }
            },
            "type": "bar"
           }
          ],
          "barpolar": [
           {
            "marker": {
             "line": {
              "color": "#E5ECF6",
              "width": 0.5
             },
             "pattern": {
              "fillmode": "overlay",
              "size": 10,
              "solidity": 0.2
             }
            },
            "type": "barpolar"
           }
          ],
          "carpet": [
           {
            "aaxis": {
             "endlinecolor": "#2a3f5f",
             "gridcolor": "white",
             "linecolor": "white",
             "minorgridcolor": "white",
             "startlinecolor": "#2a3f5f"
            },
            "baxis": {
             "endlinecolor": "#2a3f5f",
             "gridcolor": "white",
             "linecolor": "white",
             "minorgridcolor": "white",
             "startlinecolor": "#2a3f5f"
            },
            "type": "carpet"
           }
          ],
          "choropleth": [
           {
            "colorbar": {
             "outlinewidth": 0,
             "ticks": ""
            },
            "type": "choropleth"
           }
          ],
          "contour": [
           {
            "colorbar": {
             "outlinewidth": 0,
             "ticks": ""
            },
            "colorscale": [
             [
              0,
              "#0d0887"
             ],
             [
              0.1111111111111111,
              "#46039f"
             ],
             [
              0.2222222222222222,
              "#7201a8"
             ],
             [
              0.3333333333333333,
              "#9c179e"
             ],
             [
              0.4444444444444444,
              "#bd3786"
             ],
             [
              0.5555555555555556,
              "#d8576b"
             ],
             [
              0.6666666666666666,
              "#ed7953"
             ],
             [
              0.7777777777777778,
              "#fb9f3a"
             ],
             [
              0.8888888888888888,
              "#fdca26"
             ],
             [
              1,
              "#f0f921"
             ]
            ],
            "type": "contour"
           }
          ],
          "contourcarpet": [
           {
            "colorbar": {
             "outlinewidth": 0,
             "ticks": ""
            },
            "type": "contourcarpet"
           }
          ],
          "heatmap": [
           {
            "colorbar": {
             "outlinewidth": 0,
             "ticks": ""
            },
            "colorscale": [
             [
              0,
              "#0d0887"
             ],
             [
              0.1111111111111111,
              "#46039f"
             ],
             [
              0.2222222222222222,
              "#7201a8"
             ],
             [
              0.3333333333333333,
              "#9c179e"
             ],
             [
              0.4444444444444444,
              "#bd3786"
             ],
             [
              0.5555555555555556,
              "#d8576b"
             ],
             [
              0.6666666666666666,
              "#ed7953"
             ],
             [
              0.7777777777777778,
              "#fb9f3a"
             ],
             [
              0.8888888888888888,
              "#fdca26"
             ],
             [
              1,
              "#f0f921"
             ]
            ],
            "type": "heatmap"
           }
          ],
          "heatmapgl": [
           {
            "colorbar": {
             "outlinewidth": 0,
             "ticks": ""
            },
            "colorscale": [
             [
              0,
              "#0d0887"
             ],
             [
              0.1111111111111111,
              "#46039f"
             ],
             [
              0.2222222222222222,
              "#7201a8"
             ],
             [
              0.3333333333333333,
              "#9c179e"
             ],
             [
              0.4444444444444444,
              "#bd3786"
             ],
             [
              0.5555555555555556,
              "#d8576b"
             ],
             [
              0.6666666666666666,
              "#ed7953"
             ],
             [
              0.7777777777777778,
              "#fb9f3a"
             ],
             [
              0.8888888888888888,
              "#fdca26"
             ],
             [
              1,
              "#f0f921"
             ]
            ],
            "type": "heatmapgl"
           }
          ],
          "histogram": [
           {
            "marker": {
             "pattern": {
              "fillmode": "overlay",
              "size": 10,
              "solidity": 0.2
             }
            },
            "type": "histogram"
           }
          ],
          "histogram2d": [
           {
            "colorbar": {
             "outlinewidth": 0,
             "ticks": ""
            },
            "colorscale": [
             [
              0,
              "#0d0887"
             ],
             [
              0.1111111111111111,
              "#46039f"
             ],
             [
              0.2222222222222222,
              "#7201a8"
             ],
             [
              0.3333333333333333,
              "#9c179e"
             ],
             [
              0.4444444444444444,
              "#bd3786"
             ],
             [
              0.5555555555555556,
              "#d8576b"
             ],
             [
              0.6666666666666666,
              "#ed7953"
             ],
             [
              0.7777777777777778,
              "#fb9f3a"
             ],
             [
              0.8888888888888888,
              "#fdca26"
             ],
             [
              1,
              "#f0f921"
             ]
            ],
            "type": "histogram2d"
           }
          ],
          "histogram2dcontour": [
           {
            "colorbar": {
             "outlinewidth": 0,
             "ticks": ""
            },
            "colorscale": [
             [
              0,
              "#0d0887"
             ],
             [
              0.1111111111111111,
              "#46039f"
             ],
             [
              0.2222222222222222,
              "#7201a8"
             ],
             [
              0.3333333333333333,
              "#9c179e"
             ],
             [
              0.4444444444444444,
              "#bd3786"
             ],
             [
              0.5555555555555556,
              "#d8576b"
             ],
             [
              0.6666666666666666,
              "#ed7953"
             ],
             [
              0.7777777777777778,
              "#fb9f3a"
             ],
             [
              0.8888888888888888,
              "#fdca26"
             ],
             [
              1,
              "#f0f921"
             ]
            ],
            "type": "histogram2dcontour"
           }
          ],
          "mesh3d": [
           {
            "colorbar": {
             "outlinewidth": 0,
             "ticks": ""
            },
            "type": "mesh3d"
           }
          ],
          "parcoords": [
           {
            "line": {
             "colorbar": {
              "outlinewidth": 0,
              "ticks": ""
             }
            },
            "type": "parcoords"
           }
          ],
          "pie": [
           {
            "automargin": true,
            "type": "pie"
           }
          ],
          "scatter": [
           {
            "fillpattern": {
             "fillmode": "overlay",
             "size": 10,
             "solidity": 0.2
            },
            "type": "scatter"
           }
          ],
          "scatter3d": [
           {
            "line": {
             "colorbar": {
              "outlinewidth": 0,
              "ticks": ""
             }
            },
            "marker": {
             "colorbar": {
              "outlinewidth": 0,
              "ticks": ""
             }
            },
            "type": "scatter3d"
           }
          ],
          "scattercarpet": [
           {
            "marker": {
             "colorbar": {
              "outlinewidth": 0,
              "ticks": ""
             }
            },
            "type": "scattercarpet"
           }
          ],
          "scattergeo": [
           {
            "marker": {
             "colorbar": {
              "outlinewidth": 0,
              "ticks": ""
             }
            },
            "type": "scattergeo"
           }
          ],
          "scattergl": [
           {
            "marker": {
             "colorbar": {
              "outlinewidth": 0,
              "ticks": ""
             }
            },
            "type": "scattergl"
           }
          ],
          "scattermapbox": [
           {
            "marker": {
             "colorbar": {
              "outlinewidth": 0,
              "ticks": ""
             }
            },
            "type": "scattermapbox"
           }
          ],
          "scatterpolar": [
           {
            "marker": {
             "colorbar": {
              "outlinewidth": 0,
              "ticks": ""
             }
            },
            "type": "scatterpolar"
           }
          ],
          "scatterpolargl": [
           {
            "marker": {
             "colorbar": {
              "outlinewidth": 0,
              "ticks": ""
             }
            },
            "type": "scatterpolargl"
           }
          ],
          "scatterternary": [
           {
            "marker": {
             "colorbar": {
              "outlinewidth": 0,
              "ticks": ""
             }
            },
            "type": "scatterternary"
           }
          ],
          "surface": [
           {
            "colorbar": {
             "outlinewidth": 0,
             "ticks": ""
            },
            "colorscale": [
             [
              0,
              "#0d0887"
             ],
             [
              0.1111111111111111,
              "#46039f"
             ],
             [
              0.2222222222222222,
              "#7201a8"
             ],
             [
              0.3333333333333333,
              "#9c179e"
             ],
             [
              0.4444444444444444,
              "#bd3786"
             ],
             [
              0.5555555555555556,
              "#d8576b"
             ],
             [
              0.6666666666666666,
              "#ed7953"
             ],
             [
              0.7777777777777778,
              "#fb9f3a"
             ],
             [
              0.8888888888888888,
              "#fdca26"
             ],
             [
              1,
              "#f0f921"
             ]
            ],
            "type": "surface"
           }
          ],
          "table": [
           {
            "cells": {
             "fill": {
              "color": "#EBF0F8"
             },
             "line": {
              "color": "white"
             }
            },
            "header": {
             "fill": {
              "color": "#C8D4E3"
             },
             "line": {
              "color": "white"
             }
            },
            "type": "table"
           }
          ]
         },
         "layout": {
          "annotationdefaults": {
           "arrowcolor": "#2a3f5f",
           "arrowhead": 0,
           "arrowwidth": 1
          },
          "autotypenumbers": "strict",
          "coloraxis": {
           "colorbar": {
            "outlinewidth": 0,
            "ticks": ""
           }
          },
          "colorscale": {
           "diverging": [
            [
             0,
             "#8e0152"
            ],
            [
             0.1,
             "#c51b7d"
            ],
            [
             0.2,
             "#de77ae"
            ],
            [
             0.3,
             "#f1b6da"
            ],
            [
             0.4,
             "#fde0ef"
            ],
            [
             0.5,
             "#f7f7f7"
            ],
            [
             0.6,
             "#e6f5d0"
            ],
            [
             0.7,
             "#b8e186"
            ],
            [
             0.8,
             "#7fbc41"
            ],
            [
             0.9,
             "#4d9221"
            ],
            [
             1,
             "#276419"
            ]
           ],
           "sequential": [
            [
             0,
             "#0d0887"
            ],
            [
             0.1111111111111111,
             "#46039f"
            ],
            [
             0.2222222222222222,
             "#7201a8"
            ],
            [
             0.3333333333333333,
             "#9c179e"
            ],
            [
             0.4444444444444444,
             "#bd3786"
            ],
            [
             0.5555555555555556,
             "#d8576b"
            ],
            [
             0.6666666666666666,
             "#ed7953"
            ],
            [
             0.7777777777777778,
             "#fb9f3a"
            ],
            [
             0.8888888888888888,
             "#fdca26"
            ],
            [
             1,
             "#f0f921"
            ]
           ],
           "sequentialminus": [
            [
             0,
             "#0d0887"
            ],
            [
             0.1111111111111111,
             "#46039f"
            ],
            [
             0.2222222222222222,
             "#7201a8"
            ],
            [
             0.3333333333333333,
             "#9c179e"
            ],
            [
             0.4444444444444444,
             "#bd3786"
            ],
            [
             0.5555555555555556,
             "#d8576b"
            ],
            [
             0.6666666666666666,
             "#ed7953"
            ],
            [
             0.7777777777777778,
             "#fb9f3a"
            ],
            [
             0.8888888888888888,
             "#fdca26"
            ],
            [
             1,
             "#f0f921"
            ]
           ]
          },
          "colorway": [
           "#636efa",
           "#EF553B",
           "#00cc96",
           "#ab63fa",
           "#FFA15A",
           "#19d3f3",
           "#FF6692",
           "#B6E880",
           "#FF97FF",
           "#FECB52"
          ],
          "font": {
           "color": "#2a3f5f"
          },
          "geo": {
           "bgcolor": "white",
           "lakecolor": "white",
           "landcolor": "#E5ECF6",
           "showlakes": true,
           "showland": true,
           "subunitcolor": "white"
          },
          "hoverlabel": {
           "align": "left"
          },
          "hovermode": "closest",
          "mapbox": {
           "style": "light"
          },
          "paper_bgcolor": "white",
          "plot_bgcolor": "#E5ECF6",
          "polar": {
           "angularaxis": {
            "gridcolor": "white",
            "linecolor": "white",
            "ticks": ""
           },
           "bgcolor": "#E5ECF6",
           "radialaxis": {
            "gridcolor": "white",
            "linecolor": "white",
            "ticks": ""
           }
          },
          "scene": {
           "xaxis": {
            "backgroundcolor": "#E5ECF6",
            "gridcolor": "white",
            "gridwidth": 2,
            "linecolor": "white",
            "showbackground": true,
            "ticks": "",
            "zerolinecolor": "white"
           },
           "yaxis": {
            "backgroundcolor": "#E5ECF6",
            "gridcolor": "white",
            "gridwidth": 2,
            "linecolor": "white",
            "showbackground": true,
            "ticks": "",
            "zerolinecolor": "white"
           },
           "zaxis": {
            "backgroundcolor": "#E5ECF6",
            "gridcolor": "white",
            "gridwidth": 2,
            "linecolor": "white",
            "showbackground": true,
            "ticks": "",
            "zerolinecolor": "white"
           }
          },
          "shapedefaults": {
           "line": {
            "color": "#2a3f5f"
           }
          },
          "ternary": {
           "aaxis": {
            "gridcolor": "white",
            "linecolor": "white",
            "ticks": ""
           },
           "baxis": {
            "gridcolor": "white",
            "linecolor": "white",
            "ticks": ""
           },
           "bgcolor": "#E5ECF6",
           "caxis": {
            "gridcolor": "white",
            "linecolor": "white",
            "ticks": ""
           }
          },
          "title": {
           "x": 0.05
          },
          "xaxis": {
           "automargin": true,
           "gridcolor": "white",
           "linecolor": "white",
           "ticks": "",
           "title": {
            "standoff": 15
           },
           "zerolinecolor": "white",
           "zerolinewidth": 2
          },
          "yaxis": {
           "automargin": true,
           "gridcolor": "white",
           "linecolor": "white",
           "ticks": "",
           "title": {
            "standoff": 15
           },
           "zerolinecolor": "white",
           "zerolinewidth": 2
          }
         }
        },
        "title": {
         "text": "Fund Performance vs. Avg. Investment Percentage (BDR & Invest. Ext. (Excluding South America) (Top 10 Funds))<br>Correlation: -0.3581"
        },
        "xaxis": {
         "anchor": "y",
         "domain": [
          0,
          1
         ],
         "title": {
          "text": "Average Monthly Investment Percentage (BDR & Invest. Ext.) (%)"
         }
        },
        "yaxis": {
         "anchor": "x",
         "domain": [
          0,
          1
         ],
         "title": {
          "text": "Average Monthly Rentability (%)"
         }
        }
       }
      }
     },
     "metadata": {},
     "output_type": "display_data"
    },
    {
     "name": "stdout",
     "output_type": "stream",
     "text": [
      "Analysis for Investment Type: BDR & Invest. Ext. (Excluding South America) (Top 5 Funds)\n",
      "Correlation between Average Investment Percentage and Average Rentability: -0.2153\n"
     ]
    },
    {
     "data": {
      "application/vnd.plotly.v1+json": {
       "config": {
        "plotlyServerURL": "https://plot.ly"
       },
       "data": [
        {
         "hovertemplate": "<b>%{hovertext}</b><br>Avg. Investment Pct: %{x:.2f}%<br>Avg. Rentability: %{y:.2f}%<extra></extra>",
         "hovertext": [
          "SPX PATRIOT",
          "EQUITAS",
          "KIRON",
          "KAPITALO",
          "INDIE"
         ],
         "legendgroup": "",
         "marker": {
          "color": "#636efa",
          "size": 10,
          "symbol": "circle"
         },
         "mode": "markers",
         "name": "",
         "orientation": "v",
         "showlegend": false,
         "type": "scatter",
         "x": [
          7.747,
          4.3238,
          3.222,
          16.961541666666665,
          1.3465
         ],
         "xaxis": "x",
         "y": [
          5.290477388102727,
          5.240346472882242,
          3.439716932056247,
          1.991346737581673,
          1.880883072658145
         ],
         "yaxis": "y"
        },
        {
         "hovertemplate": "<b>%{hovertext}</b><br>Avg. Investment Pct: %{x:.2f}%<br>Avg. Rentability: %{y:.2f}%<extra></extra>",
         "legendgroup": "",
         "line": {
          "color": "red"
         },
         "marker": {
          "color": "#636efa",
          "size": 10,
          "symbol": "circle"
         },
         "mode": "lines",
         "name": "",
         "showlegend": false,
         "type": "scatter",
         "x": [
          1.3465,
          3.222,
          4.3238,
          7.747,
          16.961541666666665
         ],
         "xaxis": "x",
         "y": [
          3.880544007349987,
          3.771654326000558,
          3.7076849040273236,
          3.50893728622121,
          2.973950079681956
         ],
         "yaxis": "y"
        }
       ],
       "layout": {
        "height": 600,
        "legend": {
         "tracegroupgap": 0
        },
        "template": {
         "data": {
          "bar": [
           {
            "error_x": {
             "color": "#2a3f5f"
            },
            "error_y": {
             "color": "#2a3f5f"
            },
            "marker": {
             "line": {
              "color": "#E5ECF6",
              "width": 0.5
             },
             "pattern": {
              "fillmode": "overlay",
              "size": 10,
              "solidity": 0.2
             }
            },
            "type": "bar"
           }
          ],
          "barpolar": [
           {
            "marker": {
             "line": {
              "color": "#E5ECF6",
              "width": 0.5
             },
             "pattern": {
              "fillmode": "overlay",
              "size": 10,
              "solidity": 0.2
             }
            },
            "type": "barpolar"
           }
          ],
          "carpet": [
           {
            "aaxis": {
             "endlinecolor": "#2a3f5f",
             "gridcolor": "white",
             "linecolor": "white",
             "minorgridcolor": "white",
             "startlinecolor": "#2a3f5f"
            },
            "baxis": {
             "endlinecolor": "#2a3f5f",
             "gridcolor": "white",
             "linecolor": "white",
             "minorgridcolor": "white",
             "startlinecolor": "#2a3f5f"
            },
            "type": "carpet"
           }
          ],
          "choropleth": [
           {
            "colorbar": {
             "outlinewidth": 0,
             "ticks": ""
            },
            "type": "choropleth"
           }
          ],
          "contour": [
           {
            "colorbar": {
             "outlinewidth": 0,
             "ticks": ""
            },
            "colorscale": [
             [
              0,
              "#0d0887"
             ],
             [
              0.1111111111111111,
              "#46039f"
             ],
             [
              0.2222222222222222,
              "#7201a8"
             ],
             [
              0.3333333333333333,
              "#9c179e"
             ],
             [
              0.4444444444444444,
              "#bd3786"
             ],
             [
              0.5555555555555556,
              "#d8576b"
             ],
             [
              0.6666666666666666,
              "#ed7953"
             ],
             [
              0.7777777777777778,
              "#fb9f3a"
             ],
             [
              0.8888888888888888,
              "#fdca26"
             ],
             [
              1,
              "#f0f921"
             ]
            ],
            "type": "contour"
           }
          ],
          "contourcarpet": [
           {
            "colorbar": {
             "outlinewidth": 0,
             "ticks": ""
            },
            "type": "contourcarpet"
           }
          ],
          "heatmap": [
           {
            "colorbar": {
             "outlinewidth": 0,
             "ticks": ""
            },
            "colorscale": [
             [
              0,
              "#0d0887"
             ],
             [
              0.1111111111111111,
              "#46039f"
             ],
             [
              0.2222222222222222,
              "#7201a8"
             ],
             [
              0.3333333333333333,
              "#9c179e"
             ],
             [
              0.4444444444444444,
              "#bd3786"
             ],
             [
              0.5555555555555556,
              "#d8576b"
             ],
             [
              0.6666666666666666,
              "#ed7953"
             ],
             [
              0.7777777777777778,
              "#fb9f3a"
             ],
             [
              0.8888888888888888,
              "#fdca26"
             ],
             [
              1,
              "#f0f921"
             ]
            ],
            "type": "heatmap"
           }
          ],
          "heatmapgl": [
           {
            "colorbar": {
             "outlinewidth": 0,
             "ticks": ""
            },
            "colorscale": [
             [
              0,
              "#0d0887"
             ],
             [
              0.1111111111111111,
              "#46039f"
             ],
             [
              0.2222222222222222,
              "#7201a8"
             ],
             [
              0.3333333333333333,
              "#9c179e"
             ],
             [
              0.4444444444444444,
              "#bd3786"
             ],
             [
              0.5555555555555556,
              "#d8576b"
             ],
             [
              0.6666666666666666,
              "#ed7953"
             ],
             [
              0.7777777777777778,
              "#fb9f3a"
             ],
             [
              0.8888888888888888,
              "#fdca26"
             ],
             [
              1,
              "#f0f921"
             ]
            ],
            "type": "heatmapgl"
           }
          ],
          "histogram": [
           {
            "marker": {
             "pattern": {
              "fillmode": "overlay",
              "size": 10,
              "solidity": 0.2
             }
            },
            "type": "histogram"
           }
          ],
          "histogram2d": [
           {
            "colorbar": {
             "outlinewidth": 0,
             "ticks": ""
            },
            "colorscale": [
             [
              0,
              "#0d0887"
             ],
             [
              0.1111111111111111,
              "#46039f"
             ],
             [
              0.2222222222222222,
              "#7201a8"
             ],
             [
              0.3333333333333333,
              "#9c179e"
             ],
             [
              0.4444444444444444,
              "#bd3786"
             ],
             [
              0.5555555555555556,
              "#d8576b"
             ],
             [
              0.6666666666666666,
              "#ed7953"
             ],
             [
              0.7777777777777778,
              "#fb9f3a"
             ],
             [
              0.8888888888888888,
              "#fdca26"
             ],
             [
              1,
              "#f0f921"
             ]
            ],
            "type": "histogram2d"
           }
          ],
          "histogram2dcontour": [
           {
            "colorbar": {
             "outlinewidth": 0,
             "ticks": ""
            },
            "colorscale": [
             [
              0,
              "#0d0887"
             ],
             [
              0.1111111111111111,
              "#46039f"
             ],
             [
              0.2222222222222222,
              "#7201a8"
             ],
             [
              0.3333333333333333,
              "#9c179e"
             ],
             [
              0.4444444444444444,
              "#bd3786"
             ],
             [
              0.5555555555555556,
              "#d8576b"
             ],
             [
              0.6666666666666666,
              "#ed7953"
             ],
             [
              0.7777777777777778,
              "#fb9f3a"
             ],
             [
              0.8888888888888888,
              "#fdca26"
             ],
             [
              1,
              "#f0f921"
             ]
            ],
            "type": "histogram2dcontour"
           }
          ],
          "mesh3d": [
           {
            "colorbar": {
             "outlinewidth": 0,
             "ticks": ""
            },
            "type": "mesh3d"
           }
          ],
          "parcoords": [
           {
            "line": {
             "colorbar": {
              "outlinewidth": 0,
              "ticks": ""
             }
            },
            "type": "parcoords"
           }
          ],
          "pie": [
           {
            "automargin": true,
            "type": "pie"
           }
          ],
          "scatter": [
           {
            "fillpattern": {
             "fillmode": "overlay",
             "size": 10,
             "solidity": 0.2
            },
            "type": "scatter"
           }
          ],
          "scatter3d": [
           {
            "line": {
             "colorbar": {
              "outlinewidth": 0,
              "ticks": ""
             }
            },
            "marker": {
             "colorbar": {
              "outlinewidth": 0,
              "ticks": ""
             }
            },
            "type": "scatter3d"
           }
          ],
          "scattercarpet": [
           {
            "marker": {
             "colorbar": {
              "outlinewidth": 0,
              "ticks": ""
             }
            },
            "type": "scattercarpet"
           }
          ],
          "scattergeo": [
           {
            "marker": {
             "colorbar": {
              "outlinewidth": 0,
              "ticks": ""
             }
            },
            "type": "scattergeo"
           }
          ],
          "scattergl": [
           {
            "marker": {
             "colorbar": {
              "outlinewidth": 0,
              "ticks": ""
             }
            },
            "type": "scattergl"
           }
          ],
          "scattermapbox": [
           {
            "marker": {
             "colorbar": {
              "outlinewidth": 0,
              "ticks": ""
             }
            },
            "type": "scattermapbox"
           }
          ],
          "scatterpolar": [
           {
            "marker": {
             "colorbar": {
              "outlinewidth": 0,
              "ticks": ""
             }
            },
            "type": "scatterpolar"
           }
          ],
          "scatterpolargl": [
           {
            "marker": {
             "colorbar": {
              "outlinewidth": 0,
              "ticks": ""
             }
            },
            "type": "scatterpolargl"
           }
          ],
          "scatterternary": [
           {
            "marker": {
             "colorbar": {
              "outlinewidth": 0,
              "ticks": ""
             }
            },
            "type": "scatterternary"
           }
          ],
          "surface": [
           {
            "colorbar": {
             "outlinewidth": 0,
             "ticks": ""
            },
            "colorscale": [
             [
              0,
              "#0d0887"
             ],
             [
              0.1111111111111111,
              "#46039f"
             ],
             [
              0.2222222222222222,
              "#7201a8"
             ],
             [
              0.3333333333333333,
              "#9c179e"
             ],
             [
              0.4444444444444444,
              "#bd3786"
             ],
             [
              0.5555555555555556,
              "#d8576b"
             ],
             [
              0.6666666666666666,
              "#ed7953"
             ],
             [
              0.7777777777777778,
              "#fb9f3a"
             ],
             [
              0.8888888888888888,
              "#fdca26"
             ],
             [
              1,
              "#f0f921"
             ]
            ],
            "type": "surface"
           }
          ],
          "table": [
           {
            "cells": {
             "fill": {
              "color": "#EBF0F8"
             },
             "line": {
              "color": "white"
             }
            },
            "header": {
             "fill": {
              "color": "#C8D4E3"
             },
             "line": {
              "color": "white"
             }
            },
            "type": "table"
           }
          ]
         },
         "layout": {
          "annotationdefaults": {
           "arrowcolor": "#2a3f5f",
           "arrowhead": 0,
           "arrowwidth": 1
          },
          "autotypenumbers": "strict",
          "coloraxis": {
           "colorbar": {
            "outlinewidth": 0,
            "ticks": ""
           }
          },
          "colorscale": {
           "diverging": [
            [
             0,
             "#8e0152"
            ],
            [
             0.1,
             "#c51b7d"
            ],
            [
             0.2,
             "#de77ae"
            ],
            [
             0.3,
             "#f1b6da"
            ],
            [
             0.4,
             "#fde0ef"
            ],
            [
             0.5,
             "#f7f7f7"
            ],
            [
             0.6,
             "#e6f5d0"
            ],
            [
             0.7,
             "#b8e186"
            ],
            [
             0.8,
             "#7fbc41"
            ],
            [
             0.9,
             "#4d9221"
            ],
            [
             1,
             "#276419"
            ]
           ],
           "sequential": [
            [
             0,
             "#0d0887"
            ],
            [
             0.1111111111111111,
             "#46039f"
            ],
            [
             0.2222222222222222,
             "#7201a8"
            ],
            [
             0.3333333333333333,
             "#9c179e"
            ],
            [
             0.4444444444444444,
             "#bd3786"
            ],
            [
             0.5555555555555556,
             "#d8576b"
            ],
            [
             0.6666666666666666,
             "#ed7953"
            ],
            [
             0.7777777777777778,
             "#fb9f3a"
            ],
            [
             0.8888888888888888,
             "#fdca26"
            ],
            [
             1,
             "#f0f921"
            ]
           ],
           "sequentialminus": [
            [
             0,
             "#0d0887"
            ],
            [
             0.1111111111111111,
             "#46039f"
            ],
            [
             0.2222222222222222,
             "#7201a8"
            ],
            [
             0.3333333333333333,
             "#9c179e"
            ],
            [
             0.4444444444444444,
             "#bd3786"
            ],
            [
             0.5555555555555556,
             "#d8576b"
            ],
            [
             0.6666666666666666,
             "#ed7953"
            ],
            [
             0.7777777777777778,
             "#fb9f3a"
            ],
            [
             0.8888888888888888,
             "#fdca26"
            ],
            [
             1,
             "#f0f921"
            ]
           ]
          },
          "colorway": [
           "#636efa",
           "#EF553B",
           "#00cc96",
           "#ab63fa",
           "#FFA15A",
           "#19d3f3",
           "#FF6692",
           "#B6E880",
           "#FF97FF",
           "#FECB52"
          ],
          "font": {
           "color": "#2a3f5f"
          },
          "geo": {
           "bgcolor": "white",
           "lakecolor": "white",
           "landcolor": "#E5ECF6",
           "showlakes": true,
           "showland": true,
           "subunitcolor": "white"
          },
          "hoverlabel": {
           "align": "left"
          },
          "hovermode": "closest",
          "mapbox": {
           "style": "light"
          },
          "paper_bgcolor": "white",
          "plot_bgcolor": "#E5ECF6",
          "polar": {
           "angularaxis": {
            "gridcolor": "white",
            "linecolor": "white",
            "ticks": ""
           },
           "bgcolor": "#E5ECF6",
           "radialaxis": {
            "gridcolor": "white",
            "linecolor": "white",
            "ticks": ""
           }
          },
          "scene": {
           "xaxis": {
            "backgroundcolor": "#E5ECF6",
            "gridcolor": "white",
            "gridwidth": 2,
            "linecolor": "white",
            "showbackground": true,
            "ticks": "",
            "zerolinecolor": "white"
           },
           "yaxis": {
            "backgroundcolor": "#E5ECF6",
            "gridcolor": "white",
            "gridwidth": 2,
            "linecolor": "white",
            "showbackground": true,
            "ticks": "",
            "zerolinecolor": "white"
           },
           "zaxis": {
            "backgroundcolor": "#E5ECF6",
            "gridcolor": "white",
            "gridwidth": 2,
            "linecolor": "white",
            "showbackground": true,
            "ticks": "",
            "zerolinecolor": "white"
           }
          },
          "shapedefaults": {
           "line": {
            "color": "#2a3f5f"
           }
          },
          "ternary": {
           "aaxis": {
            "gridcolor": "white",
            "linecolor": "white",
            "ticks": ""
           },
           "baxis": {
            "gridcolor": "white",
            "linecolor": "white",
            "ticks": ""
           },
           "bgcolor": "#E5ECF6",
           "caxis": {
            "gridcolor": "white",
            "linecolor": "white",
            "ticks": ""
           }
          },
          "title": {
           "x": 0.05
          },
          "xaxis": {
           "automargin": true,
           "gridcolor": "white",
           "linecolor": "white",
           "ticks": "",
           "title": {
            "standoff": 15
           },
           "zerolinecolor": "white",
           "zerolinewidth": 2
          },
          "yaxis": {
           "automargin": true,
           "gridcolor": "white",
           "linecolor": "white",
           "ticks": "",
           "title": {
            "standoff": 15
           },
           "zerolinecolor": "white",
           "zerolinewidth": 2
          }
         }
        },
        "title": {
         "text": "Fund Performance vs. Avg. Investment Percentage (BDR & Invest. Ext. (Excluding South America) (Top 5 Funds))<br>Correlation: -0.2153"
        },
        "xaxis": {
         "anchor": "y",
         "domain": [
          0,
          1
         ],
         "title": {
          "text": "Average Monthly Investment Percentage (BDR & Invest. Ext.) (%)"
         }
        },
        "yaxis": {
         "anchor": "x",
         "domain": [
          0,
          1
         ],
         "title": {
          "text": "Average Monthly Rentability (%)"
         }
        }
       }
      }
     },
     "metadata": {},
     "output_type": "display_data"
    }
   ],
   "source": [
    "# In[9]:\n",
    "import polars as pl\n",
    "import pandas as pd\n",
    "import plotly.express as px\n",
    "import numpy as np\n",
    "\n",
    "def analyze_performance_vs_investment_percentage(\n",
    "    df,\n",
    "    investment_type=None,\n",
    "    exclude_south_america=False,\n",
    "    top_n_funds=None # Add parameter to select top N funds\n",
    "):\n",
    "    \"\"\"\n",
    "    Analyzes the correlation between average fund performance (rentability)\n",
    "    and the average percentage allocated to specified investment types,\n",
    "    with an option to exclude South American companies and focus on top performing funds.\n",
    "\n",
    "    Parameters:\n",
    "    -----------\n",
    "    df : polars.DataFrame\n",
    "        The dataframe containing the investment data, including 'funds',\n",
    "        'month', 'percentage', 'rentability', 'investment_type', and 'company_country' columns.\n",
    "    investment_type : str or None, default=None\n",
    "        Filter for specific investment type:\n",
    "        - \"BDR\": Only include BDR investments.\n",
    "        - \"Invest. Ext.\": Only include Invest. Ext. investments.\n",
    "        - None (default): Include both BDR and Invest. Ext. investments.\n",
    "    exclude_south_america : bool, default=False\n",
    "        If True, excludes investments in companies based in South America.\n",
    "    top_n_funds : int or None, default=None\n",
    "        If an integer is provided, analyze only the top N funds based on average rentability.\n",
    "        If None, analyze all eligible funds.\n",
    "    \"\"\"\n",
    "    # --- 1. Filter Data ---\n",
    "    filtered_df = df.clone()\n",
    "    title_parts = []\n",
    "\n",
    "    # Apply Investment Type Filter\n",
    "    if investment_type == \"BDR\":\n",
    "        filtered_df = filtered_df.filter(pl.col(\"investment_type\") == \"BDR\")\n",
    "        type_title = \"BDR\"\n",
    "    elif investment_type == \"Invest. Ext.\":\n",
    "        filtered_df = filtered_df.filter(pl.col(\"investment_type\") == \"Invest. Ext.\")\n",
    "        type_title = \"Invest. Ext.\"\n",
    "    else:\n",
    "        # Use both BDR and Invest. Ext. if None is specified\n",
    "        filtered_df = filtered_df.filter(\n",
    "            (pl.col(\"investment_type\") == \"BDR\") | (pl.col(\"investment_type\") == \"Invest. Ext.\")\n",
    "        )\n",
    "        type_title = \"BDR & Invest. Ext.\"\n",
    "    title_parts.append(type_title)\n",
    "\n",
    "    # Apply South America Filter\n",
    "    if exclude_south_america:\n",
    "        south_american_countries = [\n",
    "            \"Argentina\", \"Bolivia\", \"Brazil\", \"Chile\", \"Colombia\",\n",
    "            \"Ecuador\", \"Guyana\", \"Paraguay\", \"Peru\", \"Suriname\",\n",
    "            \"Uruguay\", \"Venezuela\"\n",
    "            # Add French Guiana if needed, though it's technically an overseas department of France\n",
    "        ]\n",
    "        # Ensure the country column is string type for comparison\n",
    "        filtered_df = filtered_df.filter(\n",
    "            ~pl.col(\"company_country\").cast(pl.Utf8).is_in(south_american_countries)\n",
    "        )\n",
    "        title_parts.append(\"(Excluding South America)\")\n",
    "\n",
    "    analysis_title = \" \".join(title_parts)\n",
    "\n",
    "    # --- 2. Calculate Monthly Metrics per Fund ---\n",
    "    # Group by fund and month to get total percentage and unique rentability\n",
    "    # Ensure rentability is numeric before aggregation\n",
    "    monthly_fund_metrics = filtered_df.group_by([\"funds\", \"month\"]).agg(\n",
    "        pl.sum(\"percentage\").alias(\"total_monthly_percentage\"),\n",
    "        pl.first(\"rentability\").cast(pl.Float64).alias(\"monthly_rentability\") # Cast to float\n",
    "    )\n",
    "\n",
    "    # --- 3. Aggregate Data per Fund ---\n",
    "    # Calculate average percentage and average rentability for each fund over time\n",
    "    fund_summary = monthly_fund_metrics.group_by(\"funds\").agg(\n",
    "        (pl.mean(\"total_monthly_percentage\")*100).alias(\"avg_investment_percentage\"),\n",
    "        (pl.mean(\"monthly_rentability\")*100).alias(\"avg_rentability\") # Multiply rentability by 100 for percentage display\n",
    "    ).drop_nulls() # Remove funds with missing data for either metric\n",
    "\n",
    "    # --- 3.5 Filter for Top N Funds (if specified) ---\n",
    "    if top_n_funds is not None and isinstance(top_n_funds, int) and top_n_funds > 0:\n",
    "        if fund_summary.height > top_n_funds:\n",
    "            fund_summary = fund_summary.sort(\"avg_rentability\", descending=True).head(top_n_funds)\n",
    "            title_parts.append(f\"(Top {top_n_funds} Funds)\")\n",
    "            analysis_title = \" \".join(title_parts) # Update title if top N is applied\n",
    "\n",
    "    # Convert to Pandas for correlation and plotting\n",
    "    fund_summary_pd = fund_summary.to_pandas()\n",
    "\n",
    "    if fund_summary_pd.shape[0] < 2:\n",
    "        print(f\"Not enough data points ({fund_summary_pd.shape[0]}) to calculate correlation for {analysis_title}.\")\n",
    "        return None # Return only one value as per original structure\n",
    "\n",
    "    # --- 4. Correlation Analysis ---\n",
    "    # Ensure columns are numeric before calculating correlation\n",
    "    fund_summary_pd['avg_investment_percentage'] = pd.to_numeric(fund_summary_pd['avg_investment_percentage'], errors='coerce')\n",
    "    fund_summary_pd['avg_rentability'] = pd.to_numeric(fund_summary_pd['avg_rentability'], errors='coerce')\n",
    "    fund_summary_pd = fund_summary_pd.dropna(subset=['avg_investment_percentage', 'avg_rentability'])\n",
    "\n",
    "    if fund_summary_pd.shape[0] < 2:\n",
    "        print(f\"Not enough numeric data points ({fund_summary_pd.shape[0]}) after cleaning for {analysis_title}.\")\n",
    "        return None # Return only one value\n",
    "\n",
    "    correlation = fund_summary_pd['avg_investment_percentage'].corr(fund_summary_pd['avg_rentability'])\n",
    "\n",
    "    print(f\"Analysis for Investment Type: {analysis_title}\")\n",
    "    print(f\"Correlation between Average Investment Percentage and Average Rentability: {correlation:.4f}\")\n",
    "\n",
    "    # --- 5. Visualization ---\n",
    "    plot_title = f'Fund Performance vs. Avg. Investment Percentage ({analysis_title})<br>Correlation: {correlation:.4f}'\n",
    "    fig = px.scatter(\n",
    "        fund_summary_pd,\n",
    "        x=\"avg_investment_percentage\",\n",
    "        y=\"avg_rentability\",\n",
    "        title=plot_title,\n",
    "        labels={\n",
    "            \"avg_investment_percentage\": f\"Average Monthly Investment Percentage ({type_title}) (%)\",\n",
    "            \"avg_rentability\": \"Average Monthly Rentability (%)\"\n",
    "        },\n",
    "        hover_name=\"funds\", # Show fund name on hover\n",
    "        trendline=\"ols\", # Add a linear regression trendline\n",
    "        trendline_color_override=\"red\"\n",
    "    )\n",
    "\n",
    "    fig.update_traces(\n",
    "        marker=dict(size=10),\n",
    "        hovertemplate=\"<b>%{hovertext}</b><br>\" +\n",
    "                      \"Avg. Investment Pct: %{x:.2f}%<br>\" +\n",
    "                      \"Avg. Rentability: %{y:.2f}%<extra></extra>\" # Update format for percentage rentability\n",
    "    )\n",
    "\n",
    "    fig.update_layout(height=600)\n",
    "\n",
    "    return fig\n",
    "\n",
    "# --- Example Usage ---\n",
    "# Make sure df_peers is loaded and contains the necessary columns\n",
    "\n",
    "# Analyze for BDR & Invest. Ext. combined (default), including South America (default)\n",
    "# fig_both_all = analyze_performance_vs_investment_percentage(df_peers)\n",
    "# if fig_both_all: fig_both_all.show()\n",
    "\n",
    "# Analyze for BDR only, including South America\n",
    "# fig_bdr_all = analyze_performance_vs_investment_percentage(df_peers, investment_type=\"BDR\")\n",
    "# if fig_bdr_all: fig_bdr_all.show()\n",
    "\n",
    "# Analyze for Invest. Ext. only, excluding South America\n",
    "# fig_ext_no_sa = analyze_performance_vs_investment_percentage(df_peers, investment_type=\"Invest. Ext.\", exclude_south_america=True)\n",
    "# if fig_ext_no_sa: fig_ext_no_sa.show()\n",
    "\n",
    "# Analyze for BDR & Invest. Ext. combined, excluding South America\n",
    "# fig_both_no_sa = analyze_performance_vs_investment_percentage(df_peers, exclude_south_america=True)\n",
    "# if fig_both_no_sa: fig_both_no_sa.show()\n",
    "\n",
    "# Analyze for BDR & Invest. Ext. combined, excluding South America, Top 10 Funds\n",
    "fig_top10 = analyze_performance_vs_investment_percentage(\n",
    "    df_peers,\n",
    "    exclude_south_america=True,\n",
    "    top_n_funds=10\n",
    ")\n",
    "if fig_top10: fig_top10.show()\n",
    "\n",
    "# Analyze for BDR only, including South America, Top 5 Funds\n",
    "fig_top5_bdr = analyze_performance_vs_investment_percentage(\n",
    "    df_peers,\n",
    "    exclude_south_america=True,\n",
    "    top_n_funds=5\n",
    ")\n",
    "if fig_top5_bdr: fig_top5_bdr.show()"
   ]
  },
  {
   "cell_type": "code",
   "execution_count": 148,
   "metadata": {},
   "outputs": [
    {
     "name": "stdout",
     "output_type": "stream",
     "text": [
      "Analysis for: BDR & Invest. Ext. (Excluding South America) (Top & Bottom 10 Funds)\n",
      "Correlation between Average Investment Percentage and Average Rentability: 0.1972\n"
     ]
    },
    {
     "data": {
      "application/vnd.plotly.v1+json": {
       "config": {
        "plotlyServerURL": "https://plot.ly"
       },
       "data": [
        {
         "hovertemplate": "<b>%{hovertext}</b><br>Avg. Investment Pct: %{x:.2f}%<br>Avg. Rentability: %{y:.2f}%<extra></extra>",
         "hovertext": [
          "CONSTELLATION",
          "LEBLON AÇÕES",
          "CHARLES",
          "OPPORTUNITY",
          "IP",
          "INDIE",
          "KAPITALO",
          "KIRON",
          "EQUITAS",
          "SPX PATRIOT",
          "BOGARI",
          "TENAX",
          "3 ILHAS",
          "VERDE AM",
          "STUDIO",
          "NÚCLEO",
          "TRUXT",
          "RYO",
          "VINLAND",
          "JGP"
         ],
         "legendgroup": "",
         "marker": {
          "color": "#636efa",
          "size": 10,
          "symbol": "circle"
         },
         "mode": "markers",
         "name": "",
         "orientation": "v",
         "showlegend": false,
         "type": "scatter",
         "x": [
          3.9752222222222224,
          15.819208333333334,
          10.921833333333332,
          22.28179166666667,
          52.873208333333345,
          1.3465,
          16.96154166666667,
          3.222,
          4.3238,
          7.747,
          0.15828571428571428,
          0.042,
          2.3219,
          0.3711904761904761,
          3.684294117647058,
          10.285375000000002,
          19.636538461538457,
          -0.8056666666666666,
          6.334363636363638,
          14.792000000000002
         ],
         "xaxis": "x",
         "y": [
          1.4468029414640753,
          1.474753009614054,
          1.5637652001135343,
          1.6582196649113232,
          1.6592599425434962,
          1.880883072658145,
          1.991346737581673,
          3.439716932056247,
          5.240346472882242,
          5.290477388102727,
          -3.1001140793118505,
          -2.9411640414919726,
          -1.1369086211909707,
          -0.2732764359219336,
          0.02629442190824663,
          0.059055097071839445,
          0.14496182874241734,
          0.2943247249879155,
          0.360883313751094,
          0.5390358577436337
         ],
         "yaxis": "y"
        },
        {
         "hovertemplate": "<b>%{hovertext}</b><br>Avg. Investment Pct: %{x:.2f}%<br>Avg. Rentability: %{y:.2f}%<extra></extra>",
         "legendgroup": "",
         "line": {
          "color": "red"
         },
         "marker": {
          "color": "#636efa",
          "size": 10,
          "symbol": "circle"
         },
         "mode": "lines",
         "name": "",
         "showlegend": false,
         "type": "scatter",
         "x": [
          -0.8056666666666666,
          0.042,
          0.15828571428571428,
          0.3711904761904761,
          1.3465,
          2.3219,
          3.222,
          3.684294117647058,
          3.9752222222222224,
          4.3238,
          6.334363636363638,
          7.747,
          10.285375000000002,
          10.921833333333332,
          14.792000000000002,
          15.819208333333334,
          16.96154166666667,
          19.636538461538457,
          22.28179166666667,
          52.873208333333345
         ],
         "xaxis": "x",
         "y": [
          0.6163377716442305,
          0.6454382466919867,
          0.6494303460159921,
          0.6567393861788211,
          0.690221852315028,
          0.7237074245072199,
          0.7546079407366559,
          0.7704785405423729,
          0.7804661292736516,
          0.7924328366166612,
          0.8614556721635656,
          0.9099516091492749,
          0.9970942576148841,
          1.0189439310495318,
          1.1518071105784242,
          1.1870712676445043,
          1.2262876766058337,
          1.318120563922382,
          1.4089323510527367,
          2.459138513912169
         ],
         "yaxis": "y"
        }
       ],
       "layout": {
        "height": 600,
        "legend": {
         "tracegroupgap": 0
        },
        "template": {
         "data": {
          "bar": [
           {
            "error_x": {
             "color": "#2a3f5f"
            },
            "error_y": {
             "color": "#2a3f5f"
            },
            "marker": {
             "line": {
              "color": "#E5ECF6",
              "width": 0.5
             },
             "pattern": {
              "fillmode": "overlay",
              "size": 10,
              "solidity": 0.2
             }
            },
            "type": "bar"
           }
          ],
          "barpolar": [
           {
            "marker": {
             "line": {
              "color": "#E5ECF6",
              "width": 0.5
             },
             "pattern": {
              "fillmode": "overlay",
              "size": 10,
              "solidity": 0.2
             }
            },
            "type": "barpolar"
           }
          ],
          "carpet": [
           {
            "aaxis": {
             "endlinecolor": "#2a3f5f",
             "gridcolor": "white",
             "linecolor": "white",
             "minorgridcolor": "white",
             "startlinecolor": "#2a3f5f"
            },
            "baxis": {
             "endlinecolor": "#2a3f5f",
             "gridcolor": "white",
             "linecolor": "white",
             "minorgridcolor": "white",
             "startlinecolor": "#2a3f5f"
            },
            "type": "carpet"
           }
          ],
          "choropleth": [
           {
            "colorbar": {
             "outlinewidth": 0,
             "ticks": ""
            },
            "type": "choropleth"
           }
          ],
          "contour": [
           {
            "colorbar": {
             "outlinewidth": 0,
             "ticks": ""
            },
            "colorscale": [
             [
              0,
              "#0d0887"
             ],
             [
              0.1111111111111111,
              "#46039f"
             ],
             [
              0.2222222222222222,
              "#7201a8"
             ],
             [
              0.3333333333333333,
              "#9c179e"
             ],
             [
              0.4444444444444444,
              "#bd3786"
             ],
             [
              0.5555555555555556,
              "#d8576b"
             ],
             [
              0.6666666666666666,
              "#ed7953"
             ],
             [
              0.7777777777777778,
              "#fb9f3a"
             ],
             [
              0.8888888888888888,
              "#fdca26"
             ],
             [
              1,
              "#f0f921"
             ]
            ],
            "type": "contour"
           }
          ],
          "contourcarpet": [
           {
            "colorbar": {
             "outlinewidth": 0,
             "ticks": ""
            },
            "type": "contourcarpet"
           }
          ],
          "heatmap": [
           {
            "colorbar": {
             "outlinewidth": 0,
             "ticks": ""
            },
            "colorscale": [
             [
              0,
              "#0d0887"
             ],
             [
              0.1111111111111111,
              "#46039f"
             ],
             [
              0.2222222222222222,
              "#7201a8"
             ],
             [
              0.3333333333333333,
              "#9c179e"
             ],
             [
              0.4444444444444444,
              "#bd3786"
             ],
             [
              0.5555555555555556,
              "#d8576b"
             ],
             [
              0.6666666666666666,
              "#ed7953"
             ],
             [
              0.7777777777777778,
              "#fb9f3a"
             ],
             [
              0.8888888888888888,
              "#fdca26"
             ],
             [
              1,
              "#f0f921"
             ]
            ],
            "type": "heatmap"
           }
          ],
          "heatmapgl": [
           {
            "colorbar": {
             "outlinewidth": 0,
             "ticks": ""
            },
            "colorscale": [
             [
              0,
              "#0d0887"
             ],
             [
              0.1111111111111111,
              "#46039f"
             ],
             [
              0.2222222222222222,
              "#7201a8"
             ],
             [
              0.3333333333333333,
              "#9c179e"
             ],
             [
              0.4444444444444444,
              "#bd3786"
             ],
             [
              0.5555555555555556,
              "#d8576b"
             ],
             [
              0.6666666666666666,
              "#ed7953"
             ],
             [
              0.7777777777777778,
              "#fb9f3a"
             ],
             [
              0.8888888888888888,
              "#fdca26"
             ],
             [
              1,
              "#f0f921"
             ]
            ],
            "type": "heatmapgl"
           }
          ],
          "histogram": [
           {
            "marker": {
             "pattern": {
              "fillmode": "overlay",
              "size": 10,
              "solidity": 0.2
             }
            },
            "type": "histogram"
           }
          ],
          "histogram2d": [
           {
            "colorbar": {
             "outlinewidth": 0,
             "ticks": ""
            },
            "colorscale": [
             [
              0,
              "#0d0887"
             ],
             [
              0.1111111111111111,
              "#46039f"
             ],
             [
              0.2222222222222222,
              "#7201a8"
             ],
             [
              0.3333333333333333,
              "#9c179e"
             ],
             [
              0.4444444444444444,
              "#bd3786"
             ],
             [
              0.5555555555555556,
              "#d8576b"
             ],
             [
              0.6666666666666666,
              "#ed7953"
             ],
             [
              0.7777777777777778,
              "#fb9f3a"
             ],
             [
              0.8888888888888888,
              "#fdca26"
             ],
             [
              1,
              "#f0f921"
             ]
            ],
            "type": "histogram2d"
           }
          ],
          "histogram2dcontour": [
           {
            "colorbar": {
             "outlinewidth": 0,
             "ticks": ""
            },
            "colorscale": [
             [
              0,
              "#0d0887"
             ],
             [
              0.1111111111111111,
              "#46039f"
             ],
             [
              0.2222222222222222,
              "#7201a8"
             ],
             [
              0.3333333333333333,
              "#9c179e"
             ],
             [
              0.4444444444444444,
              "#bd3786"
             ],
             [
              0.5555555555555556,
              "#d8576b"
             ],
             [
              0.6666666666666666,
              "#ed7953"
             ],
             [
              0.7777777777777778,
              "#fb9f3a"
             ],
             [
              0.8888888888888888,
              "#fdca26"
             ],
             [
              1,
              "#f0f921"
             ]
            ],
            "type": "histogram2dcontour"
           }
          ],
          "mesh3d": [
           {
            "colorbar": {
             "outlinewidth": 0,
             "ticks": ""
            },
            "type": "mesh3d"
           }
          ],
          "parcoords": [
           {
            "line": {
             "colorbar": {
              "outlinewidth": 0,
              "ticks": ""
             }
            },
            "type": "parcoords"
           }
          ],
          "pie": [
           {
            "automargin": true,
            "type": "pie"
           }
          ],
          "scatter": [
           {
            "fillpattern": {
             "fillmode": "overlay",
             "size": 10,
             "solidity": 0.2
            },
            "type": "scatter"
           }
          ],
          "scatter3d": [
           {
            "line": {
             "colorbar": {
              "outlinewidth": 0,
              "ticks": ""
             }
            },
            "marker": {
             "colorbar": {
              "outlinewidth": 0,
              "ticks": ""
             }
            },
            "type": "scatter3d"
           }
          ],
          "scattercarpet": [
           {
            "marker": {
             "colorbar": {
              "outlinewidth": 0,
              "ticks": ""
             }
            },
            "type": "scattercarpet"
           }
          ],
          "scattergeo": [
           {
            "marker": {
             "colorbar": {
              "outlinewidth": 0,
              "ticks": ""
             }
            },
            "type": "scattergeo"
           }
          ],
          "scattergl": [
           {
            "marker": {
             "colorbar": {
              "outlinewidth": 0,
              "ticks": ""
             }
            },
            "type": "scattergl"
           }
          ],
          "scattermapbox": [
           {
            "marker": {
             "colorbar": {
              "outlinewidth": 0,
              "ticks": ""
             }
            },
            "type": "scattermapbox"
           }
          ],
          "scatterpolar": [
           {
            "marker": {
             "colorbar": {
              "outlinewidth": 0,
              "ticks": ""
             }
            },
            "type": "scatterpolar"
           }
          ],
          "scatterpolargl": [
           {
            "marker": {
             "colorbar": {
              "outlinewidth": 0,
              "ticks": ""
             }
            },
            "type": "scatterpolargl"
           }
          ],
          "scatterternary": [
           {
            "marker": {
             "colorbar": {
              "outlinewidth": 0,
              "ticks": ""
             }
            },
            "type": "scatterternary"
           }
          ],
          "surface": [
           {
            "colorbar": {
             "outlinewidth": 0,
             "ticks": ""
            },
            "colorscale": [
             [
              0,
              "#0d0887"
             ],
             [
              0.1111111111111111,
              "#46039f"
             ],
             [
              0.2222222222222222,
              "#7201a8"
             ],
             [
              0.3333333333333333,
              "#9c179e"
             ],
             [
              0.4444444444444444,
              "#bd3786"
             ],
             [
              0.5555555555555556,
              "#d8576b"
             ],
             [
              0.6666666666666666,
              "#ed7953"
             ],
             [
              0.7777777777777778,
              "#fb9f3a"
             ],
             [
              0.8888888888888888,
              "#fdca26"
             ],
             [
              1,
              "#f0f921"
             ]
            ],
            "type": "surface"
           }
          ],
          "table": [
           {
            "cells": {
             "fill": {
              "color": "#EBF0F8"
             },
             "line": {
              "color": "white"
             }
            },
            "header": {
             "fill": {
              "color": "#C8D4E3"
             },
             "line": {
              "color": "white"
             }
            },
            "type": "table"
           }
          ]
         },
         "layout": {
          "annotationdefaults": {
           "arrowcolor": "#2a3f5f",
           "arrowhead": 0,
           "arrowwidth": 1
          },
          "autotypenumbers": "strict",
          "coloraxis": {
           "colorbar": {
            "outlinewidth": 0,
            "ticks": ""
           }
          },
          "colorscale": {
           "diverging": [
            [
             0,
             "#8e0152"
            ],
            [
             0.1,
             "#c51b7d"
            ],
            [
             0.2,
             "#de77ae"
            ],
            [
             0.3,
             "#f1b6da"
            ],
            [
             0.4,
             "#fde0ef"
            ],
            [
             0.5,
             "#f7f7f7"
            ],
            [
             0.6,
             "#e6f5d0"
            ],
            [
             0.7,
             "#b8e186"
            ],
            [
             0.8,
             "#7fbc41"
            ],
            [
             0.9,
             "#4d9221"
            ],
            [
             1,
             "#276419"
            ]
           ],
           "sequential": [
            [
             0,
             "#0d0887"
            ],
            [
             0.1111111111111111,
             "#46039f"
            ],
            [
             0.2222222222222222,
             "#7201a8"
            ],
            [
             0.3333333333333333,
             "#9c179e"
            ],
            [
             0.4444444444444444,
             "#bd3786"
            ],
            [
             0.5555555555555556,
             "#d8576b"
            ],
            [
             0.6666666666666666,
             "#ed7953"
            ],
            [
             0.7777777777777778,
             "#fb9f3a"
            ],
            [
             0.8888888888888888,
             "#fdca26"
            ],
            [
             1,
             "#f0f921"
            ]
           ],
           "sequentialminus": [
            [
             0,
             "#0d0887"
            ],
            [
             0.1111111111111111,
             "#46039f"
            ],
            [
             0.2222222222222222,
             "#7201a8"
            ],
            [
             0.3333333333333333,
             "#9c179e"
            ],
            [
             0.4444444444444444,
             "#bd3786"
            ],
            [
             0.5555555555555556,
             "#d8576b"
            ],
            [
             0.6666666666666666,
             "#ed7953"
            ],
            [
             0.7777777777777778,
             "#fb9f3a"
            ],
            [
             0.8888888888888888,
             "#fdca26"
            ],
            [
             1,
             "#f0f921"
            ]
           ]
          },
          "colorway": [
           "#636efa",
           "#EF553B",
           "#00cc96",
           "#ab63fa",
           "#FFA15A",
           "#19d3f3",
           "#FF6692",
           "#B6E880",
           "#FF97FF",
           "#FECB52"
          ],
          "font": {
           "color": "#2a3f5f"
          },
          "geo": {
           "bgcolor": "white",
           "lakecolor": "white",
           "landcolor": "#E5ECF6",
           "showlakes": true,
           "showland": true,
           "subunitcolor": "white"
          },
          "hoverlabel": {
           "align": "left"
          },
          "hovermode": "closest",
          "mapbox": {
           "style": "light"
          },
          "paper_bgcolor": "white",
          "plot_bgcolor": "#E5ECF6",
          "polar": {
           "angularaxis": {
            "gridcolor": "white",
            "linecolor": "white",
            "ticks": ""
           },
           "bgcolor": "#E5ECF6",
           "radialaxis": {
            "gridcolor": "white",
            "linecolor": "white",
            "ticks": ""
           }
          },
          "scene": {
           "xaxis": {
            "backgroundcolor": "#E5ECF6",
            "gridcolor": "white",
            "gridwidth": 2,
            "linecolor": "white",
            "showbackground": true,
            "ticks": "",
            "zerolinecolor": "white"
           },
           "yaxis": {
            "backgroundcolor": "#E5ECF6",
            "gridcolor": "white",
            "gridwidth": 2,
            "linecolor": "white",
            "showbackground": true,
            "ticks": "",
            "zerolinecolor": "white"
           },
           "zaxis": {
            "backgroundcolor": "#E5ECF6",
            "gridcolor": "white",
            "gridwidth": 2,
            "linecolor": "white",
            "showbackground": true,
            "ticks": "",
            "zerolinecolor": "white"
           }
          },
          "shapedefaults": {
           "line": {
            "color": "#2a3f5f"
           }
          },
          "ternary": {
           "aaxis": {
            "gridcolor": "white",
            "linecolor": "white",
            "ticks": ""
           },
           "baxis": {
            "gridcolor": "white",
            "linecolor": "white",
            "ticks": ""
           },
           "bgcolor": "#E5ECF6",
           "caxis": {
            "gridcolor": "white",
            "linecolor": "white",
            "ticks": ""
           }
          },
          "title": {
           "x": 0.05
          },
          "xaxis": {
           "automargin": true,
           "gridcolor": "white",
           "linecolor": "white",
           "ticks": "",
           "title": {
            "standoff": 15
           },
           "zerolinecolor": "white",
           "zerolinewidth": 2
          },
          "yaxis": {
           "automargin": true,
           "gridcolor": "white",
           "linecolor": "white",
           "ticks": "",
           "title": {
            "standoff": 15
           },
           "zerolinecolor": "white",
           "zerolinewidth": 2
          }
         }
        },
        "title": {
         "text": "Fund Performance vs. Avg. Investment Percentage (BDR & Invest. Ext. (Excluding South America) (Top & Bottom 10 Funds))<br>Correlation: 0.1972"
        },
        "xaxis": {
         "anchor": "y",
         "domain": [
          0,
          1
         ],
         "title": {
          "text": "Average Monthly Investment Percentage (BDR & Invest. Ext.) (%)"
         }
        },
        "yaxis": {
         "anchor": "x",
         "domain": [
          0,
          1
         ],
         "title": {
          "text": "Average Monthly Rentability (%)"
         }
        }
       }
      }
     },
     "metadata": {},
     "output_type": "display_data"
    },
    {
     "name": "stdout",
     "output_type": "stream",
     "text": [
      "Analysis for: BDR (Top & Bottom 5 Funds)\n",
      "Correlation between Average Investment Percentage and Average Rentability: 0.4752\n"
     ]
    },
    {
     "data": {
      "application/vnd.plotly.v1+json": {
       "config": {
        "plotlyServerURL": "https://plot.ly"
       },
       "data": [
        {
         "hovertemplate": "<b>%{hovertext}</b><br>Avg. Investment Pct: %{x:.2f}%<br>Avg. Rentability: %{y:.2f}%<extra></extra>",
         "hovertext": [
          "KAPITALO",
          "STK",
          "ARX INCOME",
          "KIRON",
          "TENAX",
          "LEBLON AÇÕES",
          "CONSTELLATION",
          "ALASKA",
          "NORTE",
          "JGP"
         ],
         "legendgroup": "",
         "marker": {
          "color": "#636efa",
          "size": 10,
          "symbol": "circle"
         },
         "mode": "markers",
         "name": "",
         "orientation": "v",
         "showlegend": false,
         "type": "scatter",
         "x": [
          5.508875,
          3.03825,
          2.5463999999999998,
          1.9015,
          4.879666666666668,
          3.4390000000000005,
          0.511,
          -1.1255,
          2.9074,
          0.6991666666666667
         ],
         "xaxis": "x",
         "y": [
          1.991346737581673,
          2.041679474902733,
          2.3574965103833128,
          2.8962616204168206,
          3.987060758984351,
          -5.131672866706488,
          -4.933908079435778,
          -1.8072906584719717,
          -1.4200937295829696,
          -1.2706648450003744
         ],
         "yaxis": "y"
        },
        {
         "hovertemplate": "<b>%{hovertext}</b><br>Avg. Investment Pct: %{x:.2f}%<br>Avg. Rentability: %{y:.2f}%<extra></extra>",
         "legendgroup": "",
         "line": {
          "color": "red"
         },
         "marker": {
          "color": "#636efa",
          "size": 10,
          "symbol": "circle"
         },
         "mode": "lines",
         "name": "",
         "showlegend": false,
         "type": "scatter",
         "x": [
          -1.1255,
          0.511,
          0.6991666666666667,
          1.9015,
          2.5463999999999998,
          2.9074,
          3.03825,
          3.4390000000000005,
          4.879666666666668,
          5.508875
         ],
         "xaxis": "x",
         "y": [
          -2.8531984085536015,
          -1.599517082084348,
          -1.4553673501784727,
          -0.5342901438286212,
          -0.04024853830462405,
          0.23630444602498235,
          0.3365453269101044,
          0.6435497825059211,
          1.747208137328228,
          2.2292287532517476
         ],
         "yaxis": "y"
        }
       ],
       "layout": {
        "height": 600,
        "legend": {
         "tracegroupgap": 0
        },
        "template": {
         "data": {
          "bar": [
           {
            "error_x": {
             "color": "#2a3f5f"
            },
            "error_y": {
             "color": "#2a3f5f"
            },
            "marker": {
             "line": {
              "color": "#E5ECF6",
              "width": 0.5
             },
             "pattern": {
              "fillmode": "overlay",
              "size": 10,
              "solidity": 0.2
             }
            },
            "type": "bar"
           }
          ],
          "barpolar": [
           {
            "marker": {
             "line": {
              "color": "#E5ECF6",
              "width": 0.5
             },
             "pattern": {
              "fillmode": "overlay",
              "size": 10,
              "solidity": 0.2
             }
            },
            "type": "barpolar"
           }
          ],
          "carpet": [
           {
            "aaxis": {
             "endlinecolor": "#2a3f5f",
             "gridcolor": "white",
             "linecolor": "white",
             "minorgridcolor": "white",
             "startlinecolor": "#2a3f5f"
            },
            "baxis": {
             "endlinecolor": "#2a3f5f",
             "gridcolor": "white",
             "linecolor": "white",
             "minorgridcolor": "white",
             "startlinecolor": "#2a3f5f"
            },
            "type": "carpet"
           }
          ],
          "choropleth": [
           {
            "colorbar": {
             "outlinewidth": 0,
             "ticks": ""
            },
            "type": "choropleth"
           }
          ],
          "contour": [
           {
            "colorbar": {
             "outlinewidth": 0,
             "ticks": ""
            },
            "colorscale": [
             [
              0,
              "#0d0887"
             ],
             [
              0.1111111111111111,
              "#46039f"
             ],
             [
              0.2222222222222222,
              "#7201a8"
             ],
             [
              0.3333333333333333,
              "#9c179e"
             ],
             [
              0.4444444444444444,
              "#bd3786"
             ],
             [
              0.5555555555555556,
              "#d8576b"
             ],
             [
              0.6666666666666666,
              "#ed7953"
             ],
             [
              0.7777777777777778,
              "#fb9f3a"
             ],
             [
              0.8888888888888888,
              "#fdca26"
             ],
             [
              1,
              "#f0f921"
             ]
            ],
            "type": "contour"
           }
          ],
          "contourcarpet": [
           {
            "colorbar": {
             "outlinewidth": 0,
             "ticks": ""
            },
            "type": "contourcarpet"
           }
          ],
          "heatmap": [
           {
            "colorbar": {
             "outlinewidth": 0,
             "ticks": ""
            },
            "colorscale": [
             [
              0,
              "#0d0887"
             ],
             [
              0.1111111111111111,
              "#46039f"
             ],
             [
              0.2222222222222222,
              "#7201a8"
             ],
             [
              0.3333333333333333,
              "#9c179e"
             ],
             [
              0.4444444444444444,
              "#bd3786"
             ],
             [
              0.5555555555555556,
              "#d8576b"
             ],
             [
              0.6666666666666666,
              "#ed7953"
             ],
             [
              0.7777777777777778,
              "#fb9f3a"
             ],
             [
              0.8888888888888888,
              "#fdca26"
             ],
             [
              1,
              "#f0f921"
             ]
            ],
            "type": "heatmap"
           }
          ],
          "heatmapgl": [
           {
            "colorbar": {
             "outlinewidth": 0,
             "ticks": ""
            },
            "colorscale": [
             [
              0,
              "#0d0887"
             ],
             [
              0.1111111111111111,
              "#46039f"
             ],
             [
              0.2222222222222222,
              "#7201a8"
             ],
             [
              0.3333333333333333,
              "#9c179e"
             ],
             [
              0.4444444444444444,
              "#bd3786"
             ],
             [
              0.5555555555555556,
              "#d8576b"
             ],
             [
              0.6666666666666666,
              "#ed7953"
             ],
             [
              0.7777777777777778,
              "#fb9f3a"
             ],
             [
              0.8888888888888888,
              "#fdca26"
             ],
             [
              1,
              "#f0f921"
             ]
            ],
            "type": "heatmapgl"
           }
          ],
          "histogram": [
           {
            "marker": {
             "pattern": {
              "fillmode": "overlay",
              "size": 10,
              "solidity": 0.2
             }
            },
            "type": "histogram"
           }
          ],
          "histogram2d": [
           {
            "colorbar": {
             "outlinewidth": 0,
             "ticks": ""
            },
            "colorscale": [
             [
              0,
              "#0d0887"
             ],
             [
              0.1111111111111111,
              "#46039f"
             ],
             [
              0.2222222222222222,
              "#7201a8"
             ],
             [
              0.3333333333333333,
              "#9c179e"
             ],
             [
              0.4444444444444444,
              "#bd3786"
             ],
             [
              0.5555555555555556,
              "#d8576b"
             ],
             [
              0.6666666666666666,
              "#ed7953"
             ],
             [
              0.7777777777777778,
              "#fb9f3a"
             ],
             [
              0.8888888888888888,
              "#fdca26"
             ],
             [
              1,
              "#f0f921"
             ]
            ],
            "type": "histogram2d"
           }
          ],
          "histogram2dcontour": [
           {
            "colorbar": {
             "outlinewidth": 0,
             "ticks": ""
            },
            "colorscale": [
             [
              0,
              "#0d0887"
             ],
             [
              0.1111111111111111,
              "#46039f"
             ],
             [
              0.2222222222222222,
              "#7201a8"
             ],
             [
              0.3333333333333333,
              "#9c179e"
             ],
             [
              0.4444444444444444,
              "#bd3786"
             ],
             [
              0.5555555555555556,
              "#d8576b"
             ],
             [
              0.6666666666666666,
              "#ed7953"
             ],
             [
              0.7777777777777778,
              "#fb9f3a"
             ],
             [
              0.8888888888888888,
              "#fdca26"
             ],
             [
              1,
              "#f0f921"
             ]
            ],
            "type": "histogram2dcontour"
           }
          ],
          "mesh3d": [
           {
            "colorbar": {
             "outlinewidth": 0,
             "ticks": ""
            },
            "type": "mesh3d"
           }
          ],
          "parcoords": [
           {
            "line": {
             "colorbar": {
              "outlinewidth": 0,
              "ticks": ""
             }
            },
            "type": "parcoords"
           }
          ],
          "pie": [
           {
            "automargin": true,
            "type": "pie"
           }
          ],
          "scatter": [
           {
            "fillpattern": {
             "fillmode": "overlay",
             "size": 10,
             "solidity": 0.2
            },
            "type": "scatter"
           }
          ],
          "scatter3d": [
           {
            "line": {
             "colorbar": {
              "outlinewidth": 0,
              "ticks": ""
             }
            },
            "marker": {
             "colorbar": {
              "outlinewidth": 0,
              "ticks": ""
             }
            },
            "type": "scatter3d"
           }
          ],
          "scattercarpet": [
           {
            "marker": {
             "colorbar": {
              "outlinewidth": 0,
              "ticks": ""
             }
            },
            "type": "scattercarpet"
           }
          ],
          "scattergeo": [
           {
            "marker": {
             "colorbar": {
              "outlinewidth": 0,
              "ticks": ""
             }
            },
            "type": "scattergeo"
           }
          ],
          "scattergl": [
           {
            "marker": {
             "colorbar": {
              "outlinewidth": 0,
              "ticks": ""
             }
            },
            "type": "scattergl"
           }
          ],
          "scattermapbox": [
           {
            "marker": {
             "colorbar": {
              "outlinewidth": 0,
              "ticks": ""
             }
            },
            "type": "scattermapbox"
           }
          ],
          "scatterpolar": [
           {
            "marker": {
             "colorbar": {
              "outlinewidth": 0,
              "ticks": ""
             }
            },
            "type": "scatterpolar"
           }
          ],
          "scatterpolargl": [
           {
            "marker": {
             "colorbar": {
              "outlinewidth": 0,
              "ticks": ""
             }
            },
            "type": "scatterpolargl"
           }
          ],
          "scatterternary": [
           {
            "marker": {
             "colorbar": {
              "outlinewidth": 0,
              "ticks": ""
             }
            },
            "type": "scatterternary"
           }
          ],
          "surface": [
           {
            "colorbar": {
             "outlinewidth": 0,
             "ticks": ""
            },
            "colorscale": [
             [
              0,
              "#0d0887"
             ],
             [
              0.1111111111111111,
              "#46039f"
             ],
             [
              0.2222222222222222,
              "#7201a8"
             ],
             [
              0.3333333333333333,
              "#9c179e"
             ],
             [
              0.4444444444444444,
              "#bd3786"
             ],
             [
              0.5555555555555556,
              "#d8576b"
             ],
             [
              0.6666666666666666,
              "#ed7953"
             ],
             [
              0.7777777777777778,
              "#fb9f3a"
             ],
             [
              0.8888888888888888,
              "#fdca26"
             ],
             [
              1,
              "#f0f921"
             ]
            ],
            "type": "surface"
           }
          ],
          "table": [
           {
            "cells": {
             "fill": {
              "color": "#EBF0F8"
             },
             "line": {
              "color": "white"
             }
            },
            "header": {
             "fill": {
              "color": "#C8D4E3"
             },
             "line": {
              "color": "white"
             }
            },
            "type": "table"
           }
          ]
         },
         "layout": {
          "annotationdefaults": {
           "arrowcolor": "#2a3f5f",
           "arrowhead": 0,
           "arrowwidth": 1
          },
          "autotypenumbers": "strict",
          "coloraxis": {
           "colorbar": {
            "outlinewidth": 0,
            "ticks": ""
           }
          },
          "colorscale": {
           "diverging": [
            [
             0,
             "#8e0152"
            ],
            [
             0.1,
             "#c51b7d"
            ],
            [
             0.2,
             "#de77ae"
            ],
            [
             0.3,
             "#f1b6da"
            ],
            [
             0.4,
             "#fde0ef"
            ],
            [
             0.5,
             "#f7f7f7"
            ],
            [
             0.6,
             "#e6f5d0"
            ],
            [
             0.7,
             "#b8e186"
            ],
            [
             0.8,
             "#7fbc41"
            ],
            [
             0.9,
             "#4d9221"
            ],
            [
             1,
             "#276419"
            ]
           ],
           "sequential": [
            [
             0,
             "#0d0887"
            ],
            [
             0.1111111111111111,
             "#46039f"
            ],
            [
             0.2222222222222222,
             "#7201a8"
            ],
            [
             0.3333333333333333,
             "#9c179e"
            ],
            [
             0.4444444444444444,
             "#bd3786"
            ],
            [
             0.5555555555555556,
             "#d8576b"
            ],
            [
             0.6666666666666666,
             "#ed7953"
            ],
            [
             0.7777777777777778,
             "#fb9f3a"
            ],
            [
             0.8888888888888888,
             "#fdca26"
            ],
            [
             1,
             "#f0f921"
            ]
           ],
           "sequentialminus": [
            [
             0,
             "#0d0887"
            ],
            [
             0.1111111111111111,
             "#46039f"
            ],
            [
             0.2222222222222222,
             "#7201a8"
            ],
            [
             0.3333333333333333,
             "#9c179e"
            ],
            [
             0.4444444444444444,
             "#bd3786"
            ],
            [
             0.5555555555555556,
             "#d8576b"
            ],
            [
             0.6666666666666666,
             "#ed7953"
            ],
            [
             0.7777777777777778,
             "#fb9f3a"
            ],
            [
             0.8888888888888888,
             "#fdca26"
            ],
            [
             1,
             "#f0f921"
            ]
           ]
          },
          "colorway": [
           "#636efa",
           "#EF553B",
           "#00cc96",
           "#ab63fa",
           "#FFA15A",
           "#19d3f3",
           "#FF6692",
           "#B6E880",
           "#FF97FF",
           "#FECB52"
          ],
          "font": {
           "color": "#2a3f5f"
          },
          "geo": {
           "bgcolor": "white",
           "lakecolor": "white",
           "landcolor": "#E5ECF6",
           "showlakes": true,
           "showland": true,
           "subunitcolor": "white"
          },
          "hoverlabel": {
           "align": "left"
          },
          "hovermode": "closest",
          "mapbox": {
           "style": "light"
          },
          "paper_bgcolor": "white",
          "plot_bgcolor": "#E5ECF6",
          "polar": {
           "angularaxis": {
            "gridcolor": "white",
            "linecolor": "white",
            "ticks": ""
           },
           "bgcolor": "#E5ECF6",
           "radialaxis": {
            "gridcolor": "white",
            "linecolor": "white",
            "ticks": ""
           }
          },
          "scene": {
           "xaxis": {
            "backgroundcolor": "#E5ECF6",
            "gridcolor": "white",
            "gridwidth": 2,
            "linecolor": "white",
            "showbackground": true,
            "ticks": "",
            "zerolinecolor": "white"
           },
           "yaxis": {
            "backgroundcolor": "#E5ECF6",
            "gridcolor": "white",
            "gridwidth": 2,
            "linecolor": "white",
            "showbackground": true,
            "ticks": "",
            "zerolinecolor": "white"
           },
           "zaxis": {
            "backgroundcolor": "#E5ECF6",
            "gridcolor": "white",
            "gridwidth": 2,
            "linecolor": "white",
            "showbackground": true,
            "ticks": "",
            "zerolinecolor": "white"
           }
          },
          "shapedefaults": {
           "line": {
            "color": "#2a3f5f"
           }
          },
          "ternary": {
           "aaxis": {
            "gridcolor": "white",
            "linecolor": "white",
            "ticks": ""
           },
           "baxis": {
            "gridcolor": "white",
            "linecolor": "white",
            "ticks": ""
           },
           "bgcolor": "#E5ECF6",
           "caxis": {
            "gridcolor": "white",
            "linecolor": "white",
            "ticks": ""
           }
          },
          "title": {
           "x": 0.05
          },
          "xaxis": {
           "automargin": true,
           "gridcolor": "white",
           "linecolor": "white",
           "ticks": "",
           "title": {
            "standoff": 15
           },
           "zerolinecolor": "white",
           "zerolinewidth": 2
          },
          "yaxis": {
           "automargin": true,
           "gridcolor": "white",
           "linecolor": "white",
           "ticks": "",
           "title": {
            "standoff": 15
           },
           "zerolinecolor": "white",
           "zerolinewidth": 2
          }
         }
        },
        "title": {
         "text": "Fund Performance vs. Avg. Investment Percentage (BDR (Top & Bottom 5 Funds))<br>Correlation: 0.4752"
        },
        "xaxis": {
         "anchor": "y",
         "domain": [
          0,
          1
         ],
         "title": {
          "text": "Average Monthly Investment Percentage (BDR) (%)"
         }
        },
        "yaxis": {
         "anchor": "x",
         "domain": [
          0,
          1
         ],
         "title": {
          "text": "Average Monthly Rentability (%)"
         }
        }
       }
      }
     },
     "metadata": {},
     "output_type": "display_data"
    }
   ],
   "source": [
    "# In[9]:\n",
    "import polars as pl\n",
    "import pandas as pd\n",
    "import plotly.express as px\n",
    "import numpy as np\n",
    "\n",
    "def analyze_performance_vs_investment_percentage(\n",
    "    df,\n",
    "    investment_type=None,\n",
    "    exclude_south_america=False,\n",
    "    top_n_funds=None,\n",
    "    num_extremes=None # Add parameter for top/bottom N funds\n",
    "):\n",
    "    \"\"\"\n",
    "    Analyzes the correlation between average fund performance (rentability)\n",
    "    and the average percentage allocated to specified investment types.\n",
    "\n",
    "    Allows filtering by investment type, excluding South American companies,\n",
    "    focusing on the top N performing funds, or focusing on the top and bottom N funds.\n",
    "\n",
    "    Parameters:\n",
    "    -----------\n",
    "    df : polars.DataFrame\n",
    "        The dataframe containing the investment data.\n",
    "    investment_type : str or None, default=None\n",
    "        Filter for specific investment type (\"BDR\", \"Invest. Ext.\", or None for both).\n",
    "    exclude_south_america : bool, default=False\n",
    "        If True, excludes investments in companies based in South America.\n",
    "    top_n_funds : int or None, default=None\n",
    "        If an integer is provided, analyze only the top N funds based on average rentability.\n",
    "        Mutually exclusive with num_extremes.\n",
    "    num_extremes : int or None, default=None\n",
    "        If an integer is provided, analyze the top N and bottom N funds based on average rentability.\n",
    "        Mutually exclusive with top_n_funds. If None, analyze all eligible funds (or top_n_funds if specified).\n",
    "    \"\"\"\n",
    "    # --- Parameter Validation ---\n",
    "    if top_n_funds is not None and num_extremes is not None:\n",
    "        raise ValueError(\"Parameters 'top_n_funds' and 'num_extremes' are mutually exclusive. Please provide only one.\")\n",
    "\n",
    "    # --- 1. Filter Data ---\n",
    "    filtered_df = df.clone()\n",
    "    title_parts = []\n",
    "\n",
    "    # Apply Investment Type Filter\n",
    "    if investment_type == \"BDR\":\n",
    "        filtered_df = filtered_df.filter(pl.col(\"investment_type\") == \"BDR\")\n",
    "        type_title = \"BDR\"\n",
    "    elif investment_type == \"Invest. Ext.\":\n",
    "        filtered_df = filtered_df.filter(pl.col(\"investment_type\") == \"Invest. Ext.\")\n",
    "        type_title = \"Invest. Ext.\"\n",
    "    else:\n",
    "        filtered_df = filtered_df.filter(\n",
    "            (pl.col(\"investment_type\") == \"BDR\") | (pl.col(\"investment_type\") == \"Invest. Ext.\")\n",
    "        )\n",
    "        type_title = \"BDR & Invest. Ext.\"\n",
    "    title_parts.append(type_title)\n",
    "\n",
    "    # Apply South America Filter\n",
    "    if exclude_south_america:\n",
    "        south_american_countries = [\n",
    "            \"Argentina\", \"Bolivia\", \"Brazil\", \"Chile\", \"Colombia\",\n",
    "            \"Ecuador\", \"Guyana\", \"Paraguay\", \"Peru\", \"Suriname\",\n",
    "            \"Uruguay\", \"Venezuela\"\n",
    "        ]\n",
    "        filtered_df = filtered_df.filter(\n",
    "            ~pl.col(\"company_country\").cast(pl.Utf8).is_in(south_american_countries)\n",
    "        )\n",
    "        title_parts.append(\"(Excluding South America)\")\n",
    "\n",
    "    analysis_title_base = \" \".join(title_parts) # Base title before fund selection\n",
    "\n",
    "    # --- 2. Calculate Monthly Metrics per Fund ---\n",
    "    monthly_fund_metrics = filtered_df.group_by([\"funds\", \"month\"]).agg(\n",
    "        pl.sum(\"percentage\").alias(\"total_monthly_percentage\"),\n",
    "        pl.first(\"rentability\").cast(pl.Float64).alias(\"monthly_rentability\")\n",
    "    )\n",
    "\n",
    "    # --- 3. Aggregate Data per Fund ---\n",
    "    fund_summary = monthly_fund_metrics.group_by(\"funds\").agg(\n",
    "        (pl.mean(\"total_monthly_percentage\")*100).alias(\"avg_investment_percentage\"),\n",
    "        (pl.mean(\"monthly_rentability\")*100).alias(\"avg_rentability\")\n",
    "    ).drop_nulls()\n",
    "\n",
    "    # --- 3.5 Filter Funds based on Performance ---\n",
    "    analysis_title = analysis_title_base # Start with base title\n",
    "    if num_extremes is not None and isinstance(num_extremes, int) and num_extremes > 0:\n",
    "        if fund_summary.height >= 2 * num_extremes:\n",
    "            fund_summary_sorted = fund_summary.sort(\"avg_rentability\")\n",
    "            top_funds = fund_summary_sorted.tail(num_extremes) # Highest rentability\n",
    "            bottom_funds = fund_summary_sorted.head(num_extremes) # Lowest rentability\n",
    "            fund_summary = pl.concat([top_funds, bottom_funds])\n",
    "            title_parts.append(f\"(Top & Bottom {num_extremes} Funds)\")\n",
    "            analysis_title = \" \".join(title_parts)\n",
    "        else:\n",
    "            print(f\"Warning: Not enough funds ({fund_summary.height}) to select top and bottom {num_extremes}. Analyzing all available funds.\")\n",
    "            analysis_title = analysis_title_base + \" (All Funds)\" # Revert title addition\n",
    "\n",
    "    elif top_n_funds is not None and isinstance(top_n_funds, int) and top_n_funds > 0:\n",
    "        if fund_summary.height > top_n_funds:\n",
    "            fund_summary = fund_summary.sort(\"avg_rentability\", descending=True).head(top_n_funds)\n",
    "            title_parts.append(f\"(Top {top_n_funds} Funds)\")\n",
    "            analysis_title = \" \".join(title_parts)\n",
    "        else:\n",
    "             print(f\"Warning: Not enough funds ({fund_summary.height}) to select top {top_n_funds}. Analyzing all available funds.\")\n",
    "             analysis_title = analysis_title_base + \" (All Funds)\" # Revert title addition\n",
    "    else:\n",
    "         analysis_title = analysis_title_base + \" (All Funds)\" # Explicitly mention all funds if no filter\n",
    "\n",
    "    # Convert to Pandas for correlation and plotting\n",
    "    fund_summary_pd = fund_summary.to_pandas()\n",
    "\n",
    "    if fund_summary_pd.shape[0] < 2:\n",
    "        print(f\"Not enough data points ({fund_summary_pd.shape[0]}) to calculate correlation for {analysis_title}.\")\n",
    "        return None\n",
    "\n",
    "    # --- 4. Correlation Analysis ---\n",
    "    fund_summary_pd['avg_investment_percentage'] = pd.to_numeric(fund_summary_pd['avg_investment_percentage'], errors='coerce')\n",
    "    fund_summary_pd['avg_rentability'] = pd.to_numeric(fund_summary_pd['avg_rentability'], errors='coerce')\n",
    "    fund_summary_pd = fund_summary_pd.dropna(subset=['avg_investment_percentage', 'avg_rentability'])\n",
    "\n",
    "    if fund_summary_pd.shape[0] < 2:\n",
    "        print(f\"Not enough numeric data points ({fund_summary_pd.shape[0]}) after cleaning for {analysis_title}.\")\n",
    "        return None\n",
    "\n",
    "    correlation = fund_summary_pd['avg_investment_percentage'].corr(fund_summary_pd['avg_rentability'])\n",
    "\n",
    "    print(f\"Analysis for: {analysis_title}\")\n",
    "    print(f\"Correlation between Average Investment Percentage and Average Rentability: {correlation:.4f}\")\n",
    "\n",
    "    # --- 5. Visualization ---\n",
    "    plot_title = f'Fund Performance vs. Avg. Investment Percentage ({analysis_title})<br>Correlation: {correlation:.4f}'\n",
    "    fig = px.scatter(\n",
    "        fund_summary_pd,\n",
    "        x=\"avg_investment_percentage\",\n",
    "        y=\"avg_rentability\",\n",
    "        title=plot_title,\n",
    "        labels={\n",
    "            \"avg_investment_percentage\": f\"Average Monthly Investment Percentage ({type_title}) (%)\",\n",
    "            \"avg_rentability\": \"Average Monthly Rentability (%)\"\n",
    "        },\n",
    "        hover_name=\"funds\",\n",
    "        trendline=\"ols\",\n",
    "        trendline_color_override=\"red\"\n",
    "    )\n",
    "\n",
    "    fig.update_traces(\n",
    "        marker=dict(size=10),\n",
    "        hovertemplate=\"<b>%{hovertext}</b><br>\" +\n",
    "                      \"Avg. Investment Pct: %{x:.2f}%<br>\" +\n",
    "                      \"Avg. Rentability: %{y:.2f}%<extra></extra>\"\n",
    "    )\n",
    "\n",
    "    fig.update_layout(height=600)\n",
    "\n",
    "    return fig\n",
    "\n",
    "# --- Example Usage ---\n",
    "\n",
    "# Analyze for BDR & Invest. Ext. combined, excluding South America, Top 10 & Bottom 10 Funds\n",
    "fig_extremes = analyze_performance_vs_investment_percentage(\n",
    "    df_peers,\n",
    "    exclude_south_america=True,\n",
    "    num_extremes=10\n",
    ")\n",
    "if fig_extremes: fig_extremes.show()\n",
    "\n",
    "# Analyze for BDR only, including South America, Top 5 & Bottom 5 Funds\n",
    "fig_extremes_bdr = analyze_performance_vs_investment_percentage(\n",
    "    df_peers.filter(pl.col(\"funds\") != \"OCEANA\"),\n",
    "    investment_type=\"BDR\",\n",
    "    num_extremes=5\n",
    ")\n",
    "if fig_extremes_bdr: fig_extremes_bdr.show()\n",
    "\n",
    "# Analyze for BDR & Invest. Ext. combined, excluding South America, Top 10 Funds (using the other parameter)\n",
    "# fig_top10 = analyze_performance_vs_investment_percentage(\n",
    "#     df_peers,\n",
    "#     exclude_south_america=True,\n",
    "#     top_n_funds=10\n",
    "# )\n",
    "# if fig_top10: fig_top10.show()\n",
    "\n",
    "# Analyze all funds (default)\n",
    "# fig_all = analyze_performance_vs_investment_percentage(df_peers)\n",
    "# if fig_all: fig_all.show()"
   ]
  }
 ],
 "metadata": {
  "kernelspec": {
   "display_name": "Python 3",
   "language": "python",
   "name": "python3"
  },
  "language_info": {
   "codemirror_mode": {
    "name": "ipython",
    "version": 3
   },
   "file_extension": ".py",
   "mimetype": "text/x-python",
   "name": "python",
   "nbconvert_exporter": "python",
   "pygments_lexer": "ipython3",
   "version": "3.12.4"
  }
 },
 "nbformat": 4,
 "nbformat_minor": 2
}
